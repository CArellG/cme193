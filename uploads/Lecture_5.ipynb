{
 "cells": [
  {
   "cell_type": "markdown",
   "metadata": {},
   "source": [
    "# CME 193 - Lecture 5 - SciPy\n",
    "\n",
    "SciPy is a library built on top of NumPy that contains functionality common in scientific computing. Here is a list of subpackages it contains:\n",
    "\n",
    "- cluster:\tClustering algorithms\n",
    "- constants:\tPhysical and mathematical constants\n",
    "- fftpack:\tFast Fourier Transform routines\n",
    "- **integrate:\tIntegration and ordinary differential equation solvers**\n",
    "- interpolate:\tInterpolation and smoothing splines\n",
    "- io:\tInput and Output\n",
    "- **linalg:\tLinear algebra**\n",
    "- ndimage:\tN-dimensional image processing\n",
    "- odr:\tOrthogonal distance regression\n",
    "- **optimize:\tOptimization and root-finding routines**\n",
    "- signal:\tSignal processing\n",
    "- sparse:\tSparse matrices and associated routines\n",
    "- spatial:\tSpatial data structures and algorithms\n",
    "- special:\tSpecial functions\n",
    "- stats:\tStatistical distributions and functions\n",
    "\n",
    "Today we'll \"tour\" the ones in **bold**."
   ]
  },
  {
   "cell_type": "markdown",
   "metadata": {},
   "source": [
    "# Solving linear systems of equations\n",
    "By far the most common operation in scientific computing is solving a system of equations, specified by $Ax = b$. For example:\n",
    "\n",
    "$$ \n",
    "\\begin{align}\n",
    "3x + 2y + 5z &=  2 \\\\\n",
    "x - y + z &= 4 \\\\\n",
    "6y  + z &= -1\n",
    "\\end{align}\n",
    "$$"
   ]
  },
  {
   "cell_type": "code",
   "execution_count": null,
   "metadata": {},
   "outputs": [],
   "source": [
    "import numpy as np\n",
    "import scipy.linalg as linalg"
   ]
  },
  {
   "cell_type": "code",
   "execution_count": null,
   "metadata": {},
   "outputs": [],
   "source": [
    "a = np.array([[3, 2, 5], [1, -1, 1], [0, 5, 1]])"
   ]
  },
  {
   "cell_type": "code",
   "execution_count": null,
   "metadata": {},
   "outputs": [],
   "source": [
    "b = np.array([2, 4, -1])"
   ]
  },
  {
   "cell_type": "code",
   "execution_count": null,
   "metadata": {},
   "outputs": [],
   "source": [
    "x = linalg.solve(a, b)\n",
    "x"
   ]
  },
  {
   "cell_type": "code",
   "execution_count": null,
   "metadata": {},
   "outputs": [],
   "source": [
    "a @ x"
   ]
  },
  {
   "cell_type": "code",
   "execution_count": null,
   "metadata": {},
   "outputs": [],
   "source": [
    "# A matrix with more rows than columns (more equations than unknowns)\n",
    "a = np.array([[1, 2, 1],\n",
    "              [1, 1, 2],\n",
    "              [2, 1, 1],\n",
    "              [1, 1, 1]])\n",
    "b = np.array([4, 3, 5, 4])"
   ]
  },
  {
   "cell_type": "code",
   "execution_count": null,
   "metadata": {},
   "outputs": [],
   "source": [
    "linalg.solve(a, b)"
   ]
  },
  {
   "cell_type": "code",
   "execution_count": null,
   "metadata": {},
   "outputs": [],
   "source": [
    "linalg.lstsq(a, b)"
   ]
  },
  {
   "cell_type": "code",
   "execution_count": null,
   "metadata": {},
   "outputs": [],
   "source": [
    "x = linalg.lstsq(a, b)[0]\n",
    "a @ x"
   ]
  },
  {
   "cell_type": "code",
   "execution_count": null,
   "metadata": {},
   "outputs": [],
   "source": [
    "linalg.norm(a @ x - b)**2"
   ]
  },
  {
   "cell_type": "markdown",
   "metadata": {},
   "source": [
    "# Optimization using `scipy.optimize`\n",
    "\n",
    "Often in scientific computing you'll want to find the minimum of a function. For example, consider the following function."
   ]
  },
  {
   "cell_type": "code",
   "execution_count": null,
   "metadata": {},
   "outputs": [],
   "source": [
    "import matplotlib.pyplot as plt\n",
    "\n",
    "def f(x):\n",
    "    return x**4 - x**2\n",
    "\n",
    "x = np.linspace(-1.2, 1.2, 100)\n",
    "y = f(x)\n",
    "\n",
    "plt.plot(x, y)\n",
    "plt.grid()\n",
    "plt.xlabel(\"$x$\", fontsize=16)\n",
    "plt.ylabel(\"$x^4 - x^2$\", fontsize=16)\n",
    "plt.show()"
   ]
  },
  {
   "cell_type": "code",
   "execution_count": null,
   "metadata": {},
   "outputs": [],
   "source": [
    "import scipy.optimize as opt"
   ]
  },
  {
   "cell_type": "markdown",
   "metadata": {},
   "source": [
    "The simplest way to minimize a function is using [`scipy.optimize.minimize`](https://docs.scipy.org/doc/scipy/reference/generated/scipy.optimize.minimize.html)."
   ]
  },
  {
   "cell_type": "code",
   "execution_count": null,
   "metadata": {},
   "outputs": [],
   "source": [
    "result = opt.minimize(f, x0=0.5)\n",
    "result"
   ]
  },
  {
   "cell_type": "code",
   "execution_count": null,
   "metadata": {},
   "outputs": [],
   "source": [
    "plt.plot(x, y)\n",
    "plt.plot(result.x, f(result.x), \"ro\")\n",
    "\n",
    "plt.grid()\n",
    "plt.xlabel(\"$x$\", fontsize=16)\n",
    "plt.ylabel(\"$x^4 - x^2$\", fontsize=16)\n",
    "plt.show()"
   ]
  },
  {
   "cell_type": "code",
   "execution_count": null,
   "metadata": {},
   "outputs": [],
   "source": [
    "def g(z):\n",
    "    x, y = z\n",
    "    return np.sin(x + 2) * np.sin(y + 2)\n",
    "\n",
    "result = opt.minimize(g, x0=np.array([0, 1]))\n",
    "result"
   ]
  },
  {
   "cell_type": "markdown",
   "metadata": {},
   "source": [
    "## Linear programming\n",
    "A very common case is linear programming (LP). These are optimization problems that can be written in the form\n",
    "\n",
    "$$\n",
    "\\begin{equation}\n",
    "\\begin{split}\n",
    "\\text{minimize} \\;\\; & c^{T}x  \\\\\n",
    "\\text{subject to} \\;\\; & A_{ub}x \\leq b_{ub} \\\\\n",
    "& A_{eq}x = b_{eq}\n",
    "\\end{split}\n",
    "\\end{equation}\n",
    "$$\n",
    "\n",
    "Here, we are finding the vector $x$ that minimizes the dot product $c^T x$, where $c$ is some fixed vector, out of all $x$ that satisfy $A_{ub}x \\leq b_{ub}$ and $A_{eq}x = b_{eq}$, where $A_{ub}$ and $A_{eq}$ are matrices and $b_{ub}$ and $b_{eq}$ are vectors."
   ]
  },
  {
   "cell_type": "markdown",
   "metadata": {},
   "source": [
    "## Exercise 6\n",
    "Using Google and reading documentation are important parts of programming. `scipy.optimize` comes with specialized functions for solving linear programming problems.\n",
    "\n",
    "Figure out how to solve LPs using `scipy.optimize`, and solve the following LP:\n",
    "$$\n",
    "\\begin{equation}\n",
    "\\begin{split}\n",
    "\\text{minimize} \\;\\; & x_1 + 2 x_2  \\\\\n",
    "\\text{subject to} \\;\\; & x_1 \\leq 1 \\\\\n",
    "& 5 x_1 + x_2 \\geq 0\n",
    "\\end{split}\n",
    "\\end{equation}\n",
    "$$\n",
    "\n",
    "Note that the problem is equivalent to\n",
    "\n",
    "$$\n",
    "\\begin{equation}\n",
    "\\begin{split}\n",
    "\\text{minimize} \\;\\; & c^T x  \\\\\n",
    "\\text{subject to} \\;\\; & A_{ub}x \\leq b_{ub} \\\\\n",
    "& A_{eq}x = b_{eq}\n",
    "\\end{split}\n",
    "\\end{equation}\n",
    "$$\n",
    "where\n",
    "$$\n",
    "c = \\begin{pmatrix} 1 \\\\ 2 \\end{pmatrix} \\qquad \n",
    "A_{ub} = \\begin{pmatrix} 1 & 0 \\\\ -5 & -1 \\end{pmatrix}, \\qquad\n",
    "b_{ub} = \\begin{pmatrix} 1 \\\\ 0 \\end{pmatrix}, \\qquad\n",
    "A_{eq} = 0, \\qquad\n",
    "b_{eq} = 0.\n",
    "$$\n",
    "\n",
    "We can see this because \n",
    "$$\n",
    " \\begin{pmatrix} 1 & 0 \\\\ -5 & -1 \\end{pmatrix} \\begin{pmatrix} x_1 \\\\ x_2 \\end{pmatrix} = \\begin{pmatrix} x_1 \\\\ -5x_1 - x_2 \\end{pmatrix} \n",
    "$$"
   ]
  },
  {
   "cell_type": "code",
   "execution_count": null,
   "metadata": {},
   "outputs": [],
   "source": [
    "# YOUR CODE HERE\n"
   ]
  },
  {
   "cell_type": "markdown",
   "metadata": {},
   "source": [
    "## Curve fitting"
   ]
  },
  {
   "cell_type": "code",
   "execution_count": null,
   "metadata": {
    "scrolled": true
   },
   "outputs": [],
   "source": [
    "def f(x, a, b):\n",
    "    return a * np.sin(b * x)\n",
    "\n",
    "x = np.linspace(-2, 2, 30)\n",
    "y = f(x, 1.3, 3) + 0.3 * np.random.randn(30)\n",
    "plt.plot(x, y, 'ro')\n",
    "plt.show()"
   ]
  },
  {
   "cell_type": "code",
   "execution_count": null,
   "metadata": {},
   "outputs": [],
   "source": [
    "(a, b), cov = opt.curve_fit(f, x, y)\n",
    "a, b"
   ]
  },
  {
   "cell_type": "code",
   "execution_count": null,
   "metadata": {},
   "outputs": [],
   "source": [
    "x_fine = np.linspace(-2, 2, 200)\n",
    "plt.plot(x, f(x, a, b))\n",
    "plt.plot(x, y, 'ro')\n",
    "plt.show()"
   ]
  },
  {
   "cell_type": "markdown",
   "metadata": {},
   "source": [
    "# Numerical integration using `scipy.integrate`"
   ]
  },
  {
   "cell_type": "code",
   "execution_count": null,
   "metadata": {},
   "outputs": [],
   "source": [
    "import scipy.integrate as integrate"
   ]
  },
  {
   "cell_type": "markdown",
   "metadata": {},
   "source": [
    "Here's how to compute $$\n",
    "\\int_0^\\pi \\sin(x) \\,e^{-x} \\,dx \n",
    "$$"
   ]
  },
  {
   "cell_type": "code",
   "execution_count": null,
   "metadata": {},
   "outputs": [],
   "source": [
    "def f(x):\n",
    "    return np.sin(x) * np.exp(-x)"
   ]
  },
  {
   "cell_type": "code",
   "execution_count": null,
   "metadata": {},
   "outputs": [],
   "source": [
    "integrate.quad(f, 0, np.pi)"
   ]
  },
  {
   "cell_type": "code",
   "execution_count": null,
   "metadata": {},
   "outputs": [],
   "source": [
    "def f_antiderivative(x):\n",
    "    return -np.exp(-x) * (np.sin(x) + np.cos(x)) / 2"
   ]
  },
  {
   "cell_type": "code",
   "execution_count": null,
   "metadata": {},
   "outputs": [],
   "source": [
    "f_antiderivative(np.pi) - f_antiderivative(0)"
   ]
  },
  {
   "cell_type": "code",
   "execution_count": null,
   "metadata": {},
   "outputs": [],
   "source": [
    "integrate.quad(f, 0, np.inf)"
   ]
  },
  {
   "cell_type": "code",
   "execution_count": null,
   "metadata": {},
   "outputs": [],
   "source": [
    "f_antiderivative(np.inf) - f_antiderivative(0)"
   ]
  },
  {
   "cell_type": "markdown",
   "metadata": {},
   "source": [
    "## Physical simulation\n",
    "SciPy can solve ODEs (ordinary differential equations). Let's simulate a throwing a ball in two dimensions. The ball is described as a function of time by four functions: $x(t), y(t), v_x(t), v_y(t)$, which are governed by the ODE system:\n",
    "\n",
    "$$\n",
    "    \\frac{dx}{dt} = v_x, \\qquad\n",
    "    \\frac{dy}{dt} = v_y, \\qquad\n",
    "    \\frac{dv_x}{dt} = 0, \\qquad\n",
    "    \\frac{dv_y}{dt} = -g.\n",
    "$$\n",
    "\n",
    "We can think of this in vectorized form as:\n",
    "\n",
    "$$\n",
    "    \\frac{d}{dt} \\begin{pmatrix} x \\\\ y \\\\ v_x \\\\ v_y \\end{pmatrix} = \\begin{pmatrix} v_x \\\\ v_y \\\\ 0 \\\\ -g \\end{pmatrix}\n",
    "$$"
   ]
  },
  {
   "cell_type": "code",
   "execution_count": null,
   "metadata": {},
   "outputs": [],
   "source": [
    "def dzdt(z, t):\n",
    "    x, y, vx, vy = z\n",
    "    g = 1\n",
    "    return np.array([vx, vy, 0, -g])"
   ]
  },
  {
   "cell_type": "code",
   "execution_count": null,
   "metadata": {
    "scrolled": true
   },
   "outputs": [],
   "source": [
    "x, y = 0, 0\n",
    "vx, vy = 1, 20\n",
    "z = np.array([x, y, vx, vy])\n",
    "t = np.linspace(0, 50, 20)\n",
    "\n",
    "result = integrate.odeint(dzdt, z, t)\n",
    "print(result.shape)\n",
    "plt.scatter(result[:, 0], result[:, 1])\n",
    "plt.show()"
   ]
  },
  {
   "cell_type": "markdown",
   "metadata": {},
   "source": [
    "## Exercise 7\n",
    "We can add drag with the following slight modification to the ODE, which adds a force with direction opposing the current velocity, and with magnitude proportional to the velocity squared.\n",
    "    \n",
    "$$\n",
    "    \\frac{d}{dt} \\begin{pmatrix} x \\\\ y \\\\ v_x \\\\ v_y \\end{pmatrix} = \\begin{pmatrix} v_x \\\\ v_y \\\\ -\\alpha v_x \\sqrt{v_x^2 + v_y^2} \\\\ -g -\\alpha v_y \\sqrt{v_x^2 + v_y^2} \\end{pmatrix}\n",
    "$$\n",
    "\n",
    "Implement this with $\\alpha = 0.001$, plot the resulting trajectory, and compare to the dragless case."
   ]
  },
  {
   "cell_type": "code",
   "execution_count": null,
   "metadata": {},
   "outputs": [],
   "source": [
    "# YOUR CODE HERE"
   ]
  },
  {
   "cell_type": "code",
   "execution_count": null,
   "metadata": {},
   "outputs": [],
   "source": []
  }
 ],
 "metadata": {
  "kernelspec": {
   "display_name": "Python 3",
   "language": "python",
   "name": "python3"
  },
  "language_info": {
   "codemirror_mode": {
    "name": "ipython",
    "version": 3
   },
   "file_extension": ".py",
   "mimetype": "text/x-python",
   "name": "python",
   "nbconvert_exporter": "python",
   "pygments_lexer": "ipython3",
   "version": "3.7.2"
  }
 },
 "nbformat": 4,
 "nbformat_minor": 2
}
