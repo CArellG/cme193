{
 "cells": [
  {
   "cell_type": "markdown",
   "metadata": {},
   "source": [
    "# Modules and Data Structures (again)\n",
    "\n",
    "Today, we are going to do a *very quick* overview of common data structures in both standard Python and Numpy/Pandas. We will have a quick example of how to make modules and `import` modules, then we will start `BeautifulSoup` and an intro to web scraping!\n",
    "\n",
    "_REMINDER_! You can download these notebooks by (in your Terminal) typing:\n",
    "```\n",
    "git clone https://github.com/icme/cme193\n",
    "```"
   ]
  },
  {
   "cell_type": "markdown",
   "metadata": {},
   "source": [
    "## Python+Numpy+Pandas datastructures...\n",
    "\n",
    "...a whirlwind tour!\n",
    "\n",
    "The most basic python datastructure you'll interact with is a list. Remember, it is *mutable*"
   ]
  },
  {
   "cell_type": "code",
   "execution_count": null,
   "metadata": {
    "collapsed": false
   },
   "outputs": [],
   "source": [
    "# -- explicit construction\n",
    "people = ['luke', 'dave', 'mary']\n",
    "\n",
    "# -- list comprehension\n",
    "some_numbers = [a ** 2 for a in xrange(100) if a % 3 == 0]\n",
    "# map operation --^     filter operation ------^\n",
    "\n",
    "more_people = ['luke', 'dave', 'mary']\n",
    "\n",
    "# -- the `+` operator joins two list together.\n",
    "\n",
    "all_people = people + more_people\n",
    "\n",
    "# -- list comprehension + .join() operation for strings\n",
    "print ', '.join(person for person in all_people)\n",
    "\n",
    "# -- remember, lists support slicing!\n",
    "print ', '.join(person for person in all_people[2:-1])\n",
    "\n"
   ]
  },
  {
   "cell_type": "markdown",
   "metadata": {},
   "source": [
    "_Tuples_ are sort of like lists, except they are *immutable*. They still preserve order and hold arbitrary objects."
   ]
  },
  {
   "cell_type": "code",
   "execution_count": null,
   "metadata": {
    "collapsed": false
   },
   "outputs": [],
   "source": [
    "my_things = ('coffee', 'laptop')\n",
    "\n",
    "# -- they are still indexable\n",
    "print my_things[0]\n",
    "\n",
    "# -- however, they are immutable\n",
    "my_things[1] = 'iPad'\n",
    "# -- Error!"
   ]
  },
  {
   "cell_type": "markdown",
   "metadata": {},
   "source": [
    "Dictionaries are cool ways of mapping *keys* to *values*. If you want to store information about something, let's say your laptop, you can do"
   ]
  },
  {
   "cell_type": "code",
   "execution_count": null,
   "metadata": {
    "collapsed": true
   },
   "outputs": [],
   "source": [
    "laptop = {\n",
    "    'make' : 'apple', \n",
    "    'model' : 'MacBook Pro',\n",
    "    'screen_size' : (15, 'in'),\n",
    "    'age' : (3, 'yrs'),\n",
    "    'memory' : (16, 'GB'),\n",
    "    'storage' : (1, 'TB')\n",
    "}"
   ]
  },
  {
   "cell_type": "markdown",
   "metadata": {},
   "source": [
    "*remember* that dictionaries must have *immutable* types for their keys.\n",
    "\n",
    "Dictionaries also have comprehension!"
   ]
  },
  {
   "cell_type": "code",
   "execution_count": null,
   "metadata": {
    "collapsed": false
   },
   "outputs": [],
   "source": [
    "d = {\n",
    "        name : age for (name, age) in \n",
    "        zip(\n",
    "            all_people, \n",
    "            xrange(1, len(all_people) + 1)\n",
    "        )\n",
    "    }\n",
    "\n",
    "print d"
   ]
  },
  {
   "cell_type": "markdown",
   "metadata": {},
   "source": [
    "# Modules (quickly!)\n",
    "\n",
    "Making modules in Python is *definitely* something to look up on your own time. Let's walk through a simple example here...\n",
    "\n",
    "\n",
    "\n",
    "\n",
    "... now, lets import the file."
   ]
  },
  {
   "cell_type": "code",
   "execution_count": null,
   "metadata": {
    "collapsed": false
   },
   "outputs": [],
   "source": [
    "# you would do this in your main script file, and \n",
    "# make sure that fancymodule.py is in the same directory\n",
    "# as your main script.\n",
    "\n",
    "from fancymodule import get_tech_specs\n",
    "\n",
    "get_tech_specs(laptop)"
   ]
  }
 ],
 "metadata": {
  "kernelspec": {
   "display_name": "Python 2",
   "language": "python",
   "name": "python2"
  },
  "language_info": {
   "codemirror_mode": {
    "name": "ipython",
    "version": 2
   },
   "file_extension": ".py",
   "mimetype": "text/x-python",
   "name": "python",
   "nbconvert_exporter": "python",
   "pygments_lexer": "ipython2",
   "version": "2.7.10"
  }
 },
 "nbformat": 4,
 "nbformat_minor": 0
}
