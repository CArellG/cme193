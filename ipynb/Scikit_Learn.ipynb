{
 "cells": [
  {
   "cell_type": "markdown",
   "metadata": {},
   "source": [
    "# `scikit-learn`\n",
    "\n",
    "Today, we are going to take a *quick* glance into the world of Machine Learning and Data Science using `scikit-learn`.\n",
    "\n",
    "_REMINDER_! You can download these notebooks by (in your Terminal) typing:\n",
    "```\n",
    "git clone https://github.com/icme/cme193\n",
    "```\n",
    "\n",
    "You can also click the download link in the top-right corner on `nbviewer`!"
   ]
  },
  {
   "cell_type": "markdown",
   "metadata": {},
   "source": [
    "Well here we go...another whirlwind tour!\n",
    "\n",
    "I have often said that \"there could be an entire course about this topic\" about many of the topics in class. For this topic, there are like 5 classes at Stanford *only* about this -- if the stuff in this lecture is interesting to you, I recommend you look at them!"
   ]
  },
  {
   "cell_type": "code",
   "execution_count": null,
   "metadata": {
    "collapsed": true
   },
   "outputs": [],
   "source": [
    "%matplotlib inline\n",
    "import matplotlib.pyplot as plt\n",
    "import numpy as np\n",
    "\n",
    "# -- we will only use linear models today...\n",
    "from sklearn import datasets, linear_model"
   ]
  },
  {
   "cell_type": "code",
   "execution_count": null,
   "metadata": {
    "collapsed": false
   },
   "outputs": [],
   "source": [
    "digits = datasets.load_digits()\n",
    "images_and_labels = list(zip(digits.images, digits.target))"
   ]
  },
  {
   "cell_type": "code",
   "execution_count": null,
   "metadata": {
    "collapsed": false
   },
   "outputs": [],
   "source": [
    "print images_and_labels[0]"
   ]
  },
  {
   "cell_type": "code",
   "execution_count": null,
   "metadata": {
    "collapsed": false
   },
   "outputs": [],
   "source": [
    "for index, (image, label) in enumerate(images_and_labels[:10]):\n",
    "    plt.subplot(2, 5, index + 1)\n",
    "    plt.axis('off')\n",
    "    plt.imshow(image, cmap=plt.cm.gray_r, interpolation='nearest')\n",
    "    plt.title('Training: %i' % label)"
   ]
  },
  {
   "cell_type": "markdown",
   "metadata": {},
   "source": [
    "Now, let's manipulate our data into a Numpy/scikit-learn friendly format! \n",
    "\n",
    "We are going to work with Logistic Regression here in this digit recognition example. For each digit, we want to learn a model that will, given the image in a numpy array $x$, predict the probability that it is an image of the number $d\\in\\{0, 1, ..., 8, 9\\}$. We estimate 10 models of the form\n",
    "\n",
    "$$\n",
    "P(d | x) = \\frac{1}{1+e^{-(\\theta_d^T x)}}, d\\in\\{0, 1, ..., 8, 9\\}\n",
    "$$\n",
    "\n",
    "and, for a given $x$, the predicted class is \n",
    "\n",
    "$$\n",
    "\\arg\\max_{i} P(i | x)\n",
    "$$\n",
    "\n",
    "That is, we predict that a digit is the number $d$ if that is the highest probability digit!"
   ]
  },
  {
   "cell_type": "code",
   "execution_count": null,
   "metadata": {
    "collapsed": false
   },
   "outputs": [],
   "source": [
    "n_samples = len(digits.images)\n",
    "data = digits.images.reshape((n_samples, -1))\n",
    "print data.shape"
   ]
  },
  {
   "cell_type": "code",
   "execution_count": null,
   "metadata": {
    "collapsed": false
   },
   "outputs": [],
   "source": [
    "classifier = linear_model.LogisticRegressionCV(Cs=20, cv=10, verbose=True, \n",
    "                                               penalty='l2', max_iter=10000, \n",
    "                                               n_jobs=6)"
   ]
  },
  {
   "cell_type": "code",
   "execution_count": null,
   "metadata": {
    "collapsed": false
   },
   "outputs": [],
   "source": [
    "classifier.fit(data[:n_samples / 2], digits.target[:n_samples / 2])"
   ]
  },
  {
   "cell_type": "code",
   "execution_count": null,
   "metadata": {
    "collapsed": false
   },
   "outputs": [],
   "source": [
    "print classifier.scores_[0].shape\n",
    "print classifier.Cs_.shape"
   ]
  },
  {
   "cell_type": "code",
   "execution_count": null,
   "metadata": {
    "collapsed": false
   },
   "outputs": [],
   "source": [
    "for k, v in classifier.scores_.iteritems():\n",
    "    plt.plot(classifier.Cs_, v.mean(axis=0), label='Digit: {}'.format(k))\n",
    "plt.semilogx()\n",
    "plt.legend()\n",
    "plt.plot()"
   ]
  },
  {
   "cell_type": "code",
   "execution_count": null,
   "metadata": {
    "collapsed": true
   },
   "outputs": [],
   "source": [
    "yhat = classifier.predict(data[n_samples / 2:])"
   ]
  },
  {
   "cell_type": "code",
   "execution_count": null,
   "metadata": {
    "collapsed": false
   },
   "outputs": [],
   "source": [
    "print 'Prediction Accuracy: {}%'.format((yhat == digits.target[n_samples / 2:]).mean())"
   ]
  },
  {
   "cell_type": "markdown",
   "metadata": {},
   "source": [
    "Now, what did we learn?"
   ]
  },
  {
   "cell_type": "code",
   "execution_count": null,
   "metadata": {
    "collapsed": false
   },
   "outputs": [],
   "source": [
    "print classifier.coef_.shape"
   ]
  },
  {
   "cell_type": "markdown",
   "metadata": {},
   "source": [
    "This means that we have a $\\theta_d$ with shape `(1, 64)` for each class, like we saw."
   ]
  },
  {
   "cell_type": "code",
   "execution_count": null,
   "metadata": {
    "collapsed": false
   },
   "outputs": [],
   "source": [
    "for index, w in enumerate(classifier.coef_):\n",
    "    mx = np.max(np.abs(w))\n",
    "    plt.subplot(2, 5, index + 1)\n",
    "    plt.axis('off')\n",
    "    plt.imshow(w.reshape((8, 8)), cmap=plt.cm.RdYlBu_r, interpolation='nearest', vmax=mx, vmin=-mx)\n",
    "    plt.title('Filter: %i' % index)"
   ]
  },
  {
   "cell_type": "code",
   "execution_count": null,
   "metadata": {
    "collapsed": true
   },
   "outputs": [],
   "source": []
  }
 ],
 "metadata": {
  "kernelspec": {
   "display_name": "Python 2",
   "language": "python",
   "name": "python2"
  },
  "language_info": {
   "codemirror_mode": {
    "name": "ipython",
    "version": 2
   },
   "file_extension": ".py",
   "mimetype": "text/x-python",
   "name": "python",
   "nbconvert_exporter": "python",
   "pygments_lexer": "ipython2",
   "version": "2.7.10"
  }
 },
 "nbformat": 4,
 "nbformat_minor": 0
}
