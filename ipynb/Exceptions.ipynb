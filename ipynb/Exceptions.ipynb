{
 "cells": [
  {
   "cell_type": "markdown",
   "metadata": {},
   "source": [
    "#Exception Handling\n",
    "\n",
    "In Python, we often change behavior in piece of code based on errors. This, simply put, is *exception handling*.\n",
    "\n",
    "The standard way in Python: try a thing, catch the error from improper usage, try something else.\n",
    "\n"
   ]
  },
  {
   "cell_type": "code",
   "execution_count": 1,
   "metadata": {
    "collapsed": false
   },
   "outputs": [
    {
     "name": "stdout",
     "output_type": "stream",
     "text": [
      "I am 23 years old.\n"
     ]
    }
   ],
   "source": [
    "age = 23\n",
    "print 'I am {} years old.'.format(age)"
   ]
  },
  {
   "cell_type": "code",
   "execution_count": 3,
   "metadata": {
    "collapsed": false
   },
   "outputs": [
    {
     "ename": "TypeError",
     "evalue": "'int' object has no attribute '__getitem__'",
     "output_type": "error",
     "traceback": [
      "\u001b[0;31m---------------------------------------------------------------------------\u001b[0m",
      "\u001b[0;31mTypeError\u001b[0m                                 Traceback (most recent call last)",
      "\u001b[0;32m<ipython-input-3-c0d45416836f>\u001b[0m in \u001b[0;36m<module>\u001b[0;34m()\u001b[0m\n\u001b[1;32m      1\u001b[0m \u001b[0mage\u001b[0m \u001b[0;34m=\u001b[0m \u001b[0;36m23\u001b[0m\u001b[0;34m\u001b[0m\u001b[0m\n\u001b[0;32m----> 2\u001b[0;31m \u001b[0;32mprint\u001b[0m \u001b[0;34m'I am {} years old.'\u001b[0m\u001b[0;34m.\u001b[0m\u001b[0mformat\u001b[0m\u001b[0;34m(\u001b[0m\u001b[0mage\u001b[0m\u001b[0;34m[\u001b[0m\u001b[0;36m0\u001b[0m\u001b[0;34m]\u001b[0m\u001b[0;34m)\u001b[0m\u001b[0;34m\u001b[0m\u001b[0m\n\u001b[0m",
      "\u001b[0;31mTypeError\u001b[0m: 'int' object has no attribute '__getitem__'"
     ]
    }
   ],
   "source": [
    "age = 23\n",
    "print 'I am {} years old.'.format(age[0])"
   ]
  },
  {
   "cell_type": "markdown",
   "metadata": {},
   "source": [
    "Well, we tried to access an int with a list syntax, `[]`! This seems kind of stupid...\n",
    "\n",
    "Well, what happens if we want to hadle multiple types in a function!"
   ]
  },
  {
   "cell_type": "code",
   "execution_count": 6,
   "metadata": {
    "collapsed": true
   },
   "outputs": [],
   "source": [
    "def age_printer(name, age):\n",
    "    print ', '.join('{} is {} years old'.format(n, a) for (n, a) in zip(name, age))"
   ]
  },
  {
   "cell_type": "code",
   "execution_count": 7,
   "metadata": {
    "collapsed": false
   },
   "outputs": [
    {
     "name": "stdout",
     "output_type": "stream",
     "text": [
      "luke is 23 years old, mark is 45 years old\n"
     ]
    }
   ],
   "source": [
    "age_printer(['luke', 'mark'], [23, 45])"
   ]
  },
  {
   "cell_type": "code",
   "execution_count": 8,
   "metadata": {
    "collapsed": false
   },
   "outputs": [
    {
     "ename": "TypeError",
     "evalue": "zip argument #2 must support iteration",
     "output_type": "error",
     "traceback": [
      "\u001b[0;31m---------------------------------------------------------------------------\u001b[0m",
      "\u001b[0;31mTypeError\u001b[0m                                 Traceback (most recent call last)",
      "\u001b[0;32m<ipython-input-8-9178d173420e>\u001b[0m in \u001b[0;36m<module>\u001b[0;34m()\u001b[0m\n\u001b[0;32m----> 1\u001b[0;31m \u001b[0mage_printer\u001b[0m\u001b[0;34m(\u001b[0m\u001b[0;34m'luke'\u001b[0m\u001b[0;34m,\u001b[0m \u001b[0;36m23\u001b[0m\u001b[0;34m)\u001b[0m\u001b[0;34m\u001b[0m\u001b[0m\n\u001b[0m",
      "\u001b[0;32m<ipython-input-6-57f18d4e2433>\u001b[0m in \u001b[0;36mage_printer\u001b[0;34m(name, age)\u001b[0m\n\u001b[1;32m      1\u001b[0m \u001b[0;32mdef\u001b[0m \u001b[0mage_printer\u001b[0m\u001b[0;34m(\u001b[0m\u001b[0mname\u001b[0m\u001b[0;34m,\u001b[0m \u001b[0mage\u001b[0m\u001b[0;34m)\u001b[0m\u001b[0;34m:\u001b[0m\u001b[0;34m\u001b[0m\u001b[0m\n\u001b[0;32m----> 2\u001b[0;31m     \u001b[0;32mprint\u001b[0m \u001b[0;34m', '\u001b[0m\u001b[0;34m.\u001b[0m\u001b[0mjoin\u001b[0m\u001b[0;34m(\u001b[0m\u001b[0;34m'{} is {} years old'\u001b[0m\u001b[0;34m.\u001b[0m\u001b[0mformat\u001b[0m\u001b[0;34m(\u001b[0m\u001b[0mn\u001b[0m\u001b[0;34m,\u001b[0m \u001b[0ma\u001b[0m\u001b[0;34m)\u001b[0m \u001b[0;32mfor\u001b[0m \u001b[0;34m(\u001b[0m\u001b[0mn\u001b[0m\u001b[0;34m,\u001b[0m \u001b[0ma\u001b[0m\u001b[0;34m)\u001b[0m \u001b[0;32min\u001b[0m \u001b[0mzip\u001b[0m\u001b[0;34m(\u001b[0m\u001b[0mname\u001b[0m\u001b[0;34m,\u001b[0m \u001b[0mage\u001b[0m\u001b[0;34m)\u001b[0m\u001b[0;34m)\u001b[0m\u001b[0;34m\u001b[0m\u001b[0m\n\u001b[0m",
      "\u001b[0;31mTypeError\u001b[0m: zip argument #2 must support iteration"
     ]
    }
   ],
   "source": [
    "# -- what if we want to handle this??\n",
    "age_printer('luke', 23)"
   ]
  },
  {
   "cell_type": "markdown",
   "metadata": {},
   "source": [
    "Let's change the function! Lets *handle* this exception."
   ]
  },
  {
   "cell_type": "code",
   "execution_count": 10,
   "metadata": {
    "collapsed": false
   },
   "outputs": [],
   "source": [
    "def age_printer(name, age):\n",
    "    try:\n",
    "        print ', '.join('{} is {} years old'.format(n, a) for (n, a) in zip(name, age))\n",
    "    # -- handle a case where this isnt an iterable!\n",
    "    except TypeError:\n",
    "        print '{} is {} years old'.format(name, age)"
   ]
  },
  {
   "cell_type": "code",
   "execution_count": 11,
   "metadata": {
    "collapsed": false
   },
   "outputs": [
    {
     "name": "stdout",
     "output_type": "stream",
     "text": [
      "luke is 23 years old\n",
      "luke is 23 years old, mark is 45 years old\n"
     ]
    }
   ],
   "source": [
    "age_printer('luke', 23)\n",
    "age_printer(['luke', 'mark'], [23, 45])"
   ]
  },
  {
   "cell_type": "markdown",
   "metadata": {},
   "source": [
    "##Overview\n",
    "How does this work?\n",
    "\n",
    "Syntax:\n",
    "\n",
    "```python\n",
    "try:\n",
    "    # -- here is your code!\n",
    "except NamedExceptionHere:\n",
    "    # -- Do this instead!\n",
    "```\n",
    "\n",
    "How do I know what `NamedExceptionHere` should be? Answer -- Google it!"
   ]
  },
  {
   "cell_type": "markdown",
   "metadata": {},
   "source": [
    "###Standard Exceptions\n",
    "\n",
    "\n",
    "* `Exception`: Base class for all exceptions\n",
    "\n",
    "* `StopIteration`: Raised when the next() method of an iterator does not point to any object.\n",
    "\n",
    "* `SystemExit`: Raised by the sys.exit() function.\n",
    "\n",
    "* `StandardError`: Base class for all built-in exceptions except StopIteration and SystemExit.\n",
    "\n",
    "* `ArithmeticError`: Base class for all errors that occur for numeric calculation.\n",
    "\n",
    "* `OverflowError`: Raised when a calculation exceeds maximum limit for a numeric type.\n",
    "\n",
    "* `FloatingPointError`: Raised when a floating point calculation fails.\n",
    "\n",
    "* `ZeroDivisonError`: Raised when division or modulo by zero takes place for all numeric types.\n",
    "\n",
    "* `AssertionError`: Raised in case of failure of the Assert statement.\n",
    "\n",
    "* `AttributeError`: Raised in case of failure of attribute reference or assignment.\n",
    "\n",
    "* `EOFError`: Raised when there is no input from either the raw_input() or input() function and the end of file is reached.\n",
    "\n",
    "* `ImportError`: Raised when an import statement fails.\n",
    "\n",
    "* `KeyboardInterrupt`: Raised when the user interrupts program execution, usually by pressing Ctrl+c.\n",
    "\n",
    "* `LookupError`: Base class for all lookup errors.\n",
    "\n",
    "* `IndexError`: Raised when an index is not found in a sequence.\n",
    "\n",
    "* `KeyError`: Raised when the specified key is not found in the dictionary.\n",
    "\n",
    "* `NameError`: Raised when an identifier is not found in the local or global namespace.\n",
    "\n",
    "* `SyntaxError`: Raised when there is an error in Python syntax.\n",
    "\n",
    "* `SystemError`: Raised when the interpreter finds an internal problem, but when this error is encountered the Python interpreter does not exit.\n",
    "\n",
    "* `ValueError`: Raised when the built-in function for a data type has the valid type of arguments, but the arguments have invalid values specified.\n",
    "\n",
    "* `RuntimeError`: Raised when a generated error does not fall into any category.\n",
    "\n",
    "* `NotImplementedError`: Raised when an abstract method that needs to be implemented in an inherited class is not actually implemented."
   ]
  },
  {
   "cell_type": "code",
   "execution_count": null,
   "metadata": {
    "collapsed": true
   },
   "outputs": [],
   "source": [
    "# -- Let's write one with the KeyboardInterrupt together!"
   ]
  }
 ],
 "metadata": {
  "kernelspec": {
   "display_name": "Python 2",
   "language": "python",
   "name": "python2"
  },
  "language_info": {
   "codemirror_mode": {
    "name": "ipython",
    "version": 2
   },
   "file_extension": ".py",
   "mimetype": "text/x-python",
   "name": "python",
   "nbconvert_exporter": "python",
   "pygments_lexer": "ipython2",
   "version": "2.7.10"
  }
 },
 "nbformat": 4,
 "nbformat_minor": 0
}
