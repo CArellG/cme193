{
 "cells": [
  {
   "cell_type": "markdown",
   "metadata": {},
   "source": [
    "# Numpy Review\n",
    "\n",
    "Today, we are going to do a *very quick* overview of Numpy in preparation of the project.\n",
    "\n",
    "_REMINDER_! You can download these notebooks by (in your Terminal) typing:\n",
    "```\n",
    "git clone https://github.com/icme/cme193\n",
    "```\n",
    "\n",
    "You can also click the download link in the top-right corner on `nbviewer`!"
   ]
  },
  {
   "cell_type": "markdown",
   "metadata": {},
   "source": [
    "Well here we go...another whirlwind tour!\n",
    "\n",
    "There is no way one can learn *all* of numpy in a course -- trial, error, and (hopefully) minimal frustration will be required on your part!"
   ]
  },
  {
   "cell_type": "code",
   "execution_count": null,
   "metadata": {
    "collapsed": true
   },
   "outputs": [],
   "source": [
    "import numpy as np"
   ]
  },
  {
   "cell_type": "code",
   "execution_count": null,
   "metadata": {
    "collapsed": false
   },
   "outputs": [],
   "source": [
    "# -- I have some data...\n",
    "data = [float(i) ** 2 for i in range(10)]\n",
    "print 'list form:'\n",
    "print data.__repr__()\n",
    "\n",
    "# -- but I want it in an array!\n",
    "A = np.array(data)\n",
    "print 'array form:'\n",
    "print A.__repr__()"
   ]
  },
  {
   "cell_type": "markdown",
   "metadata": {},
   "source": [
    "Remember, you can do some cool stuff with numpy arrays!"
   ]
  },
  {
   "cell_type": "code",
   "execution_count": null,
   "metadata": {
    "collapsed": false
   },
   "outputs": [],
   "source": [
    "# -- let's explore tab complete!"
   ]
  },
  {
   "cell_type": "code",
   "execution_count": null,
   "metadata": {
    "collapsed": false
   },
   "outputs": [],
   "source": [
    "A = np.random.normal(0, 1, (5, 5))\n",
    "print A"
   ]
  },
  {
   "cell_type": "code",
   "execution_count": null,
   "metadata": {
    "collapsed": false
   },
   "outputs": [],
   "source": [
    "A[1, ::-1] = range(A.shape[1])\n",
    "print A"
   ]
  },
  {
   "cell_type": "code",
   "execution_count": null,
   "metadata": {
    "collapsed": false
   },
   "outputs": [],
   "source": [
    "A[np.diag_indices_from(A)] += 11.0\n",
    "print A"
   ]
  },
  {
   "cell_type": "code",
   "execution_count": null,
   "metadata": {
    "collapsed": false
   },
   "outputs": [],
   "source": [
    "A[::-1, :3] = zip(*[[a * i for i in range(A.shape[0])] for a in xrange(1, 4)])\n",
    "print A"
   ]
  },
  {
   "cell_type": "code",
   "execution_count": null,
   "metadata": {
    "collapsed": false
   },
   "outputs": [],
   "source": [
    "print 'rank(A) = {}'.format(np.rank(A))"
   ]
  },
  {
   "cell_type": "markdown",
   "metadata": {
    "collapsed": false
   },
   "source": [
    "We have all the standard matrix decompositions in Numpy! Let's do the SVD.\n",
    "\n",
    "The SVD states that for a matrix $A$, we can find $U$, $S$, and $V$ such that\n",
    "\n",
    "$$\n",
    "A = USV^T,\n",
    "$$\n",
    "\n",
    "where $U$ and $V$ are unitary and S is diagonal."
   ]
  },
  {
   "cell_type": "code",
   "execution_count": null,
   "metadata": {
    "collapsed": false
   },
   "outputs": [],
   "source": [
    "# -- lets make a new matrix A! The other one is rank deficient...\n",
    "A = np.random.normal(0, 2, (5, 5))\n",
    "print 'A = '\n",
    "print A\n",
    "\n",
    "print '\\nA^T = '\n",
    "print A.T"
   ]
  },
  {
   "cell_type": "code",
   "execution_count": null,
   "metadata": {
    "collapsed": false
   },
   "outputs": [],
   "source": [
    "# -- 3 cheers to unpacking!\n",
    "U, S, V = np.linalg.svd(A)\n",
    "\n",
    "for M in ['U', 'S', 'V']:\n",
    "    exec(\"print '{} = '.format({}); print {}\".format(*(3*[M])))"
   ]
  },
  {
   "cell_type": "code",
   "execution_count": null,
   "metadata": {
    "collapsed": false
   },
   "outputs": [],
   "source": [
    "# -- lets turn S back to a matrix, and verify!\n",
    "print 'S = '\n",
    "print np.diag(S)\n",
    "\n",
    "A_try = U.dot(np.diag(S)).dot(V)\n",
    "\n",
    "print 'Reconstructed'\n",
    "print A_try\n",
    "\n",
    "print '\\nOriginal'\n",
    "print A"
   ]
  },
  {
   "cell_type": "markdown",
   "metadata": {
    "collapsed": false
   },
   "source": [
    "Let's test a cool feature of the SVD! Given $A = U S V^T$, we have that \n",
    "\n",
    "$$\n",
    "A^{-1} = (U S V^{T}) ^ {-1} = V^{-T} S^{-1} U^{-1} = V S^{-1} U^T\n",
    "$$\n",
    "\n",
    "So basically, we can invert the diagonals in $S$ and get our inverse!"
   ]
  },
  {
   "cell_type": "code",
   "execution_count": null,
   "metadata": {
    "collapsed": false
   },
   "outputs": [],
   "source": [
    "Ainv_ours = V.T.dot(np.diag(1 / S)).dot(U.T)\n",
    "Ainv = np.linalg.inv(A)\n",
    "\n",
    "print 'Ours'\n",
    "print Ainv_ours\n",
    "\n",
    "print '\\nStandard way'\n",
    "print Ainv"
   ]
  }
 ],
 "metadata": {
  "kernelspec": {
   "display_name": "Python 2",
   "language": "python",
   "name": "python2"
  },
  "language_info": {
   "codemirror_mode": {
    "name": "ipython",
    "version": 2
   },
   "file_extension": ".py",
   "mimetype": "text/x-python",
   "name": "python",
   "nbconvert_exporter": "python",
   "pygments_lexer": "ipython2",
   "version": "2.7.10"
  }
 },
 "nbformat": 4,
 "nbformat_minor": 0
}
