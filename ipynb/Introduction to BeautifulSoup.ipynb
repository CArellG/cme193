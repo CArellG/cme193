{
 "cells": [
  {
   "cell_type": "markdown",
   "metadata": {},
   "source": [
    "#Web Scraping\n",
    "\n",
    "Today, we'll cover an introduction to webscraping using a web scraping framework called BeautifulSoup.\n",
    "\n",
    "I could literally teach an entire course on web scraping -- its a very large topic with a lot of interesting material. We'll cover a classic example today -- scraping web pages from Wikipedia.\n",
    "\n",
    "In addition to using BeautifulSoup, we will also use something called `urllib2` to, as the name suggests, handle URLs.\n",
    "\n",
    "Remember, if you are using web scraping in your project, make sure that you `pip install X`, for each `X` that you need (BeautifulSoup, Pandas, numpy, seaborn, whateverelse...)"
   ]
  },
  {
   "cell_type": "code",
   "execution_count": null,
   "metadata": {
    "collapsed": true
   },
   "outputs": [],
   "source": [
    "from bs4 import BeautifulSoup\n",
    "from BeautifulSoup import UnicodeDammit \n",
    "import urllib2\n",
    "import string"
   ]
  },
  {
   "cell_type": "code",
   "execution_count": null,
   "metadata": {
    "collapsed": true
   },
   "outputs": [],
   "source": [
    "from IPython.core.display import HTML"
   ]
  },
  {
   "cell_type": "code",
   "execution_count": null,
   "metadata": {
    "collapsed": false
   },
   "outputs": [],
   "source": [
    "# -- first, we need to trick the websites...\n",
    "header = {'User-Agent': 'Mozilla/5.0'} # prevent 403 error\n",
    "\n",
    "# -- let's grab a link!\n",
    "link = 'https://en.wikipedia.org/wiki/Statistics'\n",
    "\n",
    "req = urllib2.Request(link, headers=header)\n",
    "page = urllib2.urlopen(req)\n",
    "html = UnicodeDammit(page.read()).unicode\n",
    "\n"
   ]
  },
  {
   "cell_type": "code",
   "execution_count": null,
   "metadata": {
    "collapsed": false
   },
   "outputs": [],
   "source": [
    "soup = BeautifulSoup(html)"
   ]
  },
  {
   "cell_type": "code",
   "execution_count": null,
   "metadata": {
    "collapsed": false
   },
   "outputs": [],
   "source": [
    "HTML(html)"
   ]
  },
  {
   "cell_type": "code",
   "execution_count": null,
   "metadata": {
    "collapsed": false
   },
   "outputs": [],
   "source": [
    "print html[:5000]"
   ]
  },
  {
   "cell_type": "code",
   "execution_count": null,
   "metadata": {
    "collapsed": false
   },
   "outputs": [],
   "source": [
    "f = soup.find('div', {'class':\"mw-content-ltr\", 'dir':\"ltr\", 'id':\"mw-content-text\"} )\n",
    "\n",
    "print f"
   ]
  },
  {
   "cell_type": "code",
   "execution_count": null,
   "metadata": {
    "collapsed": false
   },
   "outputs": [],
   "source": [
    "paragraphs = f.find_all('p')\n",
    "print '\\n\\n'.join([p.text[:300] + '...' for p in paragraphs[:3]])"
   ]
  },
  {
   "cell_type": "code",
   "execution_count": null,
   "metadata": {
    "collapsed": true
   },
   "outputs": [],
   "source": [
    "text = ' '.join(t.text.encode('ascii',errors='ignore') for t in f.find_all('p')).replace('  ', ' ')"
   ]
  },
  {
   "cell_type": "code",
   "execution_count": null,
   "metadata": {
    "collapsed": false
   },
   "outputs": [],
   "source": [
    "text"
   ]
  },
  {
   "cell_type": "code",
   "execution_count": null,
   "metadata": {
    "collapsed": false
   },
   "outputs": [],
   "source": [
    "text = text.translate(string.maketrans('',''), string.punctuation)\n",
    "text = text.translate(string.maketrans('',''), string.digits)\n",
    "print text[:1000] + '...'"
   ]
  },
  {
   "cell_type": "code",
   "execution_count": null,
   "metadata": {
    "collapsed": false
   },
   "outputs": [],
   "source": [
    "print text[:1000].lower() + '...'"
   ]
  },
  {
   "cell_type": "code",
   "execution_count": null,
   "metadata": {
    "collapsed": true
   },
   "outputs": [],
   "source": []
  }
 ],
 "metadata": {
  "kernelspec": {
   "display_name": "Python 2",
   "language": "python",
   "name": "python2"
  },
  "language_info": {
   "codemirror_mode": {
    "name": "ipython",
    "version": 2
   },
   "file_extension": ".py",
   "mimetype": "text/x-python",
   "name": "python",
   "nbconvert_exporter": "python",
   "pygments_lexer": "ipython2",
   "version": "2.7.10"
  }
 },
 "nbformat": 4,
 "nbformat_minor": 0
}
