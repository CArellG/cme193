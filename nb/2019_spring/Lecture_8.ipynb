{
 "cells": [
  {
   "cell_type": "markdown",
   "metadata": {},
   "source": [
    "# Lecture 8 - CME 193 - Python scripts\n",
    "So far, we've been working in Jupyter notebooks, which are nice and interactive. However, they can be clunky if you have lots of code. It can be annoying to have to run one cell at a time. For large codebases, most people work with Python scripts. The code in the cells below are meant to be run in Python scripts, not Jupyter notebooks. That means that they are saved in files that end in `.py` and run via the command line.\n",
    "\n",
    "As a first example, save the following code in a file called `main.py`."
   ]
  },
  {
   "cell_type": "code",
   "execution_count": null,
   "metadata": {},
   "outputs": [],
   "source": [
    "# main.py\n",
    "import numpy as np\n",
    "print(np.pi)"
   ]
  },
  {
   "cell_type": "markdown",
   "metadata": {},
   "source": [
    "To run this script, open a terminal, change into the directory with `main.py`, and run\n",
    "\n",
    "    python main.py\n",
    "    \n",
    "If all goes well, then you should see $\\pi$ printed!\n",
    "\n",
    "Running Python scripts is very similar to running a cell in a notebook, where Python executes each line in the file in a sequence. One difference is that anything you want to output needs to be explicitly `print`ed. Otherwise, you won't see any output.\n",
    "\n",
    "One difference is that with Python scripts, it's sometimes useful to accept command line arguments. For example, if your script saves its output to a file, it might be useful to accept a filename, like:\n",
    "\n",
    "    python main.py output.txt\n",
    "\n",
    "To access the command line arguments from a Python script, you can use `sys.argv`, which is a list, in this case `['main.py', 'output.txt']`. We can access `output.txt` using the standard indexing notation, like `sys.argv[1]`."
   ]
  },
  {
   "cell_type": "code",
   "execution_count": null,
   "metadata": {},
   "outputs": [],
   "source": [
    "# main.py\n",
    "import sys\n",
    "print(sys.argv)\n",
    "print(sys.argv[1])"
   ]
  },
  {
   "cell_type": "markdown",
   "metadata": {},
   "source": [
    "Reading elements of this list works fine if you only have one or two arguments. For anything more complicated, Python comes with a built-in library called `argparse`. This is beyond the scope of this class, but here is an example that accepts a command line argument called `num_iters`, which defaults to `100` if nothing is passed. You can pass a different value like this:\n",
    "\n",
    "    python main.py --num_iters 10000"
   ]
  },
  {
   "cell_type": "code",
   "execution_count": null,
   "metadata": {
    "scrolled": true
   },
   "outputs": [],
   "source": [
    "# main.py\n",
    "import argparse\n",
    "parser = argparse.ArgumentParser()\n",
    "parser.add_argument('--num_iters', default=100, type=int, help='number of iterations')\n",
    "args = parser.parse_args()\n",
    "print(args.num_iters)"
   ]
  },
  {
   "cell_type": "markdown",
   "metadata": {},
   "source": [
    "One thing that is easy in Jupyter notebooks but tricky in Python scripts is plotting. If you're lucky, the plot will still pop up, but one thing you can always do is save the plot to a file, as below."
   ]
  },
  {
   "cell_type": "code",
   "execution_count": null,
   "metadata": {},
   "outputs": [],
   "source": [
    "# main.py\n",
    "import pandas as pd\n",
    "\n",
    "# The following two lines might be necessary, depending on your operating system. If you get\n",
    "# an error message initially, you can uncomment these lines to see if it works.\n",
    "# import matplotlib\n",
    "# matplotlib.use('Agg')\n",
    "\n",
    "import matplotlib.pyplot as plt\n",
    "\n",
    "# Load the abalone dataset from lecture 7.\n",
    "df = pd.read_csv('http://archive.ics.uci.edu/ml/machine-learning-databases/abalone/abalone.data',\n",
    "                   header=None, names=['sex', 'length', 'diameter', 'height', 'weight', 'shucked_weight',\n",
    "                                       'viscera_weight', 'shell_weight', 'rings'])\n",
    "\n",
    "df.plot('weight', 'rings', kind='scatter')\n",
    "\n",
    "# This line might pop open a plot, but it might not on some computers.\n",
    "plt.show()\n",
    "\n",
    "# An alternative to showing the plot is to save it as an image.\n",
    "plt.savefig('figure.png')"
   ]
  },
  {
   "cell_type": "markdown",
   "metadata": {},
   "source": [
    "Sometimes it's useful to save things to disk, after we've done a long calculation for example. Here are several ways to do so:"
   ]
  },
  {
   "cell_type": "code",
   "execution_count": null,
   "metadata": {},
   "outputs": [],
   "source": [
    "# Save a Pandas dataframe.\n",
    "df.to_csv('data.csv')\n",
    "\n",
    "# Save a NumPy array.\n",
    "np.save(arr, 'data.npy')\n",
    "\n",
    "# Write text to a file. Warning: the 'w' means overwrite, which deletes anything already\n",
    "# existing in that file! To append to the file instead, use 'a' instead of 'w'.\n",
    "f = open('test.txt', 'w')\n",
    "f.write('hello world')\n",
    "f.close()\n",
    "\n",
    "# This is how to read a file (you can treat f as a list of lines that we can iterate over).\n",
    "f =  open('test.txt', 'r')\n",
    "for line in f:\n",
    "    print(line)\n",
    "f.close()\n",
    "\n",
    "# Closing a file when we're done saves memory. This is alternate syntax that automatically\n",
    "# closes the file after executing all the indented code inside the if block.\n",
    "with open('test.txt', 'r') as f:\n",
    "    for line in f:\n",
    "        print(line)"
   ]
  },
  {
   "cell_type": "markdown",
   "metadata": {},
   "source": [
    "Often it makes sense to split Python scripts into multiple files. For example, suppose we have another file called `other.py`, where we define useful functions."
   ]
  },
  {
   "cell_type": "code",
   "execution_count": null,
   "metadata": {},
   "outputs": [],
   "source": [
    "# other.py\n",
    "import numpy as np\n",
    "\n",
    "def compute_pi():\n",
    "    return np.pi"
   ]
  },
  {
   "cell_type": "markdown",
   "metadata": {},
   "source": [
    "You can access the function using the `import` command, just like other libraries."
   ]
  },
  {
   "cell_type": "code",
   "execution_count": null,
   "metadata": {},
   "outputs": [],
   "source": [
    "# main.py\n",
    "import other\n",
    "print(other.compute_pi())\n",
    "\n",
    "# Alternatively:\n",
    "import other.compute_pi as compute_pi\n",
    "print(compute_pi())\n",
    "\n",
    "# To import a file in a subdirectory, for example, computations/other.py, we would use:\n",
    "import computations.other as other\n",
    "print(other.compute_pi())"
   ]
  },
  {
   "cell_type": "markdown",
   "metadata": {},
   "source": [
    "You might encounter this weird block of code, `if __name__ == '__main__':`, in other people's Python code. It denotes code that is executed only if the file is run directly (`python other.py`), and not if it is merely imported. That way, `other.py` operates as both a standalone script that can be run or as a library file that can be imported."
   ]
  },
  {
   "cell_type": "code",
   "execution_count": null,
   "metadata": {},
   "outputs": [],
   "source": [
    "# other.py\n",
    "import numpy as np\n",
    "\n",
    "def compute_pi():\n",
    "    return np.pi\n",
    "\n",
    "# Note that this will get executed even if this file is imported.\n",
    "print('Computing pi...')\n",
    "\n",
    "if __name__ == '__main__':\n",
    "    # This only gets executed if this file is run with `python other.py`.\n",
    "    print('Computing pi...')"
   ]
  }
 ],
 "metadata": {
  "kernelspec": {
   "display_name": "Python 3",
   "language": "python",
   "name": "python3"
  },
  "language_info": {
   "codemirror_mode": {
    "name": "ipython",
    "version": 3
   },
   "file_extension": ".py",
   "mimetype": "text/x-python",
   "name": "python",
   "nbconvert_exporter": "python",
   "pygments_lexer": "ipython3",
   "version": "3.7.2"
  }
 },
 "nbformat": 4,
 "nbformat_minor": 2
}
