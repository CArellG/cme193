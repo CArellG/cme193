{
 "cells": [
  {
   "cell_type": "markdown",
   "metadata": {},
   "source": [
    "# CME 193 - Introduction to Scientific Python\n",
    "\n",
    "\n",
    "## Course Logistics\n",
    "\n",
    "**Instructor:** Casey Chu (caseychu@stanford.edu, but private post on Piazza preferred)\n",
    "\n",
    "**Course website:** [cme193.stanford.edu](http://cme193.stanford.edu).\n",
    "Please check there for any materials related for the course (and let me know if something needs to be updated).\n",
    "\n",
    "**Class:** We'll intersperse lecture with breaks to work on exercises.  These breaks are good chances to try out what you learn, and ask for help if you're stuck.  You aren't required to submit solutions to the exercises, and should focus on exercises you find most interesting if there are multiple options.\n",
    "\n",
    "**Piazza:** [piazza.com/stanford/spring2019/cme193](http://piazza.com/stanford/spring2019/cme193). Post here if you have any questions related to the course.  I also encourage you to help answer questions on Piazza, as this is a great way to improve your Python skills as well.  If you have any questions that you would send via email, I would prefer you instead post them as a private post on Piazza.\n",
    "\n",
    "**Homework:** We'll have 2 homeworks, which should not be difficult or time consuming, but a chance to practice what we cover in class. Feel free to discuss the problems with other students in the class, but the final code you submit should be written by you.\n",
    "\n",
    "**Grading:** This class is offered on a credit/no-credit basis.  Really, you're going to get out of it what you put into it.  My assumption is that you are taking the course because you see it as relevant to your education, and will try to learn material that you see as most important.\n",
    "\n",
    "**Office hours:** Tuesdays 1:30-3:30 (Huang basement, either in the ICME lobby or directly outside)."
   ]
  },
  {
   "cell_type": "markdown",
   "metadata": {},
   "source": [
    "# Overview of Course\n",
    "\n",
    "You can find a list of topics we plan to cover on the [course website](http://web.stanford.edu/class/cme193/syllabus.html).  \n",
    "\n",
    "Here is a tentative list of lectures:\n",
    "1. Python basics\n",
    "1. NumPy basics\n",
    "1. Linear algebra (NumPy)\n",
    "1. Numerical algorithms (NumPy)\n",
    "1. Scientific computing (SciPy)\n",
    "1. Data science (Pandas)\n",
    "1. Machine learning (scikit-learn)\n",
    "1. Deep learning (PyTorch)\n",
    "\n",
    "The goal of the course is to get you started with using Python for scientific computing.\n",
    "* We **are** going to cover common packages for linear algebra, optimization, and data science\n",
    "* We are **not** going to cover all of the Python language, or all of its applications\n",
    "    * We will cover aspects of the Python language as they are needed for our purposes\n",
    "\n",
    "This course is designed for\n",
    "* People who already know how to program (maybe not in Python)\n",
    "* People who want to use Python for research/coursework in a scientific or engineering discipline for modeling, simulations, or data science\n",
    "\n",
    "You don't need to have an expert background in programming or scientific computing to take this course.  Everyone starts somewhere, and if your interests are aligned with the goals of the course you should be ok."
   ]
  },
  {
   "cell_type": "markdown",
   "metadata": {},
   "source": [
    "# Python"
   ]
  },
  {
   "cell_type": "markdown",
   "metadata": {},
   "source": [
    "![xkcd_python](https://imgs.xkcd.com/comics/python.png)\n",
    "(From [xkcd](https://xkcd.com/))"
   ]
  },
  {
   "cell_type": "code",
   "execution_count": 2,
   "metadata": {},
   "outputs": [
    {
     "name": "stdout",
     "output_type": "stream",
     "text": [
      "Hello, CME 193!\n"
     ]
    }
   ],
   "source": [
    "print(\"Hello, CME 193!\")"
   ]
  },
  {
   "cell_type": "code",
   "execution_count": 3,
   "metadata": {},
   "outputs": [
    {
     "name": "stdout",
     "output_type": "stream",
     "text": [
      "3.141592653589793\n"
     ]
    }
   ],
   "source": [
    "import math\n",
    "print(math.pi)"
   ]
  },
  {
   "cell_type": "markdown",
   "metadata": {},
   "source": [
    "# Variables\n",
    "\n",
    "One of the main differences in python compared to other languages you might be familiar with is that variables are not declared and are not strongly typed"
   ]
  },
  {
   "cell_type": "code",
   "execution_count": 4,
   "metadata": {},
   "outputs": [
    {
     "name": "stdout",
     "output_type": "stream",
     "text": [
      "1\n"
     ]
    }
   ],
   "source": [
    "x = 1\n",
    "print(x)"
   ]
  },
  {
   "cell_type": "code",
   "execution_count": 7,
   "metadata": {},
   "outputs": [],
   "source": [
    "y = 'test'"
   ]
  },
  {
   "cell_type": "code",
   "execution_count": 8,
   "metadata": {},
   "outputs": [
    {
     "name": "stdout",
     "output_type": "stream",
     "text": [
      "test\n"
     ]
    }
   ],
   "source": [
    "print(y)"
   ]
  },
  {
   "cell_type": "code",
   "execution_count": 9,
   "metadata": {},
   "outputs": [
    {
     "name": "stdout",
     "output_type": "stream",
     "text": [
      "string\n"
     ]
    }
   ],
   "source": [
    "x = 1\n",
    "x = \"string\"\n",
    "print(x)"
   ]
  },
  {
   "cell_type": "code",
   "execution_count": 10,
   "metadata": {},
   "outputs": [
    {
     "name": "stdout",
     "output_type": "stream",
     "text": [
      "<class 'int'>\n"
     ]
    }
   ],
   "source": [
    "x = 1\n",
    "print(type(x))"
   ]
  },
  {
   "cell_type": "code",
   "execution_count": 11,
   "metadata": {},
   "outputs": [
    {
     "name": "stdout",
     "output_type": "stream",
     "text": [
      "<class 'str'>\n"
     ]
    }
   ],
   "source": [
    "x = \"string\"\n",
    "print(type(x))"
   ]
  },
  {
   "cell_type": "code",
   "execution_count": 12,
   "metadata": {},
   "outputs": [
    {
     "name": "stdout",
     "output_type": "stream",
     "text": [
      "<class 'float'>\n"
     ]
    }
   ],
   "source": [
    "x = 0.1\n",
    "print(type(x))"
   ]
  },
  {
   "cell_type": "markdown",
   "metadata": {},
   "source": [
    "Jupyter Notebook automatically prints the value of the last line in the cell:"
   ]
  },
  {
   "cell_type": "code",
   "execution_count": 13,
   "metadata": {},
   "outputs": [
    {
     "data": {
      "text/plain": [
       "float"
      ]
     },
     "execution_count": 13,
     "metadata": {},
     "output_type": "execute_result"
    }
   ],
   "source": [
    "x = 0.1\n",
    "type(x)"
   ]
  },
  {
   "cell_type": "code",
   "execution_count": 14,
   "metadata": {},
   "outputs": [
    {
     "data": {
      "text/plain": [
       "0.1"
      ]
     },
     "execution_count": 14,
     "metadata": {},
     "output_type": "execute_result"
    }
   ],
   "source": [
    "x"
   ]
  },
  {
   "cell_type": "code",
   "execution_count": null,
   "metadata": {},
   "outputs": [],
   "source": []
  },
  {
   "cell_type": "markdown",
   "metadata": {},
   "source": [
    "# Basic Arithmetic\n",
    "\n",
    "Operators for integers:\n",
    "`+ - * / % **`\n",
    "\n",
    "Operators for floats:\n",
    "`+ - * / **`\n",
    "\n",
    "Boolean expressions:\n",
    "* keywords: `True` and `False` (note capitalization)\n",
    "* `==` equals: `5 == 5` yields `True`\n",
    "* `!=` does not equal: `5 != 5` yields `False`\n",
    "* `>` greater than: `5 > 4` yields `True`\n",
    "* `>=` greater than or equal: `5 >= 5` yields `True`\n",
    "* Similarly, we have `<` and `<=`.\n",
    "\n",
    "Logical operators:\n",
    "* `and`, `or`, and `not`\n",
    "* `True and False`\n",
    "* `True or False`\n",
    "* `not True`"
   ]
  },
  {
   "cell_type": "code",
   "execution_count": 18,
   "metadata": {},
   "outputs": [
    {
     "data": {
      "text/plain": [
       "8"
      ]
     },
     "execution_count": 18,
     "metadata": {},
     "output_type": "execute_result"
    }
   ],
   "source": [
    "2 ** 3"
   ]
  },
  {
   "cell_type": "code",
   "execution_count": 20,
   "metadata": {},
   "outputs": [
    {
     "data": {
      "text/plain": [
       "0"
      ]
     },
     "execution_count": 20,
     "metadata": {},
     "output_type": "execute_result"
    }
   ],
   "source": [
    "3 // 5  # integer division"
   ]
  },
  {
   "cell_type": "code",
   "execution_count": 24,
   "metadata": {},
   "outputs": [
    {
     "data": {
      "text/plain": [
       "True"
      ]
     },
     "execution_count": 24,
     "metadata": {},
     "output_type": "execute_result"
    }
   ],
   "source": [
    "not 5 == 9 and 10 > 4"
   ]
  },
  {
   "cell_type": "code",
   "execution_count": 26,
   "metadata": {},
   "outputs": [
    {
     "data": {
      "text/plain": [
       "False"
      ]
     },
     "execution_count": 26,
     "metadata": {},
     "output_type": "execute_result"
    }
   ],
   "source": [
    "3 < 0 < 8"
   ]
  },
  {
   "cell_type": "markdown",
   "metadata": {},
   "source": [
    "# Strings\n",
    "\n",
    "Concatenation: `str1 + str2`\n",
    "\n",
    "Printing: `print(str1)`"
   ]
  },
  {
   "cell_type": "code",
   "execution_count": 27,
   "metadata": {},
   "outputs": [
    {
     "data": {
      "text/plain": [
       "'Hello, World!'"
      ]
     },
     "execution_count": 27,
     "metadata": {},
     "output_type": "execute_result"
    }
   ],
   "source": [
    "str1 = \"Hello, \"\n",
    "str2 = \"World!\"\n",
    "str3 = str1 + str2\n",
    "str3"
   ]
  },
  {
   "cell_type": "code",
   "execution_count": 28,
   "metadata": {},
   "outputs": [
    {
     "name": "stdout",
     "output_type": "stream",
     "text": [
      "Hello, World!\n"
     ]
    }
   ],
   "source": [
    "print(str3)"
   ]
  },
  {
   "cell_type": "markdown",
   "metadata": {},
   "source": [
    "Formatting using f-strings:"
   ]
  },
  {
   "cell_type": "code",
   "execution_count": 31,
   "metadata": {
    "scrolled": true
   },
   "outputs": [
    {
     "data": {
      "text/plain": [
       "\"Alice's numbers are 23 and 52, and their sum is 75\""
      ]
     },
     "execution_count": 31,
     "metadata": {},
     "output_type": "execute_result"
    }
   ],
   "source": [
    "x = 23\n",
    "y = 52\n",
    "name = \"Alice\"\n",
    "\n",
    "str1 = f\"{name}'s numbers are {x} and {y}, and their sum is {x + y}\"\n",
    "str1"
   ]
  },
  {
   "cell_type": "markdown",
   "metadata": {},
   "source": [
    "Formatting using older methods (before Python 3.6), which you may encounter in others' code"
   ]
  },
  {
   "cell_type": "code",
   "execution_count": 32,
   "metadata": {},
   "outputs": [
    {
     "name": "stdout",
     "output_type": "stream",
     "text": [
      "a: string\n",
      "b: 1.000000, hello, 5\n",
      "c: 3.14\n"
     ]
    }
   ],
   "source": [
    "str1 = \"a: %s\" % \"string\"\n",
    "print(str1)\n",
    "str2 = \"b: %f, %s, %d\" % (1.0, 'hello', 5)\n",
    "print(str2)\n",
    "str3 = \"c: {}\".format(3.14)\n",
    "print(str3)"
   ]
  },
  {
   "cell_type": "code",
   "execution_count": 33,
   "metadata": {},
   "outputs": [
    {
     "name": "stdout",
     "output_type": "stream",
     "text": [
      "Hello, World!\n",
      "HELLO, WORLD!\n",
      "hello, world!\n"
     ]
    }
   ],
   "source": [
    "# some methods\n",
    "str1 = \"Hello, World!\"\n",
    "print(str1)\n",
    "print(str1.upper())\n",
    "print(str1.lower())"
   ]
  },
  {
   "cell_type": "markdown",
   "metadata": {},
   "source": [
    "Jupyter Notebook has a feature that pulls up the documentation for methods by adding a question mark:"
   ]
  },
  {
   "cell_type": "code",
   "execution_count": 34,
   "metadata": {},
   "outputs": [],
   "source": [
    "str1.replace?"
   ]
  },
  {
   "cell_type": "code",
   "execution_count": 35,
   "metadata": {},
   "outputs": [
    {
     "data": {
      "text/plain": [
       "'Heppo, Worpd!'"
      ]
     },
     "execution_count": 35,
     "metadata": {},
     "output_type": "execute_result"
    }
   ],
   "source": [
    "str1.replace('l', 'p')"
   ]
  },
  {
   "cell_type": "markdown",
   "metadata": {},
   "source": [
    "# Control Flow\n",
    "\n",
    "If statements:"
   ]
  },
  {
   "cell_type": "code",
   "execution_count": 41,
   "metadata": {},
   "outputs": [],
   "source": [
    "x = 1\n",
    "y = 2\n",
    "z = 2\n",
    "if x == y:\n",
    "    print(\"Hello\")\n",
    "elif x == z:\n",
    "    print(\"Goodbye\")\n",
    "elif x > 5:\n",
    "    print(\"x is greater than 5\")\n",
    "else:\n",
    "    print(\"???\")"
   ]
  },
  {
   "cell_type": "markdown",
   "metadata": {},
   "source": [
    "**For loops**\n"
   ]
  },
  {
   "cell_type": "code",
   "execution_count": 46,
   "metadata": {},
   "outputs": [
    {
     "name": "stdout",
     "output_type": "stream",
     "text": [
      "loop 1\n",
      "0\n",
      "1\n",
      "2\n",
      "3\n",
      "4\n",
      "\n",
      "loop 2\n",
      "10\n",
      "9\n",
      "8\n",
      "7\n",
      "6\n",
      "5\n",
      "4\n",
      "3\n",
      "2\n",
      "1\n"
     ]
    }
   ],
   "source": [
    "print(\"loop 1\")\n",
    "for i in range(5): # default - start at 0, increment by 1\n",
    "    print(i)\n",
    "\n",
    "print(\"\\nloop 2\")\n",
    "for i in range(10, 0, -1): # inputs are start, stop, step\n",
    "    print(i)"
   ]
  },
  {
   "cell_type": "code",
   "execution_count": null,
   "metadata": {},
   "outputs": [],
   "source": []
  },
  {
   "cell_type": "markdown",
   "metadata": {},
   "source": [
    "**while loops**"
   ]
  },
  {
   "cell_type": "code",
   "execution_count": 48,
   "metadata": {},
   "outputs": [
    {
     "name": "stdout",
     "output_type": "stream",
     "text": [
      "1 1\n",
      "2 4\n",
      "6 36\n",
      "42 1764\n"
     ]
    }
   ],
   "source": [
    "i = 1\n",
    "while i < 100:\n",
    "    print(i, i**2)\n",
    "    i += i**2  # a += b is short for a = a + b"
   ]
  },
  {
   "cell_type": "markdown",
   "metadata": {},
   "source": [
    "**continue** - skip the rest of a loop\n",
    "\n",
    "**break** - exit from the loop"
   ]
  },
  {
   "cell_type": "code",
   "execution_count": 49,
   "metadata": {},
   "outputs": [
    {
     "name": "stdout",
     "output_type": "stream",
     "text": [
      "Found 3, an odd number\n",
      "Found 5, an odd number\n",
      "Found 7, an odd number\n",
      "Found 9, an odd number\n"
     ]
    }
   ],
   "source": [
    "for num in range(2, 10):\n",
    "    if num % 2 == 0:\n",
    "        continue # this jumps us back to the top\n",
    "    print(f\"Found {num}, an odd number\")"
   ]
  },
  {
   "cell_type": "code",
   "execution_count": 53,
   "metadata": {},
   "outputs": [
    {
     "name": "stdout",
     "output_type": "stream",
     "text": [
      "64 equals 2 * 32\n"
     ]
    }
   ],
   "source": [
    "n = 64\n",
    "for x in range(2, n):\n",
    "    if n % x == 0: # if n divisible by x\n",
    "        print(f'{n} equals {x} * {n // x}')\n",
    "        break"
   ]
  },
  {
   "cell_type": "markdown",
   "metadata": {},
   "source": [
    "**pass** does nothing"
   ]
  },
  {
   "cell_type": "code",
   "execution_count": 57,
   "metadata": {},
   "outputs": [],
   "source": [
    "if True:\n",
    "    pass\n",
    "else:\n",
    "    print('False!')"
   ]
  },
  {
   "cell_type": "markdown",
   "metadata": {},
   "source": [
    "# Exceptions"
   ]
  },
  {
   "cell_type": "code",
   "execution_count": 58,
   "metadata": {
    "scrolled": true
   },
   "outputs": [
    {
     "ename": "ZeroDivisionError",
     "evalue": "division by zero",
     "output_type": "error",
     "traceback": [
      "\u001b[0;31m---------------------------------------------------------------------------\u001b[0m",
      "\u001b[0;31mZeroDivisionError\u001b[0m                         Traceback (most recent call last)",
      "\u001b[0;32m<ipython-input-58-e9e866a10e2a>\u001b[0m in \u001b[0;36m<module>\u001b[0;34m\u001b[0m\n\u001b[0;32m----> 1\u001b[0;31m \u001b[0;36m100\u001b[0m \u001b[0;34m/\u001b[0m \u001b[0;36m0\u001b[0m\u001b[0;34m\u001b[0m\u001b[0;34m\u001b[0m\u001b[0m\n\u001b[0m",
      "\u001b[0;31mZeroDivisionError\u001b[0m: division by zero"
     ]
    }
   ],
   "source": [
    "100 / 0"
   ]
  },
  {
   "cell_type": "code",
   "execution_count": 59,
   "metadata": {},
   "outputs": [
    {
     "name": "stdout",
     "output_type": "stream",
     "text": [
      "We divided by zero\n"
     ]
    }
   ],
   "source": [
    "try:\n",
    "    x = 100 / 0\n",
    "except ValueError:\n",
    "    print('We ran into a ValueError')\n",
    "except ZeroDivisionError:\n",
    "    print(\"We divided by zero\")"
   ]
  },
  {
   "cell_type": "code",
   "execution_count": 62,
   "metadata": {},
   "outputs": [
    {
     "name": "stdout",
     "output_type": "stream",
     "text": [
      "100.0\n",
      "50.0\n",
      "33.333333333333336\n",
      "25.0\n",
      "20.0\n",
      "16.666666666666668\n",
      "14.285714285714286\n",
      "12.5\n",
      "11.11111111111111\n",
      "10.0\n",
      "9.090909090909092\n",
      "8.333333333333334\n",
      "7.6923076923076925\n",
      "7.142857142857143\n",
      "6.666666666666667\n",
      "6.25\n",
      "5.882352941176471\n",
      "5.555555555555555\n",
      "5.2631578947368425\n",
      "5.0\n",
      "4.761904761904762\n",
      "4.545454545454546\n",
      "4.3478260869565215\n",
      "4.166666666666667\n",
      "4.0\n",
      "3.8461538461538463\n",
      "3.7037037037037037\n",
      "3.5714285714285716\n",
      "3.4482758620689653\n",
      "3.3333333333333335\n",
      "3.225806451612903\n",
      "3.125\n",
      "3.0303030303030303\n",
      "2.9411764705882355\n",
      "2.857142857142857\n",
      "2.7777777777777777\n",
      "2.7027027027027026\n",
      "2.6315789473684212\n",
      "2.5641025641025643\n",
      "2.5\n",
      "2.4390243902439024\n",
      "2.380952380952381\n",
      "2.3255813953488373\n",
      "2.272727272727273\n",
      "2.2222222222222223\n",
      "2.1739130434782608\n",
      "2.127659574468085\n",
      "2.0833333333333335\n",
      "2.0408163265306123\n",
      "2.0\n",
      "1.9607843137254901\n",
      "1.9230769230769231\n",
      "1.8867924528301887\n",
      "1.8518518518518519\n",
      "1.8181818181818181\n",
      "1.7857142857142858\n",
      "1.7543859649122806\n",
      "1.7241379310344827\n",
      "1.694915254237288\n",
      "1.6666666666666667\n",
      "1.639344262295082\n",
      "1.6129032258064515\n",
      "1.5873015873015872\n",
      "1.5625\n",
      "1.5384615384615385\n",
      "1.5151515151515151\n",
      "1.492537313432836\n",
      "1.4705882352941178\n",
      "1.4492753623188406\n",
      "1.4285714285714286\n",
      "1.408450704225352\n",
      "1.3888888888888888\n",
      "1.36986301369863\n",
      "1.3513513513513513\n",
      "1.3333333333333333\n",
      "1.3157894736842106\n",
      "1.2987012987012987\n",
      "1.2820512820512822\n",
      "1.2658227848101267\n",
      "1.25\n",
      "1.2345679012345678\n",
      "1.2195121951219512\n",
      "1.2048192771084338\n",
      "1.1904761904761905\n",
      "1.1764705882352942\n",
      "1.1627906976744187\n",
      "1.1494252873563218\n",
      "1.1363636363636365\n",
      "1.1235955056179776\n",
      "1.1111111111111112\n",
      "1.098901098901099\n",
      "1.0869565217391304\n",
      "1.075268817204301\n",
      "1.0638297872340425\n",
      "1.0526315789473684\n",
      "1.0416666666666667\n",
      "1.0309278350515463\n",
      "1.0204081632653061\n",
      "1.0101010101010102\n"
     ]
    }
   ],
   "source": [
    "for i in range(100):\n",
    "    try:\n",
    "        x = 100 / i\n",
    "        print(x)\n",
    "    except ZeroDivisionError:\n",
    "        pass"
   ]
  },
  {
   "cell_type": "markdown",
   "metadata": {},
   "source": [
    "# Functions\n",
    "\n",
    "Functions are declared with the keyword `def`"
   ]
  },
  {
   "cell_type": "code",
   "execution_count": 64,
   "metadata": {},
   "outputs": [
    {
     "name": "stdout",
     "output_type": "stream",
     "text": [
      "1 2\n",
      "10 20\n"
     ]
    },
    {
     "data": {
      "text/plain": [
       "100.0"
      ]
     },
     "execution_count": 64,
     "metadata": {},
     "output_type": "execute_result"
    }
   ],
   "source": [
    "# def tells python you're trying to declare a function\n",
    "def triangle_area(base, height):\n",
    "    print(base, height)\n",
    "    return 0.5 * base * height\n",
    "\n",
    "triangle_area(1, 2)\n",
    "triangle_area(10, 20)"
   ]
  },
  {
   "cell_type": "code",
   "execution_count": 68,
   "metadata": {},
   "outputs": [
    {
     "name": "stdout",
     "output_type": "stream",
     "text": [
      "Oops my base was negative\n"
     ]
    }
   ],
   "source": [
    "def triangle_area(base, height):\n",
    "    if base < 0 or height < 0:\n",
    "        raise ValueError(\"Base and height must be non-negative\")\n",
    "    return 0.5 * base * height\n",
    "\n",
    "try:\n",
    "    triangle_area(-1, 2)\n",
    "except ValueError:\n",
    "    print('Oops my base was negative')"
   ]
  },
  {
   "cell_type": "code",
   "execution_count": 66,
   "metadata": {},
   "outputs": [
    {
     "data": {
      "text/plain": [
       "6"
      ]
     },
     "execution_count": 66,
     "metadata": {},
     "output_type": "execute_result"
    }
   ],
   "source": [
    "# everything in python is an object, and can be passed into a function\n",
    "def f(x):\n",
    "    return x + 2\n",
    "\n",
    "def twice(f, x):\n",
    "    return f(f(x))\n",
    "\n",
    "twice(f, 2) # + 4"
   ]
  },
  {
   "cell_type": "code",
   "execution_count": 67,
   "metadata": {},
   "outputs": [
    {
     "data": {
      "text/plain": [
       "20"
      ]
     },
     "execution_count": 67,
     "metadata": {},
     "output_type": "execute_result"
    }
   ],
   "source": [
    "def g(x):\n",
    "    return 2 * x\n",
    "\n",
    "twice(g, 5)"
   ]
  },
  {
   "cell_type": "code",
   "execution_count": null,
   "metadata": {},
   "outputs": [],
   "source": []
  },
  {
   "cell_type": "code",
   "execution_count": 74,
   "metadata": {},
   "outputs": [
    {
     "ename": "TypeError",
     "evalue": "g() missing 1 required positional argument: 'x'",
     "output_type": "error",
     "traceback": [
      "\u001b[0;31m---------------------------------------------------------------------------\u001b[0m",
      "\u001b[0;31mTypeError\u001b[0m                                 Traceback (most recent call last)",
      "\u001b[0;32m<ipython-input-74-e30b3053f476>\u001b[0m in \u001b[0;36m<module>\u001b[0;34m\u001b[0m\n\u001b[1;32m      5\u001b[0m     \u001b[0;32mreturn\u001b[0m \u001b[0mx\u001b[0m\u001b[0;34m\u001b[0m\u001b[0;34m\u001b[0m\u001b[0m\n\u001b[1;32m      6\u001b[0m \u001b[0;34m\u001b[0m\u001b[0m\n\u001b[0;32m----> 7\u001b[0;31m \u001b[0mn_apply\u001b[0m\u001b[0;34m(\u001b[0m\u001b[0mg\u001b[0m\u001b[0;34m,\u001b[0m \u001b[0;36m1\u001b[0m\u001b[0;34m,\u001b[0m \u001b[0;36m5\u001b[0m\u001b[0;34m)\u001b[0m \u001b[0;31m# 1 + 2*5\u001b[0m\u001b[0;34m\u001b[0m\u001b[0;34m\u001b[0m\u001b[0m\n\u001b[0m",
      "\u001b[0;32m<ipython-input-74-e30b3053f476>\u001b[0m in \u001b[0;36mn_apply\u001b[0;34m(fn, x, n)\u001b[0m\n\u001b[1;32m      2\u001b[0m     \u001b[0;34m\"\"\"applies f to x n times\"\"\"\u001b[0m\u001b[0;34m\u001b[0m\u001b[0;34m\u001b[0m\u001b[0m\n\u001b[1;32m      3\u001b[0m     \u001b[0;32mfor\u001b[0m \u001b[0m_\u001b[0m \u001b[0;32min\u001b[0m \u001b[0mrange\u001b[0m\u001b[0;34m(\u001b[0m\u001b[0mn\u001b[0m\u001b[0;34m)\u001b[0m\u001b[0;34m:\u001b[0m  \u001b[0;31m# _ is dummy variable in iteration\u001b[0m\u001b[0;34m\u001b[0m\u001b[0;34m\u001b[0m\u001b[0m\n\u001b[0;32m----> 4\u001b[0;31m         \u001b[0mx\u001b[0m \u001b[0;34m=\u001b[0m \u001b[0mfn\u001b[0m\u001b[0;34m(\u001b[0m\u001b[0mx\u001b[0m\u001b[0;34m)\u001b[0m\u001b[0;34m\u001b[0m\u001b[0;34m\u001b[0m\u001b[0m\n\u001b[0m\u001b[1;32m      5\u001b[0m     \u001b[0;32mreturn\u001b[0m \u001b[0mx\u001b[0m\u001b[0;34m\u001b[0m\u001b[0;34m\u001b[0m\u001b[0m\n\u001b[1;32m      6\u001b[0m \u001b[0;34m\u001b[0m\u001b[0m\n",
      "\u001b[0;31mTypeError\u001b[0m: g() missing 1 required positional argument: 'x'"
     ]
    }
   ],
   "source": [
    "def n_apply(fn, x, n):\n",
    "    \"\"\"applies f to x n times\"\"\"\n",
    "    for _ in range(n):  # _ is dummy variable in iteration\n",
    "        x = fn(x)\n",
    "    return x\n",
    "\n",
    "n_apply(g, 1, 5) # 1 + 2*5"
   ]
  },
  {
   "cell_type": "code",
   "execution_count": 71,
   "metadata": {},
   "outputs": [],
   "source": [
    "def g(a, x, b=0):\n",
    "    return a * x + b"
   ]
  },
  {
   "cell_type": "code",
   "execution_count": 72,
   "metadata": {},
   "outputs": [
    {
     "data": {
      "text/plain": [
       "11"
      ]
     },
     "execution_count": 72,
     "metadata": {},
     "output_type": "execute_result"
    }
   ],
   "source": [
    "g(2, 5, 1)"
   ]
  },
  {
   "cell_type": "code",
   "execution_count": 73,
   "metadata": {},
   "outputs": [
    {
     "data": {
      "text/plain": [
       "10"
      ]
     },
     "execution_count": 73,
     "metadata": {},
     "output_type": "execute_result"
    }
   ],
   "source": [
    "g(2, 5)"
   ]
  },
  {
   "cell_type": "markdown",
   "metadata": {},
   "source": [
    "# Exercise 1\n",
    "\n",
    "(10 minutes)\n",
    "\n",
    "1. Output the string \"Hello, World!\" using Python\n",
    "2. Import a Python Module\n",
    "    * Try importing the `math` module and printing $\\tan(1)$\n",
    "3. Numeric variables\n",
    "    * assign a variable $x$ to have value 1\n",
    "    * increment $x$ (add 1 to $x$)\n",
    "    * print the product of $x$ and 2\n",
    "4. Print every integer between 1 and 100, except:\n",
    "    * if it is a multiple of 3, print \"Fizz\"\n",
    "    * if it is a multiple of 5, print \"Buzz\"\n",
    "    * if it is a multiple of 3 and 5, print \"FizzBuzz\"\n",
    "5. Print every power of 2 less than 10,000\n",
    "6. Write a function that takes two inputs, $a$ and $b$ and returns the value of $a+2b$\n",
    "9. Write a function takes a number $n$ as input, and prints all [Fibonacci numbers](https://en.wikipedia.org/wiki/Fibonacci_number) less than $n$"
   ]
  },
  {
   "cell_type": "code",
   "execution_count": 75,
   "metadata": {},
   "outputs": [
    {
     "name": "stdout",
     "output_type": "stream",
     "text": [
      "Hello World\n"
     ]
    }
   ],
   "source": [
    "print(\"Hello World\")"
   ]
  },
  {
   "cell_type": "code",
   "execution_count": 76,
   "metadata": {},
   "outputs": [
    {
     "data": {
      "text/plain": [
       "1.5574077246549023"
      ]
     },
     "execution_count": 76,
     "metadata": {},
     "output_type": "execute_result"
    }
   ],
   "source": [
    "import math\n",
    "math.tan(1)"
   ]
  },
  {
   "cell_type": "code",
   "execution_count": 77,
   "metadata": {},
   "outputs": [
    {
     "data": {
      "text/plain": [
       "4"
      ]
     },
     "execution_count": 77,
     "metadata": {},
     "output_type": "execute_result"
    }
   ],
   "source": [
    "x = 1\n",
    "x += 1\n",
    "x * 2"
   ]
  },
  {
   "cell_type": "code",
   "execution_count": 78,
   "metadata": {
    "collapsed": true
   },
   "outputs": [
    {
     "name": "stdout",
     "output_type": "stream",
     "text": [
      "Fizzbuzz\n",
      "1\n",
      "2\n",
      "Buzz\n",
      "4\n",
      "Buzz\n",
      "Buzz\n",
      "7\n",
      "8\n",
      "Buzz\n",
      "Buzz\n",
      "11\n",
      "Buzz\n",
      "13\n",
      "14\n",
      "Fizzbuzz\n",
      "16\n",
      "17\n",
      "Buzz\n",
      "19\n",
      "Buzz\n",
      "Buzz\n",
      "22\n",
      "23\n",
      "Buzz\n",
      "Buzz\n",
      "26\n",
      "Buzz\n",
      "28\n",
      "29\n",
      "Fizzbuzz\n",
      "31\n",
      "32\n",
      "Buzz\n",
      "34\n",
      "Buzz\n",
      "Buzz\n",
      "37\n",
      "38\n",
      "Buzz\n",
      "Buzz\n",
      "41\n",
      "Buzz\n",
      "43\n",
      "44\n",
      "Fizzbuzz\n",
      "46\n",
      "47\n",
      "Buzz\n",
      "49\n",
      "Buzz\n",
      "Buzz\n",
      "52\n",
      "53\n",
      "Buzz\n",
      "Buzz\n",
      "56\n",
      "Buzz\n",
      "58\n",
      "59\n",
      "Fizzbuzz\n",
      "61\n",
      "62\n",
      "Buzz\n",
      "64\n",
      "Buzz\n",
      "Buzz\n",
      "67\n",
      "68\n",
      "Buzz\n",
      "Buzz\n",
      "71\n",
      "Buzz\n",
      "73\n",
      "74\n",
      "Fizzbuzz\n",
      "76\n",
      "77\n",
      "Buzz\n",
      "79\n",
      "Buzz\n",
      "Buzz\n",
      "82\n",
      "83\n",
      "Buzz\n",
      "Buzz\n",
      "86\n",
      "Buzz\n",
      "88\n",
      "89\n",
      "Fizzbuzz\n",
      "91\n",
      "92\n",
      "Buzz\n",
      "94\n",
      "Buzz\n",
      "Buzz\n",
      "97\n",
      "98\n",
      "Buzz\n"
     ]
    }
   ],
   "source": [
    "for i in range(100):\n",
    "    if i % 5 == 0 and i % 3 == 0:\n",
    "        print(\"Fizzbuzz\")\n",
    "    elif i %5 == 0:\n",
    "        print(\"Buzz\")\n",
    "    elif i %3 == 0:\n",
    "        print(\"Buzz\")\n",
    "    else:\n",
    "        print(i)"
   ]
  },
  {
   "cell_type": "code",
   "execution_count": 79,
   "metadata": {},
   "outputs": [
    {
     "name": "stdout",
     "output_type": "stream",
     "text": [
      "1\n",
      "2\n",
      "4\n",
      "8\n",
      "16\n",
      "32\n",
      "64\n",
      "128\n",
      "256\n",
      "512\n",
      "1024\n",
      "2048\n",
      "4096\n",
      "8192\n"
     ]
    }
   ],
   "source": [
    "n = 1\n",
    "while n < 10000:\n",
    "    print(n)\n",
    "    n = 2 * n"
   ]
  },
  {
   "cell_type": "code",
   "execution_count": 80,
   "metadata": {},
   "outputs": [],
   "source": [
    "def f(a, b):\n",
    "    return a + 2 * b"
   ]
  },
  {
   "cell_type": "code",
   "execution_count": 83,
   "metadata": {},
   "outputs": [
    {
     "name": "stdout",
     "output_type": "stream",
     "text": [
      "1\n",
      "1\n",
      "2\n",
      "3\n",
      "5\n",
      "8\n",
      "13\n",
      "21\n",
      "34\n",
      "55\n",
      "89\n"
     ]
    }
   ],
   "source": [
    "a = 1\n",
    "b = 1\n",
    "n = 100\n",
    "while a < n:\n",
    "    print(a)\n",
    "    a, b = b, a + b"
   ]
  },
  {
   "cell_type": "markdown",
   "metadata": {},
   "source": [
    "# Lists\n",
    "\n",
    "A list in Python is an ordered collection of objects"
   ]
  },
  {
   "cell_type": "code",
   "execution_count": 1,
   "metadata": {},
   "outputs": [
    {
     "name": "stdout",
     "output_type": "stream",
     "text": [
      "['x', 1, 3.5]\n"
     ]
    }
   ],
   "source": [
    "a = ['x', 1, 3.5]\n",
    "print(a)"
   ]
  },
  {
   "cell_type": "markdown",
   "metadata": {},
   "source": [
    "You can iterate over lists in a very natural way"
   ]
  },
  {
   "cell_type": "code",
   "execution_count": 3,
   "metadata": {},
   "outputs": [
    {
     "name": "stdout",
     "output_type": "stream",
     "text": [
      "step1\n",
      "step2\n"
     ]
    }
   ],
   "source": [
    "lst = [\"step1\", \"step2\"]\n",
    "for elt in lst:\n",
    "    print(elt)"
   ]
  },
  {
   "cell_type": "markdown",
   "metadata": {},
   "source": [
    "Python indexing starts at 0."
   ]
  },
  {
   "cell_type": "code",
   "execution_count": 4,
   "metadata": {},
   "outputs": [],
   "source": [
    "a.remove?"
   ]
  },
  {
   "cell_type": "markdown",
   "metadata": {},
   "source": [
    "You can append to lists using `.append()`, and do other operations, such as `push()`, `pop()`, `insert()`, etc."
   ]
  },
  {
   "cell_type": "code",
   "execution_count": 5,
   "metadata": {},
   "outputs": [],
   "source": [
    "a = []\n",
    "for i in range(10):\n",
    "    a.append(i**2)"
   ]
  },
  {
   "cell_type": "code",
   "execution_count": 6,
   "metadata": {},
   "outputs": [
    {
     "data": {
      "text/plain": [
       "[0, 1, 4, 9, 16, 25, 36, 49, 64, 81]"
      ]
     },
     "execution_count": 6,
     "metadata": {},
     "output_type": "execute_result"
    }
   ],
   "source": [
    "a"
   ]
  },
  {
   "cell_type": "code",
   "execution_count": 10,
   "metadata": {},
   "outputs": [
    {
     "data": {
      "text/plain": [
       "4"
      ]
     },
     "execution_count": 10,
     "metadata": {},
     "output_type": "execute_result"
    }
   ],
   "source": [
    "a[2]"
   ]
  },
  {
   "cell_type": "code",
   "execution_count": 21,
   "metadata": {},
   "outputs": [
    {
     "data": {
      "text/plain": [
       "[0, 1, 4, 9, 16, 25, 36, 49, 64]"
      ]
     },
     "execution_count": 21,
     "metadata": {},
     "output_type": "execute_result"
    }
   ],
   "source": [
    "a[]"
   ]
  },
  {
   "cell_type": "code",
   "execution_count": null,
   "metadata": {},
   "outputs": [],
   "source": [
    "a"
   ]
  },
  {
   "cell_type": "markdown",
   "metadata": {},
   "source": [
    "Python terminology:\n",
    "* a list is a \"class\"\n",
    "* the variable `a` is an object, or instance of the class\n",
    "* `append()` is a method"
   ]
  },
  {
   "cell_type": "markdown",
   "metadata": {},
   "source": [
    "## List Comprehensions\n",
    "\n",
    "Python's list comprehensions let you create lists in a way that is reminiscent of set notation\n",
    "\n",
    "$$ S = \\{ \\sqrt{x} ~\\mid~ 0 \\le x \\le 20, x\\bmod 3 = 0\\}$$"
   ]
  },
  {
   "cell_type": "code",
   "execution_count": 23,
   "metadata": {},
   "outputs": [],
   "source": [
    "import math"
   ]
  },
  {
   "cell_type": "code",
   "execution_count": 26,
   "metadata": {},
   "outputs": [
    {
     "data": {
      "text/plain": [
       "[0.0,\n",
       " 1.0,\n",
       " 1.4142135623730951,\n",
       " 1.7320508075688772,\n",
       " 2.0,\n",
       " 2.23606797749979,\n",
       " 2.449489742783178,\n",
       " 2.6457513110645907,\n",
       " 2.8284271247461903,\n",
       " 3.0,\n",
       " 3.1622776601683795,\n",
       " 3.3166247903554,\n",
       " 3.4641016151377544,\n",
       " 3.605551275463989,\n",
       " 3.7416573867739413,\n",
       " 3.872983346207417,\n",
       " 4.0,\n",
       " 4.123105625617661,\n",
       " 4.242640687119285,\n",
       " 4.358898943540674]"
      ]
     },
     "execution_count": 26,
     "metadata": {},
     "output_type": "execute_result"
    }
   ],
   "source": [
    "S = [math.sqrt(x) for x in range(20)]\n",
    "S"
   ]
  },
  {
   "cell_type": "code",
   "execution_count": 25,
   "metadata": {},
   "outputs": [
    {
     "name": "stdout",
     "output_type": "stream",
     "text": [
      "[0.0, 1.7320508075688772, 2.449489742783178, 3.0, 3.4641016151377544, 3.872983346207417, 4.242640687119285]\n"
     ]
    }
   ],
   "source": [
    "S = []\n",
    "for x in range(20):\n",
    "    if x % 3 == 0:\n",
    "        S.append(math.sqrt(x))\n",
    "print(S)"
   ]
  },
  {
   "cell_type": "code",
   "execution_count": null,
   "metadata": {},
   "outputs": [],
   "source": [
    "S = []\n",
    "for i in range(2):\n",
    "    for j in range(2):\n",
    "        for k in range(2):\n",
    "            S += [(i,j,k)]\n",
    "S"
   ]
  },
  {
   "cell_type": "code",
   "execution_count": 27,
   "metadata": {},
   "outputs": [
    {
     "data": {
      "text/plain": [
       "[(0, 0, 0),\n",
       " (0, 0, 1),\n",
       " (0, 1, 0),\n",
       " (0, 1, 1),\n",
       " (1, 0, 0),\n",
       " (1, 0, 1),\n",
       " (1, 1, 0),\n",
       " (1, 1, 1)]"
      ]
     },
     "execution_count": 27,
     "metadata": {},
     "output_type": "execute_result"
    }
   ],
   "source": [
    "# you aren't restricted to a single for loop\n",
    "S = [(i,j,k) for i in range(2) for j in range(2) for k in range(2)]\n",
    "S"
   ]
  },
  {
   "cell_type": "markdown",
   "metadata": {},
   "source": [
    "Syntax is generally\n",
    "```python3\n",
    "S = [<elt> <for statement> <conditional>]\n",
    "```"
   ]
  },
  {
   "cell_type": "markdown",
   "metadata": {},
   "source": [
    "# Other Collections\n",
    "\n",
    "We've seen the `list` class, which is ordered, indexed, and mutable.  There are other Python collections that you may find useful:\n",
    "* `tuple` which is ordered, indexed, and immutable\n",
    "* `set` which is unordered, unindexed, mutable, and doesn't allow for duplicate elements\n",
    "* `dict` (dictionary), which is unordered, indexed, and mutable, with no duplicate keys."
   ]
  },
  {
   "cell_type": "code",
   "execution_count": 29,
   "metadata": {},
   "outputs": [
    {
     "data": {
      "text/plain": [
       "(1, 2, 4)"
      ]
     },
     "execution_count": 29,
     "metadata": {},
     "output_type": "execute_result"
    }
   ],
   "source": [
    "a_tuple = (1, 2, 4)\n",
    "a_tuple"
   ]
  },
  {
   "cell_type": "code",
   "execution_count": 30,
   "metadata": {},
   "outputs": [
    {
     "ename": "TypeError",
     "evalue": "'tuple' object does not support item assignment",
     "output_type": "error",
     "traceback": [
      "\u001b[0;31m---------------------------------------------------------------------------\u001b[0m",
      "\u001b[0;31mTypeError\u001b[0m                                 Traceback (most recent call last)",
      "\u001b[0;32m<ipython-input-30-71ec42f900ac>\u001b[0m in \u001b[0;36m<module>\u001b[0;34m\u001b[0m\n\u001b[0;32m----> 1\u001b[0;31m \u001b[0ma_tuple\u001b[0m\u001b[0;34m[\u001b[0m\u001b[0;36m2\u001b[0m\u001b[0;34m]\u001b[0m \u001b[0;34m=\u001b[0m \u001b[0;36m5\u001b[0m\u001b[0;34m\u001b[0m\u001b[0;34m\u001b[0m\u001b[0m\n\u001b[0m",
      "\u001b[0;31mTypeError\u001b[0m: 'tuple' object does not support item assignment"
     ]
    }
   ],
   "source": [
    "a_tuple[2] = 5"
   ]
  },
  {
   "cell_type": "code",
   "execution_count": 31,
   "metadata": {},
   "outputs": [],
   "source": [
    "b_tuple = ('Bob', 90)"
   ]
  },
  {
   "cell_type": "code",
   "execution_count": 32,
   "metadata": {},
   "outputs": [
    {
     "data": {
      "text/plain": [
       "('Bob', 90)"
      ]
     },
     "execution_count": 32,
     "metadata": {},
     "output_type": "execute_result"
    }
   ],
   "source": [
    "b_tuple"
   ]
  },
  {
   "cell_type": "code",
   "execution_count": 33,
   "metadata": {
    "scrolled": true
   },
   "outputs": [
    {
     "data": {
      "text/plain": [
       "90"
      ]
     },
     "execution_count": 33,
     "metadata": {},
     "output_type": "execute_result"
    }
   ],
   "source": [
    "b_tuple[1]"
   ]
  },
  {
   "cell_type": "code",
   "execution_count": 34,
   "metadata": {},
   "outputs": [
    {
     "data": {
      "text/plain": [
       "(1, 2, 3, 4, 6)"
      ]
     },
     "execution_count": 34,
     "metadata": {},
     "output_type": "execute_result"
    }
   ],
   "source": [
    "(1, 2, 3, 4, 6)"
   ]
  },
  {
   "cell_type": "code",
   "execution_count": 36,
   "metadata": {},
   "outputs": [
    {
     "data": {
      "text/plain": [
       "(6,)"
      ]
     },
     "execution_count": 36,
     "metadata": {},
     "output_type": "execute_result"
    }
   ],
   "source": [
    "(6,)"
   ]
  },
  {
   "cell_type": "code",
   "execution_count": 38,
   "metadata": {},
   "outputs": [
    {
     "data": {
      "text/plain": [
       "()"
      ]
     },
     "execution_count": 38,
     "metadata": {},
     "output_type": "execute_result"
    }
   ],
   "source": [
    "()"
   ]
  },
  {
   "cell_type": "code",
   "execution_count": 39,
   "metadata": {},
   "outputs": [
    {
     "data": {
      "text/plain": [
       "{2, 3, 5}"
      ]
     },
     "execution_count": 39,
     "metadata": {},
     "output_type": "execute_result"
    }
   ],
   "source": [
    "a_set = {5, 3, 2, 5}\n",
    "a_set"
   ]
  },
  {
   "cell_type": "code",
   "execution_count": 41,
   "metadata": {},
   "outputs": [],
   "source": [
    "if 13 in a_set:\n",
    "    print('3 is in the set')"
   ]
  },
  {
   "cell_type": "code",
   "execution_count": 42,
   "metadata": {},
   "outputs": [],
   "source": [
    "b_set = {3, 7, 9}"
   ]
  },
  {
   "cell_type": "code",
   "execution_count": 43,
   "metadata": {},
   "outputs": [
    {
     "data": {
      "text/plain": [
       "{2, 3, 5, 7, 9}"
      ]
     },
     "execution_count": 43,
     "metadata": {},
     "output_type": "execute_result"
    }
   ],
   "source": [
    "a_set | b_set"
   ]
  },
  {
   "cell_type": "code",
   "execution_count": 46,
   "metadata": {},
   "outputs": [
    {
     "data": {
      "text/plain": [
       "{'key_1': 12, 'key_2': [1, 2, 3], 120: 58}"
      ]
     },
     "execution_count": 46,
     "metadata": {},
     "output_type": "execute_result"
    }
   ],
   "source": [
    "a_dict = {}\n",
    "a_dict[\"key_1\"] = 12\n",
    "a_dict[\"key_2\"] = [1, 2, 3]\n",
    "a_dict[120] = 58\n",
    "a_dict"
   ]
  },
  {
   "cell_type": "code",
   "execution_count": 47,
   "metadata": {},
   "outputs": [
    {
     "data": {
      "text/plain": [
       "[1, 2, 3]"
      ]
     },
     "execution_count": 47,
     "metadata": {},
     "output_type": "execute_result"
    }
   ],
   "source": [
    "a_dict[\"key_2\"]"
   ]
  },
  {
   "cell_type": "code",
   "execution_count": 48,
   "metadata": {},
   "outputs": [],
   "source": [
    "a_dict = {'key_1': 12, 'key_2': [1, 2, 3], 120: 58}"
   ]
  },
  {
   "cell_type": "code",
   "execution_count": 49,
   "metadata": {},
   "outputs": [
    {
     "data": {
      "text/plain": [
       "{'key_1': 12, 'key_2': [1, 2, 3], 120: 58}"
      ]
     },
     "execution_count": 49,
     "metadata": {},
     "output_type": "execute_result"
    }
   ],
   "source": [
    "a_dict"
   ]
  },
  {
   "cell_type": "code",
   "execution_count": 51,
   "metadata": {},
   "outputs": [
    {
     "name": "stdout",
     "output_type": "stream",
     "text": [
      "key_1\n",
      "12\n",
      "key_2\n",
      "[1, 2, 3]\n",
      "120\n",
      "58\n"
     ]
    }
   ],
   "source": [
    "for key in a_dict:\n",
    "    print(key)\n",
    "    print(a_dict[key])"
   ]
  },
  {
   "cell_type": "code",
   "execution_count": 55,
   "metadata": {},
   "outputs": [
    {
     "data": {
      "text/plain": [
       "58"
      ]
     },
     "execution_count": 55,
     "metadata": {},
     "output_type": "execute_result"
    }
   ],
   "source": [
    "a_dict[120]"
   ]
  },
  {
   "cell_type": "code",
   "execution_count": 53,
   "metadata": {
    "scrolled": false
   },
   "outputs": [
    {
     "name": "stdout",
     "output_type": "stream",
     "text": [
      "key_1\n",
      "12\n",
      "key_2\n",
      "[1, 2, 3]\n",
      "120\n",
      "58\n"
     ]
    }
   ],
   "source": [
    "for key, value in a_dict.items():\n",
    "    print(key)\n",
    "    print(value)"
   ]
  },
  {
   "cell_type": "code",
   "execution_count": 57,
   "metadata": {},
   "outputs": [
    {
     "data": {
      "text/plain": [
       "[('key_1', 12), ('key_2', [1, 2, 3]), (120, 58)]"
      ]
     },
     "execution_count": 57,
     "metadata": {},
     "output_type": "execute_result"
    }
   ],
   "source": [
    "list(a_dict.items())"
   ]
  },
  {
   "cell_type": "code",
   "execution_count": 54,
   "metadata": {},
   "outputs": [
    {
     "name": "stdout",
     "output_type": "stream",
     "text": [
      "found\n"
     ]
    }
   ],
   "source": [
    "for key, value in a_dict.items():\n",
    "    if value == 58:\n",
    "        print('found')\n",
    "        break"
   ]
  },
  {
   "cell_type": "code",
   "execution_count": 63,
   "metadata": {},
   "outputs": [],
   "source": [
    "x, y = 1, 2"
   ]
  },
  {
   "cell_type": "code",
   "execution_count": 64,
   "metadata": {},
   "outputs": [
    {
     "data": {
      "text/plain": [
       "1"
      ]
     },
     "execution_count": 64,
     "metadata": {},
     "output_type": "execute_result"
    }
   ],
   "source": [
    "x"
   ]
  },
  {
   "cell_type": "code",
   "execution_count": 65,
   "metadata": {},
   "outputs": [
    {
     "data": {
      "text/plain": [
       "2"
      ]
     },
     "execution_count": 65,
     "metadata": {},
     "output_type": "execute_result"
    }
   ],
   "source": [
    "y"
   ]
  },
  {
   "cell_type": "code",
   "execution_count": 66,
   "metadata": {},
   "outputs": [],
   "source": [
    "x, y = y, x"
   ]
  },
  {
   "cell_type": "code",
   "execution_count": 67,
   "metadata": {},
   "outputs": [
    {
     "data": {
      "text/plain": [
       "2"
      ]
     },
     "execution_count": 67,
     "metadata": {},
     "output_type": "execute_result"
    }
   ],
   "source": [
    "x"
   ]
  },
  {
   "cell_type": "code",
   "execution_count": 68,
   "metadata": {},
   "outputs": [
    {
     "data": {
      "text/plain": [
       "1"
      ]
     },
     "execution_count": 68,
     "metadata": {},
     "output_type": "execute_result"
    }
   ],
   "source": [
    "y"
   ]
  },
  {
   "cell_type": "code",
   "execution_count": 69,
   "metadata": {},
   "outputs": [],
   "source": [
    "x = None\n",
    "try:\n",
    "    x = do_something()\n",
    "except:\n",
    "    pass"
   ]
  },
  {
   "cell_type": "code",
   "execution_count": 71,
   "metadata": {},
   "outputs": [],
   "source": [
    "x"
   ]
  },
  {
   "cell_type": "markdown",
   "metadata": {},
   "source": [
    "# Exercise 2\n",
    "\n",
    "**Lists**\n",
    "1. Create a list `['a', 'b', 'c']`\n",
    "2. use the `insert()` method to put the element `'d'` at index 1\n",
    "3. use the `remove()` method to delete the element `'b'` in the list\n",
    "\n",
    "**List comprehensions**\n",
    "1. What does the following list contain?\n",
    "```python \n",
    "X = [i for i in range(100)]\n",
    "```\n",
    "2. Interpret the following set as a list comprehension:\n",
    "$S_1 = \\{x\\in X \\mid x\\bmod 5 = 2\\}$\n",
    "3. Intepret the following set as a list comprehension: $S_2 = \\{x \\in S_1 \\mid x \\text{ is even}\\}$\n",
    "4. generate the set of all tuples $(x,y)$ where $x\\in S_1$, $y\\in S_2$.\n",
    "\n",
    "**Other Collections**\n",
    "1. Try creating another type of collection\n",
    "2. try iterating over it."
   ]
  },
  {
   "cell_type": "code",
   "execution_count": 72,
   "metadata": {},
   "outputs": [],
   "source": [
    "lst = ['a', 'b', 'c']"
   ]
  },
  {
   "cell_type": "code",
   "execution_count": 73,
   "metadata": {},
   "outputs": [],
   "source": [
    "lst.insert(1, 'd')"
   ]
  },
  {
   "cell_type": "code",
   "execution_count": 74,
   "metadata": {},
   "outputs": [
    {
     "data": {
      "text/plain": [
       "['a', 'd', 'b', 'c']"
      ]
     },
     "execution_count": 74,
     "metadata": {},
     "output_type": "execute_result"
    }
   ],
   "source": [
    "lst"
   ]
  },
  {
   "cell_type": "code",
   "execution_count": 75,
   "metadata": {},
   "outputs": [
    {
     "data": {
      "text/plain": [
       "['a', 'd', 'c']"
      ]
     },
     "execution_count": 75,
     "metadata": {},
     "output_type": "execute_result"
    }
   ],
   "source": [
    "lst.remove('b')\n",
    "lst"
   ]
  },
  {
   "cell_type": "code",
   "execution_count": 78,
   "metadata": {
    "collapsed": true
   },
   "outputs": [
    {
     "data": {
      "text/plain": [
       "[0,\n",
       " 1,\n",
       " 2,\n",
       " 3,\n",
       " 4,\n",
       " 5,\n",
       " 6,\n",
       " 7,\n",
       " 8,\n",
       " 9,\n",
       " 10,\n",
       " 11,\n",
       " 12,\n",
       " 13,\n",
       " 14,\n",
       " 15,\n",
       " 16,\n",
       " 17,\n",
       " 18,\n",
       " 19,\n",
       " 20,\n",
       " 21,\n",
       " 22,\n",
       " 23,\n",
       " 24,\n",
       " 25,\n",
       " 26,\n",
       " 27,\n",
       " 28,\n",
       " 29,\n",
       " 30,\n",
       " 31,\n",
       " 32,\n",
       " 33,\n",
       " 34,\n",
       " 35,\n",
       " 36,\n",
       " 37,\n",
       " 38,\n",
       " 39,\n",
       " 40,\n",
       " 41,\n",
       " 42,\n",
       " 43,\n",
       " 44,\n",
       " 45,\n",
       " 46,\n",
       " 47,\n",
       " 48,\n",
       " 49,\n",
       " 50,\n",
       " 51,\n",
       " 52,\n",
       " 53,\n",
       " 54,\n",
       " 55,\n",
       " 56,\n",
       " 57,\n",
       " 58,\n",
       " 59,\n",
       " 60,\n",
       " 61,\n",
       " 62,\n",
       " 63,\n",
       " 64,\n",
       " 65,\n",
       " 66,\n",
       " 67,\n",
       " 68,\n",
       " 69,\n",
       " 70,\n",
       " 71,\n",
       " 72,\n",
       " 73,\n",
       " 74,\n",
       " 75,\n",
       " 76,\n",
       " 77,\n",
       " 78,\n",
       " 79,\n",
       " 80,\n",
       " 81,\n",
       " 82,\n",
       " 83,\n",
       " 84,\n",
       " 85,\n",
       " 86,\n",
       " 87,\n",
       " 88,\n",
       " 89,\n",
       " 90,\n",
       " 91,\n",
       " 92,\n",
       " 93,\n",
       " 94,\n",
       " 95,\n",
       " 96,\n",
       " 97,\n",
       " 98,\n",
       " 99]"
      ]
     },
     "execution_count": 78,
     "metadata": {},
     "output_type": "execute_result"
    }
   ],
   "source": [
    "X = [i for i in range(100)]\n",
    "X"
   ]
  },
  {
   "cell_type": "code",
   "execution_count": 79,
   "metadata": {},
   "outputs": [
    {
     "data": {
      "text/plain": [
       "[2, 7, 12, 17, 22, 27, 32, 37, 42, 47, 52, 57, 62, 67, 72, 77, 82, 87, 92, 97]"
      ]
     },
     "execution_count": 79,
     "metadata": {},
     "output_type": "execute_result"
    }
   ],
   "source": [
    "S1 = [x for x in X if x % 5 == 2]\n",
    "S1"
   ]
  },
  {
   "cell_type": "code",
   "execution_count": 80,
   "metadata": {},
   "outputs": [
    {
     "data": {
      "text/plain": [
       "[2, 12, 22, 32, 42, 52, 62, 72, 82, 92]"
      ]
     },
     "execution_count": 80,
     "metadata": {},
     "output_type": "execute_result"
    }
   ],
   "source": [
    "S2 = [x for x in S1 if x % 2 == 0]\n",
    "S2"
   ]
  },
  {
   "cell_type": "code",
   "execution_count": 81,
   "metadata": {
    "collapsed": true
   },
   "outputs": [
    {
     "data": {
      "text/plain": [
       "[(2, 2),\n",
       " (2, 12),\n",
       " (2, 22),\n",
       " (2, 32),\n",
       " (2, 42),\n",
       " (2, 52),\n",
       " (2, 62),\n",
       " (2, 72),\n",
       " (2, 82),\n",
       " (2, 92),\n",
       " (7, 2),\n",
       " (7, 12),\n",
       " (7, 22),\n",
       " (7, 32),\n",
       " (7, 42),\n",
       " (7, 52),\n",
       " (7, 62),\n",
       " (7, 72),\n",
       " (7, 82),\n",
       " (7, 92),\n",
       " (12, 2),\n",
       " (12, 12),\n",
       " (12, 22),\n",
       " (12, 32),\n",
       " (12, 42),\n",
       " (12, 52),\n",
       " (12, 62),\n",
       " (12, 72),\n",
       " (12, 82),\n",
       " (12, 92),\n",
       " (17, 2),\n",
       " (17, 12),\n",
       " (17, 22),\n",
       " (17, 32),\n",
       " (17, 42),\n",
       " (17, 52),\n",
       " (17, 62),\n",
       " (17, 72),\n",
       " (17, 82),\n",
       " (17, 92),\n",
       " (22, 2),\n",
       " (22, 12),\n",
       " (22, 22),\n",
       " (22, 32),\n",
       " (22, 42),\n",
       " (22, 52),\n",
       " (22, 62),\n",
       " (22, 72),\n",
       " (22, 82),\n",
       " (22, 92),\n",
       " (27, 2),\n",
       " (27, 12),\n",
       " (27, 22),\n",
       " (27, 32),\n",
       " (27, 42),\n",
       " (27, 52),\n",
       " (27, 62),\n",
       " (27, 72),\n",
       " (27, 82),\n",
       " (27, 92),\n",
       " (32, 2),\n",
       " (32, 12),\n",
       " (32, 22),\n",
       " (32, 32),\n",
       " (32, 42),\n",
       " (32, 52),\n",
       " (32, 62),\n",
       " (32, 72),\n",
       " (32, 82),\n",
       " (32, 92),\n",
       " (37, 2),\n",
       " (37, 12),\n",
       " (37, 22),\n",
       " (37, 32),\n",
       " (37, 42),\n",
       " (37, 52),\n",
       " (37, 62),\n",
       " (37, 72),\n",
       " (37, 82),\n",
       " (37, 92),\n",
       " (42, 2),\n",
       " (42, 12),\n",
       " (42, 22),\n",
       " (42, 32),\n",
       " (42, 42),\n",
       " (42, 52),\n",
       " (42, 62),\n",
       " (42, 72),\n",
       " (42, 82),\n",
       " (42, 92),\n",
       " (47, 2),\n",
       " (47, 12),\n",
       " (47, 22),\n",
       " (47, 32),\n",
       " (47, 42),\n",
       " (47, 52),\n",
       " (47, 62),\n",
       " (47, 72),\n",
       " (47, 82),\n",
       " (47, 92),\n",
       " (52, 2),\n",
       " (52, 12),\n",
       " (52, 22),\n",
       " (52, 32),\n",
       " (52, 42),\n",
       " (52, 52),\n",
       " (52, 62),\n",
       " (52, 72),\n",
       " (52, 82),\n",
       " (52, 92),\n",
       " (57, 2),\n",
       " (57, 12),\n",
       " (57, 22),\n",
       " (57, 32),\n",
       " (57, 42),\n",
       " (57, 52),\n",
       " (57, 62),\n",
       " (57, 72),\n",
       " (57, 82),\n",
       " (57, 92),\n",
       " (62, 2),\n",
       " (62, 12),\n",
       " (62, 22),\n",
       " (62, 32),\n",
       " (62, 42),\n",
       " (62, 52),\n",
       " (62, 62),\n",
       " (62, 72),\n",
       " (62, 82),\n",
       " (62, 92),\n",
       " (67, 2),\n",
       " (67, 12),\n",
       " (67, 22),\n",
       " (67, 32),\n",
       " (67, 42),\n",
       " (67, 52),\n",
       " (67, 62),\n",
       " (67, 72),\n",
       " (67, 82),\n",
       " (67, 92),\n",
       " (72, 2),\n",
       " (72, 12),\n",
       " (72, 22),\n",
       " (72, 32),\n",
       " (72, 42),\n",
       " (72, 52),\n",
       " (72, 62),\n",
       " (72, 72),\n",
       " (72, 82),\n",
       " (72, 92),\n",
       " (77, 2),\n",
       " (77, 12),\n",
       " (77, 22),\n",
       " (77, 32),\n",
       " (77, 42),\n",
       " (77, 52),\n",
       " (77, 62),\n",
       " (77, 72),\n",
       " (77, 82),\n",
       " (77, 92),\n",
       " (82, 2),\n",
       " (82, 12),\n",
       " (82, 22),\n",
       " (82, 32),\n",
       " (82, 42),\n",
       " (82, 52),\n",
       " (82, 62),\n",
       " (82, 72),\n",
       " (82, 82),\n",
       " (82, 92),\n",
       " (87, 2),\n",
       " (87, 12),\n",
       " (87, 22),\n",
       " (87, 32),\n",
       " (87, 42),\n",
       " (87, 52),\n",
       " (87, 62),\n",
       " (87, 72),\n",
       " (87, 82),\n",
       " (87, 92),\n",
       " (92, 2),\n",
       " (92, 12),\n",
       " (92, 22),\n",
       " (92, 32),\n",
       " (92, 42),\n",
       " (92, 52),\n",
       " (92, 62),\n",
       " (92, 72),\n",
       " (92, 82),\n",
       " (92, 92),\n",
       " (97, 2),\n",
       " (97, 12),\n",
       " (97, 22),\n",
       " (97, 32),\n",
       " (97, 42),\n",
       " (97, 52),\n",
       " (97, 62),\n",
       " (97, 72),\n",
       " (97, 82),\n",
       " (97, 92)]"
      ]
     },
     "execution_count": 81,
     "metadata": {},
     "output_type": "execute_result"
    }
   ],
   "source": [
    "[(x, y) for x in S1 for y in S2]"
   ]
  },
  {
   "cell_type": "code",
   "execution_count": 82,
   "metadata": {},
   "outputs": [
    {
     "data": {
      "text/plain": [
       "set()"
      ]
     },
     "execution_count": 82,
     "metadata": {},
     "output_type": "execute_result"
    }
   ],
   "source": [
    "set()"
   ]
  },
  {
   "cell_type": "markdown",
   "metadata": {},
   "source": [
    "# Classes\n",
    "\n",
    "Classes let you abstract away details while programming."
   ]
  },
  {
   "cell_type": "code",
   "execution_count": 85,
   "metadata": {},
   "outputs": [],
   "source": [
    "class Animal:\n",
    "    def __init__(self, name, species, num_legs):\n",
    "        self.name = name\n",
    "        self.species = species\n",
    "        self.num_legs = num_legs\n",
    "    \n",
    "    def say_hi(self, name):\n",
    "        print(f\"Hello {name}! I'm {self.name}!\")"
   ]
  },
  {
   "cell_type": "code",
   "execution_count": 87,
   "metadata": {},
   "outputs": [
    {
     "name": "stdout",
     "output_type": "stream",
     "text": [
      "Hello CME 193! I'm Carl!\n",
      "Hello CME 193! I'm David!\n"
     ]
    }
   ],
   "source": [
    "x = Animal('Carl', 'cow', 4)\n",
    "x.say_hi('CME 193')\n",
    "\n",
    "y = Animal('David', 'pig', 4)\n",
    "y.say_hi('CME 193')"
   ]
  },
  {
   "cell_type": "markdown",
   "metadata": {},
   "source": [
    "## Example: Rational Numbers\n",
    "\n",
    "Here we'l make a class that holds rational numbers (fractions).  That is, numbers of the form\n",
    "$$r = \\frac{p}{q}$$\n",
    "where $p$ and $q$ are integers"
   ]
  },
  {
   "cell_type": "code",
   "execution_count": 89,
   "metadata": {},
   "outputs": [],
   "source": [
    "class Rational:\n",
    "    def __init__(self, p, q=1):\n",
    "    \n",
    "        if q == 0:\n",
    "            raise ValueError('Denominator must not be zero')\n",
    "        if not isinstance(p, int):\n",
    "            raise TypeError('Numerator must be an integer')\n",
    "        if not isinstance(q, int):\n",
    "            raise TypeError('Denominator must be an integer')\n",
    "        \n",
    "        g = math.gcd(p, q)\n",
    "        \n",
    "        self.p = p // g # integer division\n",
    "        self.q = q // g\n",
    "    \n",
    "    # method to convert rational to float\n",
    "    def __float__(self):\n",
    "        return self.p / self.q\n",
    "    \n",
    "    def __str__(self):\n",
    "        return f'{self.p}/{self.q}'\n",
    "    \n",
    "    def __repr__(self):\n",
    "        return f'Rational({self.p}, {self.q})'\n"
   ]
  },
  {
   "cell_type": "code",
   "execution_count": 90,
   "metadata": {},
   "outputs": [],
   "source": [
    "a = Rational(22, 7)"
   ]
  },
  {
   "cell_type": "code",
   "execution_count": 92,
   "metadata": {},
   "outputs": [
    {
     "data": {
      "text/plain": [
       "3.142857142857143"
      ]
     },
     "execution_count": 92,
     "metadata": {},
     "output_type": "execute_result"
    }
   ],
   "source": [
    "float(a)"
   ]
  },
  {
   "cell_type": "code",
   "execution_count": 93,
   "metadata": {},
   "outputs": [
    {
     "data": {
      "text/plain": [
       "70.0"
      ]
     },
     "execution_count": 93,
     "metadata": {},
     "output_type": "execute_result"
    }
   ],
   "source": [
    "float(70)"
   ]
  },
  {
   "cell_type": "code",
   "execution_count": 94,
   "metadata": {},
   "outputs": [
    {
     "name": "stdout",
     "output_type": "stream",
     "text": [
      "<class '__main__.Rational'>\n",
      "a = 3/2\n",
      "b = 3/2\n",
      "[Rational(3, 2), Rational(3, 2)]\n",
      "float(a) = 1.5\n"
     ]
    }
   ],
   "source": [
    "a = Rational(6, 4)\n",
    "b = Rational(3, 2)\n",
    "\n",
    "print(type(a))\n",
    "print(f\"a = {a}\")\n",
    "print(f\"b = {b}\")\n",
    "print([a,b])\n",
    "print(f\"float(a) = {float(a)}\")"
   ]
  },
  {
   "cell_type": "code",
   "execution_count": 95,
   "metadata": {},
   "outputs": [
    {
     "ename": "TypeError",
     "evalue": "unsupported operand type(s) for +: 'Rational' and 'Rational'",
     "output_type": "error",
     "traceback": [
      "\u001b[0;31m---------------------------------------------------------------------------\u001b[0m",
      "\u001b[0;31mTypeError\u001b[0m                                 Traceback (most recent call last)",
      "\u001b[0;32m<ipython-input-95-bd58363a63fc>\u001b[0m in \u001b[0;36m<module>\u001b[0;34m\u001b[0m\n\u001b[0;32m----> 1\u001b[0;31m \u001b[0ma\u001b[0m \u001b[0;34m+\u001b[0m \u001b[0mb\u001b[0m\u001b[0;34m\u001b[0m\u001b[0;34m\u001b[0m\u001b[0m\n\u001b[0m",
      "\u001b[0;31mTypeError\u001b[0m: unsupported operand type(s) for +: 'Rational' and 'Rational'"
     ]
    }
   ],
   "source": [
    "a + b"
   ]
  },
  {
   "cell_type": "markdown",
   "metadata": {},
   "source": [
    "You can do cool things like overload math operators.  This lets you write code that looks like you would write math.  Recall\n",
    "\n",
    "$$ \\frac{p_1}{q_1} + \\frac{p_2}{q_2} = \\frac{p_1 q_2 + p_2 q_1}{q_1 q_2}$$\n",
    "\n",
    "We'll see this next time!"
   ]
  },
  {
   "cell_type": "code",
   "execution_count": null,
   "metadata": {},
   "outputs": [],
   "source": []
  }
 ],
 "metadata": {
  "kernelspec": {
   "display_name": "Python 3",
   "language": "python",
   "name": "python3"
  },
  "language_info": {
   "codemirror_mode": {
    "name": "ipython",
    "version": 3
   },
   "file_extension": ".py",
   "mimetype": "text/x-python",
   "name": "python",
   "nbconvert_exporter": "python",
   "pygments_lexer": "ipython3",
   "version": "3.7.2"
  }
 },
 "nbformat": 4,
 "nbformat_minor": 2
}
