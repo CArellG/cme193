{
 "cells": [
  {
   "cell_type": "markdown",
   "metadata": {},
   "source": [
    "# CME 193 - Lecture 2"
   ]
  },
  {
   "cell_type": "markdown",
   "metadata": {},
   "source": [
    "## Example: Rational Numbers\n",
    "\n",
    "Let's continue with our example of rational numbers (fractions), that is, numbers of the form\n",
    "$$r = \\frac{p}{q}$$\n",
    "where $p$ and $q$ are integers. Let's make it support addition using the formula:\n",
    "$$ \\frac{p_1}{q_1} + \\frac{p_2}{q_2} = \\frac{p_1 q_2 + p_2 q_1}{q_1 q_2}$$"
   ]
  },
  {
   "cell_type": "code",
   "execution_count": 5,
   "metadata": {},
   "outputs": [],
   "source": [
    "import math\n",
    "\n",
    "class Rational:\n",
    "    def __init__(self, p, q=1):\n",
    "    \n",
    "        if q == 0:\n",
    "            raise ValueError('Denominator must not be zero')\n",
    "        if not isinstance(p, int):\n",
    "            raise TypeError('Numerator must be an integer')\n",
    "        if not isinstance(q, int):\n",
    "            raise TypeError('Denominator must be an integer')\n",
    "        \n",
    "        g = math.gcd(p, q)\n",
    "        \n",
    "        self.p = p // g\n",
    "        self.q = q // g\n",
    "    \n",
    "    # method to convert rational to float\n",
    "    def __float__(self):\n",
    "        return float(self.p) / float(self.q)    \n",
    "    \n",
    "    # method to convert rational to string for printing\n",
    "    def __str__(self):\n",
    "        return '%d / %d' % (self.p, self.q)\n",
    "    \n",
    "    def __repr__(self):\n",
    "        return f'Rational({self.p}, {self.q})'\n",
    "    \n",
    "    # method to add two rationals - interprets self + other\n",
    "    def __add__(self, other):\n",
    "        if isinstance(other, Rational):\n",
    "            return Rational(self.p * other.q + other.p * self.q, self.q * other.q)\n",
    "        # -- if it's an integer...\n",
    "        elif isinstance(other, int):\n",
    "            return Rational(self.p + other * self.q, self.q)\n",
    "        # -- otherwise, we assume it will be a float\n",
    "        return float(self) + float(other)\n",
    "    \n",
    "    def __radd__(self, other): # interprets other + self\n",
    "        return self + other # addition commutes!\n",
    "    "
   ]
  },
  {
   "cell_type": "code",
   "execution_count": 6,
   "metadata": {},
   "outputs": [
    {
     "name": "stdout",
     "output_type": "stream",
     "text": [
      "3 / 1\n"
     ]
    }
   ],
   "source": [
    "r = Rational(3)\n",
    "print(r)"
   ]
  },
  {
   "cell_type": "code",
   "execution_count": 7,
   "metadata": {},
   "outputs": [
    {
     "data": {
      "text/plain": [
       "Rational(5, 1)"
      ]
     },
     "execution_count": 7,
     "metadata": {},
     "output_type": "execute_result"
    }
   ],
   "source": [
    "Rational(7, 2) + Rational(3, 2)"
   ]
  },
  {
   "cell_type": "code",
   "execution_count": 8,
   "metadata": {
    "scrolled": true
   },
   "outputs": [
    {
     "name": "stdout",
     "output_type": "stream",
     "text": [
      "Integer adding:\n",
      "right add\n",
      "11 / 2\n",
      "5.5\n"
     ]
    }
   ],
   "source": [
    "r = Rational(3, 2)\n",
    "print('Integer adding:')\n",
    "print('right add')\n",
    "print(r + 4)\n",
    "print(float(r + 4))"
   ]
  },
  {
   "cell_type": "code",
   "execution_count": 9,
   "metadata": {},
   "outputs": [
    {
     "name": "stdout",
     "output_type": "stream",
     "text": [
      "left add\n",
      "11 / 2\n",
      "5.5\n"
     ]
    }
   ],
   "source": [
    "print('left add')\n",
    "print(4 + r)\n",
    "print(float(4 + r))"
   ]
  },
  {
   "cell_type": "markdown",
   "metadata": {},
   "source": [
    "# Exercise 3\n",
    "\n",
    "### Add more operations to `Rational`\n",
    "You can read about the available operations that you can overload [here](https://docs.python.org/3.7/reference/datamodel.html#emulating-numeric-types)\n",
    "\n",
    "Add the following operations to the `Rational` class:\n",
    "* `*` - use `__mul__`\n",
    "* `/` - use `__truediv__`\n",
    "* `-` - use `__sub__`\n",
    "\n",
    "You only need to define these operations between two `Rational` types - use an `if isinstance(other, Rational):` block.\n",
    "\n",
    "Make a few examples to convince yourself that this works.\n",
    "\n"
   ]
  },
  {
   "cell_type": "code",
   "execution_count": 22,
   "metadata": {},
   "outputs": [],
   "source": [
    "import math\n",
    "\n",
    "class Rational:\n",
    "    def __init__(self, p, q=1):\n",
    "    \n",
    "        if q == 0:\n",
    "            raise ValueError('Denominator must not be zero')\n",
    "        if not isinstance(p, int):\n",
    "            raise TypeError('Numerator must be an integer')\n",
    "        if not isinstance(q, int):\n",
    "            raise TypeError('Denominator must be an integer')\n",
    "        \n",
    "        g = math.gcd(p, q)\n",
    "        \n",
    "        self.p = p // g\n",
    "        self.q = q // g\n",
    "    \n",
    "    # method to convert rational to float\n",
    "    def __float__(self):\n",
    "        return float(self.p) / float(self.q)    \n",
    "    \n",
    "    # method to convert rational to string for printing\n",
    "    def __str__(self):\n",
    "        return '%d / %d' % (self.p, self.q)\n",
    "    \n",
    "    # method to add two rationals - interprets self + other\n",
    "    def __add__(self, other):\n",
    "        if isinstance(other, Rational):\n",
    "            return Rational(self.p * other.q + other.p * self.q, self.q * other.q)\n",
    "        # -- if it's an integer...\n",
    "        elif isinstance(other, int):\n",
    "            return Rational(self.p + other * self.q, self.q)\n",
    "        # -- otherwise, we assume it will be a float\n",
    "        return float(self) + float(other)\n",
    "    \n",
    "    def __radd__(self, other): # interprets other + self\n",
    "        return self + other # addition commutes!\n",
    "    \n",
    "    # subtraction\n",
    "    def __sub__(self, other):\n",
    "        if isinstance(other, Rational):\n",
    "            return self + Rational(-other.p, other.q)\n",
    "        raise NotImplementedError('not implemented yet')\n",
    "    \n",
    "    # multiplication\n",
    "    def __mul__(self, other):\n",
    "        if isinstance(other, Rational):\n",
    "            return Rational(self.p * other.p, self.q * other.q)\n",
    "        raise NotImplementedError('not implemented yet')\n",
    "        \n",
    "    # division\n",
    "    def __truediv__(self, other):\n",
    "        if isinstance(other, Rational):\n",
    "            return Rational(self.p * other.q, self.q * other.p)\n",
    "        elif isinstance(other, int):\n",
    "            return Rational(self.p, self.q * other)\n",
    "        raise NotImplementedError('Division not implemented yet')\n",
    "    \n",
    "    def __rtruediv__(self, other):\n",
    "        if isinstance(other, int):\n",
    "            return Rational(other * self.q, self.p)\n",
    "    \n",
    "    def __repr__(self):\n",
    "        return f'Rational({self.p}, {self.q})'\n",
    "    \n",
    "    def square(self):\n",
    "        return Rational(self.p * self.p, self.q * self.q)"
   ]
  },
  {
   "cell_type": "code",
   "execution_count": 23,
   "metadata": {},
   "outputs": [
    {
     "data": {
      "text/plain": [
       "Rational(3, 2)"
      ]
     },
     "execution_count": 23,
     "metadata": {},
     "output_type": "execute_result"
    }
   ],
   "source": [
    "4 / Rational(8, 3)"
   ]
  },
  {
   "cell_type": "code",
   "execution_count": 24,
   "metadata": {},
   "outputs": [
    {
     "data": {
      "text/plain": [
       "(-40+42j)"
      ]
     },
     "execution_count": 24,
     "metadata": {},
     "output_type": "execute_result"
    }
   ],
   "source": [
    "(3+7j)**2"
   ]
  },
  {
   "cell_type": "code",
   "execution_count": 4,
   "metadata": {},
   "outputs": [
    {
     "data": {
      "text/plain": [
       "Rational(6, 7)"
      ]
     },
     "execution_count": 4,
     "metadata": {},
     "output_type": "execute_result"
    }
   ],
   "source": [
    "# Write some examples to test your code\n",
    "Rational(3, 2) / Rational(7, 4)"
   ]
  },
  {
   "cell_type": "code",
   "execution_count": 8,
   "metadata": {},
   "outputs": [
    {
     "name": "stdout",
     "output_type": "stream",
     "text": [
      "9 / 4\n",
      "9 / 4\n"
     ]
    }
   ],
   "source": [
    "x = Rational(3, 2)\n",
    "print(x.__mul__(x))\n",
    "print(x * x)"
   ]
  },
  {
   "cell_type": "markdown",
   "metadata": {},
   "source": [
    "# Exercise 4\n",
    "## Square root of rationals using the Babylonian method\n",
    "\n",
    "Implement the [Babylonian Method](https://en.wikipedia.org/wiki/Methods_of_computing_square_roots#Babylonian_method) for computing the square root of a number $S$."
   ]
  },
  {
   "cell_type": "code",
   "execution_count": 9,
   "metadata": {},
   "outputs": [],
   "source": [
    "def babylonian(S, num_iters=5):\n",
    "    x = 1\n",
    "    for i in range(num_iters):\n",
    "        x = (x + S/x) / 2\n",
    "    return x"
   ]
  },
  {
   "cell_type": "code",
   "execution_count": 14,
   "metadata": {},
   "outputs": [
    {
     "data": {
      "text/plain": [
       "4.898979485566356"
      ]
     },
     "execution_count": 14,
     "metadata": {},
     "output_type": "execute_result"
    }
   ],
   "source": [
    "babylonian(S=24, num_iters=20)"
   ]
  },
  {
   "cell_type": "code",
   "execution_count": 11,
   "metadata": {},
   "outputs": [
    {
     "data": {
      "text/plain": [
       "4.898979485566356"
      ]
     },
     "execution_count": 11,
     "metadata": {},
     "output_type": "execute_result"
    }
   ],
   "source": [
    "math.sqrt(24)"
   ]
  },
  {
   "cell_type": "code",
   "execution_count": 18,
   "metadata": {},
   "outputs": [
    {
     "data": {
      "text/plain": [
       "1.5275252316519468"
      ]
     },
     "execution_count": 18,
     "metadata": {},
     "output_type": "execute_result"
    }
   ],
   "source": [
    "x = babylonian(Rational(7, 3))\n",
    "float(x)"
   ]
  },
  {
   "cell_type": "code",
   "execution_count": 19,
   "metadata": {},
   "outputs": [
    {
     "data": {
      "text/plain": [
       "1.5275252316519468"
      ]
     },
     "execution_count": 19,
     "metadata": {},
     "output_type": "execute_result"
    }
   ],
   "source": [
    "math.sqrt(7 / 3)"
   ]
  },
  {
   "cell_type": "markdown",
   "metadata": {},
   "source": [
    "# NumPy\n",
    "This is a good segue into NumPy. Python provides only a handful of numeric types: ints, longs, floats, and complex numbers. We just declared a class that implements rational numbers. NumPy implements one very useful numeric type: multidimensional arrays."
   ]
  },
  {
   "cell_type": "code",
   "execution_count": null,
   "metadata": {},
   "outputs": [],
   "source": [
    "# Quick note on importing\n",
    "import math\n",
    "math.sin(5)"
   ]
  },
  {
   "cell_type": "code",
   "execution_count": null,
   "metadata": {},
   "outputs": [],
   "source": [
    "import math as m\n",
    "m.sin(5)"
   ]
  },
  {
   "cell_type": "code",
   "execution_count": null,
   "metadata": {},
   "outputs": [],
   "source": [
    "import numpy as np"
   ]
  },
  {
   "cell_type": "code",
   "execution_count": null,
   "metadata": {},
   "outputs": [],
   "source": [
    "x = np.array([[0, 1], [1, 5]])\n",
    "x"
   ]
  },
  {
   "cell_type": "code",
   "execution_count": null,
   "metadata": {},
   "outputs": [],
   "source": [
    "y = np.array([[4, 0], [0, 4]])\n",
    "y"
   ]
  },
  {
   "cell_type": "code",
   "execution_count": null,
   "metadata": {},
   "outputs": [],
   "source": [
    "x + y"
   ]
  },
  {
   "cell_type": "code",
   "execution_count": null,
   "metadata": {},
   "outputs": [],
   "source": [
    "x ** 2"
   ]
  },
  {
   "cell_type": "code",
   "execution_count": null,
   "metadata": {},
   "outputs": [],
   "source": [
    "x @ y  # Matrix multiplication"
   ]
  },
  {
   "cell_type": "code",
   "execution_count": null,
   "metadata": {},
   "outputs": [],
   "source": [
    "np.sum(x)"
   ]
  },
  {
   "cell_type": "code",
   "execution_count": null,
   "metadata": {},
   "outputs": [],
   "source": []
  }
 ],
 "metadata": {
  "kernelspec": {
   "display_name": "Python 3",
   "language": "python",
   "name": "python3"
  },
  "language_info": {
   "codemirror_mode": {
    "name": "ipython",
    "version": 3
   },
   "file_extension": ".py",
   "mimetype": "text/x-python",
   "name": "python",
   "nbconvert_exporter": "python",
   "pygments_lexer": "ipython3",
   "version": "3.7.2"
  }
 },
 "nbformat": 4,
 "nbformat_minor": 2
}
