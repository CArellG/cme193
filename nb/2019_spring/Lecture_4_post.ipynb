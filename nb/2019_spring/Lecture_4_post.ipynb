{
 "cells": [
  {
   "cell_type": "markdown",
   "metadata": {},
   "source": [
    "# CME 193 - Lecture 4"
   ]
  },
  {
   "cell_type": "code",
   "execution_count": 1,
   "metadata": {},
   "outputs": [],
   "source": [
    "import numpy as np"
   ]
  },
  {
   "cell_type": "code",
   "execution_count": 2,
   "metadata": {},
   "outputs": [
    {
     "data": {
      "text/plain": [
       "3"
      ]
     },
     "execution_count": 2,
     "metadata": {},
     "output_type": "execute_result"
    }
   ],
   "source": [
    "len([1, 2, 3])"
   ]
  },
  {
   "cell_type": "code",
   "execution_count": 5,
   "metadata": {},
   "outputs": [
    {
     "data": {
      "text/plain": [
       "2"
      ]
     },
     "execution_count": 5,
     "metadata": {},
     "output_type": "execute_result"
    }
   ],
   "source": [
    "x = np.array([[1, 3], [4, 5]])\n",
    "x.shape[1]"
   ]
  },
  {
   "cell_type": "markdown",
   "metadata": {},
   "source": [
    "## Matrix multiplication clarification"
   ]
  },
  {
   "cell_type": "code",
   "execution_count": 168,
   "metadata": {},
   "outputs": [],
   "source": [
    "import numpy as np\n",
    "A = np.array([[1, 2], [3, 4]])\n",
    "b = np.array([1, 2])"
   ]
  },
  {
   "cell_type": "code",
   "execution_count": 169,
   "metadata": {},
   "outputs": [
    {
     "data": {
      "text/plain": [
       "array([1, 2])"
      ]
     },
     "execution_count": 169,
     "metadata": {},
     "output_type": "execute_result"
    }
   ],
   "source": [
    "b  # This is a just a vector, neither a column nor a row vector"
   ]
  },
  {
   "cell_type": "code",
   "execution_count": 170,
   "metadata": {},
   "outputs": [
    {
     "data": {
      "text/plain": [
       "array([ 5, 11])"
      ]
     },
     "execution_count": 170,
     "metadata": {},
     "output_type": "execute_result"
    }
   ],
   "source": [
    "# The x @ y operator behaves differently depending on\n",
    "# whether x and y are matrices or vectors.\n",
    "\n",
    "A @ b  # Matrix-vector product: A b"
   ]
  },
  {
   "cell_type": "code",
   "execution_count": 9,
   "metadata": {},
   "outputs": [
    {
     "data": {
      "text/plain": [
       "array([[ 7, 10],\n",
       "       [15, 22]])"
      ]
     },
     "execution_count": 9,
     "metadata": {},
     "output_type": "execute_result"
    }
   ],
   "source": [
    "A @ A  # Matrix-matrix product: A A"
   ]
  },
  {
   "cell_type": "code",
   "execution_count": 10,
   "metadata": {},
   "outputs": [
    {
     "data": {
      "text/plain": [
       "5"
      ]
     },
     "execution_count": 10,
     "metadata": {},
     "output_type": "execute_result"
    }
   ],
   "source": [
    "b @ b  # Vector-vector product: b^T b"
   ]
  },
  {
   "cell_type": "code",
   "execution_count": 11,
   "metadata": {},
   "outputs": [
    {
     "data": {
      "text/plain": [
       "array([ 7, 10])"
      ]
     },
     "execution_count": 11,
     "metadata": {},
     "output_type": "execute_result"
    }
   ],
   "source": [
    "b @ A  # Vector-matrix: b^T A"
   ]
  },
  {
   "cell_type": "code",
   "execution_count": 12,
   "metadata": {},
   "outputs": [
    {
     "data": {
      "text/plain": [
       "(2,)"
      ]
     },
     "execution_count": 12,
     "metadata": {},
     "output_type": "execute_result"
    }
   ],
   "source": [
    "b.shape"
   ]
  },
  {
   "cell_type": "code",
   "execution_count": 13,
   "metadata": {
    "scrolled": true
   },
   "outputs": [
    {
     "name": "stdout",
     "output_type": "stream",
     "text": [
      "[[1]\n",
      " [2]]\n"
     ]
    },
    {
     "data": {
      "text/plain": [
       "array([[1, 2],\n",
       "       [2, 4]])"
      ]
     },
     "execution_count": 13,
     "metadata": {},
     "output_type": "execute_result"
    }
   ],
   "source": [
    "# To treat a vector as a row or column vector, we must explicitly reshape it\n",
    "bb = b.reshape(2, 1)  # a column vector (really a narrow matrix)\n",
    "print(bb)\n",
    "bb @ bb.T  # outer product"
   ]
  },
  {
   "cell_type": "code",
   "execution_count": 14,
   "metadata": {},
   "outputs": [
    {
     "data": {
      "text/plain": [
       "5"
      ]
     },
     "execution_count": 14,
     "metadata": {},
     "output_type": "execute_result"
    }
   ],
   "source": [
    "b @ b.T\n",
    "# This still is an inner product despite looking like an outer product\n",
    "# because b and b.T are both just vectors (neither column nor row)"
   ]
  },
  {
   "cell_type": "code",
   "execution_count": 17,
   "metadata": {},
   "outputs": [
    {
     "data": {
      "text/plain": [
       "(2,)"
      ]
     },
     "execution_count": 17,
     "metadata": {},
     "output_type": "execute_result"
    }
   ],
   "source": [
    "b.shape"
   ]
  },
  {
   "cell_type": "code",
   "execution_count": 19,
   "metadata": {},
   "outputs": [
    {
     "data": {
      "text/plain": [
       "array([[1],\n",
       "       [2]])"
      ]
     },
     "execution_count": 19,
     "metadata": {},
     "output_type": "execute_result"
    }
   ],
   "source": [
    "# Reshaping using b.shape\n",
    "b.reshape(b.shape[0], 1)\n",
    "b.reshape(-1, 1)  # Equivalent"
   ]
  },
  {
   "cell_type": "code",
   "execution_count": 21,
   "metadata": {},
   "outputs": [],
   "source": [
    "y = np.random.randn(3, 4, 5, 6)"
   ]
  },
  {
   "cell_type": "code",
   "execution_count": 24,
   "metadata": {},
   "outputs": [
    {
     "data": {
      "text/plain": [
       "(3, 4, 5, 6)"
      ]
     },
     "execution_count": 24,
     "metadata": {},
     "output_type": "execute_result"
    }
   ],
   "source": [
    "y.shape"
   ]
  },
  {
   "cell_type": "code",
   "execution_count": 26,
   "metadata": {},
   "outputs": [
    {
     "data": {
      "text/plain": [
       "(12, 5, 6)"
      ]
     },
     "execution_count": 26,
     "metadata": {},
     "output_type": "execute_result"
    }
   ],
   "source": [
    "# A second example using y.shape to reshape\n",
    "z = y.reshape(-1, y.shape[2], y.shape[3])\n",
    "z.shape"
   ]
  },
  {
   "cell_type": "markdown",
   "metadata": {},
   "source": [
    "## Array indexing"
   ]
  },
  {
   "cell_type": "code",
   "execution_count": 27,
   "metadata": {},
   "outputs": [
    {
     "data": {
      "text/plain": [
       "array([[ 0.97357924,  0.81247131, -0.98921206,  0.63298119],\n",
       "       [-0.74669682, -0.16596491, -0.60740362, -0.280378  ],\n",
       "       [ 0.59584907,  1.30240881, -1.39397971,  0.88263554],\n",
       "       [-1.12379906, -0.1154868 , -1.07078693, -1.0545479 ]])"
      ]
     },
     "execution_count": 27,
     "metadata": {},
     "output_type": "execute_result"
    }
   ],
   "source": [
    "x = np.random.randn(4, 4)\n",
    "x"
   ]
  },
  {
   "cell_type": "code",
   "execution_count": 29,
   "metadata": {},
   "outputs": [
    {
     "data": {
      "text/plain": [
       "0.0"
      ]
     },
     "execution_count": 29,
     "metadata": {},
     "output_type": "execute_result"
    }
   ],
   "source": [
    "x[2,3]"
   ]
  },
  {
   "cell_type": "code",
   "execution_count": 28,
   "metadata": {},
   "outputs": [
    {
     "data": {
      "text/plain": [
       "array([[ 0.97357924,  0.81247131, -0.98921206,  0.63298119],\n",
       "       [-0.74669682, -0.16596491, -0.60740362, -0.280378  ],\n",
       "       [ 0.59584907,  1.30240881, -1.39397971,  0.        ],\n",
       "       [-1.12379906, -0.1154868 , -1.07078693, -1.0545479 ]])"
      ]
     },
     "execution_count": 28,
     "metadata": {},
     "output_type": "execute_result"
    }
   ],
   "source": [
    "x[2,3] = 0\n",
    "x"
   ]
  },
  {
   "cell_type": "code",
   "execution_count": 30,
   "metadata": {},
   "outputs": [
    {
     "data": {
      "text/plain": [
       "1.0"
      ]
     },
     "execution_count": 30,
     "metadata": {},
     "output_type": "execute_result"
    }
   ],
   "source": [
    "# Caution! Assigning to a new variable doesn't make a copy\n",
    "y = x\n",
    "y[2,3] = 1\n",
    "x[2,3]"
   ]
  },
  {
   "cell_type": "code",
   "execution_count": 31,
   "metadata": {},
   "outputs": [],
   "source": [
    "y = x.copy()  # This makes a copy"
   ]
  },
  {
   "cell_type": "code",
   "execution_count": 32,
   "metadata": {},
   "outputs": [],
   "source": [
    "y[1,2] = 0"
   ]
  },
  {
   "cell_type": "code",
   "execution_count": 33,
   "metadata": {},
   "outputs": [
    {
     "data": {
      "text/plain": [
       "array([[ 0.97357924,  0.81247131, -0.98921206,  0.63298119],\n",
       "       [-0.74669682, -0.16596491,  0.        , -0.280378  ],\n",
       "       [ 0.59584907,  1.30240881, -1.39397971,  1.        ],\n",
       "       [-1.12379906, -0.1154868 , -1.07078693, -1.0545479 ]])"
      ]
     },
     "execution_count": 33,
     "metadata": {},
     "output_type": "execute_result"
    }
   ],
   "source": [
    "y"
   ]
  },
  {
   "cell_type": "code",
   "execution_count": 34,
   "metadata": {},
   "outputs": [
    {
     "data": {
      "text/plain": [
       "array([[ 0.97357924,  0.81247131, -0.98921206,  0.63298119],\n",
       "       [-0.74669682, -0.16596491, -0.60740362, -0.280378  ],\n",
       "       [ 0.59584907,  1.30240881, -1.39397971,  1.        ],\n",
       "       [-1.12379906, -0.1154868 , -1.07078693, -1.0545479 ]])"
      ]
     },
     "execution_count": 34,
     "metadata": {},
     "output_type": "execute_result"
    }
   ],
   "source": [
    "x  # x hasn't changed"
   ]
  },
  {
   "cell_type": "code",
   "execution_count": 35,
   "metadata": {},
   "outputs": [
    {
     "name": "stdout",
     "output_type": "stream",
     "text": [
      "[[ 0.97357924  0.81247131 -0.98921206  0.63298119]\n",
      " [-0.74669682 -0.16596491 -0.60740362 -0.280378  ]\n",
      " [ 0.59584907  1.30240881 -1.39397971  1.        ]\n",
      " [-1.12379906 -0.1154868  -1.07078693 -1.0545479 ]]\n"
     ]
    },
    {
     "data": {
      "text/plain": [
       "array([ 0.59584907,  1.30240881, -1.39397971,  1.        ])"
      ]
     },
     "execution_count": 35,
     "metadata": {},
     "output_type": "execute_result"
    }
   ],
   "source": [
    "print(x)\n",
    "x[2]  # Picks out a row"
   ]
  },
  {
   "cell_type": "code",
   "execution_count": 37,
   "metadata": {},
   "outputs": [
    {
     "name": "stdout",
     "output_type": "stream",
     "text": [
      "[[ 0.97357924  0.81247131 -0.98921206  0.63298119]\n",
      " [-0.74669682 -0.16596491 -0.60740362 -0.280378  ]\n",
      " [ 0.59584907  1.30240881 -1.39397971  1.        ]\n",
      " [-1.12379906 -0.1154868  -1.07078693 -1.0545479 ]]\n"
     ]
    },
    {
     "data": {
      "text/plain": [
       "array([-0.60740362, -1.39397971])"
      ]
     },
     "execution_count": 37,
     "metadata": {},
     "output_type": "execute_result"
    }
   ],
   "source": [
    "print(x)\n",
    "x[1:3,2]  # Picks out a column"
   ]
  },
  {
   "cell_type": "code",
   "execution_count": 38,
   "metadata": {},
   "outputs": [
    {
     "name": "stdout",
     "output_type": "stream",
     "text": [
      "[[ 0.97357924  0.81247131 -0.98921206  0.63298119]\n",
      " [-0.74669682 -0.16596491 -0.60740362 -0.280378  ]\n",
      " [ 0.59584907  1.30240881 -1.39397971  1.        ]\n",
      " [-1.12379906 -0.1154868  -1.07078693 -1.0545479 ]]\n"
     ]
    },
    {
     "data": {
      "text/plain": [
       "array([[-0.16596491, -0.60740362],\n",
       "       [ 1.30240881, -1.39397971]])"
      ]
     },
     "execution_count": 38,
     "metadata": {},
     "output_type": "execute_result"
    }
   ],
   "source": [
    "print(x)\n",
    "x[1:3,1:3]  # Picks out a portion"
   ]
  },
  {
   "cell_type": "code",
   "execution_count": 39,
   "metadata": {},
   "outputs": [
    {
     "data": {
      "text/plain": [
       "array([[ 0.97357924,  0.81247131, -0.98921206,  0.63298119],\n",
       "       [-0.74669682,  1.        ,  1.        , -0.280378  ],\n",
       "       [ 0.59584907,  1.        ,  1.        ,  1.        ],\n",
       "       [-1.12379906, -0.1154868 , -1.07078693, -1.0545479 ]])"
      ]
     },
     "execution_count": 39,
     "metadata": {},
     "output_type": "execute_result"
    }
   ],
   "source": [
    "x[1:3,1:3] = np.ones((2, 2))\n",
    "x"
   ]
  },
  {
   "cell_type": "code",
   "execution_count": 42,
   "metadata": {},
   "outputs": [
    {
     "name": "stdout",
     "output_type": "stream",
     "text": [
      "[[ 0.97357924  0.81247131 -0.98921206  0.63298119]\n",
      " [-0.74669682  1.          1.         -0.280378  ]\n",
      " [ 0.59584907  1.          1.          1.        ]\n",
      " [-1.12379906 -0.1154868  -1.07078693 -1.0545479 ]]\n"
     ]
    },
    {
     "data": {
      "text/plain": [
       "array([[-1.12379906, -0.1154868 , -1.07078693, -1.0545479 ],\n",
       "       [ 0.97357924,  0.81247131, -0.98921206,  0.63298119],\n",
       "       [-0.74669682,  1.        ,  1.        , -0.280378  ]])"
      ]
     },
     "execution_count": 42,
     "metadata": {},
     "output_type": "execute_result"
    }
   ],
   "source": [
    "print(x)\n",
    "x[[3,0,1]]  # Picks 3rd, 0th, 1st row"
   ]
  },
  {
   "cell_type": "code",
   "execution_count": 43,
   "metadata": {
    "scrolled": true
   },
   "outputs": [
    {
     "name": "stdout",
     "output_type": "stream",
     "text": [
      "[[ 0.97357924  0.81247131 -0.98921206  0.63298119]\n",
      " [-0.74669682  1.          1.         -0.280378  ]\n",
      " [ 0.59584907  1.          1.          1.        ]\n",
      " [-1.12379906 -0.1154868  -1.07078693 -1.0545479 ]]\n"
     ]
    },
    {
     "data": {
      "text/plain": [
       "array([-1.0545479 ,  0.97357924,  1.        ])"
      ]
     },
     "execution_count": 43,
     "metadata": {},
     "output_type": "execute_result"
    }
   ],
   "source": [
    "print(x)\n",
    "x[[3,0,1],[3,0,1]]  # Picks (3,3), (0,0), (1,1)"
   ]
  },
  {
   "cell_type": "code",
   "execution_count": null,
   "metadata": {},
   "outputs": [],
   "source": [
    "x = np.random.randn(15, 5)"
   ]
  },
  {
   "cell_type": "code",
   "execution_count": null,
   "metadata": {},
   "outputs": [],
   "source": [
    "x[[i for i range(0, x.shape[0], 2)]]  # Picks out every other row"
   ]
  },
  {
   "cell_type": "code",
   "execution_count": 52,
   "metadata": {},
   "outputs": [
    {
     "data": {
      "text/plain": [
       "array([[ 0.29353398,  1.15651665, -1.03412624, -0.15325807, -0.59822516],\n",
       "       [ 0.4532573 ,  1.01899463,  1.02552608,  1.17861877,  0.54165391],\n",
       "       [-0.11576394,  0.23443441, -2.27902684,  0.2481871 , -1.00494464],\n",
       "       [-0.94316921,  1.76707135,  1.4052262 , -0.91280207, -0.33563648],\n",
       "       [-0.00285762, -0.90949209,  0.86344933,  0.25069007,  1.80172997],\n",
       "       [ 1.07146895, -0.40516137, -0.24196837,  0.6082648 , -0.08628897],\n",
       "       [ 0.51929204,  1.61126471,  0.37977377,  0.27119325,  0.50097619],\n",
       "       [ 0.78240724, -0.1049891 ,  1.89886926,  0.50496068, -0.71110162]])"
      ]
     },
     "execution_count": 52,
     "metadata": {},
     "output_type": "execute_result"
    }
   ],
   "source": [
    "x[list(range(0, x.shape[0], 2))]  # Picks out every other row"
   ]
  },
  {
   "cell_type": "code",
   "execution_count": 53,
   "metadata": {},
   "outputs": [
    {
     "data": {
      "text/plain": [
       "array([[ 0.29353398,  1.15651665, -1.03412624, -0.15325807, -0.59822516],\n",
       "       [ 0.4532573 ,  1.01899463,  1.02552608,  1.17861877,  0.54165391],\n",
       "       [-0.11576394,  0.23443441, -2.27902684,  0.2481871 , -1.00494464],\n",
       "       [-0.94316921,  1.76707135,  1.4052262 , -0.91280207, -0.33563648],\n",
       "       [-0.00285762, -0.90949209,  0.86344933,  0.25069007,  1.80172997],\n",
       "       [ 1.07146895, -0.40516137, -0.24196837,  0.6082648 , -0.08628897],\n",
       "       [ 0.51929204,  1.61126471,  0.37977377,  0.27119325,  0.50097619],\n",
       "       [ 0.78240724, -0.1049891 ,  1.89886926,  0.50496068, -0.71110162]])"
      ]
     },
     "execution_count": 53,
     "metadata": {},
     "output_type": "execute_result"
    }
   ],
   "source": [
    "x[0:15:2]  # Picks out every other row"
   ]
  },
  {
   "cell_type": "code",
   "execution_count": 55,
   "metadata": {},
   "outputs": [
    {
     "data": {
      "text/plain": [
       "array([[ 0.29353398,  1.15651665, -1.03412624, -0.15325807, -0.59822516],\n",
       "       [ 0.4532573 ,  1.01899463,  1.02552608,  1.17861877,  0.54165391],\n",
       "       [-0.11576394,  0.23443441, -2.27902684,  0.2481871 , -1.00494464],\n",
       "       [-0.94316921,  1.76707135,  1.4052262 , -0.91280207, -0.33563648],\n",
       "       [-0.00285762, -0.90949209,  0.86344933,  0.25069007,  1.80172997],\n",
       "       [ 1.07146895, -0.40516137, -0.24196837,  0.6082648 , -0.08628897],\n",
       "       [ 0.51929204,  1.61126471,  0.37977377,  0.27119325,  0.50097619],\n",
       "       [ 0.78240724, -0.1049891 ,  1.89886926,  0.50496068, -0.71110162]])"
      ]
     },
     "execution_count": 55,
     "metadata": {},
     "output_type": "execute_result"
    }
   ],
   "source": [
    "x[::2]  # Picks out every other row"
   ]
  },
  {
   "cell_type": "code",
   "execution_count": 56,
   "metadata": {},
   "outputs": [],
   "source": [
    "x[::2] = 5  # Can be used for assignment as well"
   ]
  },
  {
   "cell_type": "code",
   "execution_count": 57,
   "metadata": {
    "scrolled": true
   },
   "outputs": [
    {
     "data": {
      "text/plain": [
       "array([[ 5.        ,  5.        ,  5.        ,  5.        ,  5.        ],\n",
       "       [-1.51842352,  0.68770911,  0.23796361, -0.01861864,  0.1988749 ],\n",
       "       [ 5.        ,  5.        ,  5.        ,  5.        ,  5.        ],\n",
       "       [ 1.13183391, -1.05390611, -1.22122927, -0.69077775, -0.21716167],\n",
       "       [ 5.        ,  5.        ,  5.        ,  5.        ,  5.        ],\n",
       "       [-0.2056363 , -0.48048667,  0.09834456, -0.12691069, -0.10966838],\n",
       "       [ 5.        ,  5.        ,  5.        ,  5.        ,  5.        ],\n",
       "       [ 0.20329762,  0.86651683, -0.30376737,  0.0190446 , -0.04045995],\n",
       "       [ 5.        ,  5.        ,  5.        ,  5.        ,  5.        ],\n",
       "       [-0.37690951, -0.70690471,  0.5331322 , -0.89442651, -0.39099024],\n",
       "       [ 5.        ,  5.        ,  5.        ,  5.        ,  5.        ],\n",
       "       [-2.15723201,  0.44587792, -0.80460576,  1.52634816,  0.04932397],\n",
       "       [ 5.        ,  5.        ,  5.        ,  5.        ,  5.        ],\n",
       "       [-0.33284666,  1.06108617,  1.07649929,  0.56072327,  0.46381985],\n",
       "       [ 5.        ,  5.        ,  5.        ,  5.        ,  5.        ]])"
      ]
     },
     "execution_count": 57,
     "metadata": {},
     "output_type": "execute_result"
    }
   ],
   "source": [
    "x"
   ]
  },
  {
   "cell_type": "code",
   "execution_count": 58,
   "metadata": {},
   "outputs": [],
   "source": [
    "x = np.array([4, 5, 8])"
   ]
  },
  {
   "cell_type": "code",
   "execution_count": 59,
   "metadata": {
    "scrolled": true
   },
   "outputs": [
    {
     "data": {
      "text/plain": [
       "array([4, 8])"
      ]
     },
     "execution_count": 59,
     "metadata": {},
     "output_type": "execute_result"
    }
   ],
   "source": [
    "x[[True, False, True]]  # Indexing with a boolean array"
   ]
  },
  {
   "cell_type": "code",
   "execution_count": 61,
   "metadata": {},
   "outputs": [],
   "source": [
    "x = np.random.randn(10, 10)"
   ]
  },
  {
   "cell_type": "code",
   "execution_count": 64,
   "metadata": {},
   "outputs": [
    {
     "data": {
      "text/plain": [
       "array([[False, False,  True, False,  True, False,  True,  True, False,\n",
       "        False],\n",
       "       [False,  True,  True,  True, False,  True,  True, False, False,\n",
       "        False],\n",
       "       [ True,  True, False, False,  True,  True,  True, False,  True,\n",
       "        False],\n",
       "       [ True, False, False,  True,  True, False, False,  True, False,\n",
       "        False],\n",
       "       [ True, False, False,  True, False, False,  True, False, False,\n",
       "         True],\n",
       "       [False, False,  True, False, False, False,  True,  True, False,\n",
       "         True],\n",
       "       [False, False,  True,  True, False,  True, False,  True,  True,\n",
       "        False],\n",
       "       [False, False, False,  True,  True, False, False,  True,  True,\n",
       "         True],\n",
       "       [ True,  True, False,  True,  True,  True, False, False,  True,\n",
       "        False],\n",
       "       [ True,  True, False,  True, False,  True,  True, False,  True,\n",
       "         True]])"
      ]
     },
     "execution_count": 64,
     "metadata": {},
     "output_type": "execute_result"
    }
   ],
   "source": [
    "x > 0  # An easy way to create a boolean array"
   ]
  },
  {
   "cell_type": "code",
   "execution_count": 65,
   "metadata": {},
   "outputs": [
    {
     "data": {
      "text/plain": [
       "array([[-0.45744319, -0.76183139,  0.        , -0.89393404,  0.        ,\n",
       "        -0.4349433 ,  0.        ,  0.        , -0.21721513, -0.64351189],\n",
       "       [-0.67145805,  0.        ,  0.        ,  0.        , -0.57921269,\n",
       "         0.        ,  0.        , -1.54363706, -1.57934856, -0.60313616],\n",
       "       [ 0.        ,  0.        , -0.28672962, -0.90762166,  0.        ,\n",
       "         0.        ,  0.        , -0.71726475,  0.        , -0.87784606],\n",
       "       [ 0.        , -0.2097838 , -0.06844702,  0.        ,  0.        ,\n",
       "        -1.60999807, -1.31066437,  0.        , -0.03855939, -2.2148889 ],\n",
       "       [ 0.        , -0.60906079, -1.85890551,  0.        , -2.14618795,\n",
       "        -0.6104607 ,  0.        , -1.30719141, -0.7624578 ,  0.        ],\n",
       "       [-1.31122599, -0.4542714 ,  0.        , -1.97962812, -1.54394078,\n",
       "        -0.11381612,  0.        ,  0.        , -0.25864231,  0.        ],\n",
       "       [-2.02432873, -0.46767927,  0.        ,  0.        , -1.03202924,\n",
       "         0.        , -0.63245916,  0.        ,  0.        , -1.12958458],\n",
       "       [-1.04235382, -0.03965643, -1.0547239 ,  0.        ,  0.        ,\n",
       "        -0.04946448, -0.57779863,  0.        ,  0.        ,  0.        ],\n",
       "       [ 0.        ,  0.        , -0.70305048,  0.        ,  0.        ,\n",
       "         0.        , -0.82100231, -0.51327217,  0.        , -0.37955339],\n",
       "       [ 0.        ,  0.        , -0.19912667,  0.        , -0.5356557 ,\n",
       "         0.        ,  0.        , -0.15059815,  0.        ,  0.        ]])"
      ]
     },
     "execution_count": 65,
     "metadata": {},
     "output_type": "execute_result"
    }
   ],
   "source": [
    "x[x > 0] = 0  # Sets all entries greater than 0 to 0\n",
    "x"
   ]
  },
  {
   "cell_type": "markdown",
   "metadata": {},
   "source": [
    "## Example: Conway's game of life\n",
    "See [here](https://bitstorm.org/gameoflife/) for a demonstration."
   ]
  },
  {
   "cell_type": "code",
   "execution_count": 112,
   "metadata": {
    "scrolled": false
   },
   "outputs": [
    {
     "data": {
      "text/plain": [
       "array([[ True, False,  True, ...,  True,  True, False],\n",
       "       [False,  True,  True, ..., False,  True, False],\n",
       "       [False, False,  True, ..., False, False,  True],\n",
       "       ...,\n",
       "       [False,  True, False, ..., False, False,  True],\n",
       "       [False, False,  True, ..., False, False, False],\n",
       "       [ True, False,  True, ...,  True, False,  True]])"
      ]
     },
     "execution_count": 112,
     "metadata": {},
     "output_type": "execute_result"
    }
   ],
   "source": [
    "X = np.random.rand(60, 60) > 0.5\n",
    "X"
   ]
  },
  {
   "cell_type": "code",
   "execution_count": 92,
   "metadata": {
    "scrolled": true
   },
   "outputs": [],
   "source": [
    "def evolve(X):\n",
    "    counts = np.zeros(X.shape, dtype=int)\n",
    "    counts[:, :-1] += X[:, 1:]\n",
    "    counts[:, 1:] += X[:, :-1]\n",
    "    counts[:-1, :] += X[1:, :]\n",
    "    counts[1:, :] += X[:-1, :]\n",
    "    counts[1:, 1:] += X[:-1, :-1]\n",
    "    counts[:-1, :-1] += X[1:, 1:]\n",
    "    counts[1:, :-1] += X[:-1, 1:]\n",
    "    counts[:-1, 1:] += X[1:, :-1]\n",
    "    \n",
    "#    return (X == 1 and (counts == 2 or counts == 3)) or (X == 0 and counts == 3)\n",
    "    return np.logical_or(np.logical_and(X == 1, np.logical_or(counts == 2, counts == 3)),\n",
    "                         np.logical_and(X == 0, counts == 3))"
   ]
  },
  {
   "cell_type": "code",
   "execution_count": 164,
   "metadata": {},
   "outputs": [
    {
     "ename": "ValueError",
     "evalue": "The truth value of an array with more than one element is ambiguous. Use a.any() or a.all()",
     "output_type": "error",
     "traceback": [
      "\u001b[0;31m---------------------------------------------------------------------------\u001b[0m",
      "\u001b[0;31mValueError\u001b[0m                                Traceback (most recent call last)",
      "\u001b[0;32m<ipython-input-164-d22257adf6f9>\u001b[0m in \u001b[0;36m<module>\u001b[0;34m\u001b[0m\n\u001b[0;32m----> 1\u001b[0;31m \u001b[0mX\u001b[0m \u001b[0;34m==\u001b[0m \u001b[0;36m1\u001b[0m \u001b[0;32mand\u001b[0m \u001b[0mX\u001b[0m \u001b[0;34m==\u001b[0m \u001b[0;36m0\u001b[0m\u001b[0;34m\u001b[0m\u001b[0;34m\u001b[0m\u001b[0m\n\u001b[0m",
      "\u001b[0;31mValueError\u001b[0m: The truth value of an array with more than one element is ambiguous. Use a.any() or a.all()"
     ]
    }
   ],
   "source": [
    "X == 1 and X == 0  # Using `and` operator causes error -- use np.logical_and"
   ]
  },
  {
   "cell_type": "code",
   "execution_count": 91,
   "metadata": {},
   "outputs": [
    {
     "data": {
      "text/plain": [
       "array([[False,  True,  True,  True, False, False],\n",
       "       [ True,  True, False, False,  True,  True],\n",
       "       [ True,  True,  True, False,  True,  True],\n",
       "       [ True,  True,  True,  True, False,  True],\n",
       "       [False,  True,  True,  True, False,  True],\n",
       "       [False, False, False, False,  True,  True]])"
      ]
     },
     "execution_count": 91,
     "metadata": {},
     "output_type": "execute_result"
    }
   ],
   "source": [
    "np.logical_or(counts == 2, counts == 3)"
   ]
  },
  {
   "cell_type": "code",
   "execution_count": 93,
   "metadata": {},
   "outputs": [],
   "source": [
    "import matplotlib.pyplot as plt"
   ]
  },
  {
   "cell_type": "code",
   "execution_count": 95,
   "metadata": {},
   "outputs": [
    {
     "data": {
      "image/png": "[encoded data removed]",
      "text/plain": [
       "<Figure size 432x288 with 1 Axes>"
      ]
     },
     "metadata": {
      "needs_background": "light"
     },
     "output_type": "display_data"
    }
   ],
   "source": [
    "plt.imshow(X)\n",
    "plt.show()"
   ]
  },
  {
   "cell_type": "code",
   "execution_count": 163,
   "metadata": {
    "scrolled": true
   },
   "outputs": [
    {
     "data": {
      "image/png": "[encoded data removed]",
      "text/plain": [
       "<Figure size 432x288 with 1 Axes>"
      ]
     },
     "metadata": {
      "needs_background": "light"
     },
     "output_type": "display_data"
    }
   ],
   "source": [
    "X = evolve(X)\n",
    "plt.imshow(X)\n",
    "plt.show()"
   ]
  },
  {
   "cell_type": "markdown",
   "metadata": {},
   "source": [
    "# Exercise 5\n",
    "Let $A$ be a symmetric matrix, and recall that a pair $(v, \\lambda)$ is called an eigenvector-eigenvalue pair if $Av = \\lambda v$. Use the power method to find the eigenvalue $\\lambda$ with the largest absolute value, and the corresponding eigenvector $v$. Compare with the result returned by `np.linalg.eigh`.\n",
    "\n",
    "Recall that the power method uses repeated matrix multiplication and is given by the following pseudocode:\n",
    "\n",
    "    input) A: an n x n symmetric matrix\n",
    "    outputs) l: the eigenvalue with the largest absolute value\n",
    "             v: the corresponding eigenvector\n",
    "\n",
    "    v <- random vector of length n\n",
    "    while l has not converged:\n",
    "        v <- A v\n",
    "        v <- v / ||v||_2\n",
    "        l <- v^T A v\n",
    "\n",
    "Once your code works, package it in a nice function called `power_method(A)`."
   ]
  },
  {
   "cell_type": "code",
   "execution_count": 2,
   "metadata": {},
   "outputs": [
    {
     "data": {
      "text/plain": [
       "array([[-0.24178827, -0.67219813, -0.96069972, -0.91546674, -1.83795325],\n",
       "       [-0.67219813,  0.03792263,  2.00990397, -0.12159483, -0.60495505],\n",
       "       [-0.96069972,  2.00990397,  2.35135869, -0.52029186,  0.52620875],\n",
       "       [-0.91546674, -0.12159483, -0.52029186, -0.56314795, -2.04582846],\n",
       "       [-1.83795325, -0.60495505,  0.52620875, -2.04582846,  2.66513939]])"
      ]
     },
     "execution_count": 2,
     "metadata": {},
     "output_type": "execute_result"
    }
   ],
   "source": [
    "import numpy as np\n",
    "tmp = np.random.randn(5, 5)\n",
    "A = tmp + tmp.T\n",
    "A"
   ]
  },
  {
   "cell_type": "code",
   "execution_count": 3,
   "metadata": {
    "scrolled": true
   },
   "outputs": [
    {
     "data": {
      "text/plain": [
       "(array([-2.93169321, -1.19145846,  0.44945553,  3.29340449,  4.62977615]),\n",
       " array([[ 0.59038696,  0.07112169,  0.72644738, -0.01844457,  0.34397522],\n",
       "        [ 0.22295261, -0.8182603 ,  0.0091189 ,  0.48783537, -0.206581  ],\n",
       "        [ 0.04053487,  0.5232462 ,  0.19049608,  0.6241006 , -0.54660775],\n",
       "        [ 0.6335589 ,  0.22202231, -0.65847145,  0.20886686,  0.26851296],\n",
       "        [ 0.44575265, -0.04807593, -0.04814201, -0.57319241, -0.68419741]]))"
      ]
     },
     "execution_count": 3,
     "metadata": {},
     "output_type": "execute_result"
    }
   ],
   "source": [
    "np.linalg.eigh(A)  # Returns an array of eigenvalues, and a matrix of eigenvectors"
   ]
  },
  {
   "cell_type": "code",
   "execution_count": 4,
   "metadata": {},
   "outputs": [
    {
     "data": {
      "text/plain": [
       "(5, 5)"
      ]
     },
     "execution_count": 4,
     "metadata": {},
     "output_type": "execute_result"
    }
   ],
   "source": [
    "A.shape"
   ]
  },
  {
   "cell_type": "code",
   "execution_count": 5,
   "metadata": {},
   "outputs": [
    {
     "data": {
      "text/plain": [
       "array([-0.11501239, -0.04625422,  1.26551631, -1.57823719,  1.11033193])"
      ]
     },
     "execution_count": 5,
     "metadata": {},
     "output_type": "execute_result"
    }
   ],
   "source": [
    "v = np.random.randn(A.shape[0])\n",
    "v"
   ]
  },
  {
   "cell_type": "code",
   "execution_count": 16,
   "metadata": {},
   "outputs": [
    {
     "data": {
      "text/plain": [
       "4.629742827294285"
      ]
     },
     "execution_count": 16,
     "metadata": {},
     "output_type": "execute_result"
    }
   ],
   "source": [
    "v = A @ v\n",
    "v = v / np.sqrt(np.sum(v ** 2))\n",
    "v @ A @ v"
   ]
  },
  {
   "cell_type": "code",
   "execution_count": 17,
   "metadata": {},
   "outputs": [
    {
     "data": {
      "text/plain": [
       "array([-0.34284686,  0.20579988,  0.54515867, -0.26785975,  0.68640777])"
      ]
     },
     "execution_count": 17,
     "metadata": {},
     "output_type": "execute_result"
    }
   ],
   "source": [
    "v"
   ]
  },
  {
   "cell_type": "code",
   "execution_count": 20,
   "metadata": {
    "scrolled": true
   },
   "outputs": [
    {
     "name": "stdout",
     "output_type": "stream",
     "text": [
      "[1.2725082725935872, 1.8762314781781344, 2.5574845169625764, 3.2412917271725155, 3.808617112198171, 4.191856439834133, 4.411342757316403, 4.524489144016848, 4.579672036717719, 4.605956748475167, 4.6183998211436466, 4.624305161497739, 4.6271255898465355, 4.62848295662318, 4.6291412174842925, 4.629462704666847, 4.629620696389356, 4.629698755847265, 4.6297374967050695, 4.62975679563133, 4.629766438977619, 4.629771269641225, 4.629773694376011, 4.629774913449582, 4.629775527161442]\n"
     ]
    }
   ],
   "source": [
    "v = np.random.randn(A.shape[0])\n",
    "last_l = 0\n",
    "l = 1\n",
    "ls = []\n",
    "while np.abs(last_l - l) > 0.000001:\n",
    "    v = A @ v\n",
    "    v = v / np.sqrt(np.sum(v ** 2))\n",
    "    last_l = l\n",
    "    l = v @ A @ v\n",
    "    ls.append(l)\n",
    "print(ls)"
   ]
  },
  {
   "cell_type": "code",
   "execution_count": 24,
   "metadata": {},
   "outputs": [
    {
     "data": {
      "text/plain": [
       "array([-3.35726725e+00, -2.75354405e+00, -2.07229101e+00, -1.38848380e+00,\n",
       "       -8.21158415e-01, -4.37919087e-01, -2.18432770e-01, -1.05286383e-01,\n",
       "       -5.01034904e-02, -2.38187787e-02, -1.13757060e-02, -5.47036566e-03,\n",
       "       -2.64993731e-03, -1.29257054e-03, -6.34309677e-04, -3.12822495e-04,\n",
       "       -1.54830772e-04, -7.67713142e-05, -3.80304564e-05, -1.87315301e-05,\n",
       "       -9.08818382e-06, -4.25752022e-06, -1.83278543e-06, -6.13711860e-07,\n",
       "        0.00000000e+00])"
      ]
     },
     "execution_count": 24,
     "metadata": {},
     "output_type": "execute_result"
    }
   ],
   "source": [
    "ls - l "
   ]
  },
  {
   "cell_type": "code",
   "execution_count": 26,
   "metadata": {
    "scrolled": true
   },
   "outputs": [
    {
     "data": {
      "image/png": "[encoded data removed]",
      "text/plain": [
       "<Figure size 432x288 with 1 Axes>"
      ]
     },
     "metadata": {
      "needs_background": "light"
     },
     "output_type": "display_data"
    }
   ],
   "source": [
    "import matplotlib.pyplot as plt\n",
    "plt.plot(np.abs(ls - l))\n",
    "plt.show()"
   ]
  },
  {
   "cell_type": "code",
   "execution_count": 27,
   "metadata": {
    "scrolled": true
   },
   "outputs": [
    {
     "data": {
      "image/png": "[encoded data removed]",
      "text/plain": [
       "<Figure size 432x288 with 1 Axes>"
      ]
     },
     "metadata": {
      "needs_background": "light"
     },
     "output_type": "display_data"
    }
   ],
   "source": [
    "plt.semilogy(np.abs(ls - l))\n",
    "plt.show()"
   ]
  },
  {
   "cell_type": "code",
   "execution_count": 40,
   "metadata": {},
   "outputs": [],
   "source": [
    "def power_method(A, tol=1e-8):\n",
    "    v = np.random.randn(A.shape[0])\n",
    "    last_l = 0\n",
    "    l = 1\n",
    "    while np.abs(last_l - l) > tol:\n",
    "        v = A @ v\n",
    "        v /= np.linalg.norm(v)\n",
    "        last_l = l\n",
    "        l = v @ A @ v\n",
    "    return l, v"
   ]
  },
  {
   "cell_type": "code",
   "execution_count": 41,
   "metadata": {},
   "outputs": [
    {
     "data": {
      "text/plain": [
       "(4.629776145001179,\n",
       " array([-0.34398592,  0.20660579,  0.54664345, -0.26851111,  0.68415675]))"
      ]
     },
     "execution_count": 41,
     "metadata": {},
     "output_type": "execute_result"
    }
   ],
   "source": [
    "power_method(A)"
   ]
  }
 ],
 "metadata": {
  "kernelspec": {
   "display_name": "Python 3",
   "language": "python",
   "name": "python3"
  },
  "language_info": {
   "codemirror_mode": {
    "name": "ipython",
    "version": 3
   },
   "file_extension": ".py",
   "mimetype": "text/x-python",
   "name": "python",
   "nbconvert_exporter": "python",
   "pygments_lexer": "ipython3",
   "version": "3.7.2"
  }
 },
 "nbformat": 4,
 "nbformat_minor": 2
}
