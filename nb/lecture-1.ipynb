{
 "cells": [
  {
   "cell_type": "markdown",
   "metadata": {
    "slideshow": {
     "slide_type": "slide"
    }
   },
   "source": [
    "# CME 193 - Scientific Python\n",
    "### Lecture 1 (4/5)\n",
    "Spring 2016, Stanford University\n"
   ]
  },
  {
   "cell_type": "markdown",
   "metadata": {
    "slideshow": {
     "slide_type": "slide"
    }
   },
   "source": [
    "# Introduction"
   ]
  },
  {
   "cell_type": "markdown",
   "metadata": {
    "collapsed": true,
    "slideshow": {
     "slide_type": "subslide"
    }
   },
   "source": [
    "## Administrative Details\n",
    "* **Time: 10:30 - 11:50 AM, Tu, Th @ [160-124](http://campus-map.stanford.edu/?id=160-124)**\n",
    "* This is the first week! We meet for a total of 4 weeks\n",
    "* 1 credit! P/NP\n",
    "* **Do feel free to audit!**\n",
    "* Sign up for Piazza! piazza.com/stanford/spring2016/cme193\n",
    "* We have a website! icme.github.io/cme193\n",
    "* Please take the Survey (link on website)! **Required for all people taking this for credit** http://goo.gl/forms/ZmrKtReiWC "
   ]
  },
  {
   "cell_type": "markdown",
   "metadata": {
    "slideshow": {
     "slide_type": "subslide"
    }
   },
   "source": [
    "## Instructor\n",
    "\n",
    "* Luke de Oliveira, ICME ([web](http://ldo.io), [email](lukedeo@stanford.edu))\n",
    "* Second year M.S., Data Science Track, B.S. in Applied Math @ Yale\n",
    "* Background in Machine Learning / Mathematics / Particle Physics\n",
    "    * Used Python for AI in particle physics at CERN / LHC\n",
    "* Run a boutique consulting firm for data science driven products in companies\n",
    "    * Mostly Python!\n",
    "* Do feel free to ask questions both directly and tangentially related to class!\n"
   ]
  },
  {
   "cell_type": "markdown",
   "metadata": {
    "slideshow": {
     "slide_type": "slide"
    }
   },
   "source": [
    "# The Class"
   ]
  },
  {
   "cell_type": "markdown",
   "metadata": {
    "slideshow": {
     "slide_type": "subslide"
    }
   },
   "source": [
    "## Philosophy\n",
    "\n",
    "* Significantly faster paced than in the past"
   ]
  },
  {
   "cell_type": "markdown",
   "metadata": {
    "slideshow": {
     "slide_type": "fragment"
    }
   },
   "source": [
    "* Total change in material / target audience"
   ]
  },
  {
   "cell_type": "markdown",
   "metadata": {
    "slideshow": {
     "slide_type": "fragment"
    }
   },
   "source": [
    "* Two components which will comprise the class material\n",
    "    * Foundations (I choose)\n",
    "    * Extensions (you choose!)"
   ]
  },
  {
   "cell_type": "markdown",
   "metadata": {
    "slideshow": {
     "slide_type": "fragment"
    }
   },
   "source": [
    "* **I will assume** that you know (from another language)...\n",
    "    * For-loops\n",
    "    * While-loops\n",
    "    * Conditional Statements (if, else, ...)\n",
    "    * Types, variables, objects, classes\n",
    "    "
   ]
  },
  {
   "cell_type": "markdown",
   "metadata": {
    "slideshow": {
     "slide_type": "fragment"
    }
   },
   "source": [
    "* In general, I'll assume programming maturity...\n",
    "    * Unix / Linux environment should be ok for you, or Windows equivalent\n",
    "    * Stack Overflow :)"
   ]
  },
  {
   "cell_type": "markdown",
   "metadata": {
    "slideshow": {
     "slide_type": "subslide"
    }
   },
   "source": [
    "## Material\n",
    "\n",
    "Foundations\n",
    "* Control, variables, built-in data structures\n",
    "* Comprehension / Generators, Introduction to Numpy\n",
    "* Advanced Numpy + Applications\n",
    "* Scipy + HPC considerations\n",
    "* Object oriented programming and design patterns"
   ]
  },
  {
   "cell_type": "markdown",
   "metadata": {
    "slideshow": {
     "slide_type": "fragment"
    }
   },
   "source": [
    "Extensions\n",
    "* Data Analysis + manipulation\n",
    "    * Revisiting Numpy and Scipy\n",
    "    * Pandas\n",
    "    * Matplotlib\n",
    "* What do you all want? [GOOGLE FORM]\n"
   ]
  },
  {
   "cell_type": "markdown",
   "metadata": {
    "slideshow": {
     "slide_type": "subslide"
    }
   },
   "source": [
    "## Structure\n",
    "* 8 lectures (no video recording, but will be posted online)\n",
    "    * All lectures will be available in four formats:\n",
    "        * Exactly like you see right now... Thanks [Reveal.js](https://github.com/hakimel/reveal.js)\n",
    "        * A PDF\n",
    "        * A jupyter notebook that you can download and run (we'll talk about this later)\n",
    "        * A binder that you can run in the cloud for **free** (we'll talk about this later too)\n",
    "* 2 Homeworks\n",
    "* Office Hours (TBA)"
   ]
  },
  {
   "cell_type": "markdown",
   "metadata": {
    "slideshow": {
     "slide_type": "subslide"
    }
   },
   "source": [
    "## More philosophy\n",
    "\n",
    "* My job is to show you the possibilities and some resources (exercises, limitations, design choices etc.)\n",
    "* Your job is to teach yourself Python (with some help! This is meant to be fun / cool)\n",
    "* If you think you can learn Python by just listening to me, you give me way, way, way too much credit.\""
   ]
  },
  {
   "cell_type": "markdown",
   "metadata": {
    "slideshow": {
     "slide_type": "subslide"
    }
   },
   "source": [
    "# Even *more* philosophy\n",
    "* The internet is an excellent resource. Please, let Google be your friend.\n",
    "* I think the more you struggle and grapple with something, the better you understand it.\n",
    "* Self discovery"
   ]
  },
  {
   "cell_type": "markdown",
   "metadata": {
    "slideshow": {
     "slide_type": "fragment"
    }
   },
   "source": [
    "* practically, typing your question into Google in plain English will lead to an answer on StackOverflow in the first $n$ results, $P(n \\text{ small})\\longrightarrow 1$.\n",
    "* The official documentation is also good, always worth a try (but its rather terse https://docs.python.org/2/)"
   ]
  },
  {
   "cell_type": "markdown",
   "metadata": {
    "slideshow": {
     "slide_type": "slide"
    }
   },
   "source": [
    "# Python\n",
    "\n",
    "What makes Python awesome, useful, and sometimes not-so-awesome?"
   ]
  },
  {
   "cell_type": "markdown",
   "metadata": {
    "slideshow": {
     "slide_type": "subslide"
    }
   },
   "source": [
    "![title](nb-assets/img/python.png)"
   ]
  },
  {
   "cell_type": "markdown",
   "metadata": {
    "slideshow": {
     "slide_type": "subslide"
    }
   },
   "source": [
    "## Pros\n",
    "* Relatively easy to learn\n",
    "* Fast to write code\n",
    "* Intuitive\n",
    "* Very versatile (vs Matlab/R)"
   ]
  },
  {
   "cell_type": "markdown",
   "metadata": {
    "slideshow": {
     "slide_type": "subslide"
    }
   },
   "source": [
    "## Cons\n",
    "* Less control, worse performance (vs. C, naive case)\n",
    "    * Naive Python (read: Python written like C) is *painfully* slow\n",
    "    * If you're careful, you can do just as well as C, though!\n",
    "* Fewer safety handles, responsibility for user"
   ]
  },
  {
   "cell_type": "markdown",
   "metadata": {
    "slideshow": {
     "slide_type": "subslide"
    }
   },
   "source": [
    "## More facts\n",
    "* Python > perl for text manipulation!\n",
    "* Active library variety and development (scikit-learn, Django, Flask, bs4...endless!)\n",
    "* Duck-typed! If it looks like a ndarray, swims like a ndarray, and quacks like a ndarray, then it probably is an ndarray.\n",
    "* Dynamic, interpreted. Line-by-line execution when run."
   ]
  },
  {
   "cell_type": "markdown",
   "metadata": {
    "slideshow": {
     "slide_type": "slide"
    }
   },
   "source": [
    "# Getting into Python"
   ]
  },
  {
   "cell_type": "markdown",
   "metadata": {
    "slideshow": {
     "slide_type": "subslide"
    }
   },
   "source": [
    "## How to install Python\n",
    "\n",
    "* Many alternatives! \n",
    "    * On OSX, I recommend using [homebrew](https://brew.sh)\n",
    "    * On Linux, I'll assume you know what you're doing (hint: it starts with `sudo apt-get install python-dev`)\n",
    "    * On Windows... well, I'm hoping you know more than I do.\n",
    "    "
   ]
  },
  {
   "cell_type": "markdown",
   "metadata": {
    "slideshow": {
     "slide_type": "fragment"
    }
   },
   "source": [
    "* Pending approval, we are going to try a new service called [DataJoy](https://www.getdatajoy.com)\n",
    "    * Cloud based instance manager for a full Python environment!\n",
    "    * No need to install on your system, all you need is your browser."
   ]
  },
  {
   "cell_type": "markdown",
   "metadata": {
    "slideshow": {
     "slide_type": "fragment"
    }
   },
   "source": [
    "See the getting started instructions on the course website for more information."
   ]
  },
  {
   "cell_type": "markdown",
   "metadata": {
    "slideshow": {
     "slide_type": "subslide"
    }
   },
   "source": [
    "## Packages\n",
    "\n",
    "Packages enhance the capabilities of Python, so you don't have to program everything by yourself (it's faster too!).\n",
    "\n",
    "\n",
    "For example: Numpy is a package that adds many linear algebra capabilities, more on that later"
   ]
  },
  {
   "cell_type": "markdown",
   "metadata": {
    "slideshow": {
     "slide_type": "subslide"
    }
   },
   "source": [
    "## How to install packages\n",
    "\n",
    "To install a package (basically, other peoples awesome code) that you do not have, use `pip`, which is the Python package manager.\n",
    "\n",
    "```bash\n",
    "pip install seaborn\n",
    "```"
   ]
  },
  {
   "cell_type": "markdown",
   "metadata": {
    "slideshow": {
     "slide_type": "subslide"
    }
   },
   "source": [
    "## Some sorcery\n",
    "\n",
    "I'm lecturing from something called a [Jupyter Notebook](jupyter.org).\n",
    "\n",
    "It's really a browser based interactive shell for Python! You can install it by typing:\n",
    "\n",
    "```bash\n",
    "sudo pip install jupyter notebook\n",
    "```\n",
    "\n",
    "Remember I mentioned [Binder](http://mybinder.org/)? Well, its basically Jupyter + Kubernetes in your browser! TL;DR, you can run my code in your browser!"
   ]
  },
  {
   "cell_type": "markdown",
   "metadata": {
    "slideshow": {
     "slide_type": "subslide"
    }
   },
   "source": [
    "## Python 3\n",
    "\n",
    "Python 3 has been around for a while and is gaining traction.\n",
    "\n",
    "However, many people still use Python 2, so we will stick with that.\n",
    "\n",
    "Differences are not big, so you can easily switch."
   ]
  },
  {
   "cell_type": "markdown",
   "metadata": {
    "slideshow": {
     "slide_type": "subslide"
    }
   },
   "source": [
    "## How to use Python\n",
    "\n",
    "There are three ways to use Python:\n",
    "\n",
    "* command-line mode: talk directly to the python interpreter\n",
    "* scripting-mode: write code in a file (called script.py, lets say) and run code by typing `python scriptname.py`\n",
    "* Jupyter Notebooks\n",
    "\n",
    "The latter two are what we will focus on in this course, though using the command-line\n",
    "can be useful to quickly check functionality."
   ]
  },
  {
   "cell_type": "markdown",
   "metadata": {
    "slideshow": {
     "slide_type": "subslide"
    }
   },
   "source": [
    "## The interpreter\n",
    "\n",
    "We can start the interpreter by typing `python` in the terminal.\n",
    "\n",
    "\n",
    "Now we can interactively give instructions to the computer, using the Python language."
   ]
  },
  {
   "cell_type": "markdown",
   "metadata": {
    "slideshow": {
     "slide_type": "subslide"
    }
   },
   "source": [
    "## Scripting mode\n",
    "\n",
    "A more convenient way to interact with Python is to write a script.\n",
    "\n",
    "\n",
    "A script contains all code you want to execute. Then you call Python on the script to run the script.\n",
    "\n",
    "\n",
    "First browse, using the terminal, to where the script is saved\n",
    "\n",
    "\n",
    "Then call `python scriptname.py`"
   ]
  },
  {
   "cell_type": "markdown",
   "metadata": {
    "slideshow": {
     "slide_type": "slide"
    }
   },
   "source": [
    "# Code"
   ]
  },
  {
   "cell_type": "markdown",
   "metadata": {
    "slideshow": {
     "slide_type": "slide"
    }
   },
   "source": [
    "## Printing\n",
    "\n",
    "Let's get our Hello World out of the way. We can use the `print` keyword in Python to print to `stdout`."
   ]
  },
  {
   "cell_type": "code",
   "execution_count": 1,
   "metadata": {
    "collapsed": false,
    "slideshow": {
     "slide_type": "-"
    }
   },
   "outputs": [
    {
     "name": "stdout",
     "output_type": "stream",
     "text": [
      "Hello, CME193!\n",
      "You will be an awesome class.\n"
     ]
    }
   ],
   "source": [
    "print 'Hello, CME193!'\n",
    "print 'You will be an awesome class.'"
   ]
  },
  {
   "cell_type": "markdown",
   "metadata": {
    "slideshow": {
     "slide_type": "subslide"
    }
   },
   "source": [
    "Easy right? Not very interesting. \n",
    "\n",
    "Let's talk about variables."
   ]
  },
  {
   "cell_type": "markdown",
   "metadata": {
    "slideshow": {
     "slide_type": "slide"
    }
   },
   "source": [
    "## Variables\n",
    "\n",
    "Think of them as containers! High level, they store an instance of a type. Variables have names which allow you to abstract and use them in your code.\n",
    "\n",
    "Let's define (from 30,000 ft)\n",
    "\n",
    "* type\n",
    "* instance\n",
    "\n",
    "Tons of types! Some examples:\n",
    "\n",
    "* **bool**ean True/False\n",
    "* **str**ing “Hello, world!”\n",
    "* **int**eger 92\n",
    "* **float** 3.1415\n"
   ]
  },
  {
   "cell_type": "code",
   "execution_count": 4,
   "metadata": {
    "collapsed": false,
    "slideshow": {
     "slide_type": "subslide"
    }
   },
   "outputs": [
    {
     "data": {
      "text/plain": [
       "bool"
      ]
     },
     "execution_count": 4,
     "metadata": {},
     "output_type": "execute_result"
    }
   ],
   "source": [
    "type(True)"
   ]
  },
  {
   "cell_type": "code",
   "execution_count": 5,
   "metadata": {
    "collapsed": false,
    "slideshow": {
     "slide_type": "fragment"
    }
   },
   "outputs": [
    {
     "data": {
      "text/plain": [
       "str"
      ]
     },
     "execution_count": 5,
     "metadata": {},
     "output_type": "execute_result"
    }
   ],
   "source": [
    "type('Hello')"
   ]
  },
  {
   "cell_type": "code",
   "execution_count": 3,
   "metadata": {
    "collapsed": false,
    "slideshow": {
     "slide_type": "subslide"
    }
   },
   "outputs": [
    {
     "name": "stdout",
     "output_type": "stream",
     "text": [
      "Luke de Oliveira is teaching CME 193\n"
     ]
    }
   ],
   "source": [
    "name = 'Luke de Oliveira'\n",
    "course = 'CME 193'\n",
    "\n",
    "# this string is a comment, it is marked by a hashtag\n",
    "# join the strings together using the `+` operator\n",
    "print name + ' is teaching ' + course"
   ]
  },
  {
   "cell_type": "markdown",
   "metadata": {
    "slideshow": {
     "slide_type": "subslide"
    }
   },
   "source": [
    "why is this useful and good?\n",
    "\n",
    "* Easier to update code\n",
    "* Easier to understand code (useful naming)"
   ]
  },
  {
   "cell_type": "markdown",
   "metadata": {
    "slideshow": {
     "slide_type": "subslide"
    }
   },
   "source": [
    "## Keywords\n",
    "Not allowed to use keywords as variable names, they define structure and rules of the language.\n",
    "\n",
    "Python has 29 keywords, they include:\n",
    "* and\n",
    "* def\n",
    "* for\n",
    "* return\n",
    "* is\n",
    "* in\n",
    "* class"
   ]
  },
  {
   "cell_type": "markdown",
   "metadata": {
    "slideshow": {
     "slide_type": "slide"
    }
   },
   "source": [
    "# Primitive types\n",
    "\n",
    "Let's talk really fast about some primitive types: floats, ints, strings, booleans"
   ]
  },
  {
   "cell_type": "markdown",
   "metadata": {
    "slideshow": {
     "slide_type": "subslide"
    }
   },
   "source": [
    "## Integers\n",
    "Operators for integers\n",
    "\n",
    "```python\n",
    "+ - * / % **\n",
    "```\n",
    "\n",
    "**Note:** `/` uses integer division:\n",
    "* `5 / 2` yields `2`\n",
    "* if one of the operands is a float, the return value is a float\n",
    "    * `5 / 2.0` yields `2.5`\n",
    "* Note: Python automatically uses long integers for very large integers."
   ]
  },
  {
   "cell_type": "markdown",
   "metadata": {
    "slideshow": {
     "slide_type": "subslide"
    }
   },
   "source": [
    "## Floats\n",
    "\n",
    "A floating point number approximates a real number.\n",
    "\n",
    "Note: only finite precision, and finite range (overflow)!\n",
    "\n",
    "Operators for floats\n",
    "* `+` addition\n",
    "* `-` subtraction\n",
    "* `*` multiplication\n",
    "* `/` division\n",
    "* `**` power"
   ]
  },
  {
   "cell_type": "markdown",
   "metadata": {
    "slideshow": {
     "slide_type": "subslide"
    }
   },
   "source": [
    "## Logical statements\n",
    "\n",
    "Boolean expressions:\n",
    "* `==` equals: `5 == 5` yields `True`\n",
    "* `!=` does not equal: `5 != 5` yields `False`\n",
    "* `>` greater than: `5 > 4` yields `True`\n",
    "* `>=` greater than or equal: `5 >= 5` yields `True`\n",
    "* Similarly, we have `<` and `<=`.\n",
    "\n",
    "Logical operators:\n",
    "* `True and False` yields `False`\n",
    "* `True or False` yields `True`\n",
    "* `not True` yields `False`"
   ]
  },
  {
   "cell_type": "markdown",
   "metadata": {
    "slideshow": {
     "slide_type": "subslide"
    }
   },
   "source": [
    "## Strings\n",
    "\n",
    "Very briefly, you can add strings, format them, and do a variety of manipulations. Could have an entire lecture on string manipulation!\n"
   ]
  },
  {
   "cell_type": "code",
   "execution_count": 9,
   "metadata": {
    "collapsed": false
   },
   "outputs": [
    {
     "name": "stdout",
     "output_type": "stream",
     "text": [
      "Joe lives in Palo Alto\n",
      "We know that Joe lives in Palo Alto\n",
      "It is known that Joe resides in Palo Alto\n",
      "IT IS KNOWN THAT JOE RESIDES IN PALO ALTO\n",
      "it is known that joe resides in palo alto\n"
     ]
    }
   ],
   "source": [
    "name = 'Joe'\n",
    "place = 'Palo Alto'\n",
    "\n",
    "print name + ' lives in ' + place\n",
    "print 'We know that {} lives in {}'.format(name, place)\n",
    "\n",
    "statement = \"It is known that %s resides in %s\" % (name, place)\n",
    "\n",
    "print statement\n",
    "\n",
    "print statement.upper()\n",
    "\n",
    "print statement.lower()"
   ]
  },
  {
   "cell_type": "markdown",
   "metadata": {
    "slideshow": {
     "slide_type": "slide"
    }
   },
   "source": [
    "# Control Flow\n",
    "\n",
    "Control statements allow you to do more complicated tasks.\n",
    "* If\n",
    "* For\n",
    "* While\n",
    "\n",
    "They allow you to encode decision and repeating processes into your code!"
   ]
  },
  {
   "cell_type": "markdown",
   "metadata": {
    "slideshow": {
     "slide_type": "slide"
    }
   },
   "source": [
    "## Conditional statements\n",
    "\n",
    "Allows us to check state of a program, and make decisions based on that"
   ]
  },
  {
   "cell_type": "code",
   "execution_count": 10,
   "metadata": {
    "collapsed": false,
    "slideshow": {
     "slide_type": "subslide"
    }
   },
   "outputs": [
    {
     "name": "stdout",
     "output_type": "stream",
     "text": [
      "We're in class right now\n"
     ]
    }
   ],
   "source": [
    "in_class = True\n",
    "\n",
    "if in_class:\n",
    "    print \"We're in class right now\"\n",
    "else:\n",
    "    print \"We're not in class...\""
   ]
  },
  {
   "cell_type": "code",
   "execution_count": 11,
   "metadata": {
    "collapsed": false,
    "slideshow": {
     "slide_type": "subslide"
    }
   },
   "outputs": [
    {
     "name": "stdout",
     "output_type": "stream",
     "text": [
      "Rob is here\n"
     ]
    }
   ],
   "source": [
    "name = 'Rob'\n",
    "\n",
    "if name == 'Rob':\n",
    "    # we only get here if the condition is true\n",
    "    print 'Rob is here'\n",
    "elif name == 'Jen':\n",
    "    print 'Jen is here'\n",
    "else:\n",
    "    print \"Someone who we don't know is here!\"\n",
    "# no matter what, we get here!"
   ]
  },
  {
   "cell_type": "markdown",
   "metadata": {
    "slideshow": {
     "slide_type": "subslide"
    }
   },
   "source": [
    "### Generic Form:\n",
    "\n",
    "```python\n",
    "if condition1:\n",
    "    command1\n",
    "elif condition2:\n",
    "    command2\n",
    "else:\n",
    "    command3\n",
    "# this is always reached! (Well, unless you have an error in your logical statements...)\n",
    "nextcommand \n",
    "```"
   ]
  },
  {
   "cell_type": "markdown",
   "metadata": {
    "slideshow": {
     "slide_type": "slide"
    }
   },
   "source": [
    "## For loops\n",
    "\n",
    "For loops allow you to iterate over containers or generators in Python!"
   ]
  },
  {
   "cell_type": "markdown",
   "metadata": {
    "slideshow": {
     "slide_type": "subslide"
    }
   },
   "source": [
    "Slightly different from C-style loops\n",
    "\n",
    "**C:**\n",
    "```c\n",
    "int i;\n",
    "for (i = 0; i < 10; ++i) {\n",
    "    printf(\"Number %i\\n\", i);\n",
    "}\n",
    "```\n",
    "\n",
    "**Python:**\n",
    "```python\n",
    "for i in xrange(10):\n",
    "    print 'Number %i' % i\n",
    "```"
   ]
  },
  {
   "cell_type": "markdown",
   "metadata": {
    "slideshow": {
     "slide_type": "subslide"
    }
   },
   "source": [
    "# What sorts of things can we iterate over?\n",
    "\n",
    "* lists\n",
    "* tuples\n",
    "* sets\n",
    "* numpy arrays\n",
    "* (most things!)\n",
    "\n",
    "We'll talk about these next lecture!"
   ]
  },
  {
   "cell_type": "code",
   "execution_count": 12,
   "metadata": {
    "collapsed": false,
    "slideshow": {
     "slide_type": "subslide"
    }
   },
   "outputs": [
    {
     "name": "stdout",
     "output_type": "stream",
     "text": [
      "Number 0\n",
      "Number 1\n",
      "Number 2\n",
      "Number 3\n",
      "Number 4\n",
      "Number 5\n",
      "Number 6\n",
      "Number 7\n",
      "Number 8\n",
      "Number 9\n"
     ]
    }
   ],
   "source": [
    "# this iterates over a *generator*\n",
    "for i in xrange(10):\n",
    "    print 'Number %i' % i"
   ]
  },
  {
   "cell_type": "code",
   "execution_count": 13,
   "metadata": {
    "collapsed": false,
    "slideshow": {
     "slide_type": "fragment"
    }
   },
   "outputs": [
    {
     "name": "stdout",
     "output_type": "stream",
     "text": [
      "Number 0\n",
      "Number 1\n",
      "Number 2\n",
      "Number 3\n",
      "Number 4\n",
      "Number 5\n",
      "Number 6\n",
      "Number 7\n",
      "Number 8\n",
      "Number 9\n"
     ]
    }
   ],
   "source": [
    "# this iterates over a *list*\n",
    "for i in range(10):\n",
    "    print 'Number %i' % i\n",
    "    \n",
    "# you rarely will want range() over xrange()!!!"
   ]
  },
  {
   "cell_type": "markdown",
   "metadata": {
    "slideshow": {
     "slide_type": "subslide"
    }
   },
   "source": [
    "Let's use a slightly more interesting example!"
   ]
  },
  {
   "cell_type": "code",
   "execution_count": 14,
   "metadata": {
    "collapsed": false,
    "slideshow": {
     "slide_type": "fragment"
    }
   },
   "outputs": [
    {
     "name": "stdout",
     "output_type": "stream",
     "text": [
      "Luke is a student\n",
      "Sally is a student\n",
      "Robert is a student\n",
      "Danielle is a student\n"
     ]
    }
   ],
   "source": [
    "# this is a list! More on this very soon! Think of it as a sort of array\n",
    "names = ['Luke', 'Sally', 'Robert', 'Danielle']\n",
    "\n",
    "for name in names:\n",
    "    print '%s is a student' % name\n",
    "\n"
   ]
  },
  {
   "cell_type": "markdown",
   "metadata": {
    "slideshow": {
     "slide_type": "slide"
    }
   },
   "source": [
    "## While loops\n",
    "\n",
    "When you don't know how many iterations you'll need to do something, consider a while loop!"
   ]
  },
  {
   "cell_type": "code",
   "execution_count": 15,
   "metadata": {
    "collapsed": false,
    "slideshow": {
     "slide_type": "fragment"
    }
   },
   "outputs": [
    {
     "name": "stdout",
     "output_type": "stream",
     "text": [
      "1\n",
      "4\n",
      "36\n",
      "1764\n"
     ]
    }
   ],
   "source": [
    "i = 1\n",
    "while i < 100:\n",
    "    print i**2\n",
    "    i += i**2 # a += b is short for a = a + b"
   ]
  },
  {
   "cell_type": "markdown",
   "metadata": {
    "slideshow": {
     "slide_type": "fragment"
    }
   },
   "source": [
    "This can be incredibly useful for things like simulations, optimization, etc."
   ]
  },
  {
   "cell_type": "markdown",
   "metadata": {
    "slideshow": {
     "slide_type": "slide"
    }
   },
   "source": [
    "## Continue statements\n",
    "\n",
    "Continue statements allow you to skip an iteration through a for or while loop"
   ]
  },
  {
   "cell_type": "code",
   "execution_count": 16,
   "metadata": {
    "collapsed": false,
    "slideshow": {
     "slide_type": "subslide"
    }
   },
   "outputs": [
    {
     "name": "stdout",
     "output_type": "stream",
     "text": [
      "Found 2, an even number\n",
      "Found 3, an odd number\n",
      "Found 4, an even number\n",
      "Found 5, an odd number\n",
      "Found 6, an even number\n",
      "Found 7, an odd number\n",
      "Found 8, an even number\n",
      "Found 9, an odd number\n"
     ]
    }
   ],
   "source": [
    "for num in range(2, 10):\n",
    "    if num % 2 == 0:\n",
    "        print \"Found {}, an even number\".format(num)\n",
    "        continue \n",
    "    print \"Found {}, an odd number\".format(num)"
   ]
  },
  {
   "cell_type": "code",
   "execution_count": 17,
   "metadata": {
    "collapsed": false,
    "slideshow": {
     "slide_type": "fragment"
    }
   },
   "outputs": [
    {
     "name": "stdout",
     "output_type": "stream",
     "text": [
      "Found 2, an even number\n",
      "Found 3, an odd number\n",
      "Found 4, an even number\n",
      "Found 5, an odd number\n",
      "Found 6, an even number\n",
      "Found 7, an odd number\n",
      "Found 8, an even number\n",
      "Found 9, an odd number\n"
     ]
    }
   ],
   "source": [
    "for num in range(2, 10):# <---------------------------\\\n",
    "    if num % 2 == 0:#                                  \\\n",
    "        print \"Found {}, an even number\".format(num)#  |\n",
    "        continue # this jumps us back to the top -----/\n",
    "    print \"Found {}, an odd number\".format(num)"
   ]
  },
  {
   "cell_type": "markdown",
   "metadata": {
    "slideshow": {
     "slide_type": "slide"
    }
   },
   "source": [
    "## Break statements\n",
    "\n",
    "Break statements allow you to jump out of a loop completely"
   ]
  },
  {
   "cell_type": "code",
   "execution_count": 21,
   "metadata": {
    "collapsed": false,
    "slideshow": {
     "slide_type": "subslide"
    }
   },
   "outputs": [
    {
     "name": "stdout",
     "output_type": "stream",
     "text": [
      "2 is a prime number\n",
      "3 is a prime number\n",
      "4 equals 2 * 2\n",
      "5 is a prime number\n",
      "6 equals 2 * 3\n",
      "7 is a prime number\n",
      "8 equals 2 * 4\n",
      "9 equals 3 * 3\n"
     ]
    }
   ],
   "source": [
    "max_n = 10\n",
    "for n in range(2, max_n):\n",
    "    for x in range(2, n):\n",
    "        if n % x == 0: # n divisible by x\n",
    "            print n, 'equals', x, '*', n/x\n",
    "            break\n",
    "    # else loop with no if statement!!!\n",
    "    else: # executed if no break in for loop\n",
    "        # loop fell through without finding a factor\n",
    "        print n, 'is a prime number'"
   ]
  },
  {
   "cell_type": "markdown",
   "metadata": {
    "slideshow": {
     "slide_type": "slide"
    }
   },
   "source": [
    "## Pass Statements\n",
    "\n",
    "A pass statement does nothing!\n",
    "\n",
    "Useful for marking things as a sort of \"to implement\""
   ]
  },
  {
   "cell_type": "code",
   "execution_count": 22,
   "metadata": {
    "collapsed": true,
    "slideshow": {
     "slide_type": "fragment"
    }
   },
   "outputs": [],
   "source": [
    "name = 'Luke'\n",
    "\n",
    "if name == 'Luke':\n",
    "    pass # to implement\n",
    "else:\n",
    "    print 'Name isnt Luke!'"
   ]
  },
  {
   "cell_type": "markdown",
   "metadata": {
    "slideshow": {
     "slide_type": "slide"
    }
   },
   "source": [
    "# Time permitting..."
   ]
  },
  {
   "cell_type": "markdown",
   "metadata": {
    "slideshow": {
     "slide_type": "slide"
    }
   },
   "source": [
    "# Functions\n",
    "\n",
    "\n",
    "Use your mathematical intution on this! Formally, a function maps a collection of arguments to a resulting type"
   ]
  },
  {
   "cell_type": "code",
   "execution_count": null,
   "metadata": {
    "collapsed": true,
    "slideshow": {
     "slide_type": "subslide"
    }
   },
   "outputs": [],
   "source": [
    "# def tells python you're trying to declare a function\n",
    "def triange_area(base, height):\n",
    "    # the function takes input arguments \n",
    "    # (these variables are def'd in the function scope)\n",
    "    \n",
    "    # return keyword shoots the result out of the function\n",
    "    return 0.5 * base * height"
   ]
  },
  {
   "cell_type": "code",
   "execution_count": 23,
   "metadata": {
    "collapsed": false,
    "slideshow": {
     "slide_type": "fragment"
    }
   },
   "outputs": [
    {
     "name": "stdout",
     "output_type": "stream",
     "text": [
      "base = 4, height = 4.3, area = 8.6\n"
     ]
    }
   ],
   "source": [
    "base = 4\n",
    "height = 4.3\n",
    "\n",
    "print 'base = {}, height = {}, area = {}'.format(\n",
    "    base, \n",
    "    height, \n",
    "    triange_area(base, height)\n",
    ")"
   ]
  },
  {
   "cell_type": "markdown",
   "metadata": {
    "slideshow": {
     "slide_type": "subslide"
    }
   },
   "source": [
    "By default, Python returns `None`\n",
    "\n",
    "Once Python hits `return`, it will return the output and jump out of the function\n",
    "\n",
    "```python\n",
    "def loop():\n",
    "    for x in xrange(10):\n",
    "        print x\n",
    "        if x == 3:\n",
    "            return\n",
    "```"
   ]
  },
  {
   "cell_type": "code",
   "execution_count": 24,
   "metadata": {
    "collapsed": true,
    "slideshow": {
     "slide_type": "skip"
    }
   },
   "outputs": [],
   "source": [
    "def loop():\n",
    "    for x in xrange(10):\n",
    "        print x\n",
    "        if x == 3:\n",
    "            return"
   ]
  },
  {
   "cell_type": "code",
   "execution_count": 25,
   "metadata": {
    "collapsed": false,
    "slideshow": {
     "slide_type": "fragment"
    }
   },
   "outputs": [
    {
     "name": "stdout",
     "output_type": "stream",
     "text": [
      "0\n",
      "1\n",
      "2\n",
      "3\n"
     ]
    }
   ],
   "source": [
    "loop()"
   ]
  },
  {
   "cell_type": "markdown",
   "metadata": {
    "slideshow": {
     "slide_type": "subslide"
    }
   },
   "source": [
    "**Everything** in Python is an object and can be passed to a function!\n",
    "\n",
    "```python\n",
    "def twice(f, x):\n",
    "    return f(f(x))\n",
    "```"
   ]
  },
  {
   "cell_type": "code",
   "execution_count": 26,
   "metadata": {
    "collapsed": true,
    "slideshow": {
     "slide_type": "skip"
    }
   },
   "outputs": [],
   "source": [
    "def twice(f, x):\n",
    "    return f(f(x))"
   ]
  },
  {
   "cell_type": "code",
   "execution_count": 27,
   "metadata": {
    "collapsed": true,
    "slideshow": {
     "slide_type": "fragment"
    }
   },
   "outputs": [],
   "source": [
    "def square(x):\n",
    "    return x ** 2"
   ]
  },
  {
   "cell_type": "code",
   "execution_count": 28,
   "metadata": {
    "collapsed": false,
    "slideshow": {
     "slide_type": "fragment"
    }
   },
   "outputs": [
    {
     "name": "stdout",
     "output_type": "stream",
     "text": [
      "256\n"
     ]
    }
   ],
   "source": [
    "print twice(square, 4)"
   ]
  },
  {
   "cell_type": "markdown",
   "metadata": {
    "slideshow": {
     "slide_type": "subslide"
    }
   },
   "source": [
    "Let's combine some things we've learned!\n",
    "\n",
    "```python\n",
    "def n_apply(f, x, n):\n",
    "    for _ in xrange(n):\n",
    "        x = f(x)\n",
    "    return x\n",
    "```"
   ]
  },
  {
   "cell_type": "code",
   "execution_count": 29,
   "metadata": {
    "collapsed": true,
    "slideshow": {
     "slide_type": "skip"
    }
   },
   "outputs": [],
   "source": [
    "def n_apply(f, x, n):\n",
    "    for _ in xrange(n):\n",
    "        x = f(x)\n",
    "    return x"
   ]
  },
  {
   "cell_type": "code",
   "execution_count": 31,
   "metadata": {
    "collapsed": false,
    "slideshow": {
     "slide_type": "fragment"
    }
   },
   "outputs": [
    {
     "name": "stdout",
     "output_type": "stream",
     "text": [
      "256\n",
      "256\n",
      "65536\n"
     ]
    }
   ],
   "source": [
    "print twice(square, 4)\n",
    "print n_apply(square, 4, 2)\n",
    "print n_apply(square, 4, 3)"
   ]
  },
  {
   "cell_type": "markdown",
   "metadata": {
    "slideshow": {
     "slide_type": "slide"
    }
   },
   "source": [
    "# Next time...\n",
    "\n",
    "* Python built-in data structures\n",
    "* Comprehension\n",
    "* Intro to Numpy"
   ]
  }
 ],
 "metadata": {
  "celltoolbar": "Slideshow",
  "kernelspec": {
   "display_name": "Python 2",
   "language": "python",
   "name": "python2"
  },
  "language_info": {
   "codemirror_mode": {
    "name": "ipython",
    "version": 2
   },
   "file_extension": ".py",
   "mimetype": "text/x-python",
   "name": "python",
   "nbconvert_exporter": "python",
   "pygments_lexer": "ipython2",
   "version": "2.7.10"
  }
 },
 "nbformat": 4,
 "nbformat_minor": 0
}
