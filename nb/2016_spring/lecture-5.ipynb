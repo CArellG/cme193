{
 "cells": [
  {
   "cell_type": "markdown",
   "metadata": {
    "slideshow": {
     "slide_type": "slide"
    }
   },
   "source": [
    "# CME 193 - Scientific Python\n",
    "### Lecture 5 (4/21)\n",
    "Spring 2016, Stanford University"
   ]
  },
  {
   "cell_type": "markdown",
   "metadata": {
    "slideshow": {
     "slide_type": "slide"
    }
   },
   "source": [
    "## Last time...\n",
    "* Some more advanced numpy\n",
    "* Some plotting\n",
    "* A cool SciPy example!"
   ]
  },
  {
   "cell_type": "markdown",
   "metadata": {
    "slideshow": {
     "slide_type": "subslide"
    }
   },
   "source": [
    "## Today...\n",
    "* A programming paradigm!\n",
    "* Description of Homework (plus some input from you)"
   ]
  },
  {
   "cell_type": "markdown",
   "metadata": {
    "slideshow": {
     "slide_type": "slide"
    }
   },
   "source": [
    "# Quick Numpy"
   ]
  },
  {
   "cell_type": "markdown",
   "metadata": {
    "slideshow": {
     "slide_type": "subslide"
    }
   },
   "source": [
    "## Array Broadcasting"
   ]
  },
  {
   "cell_type": "markdown",
   "metadata": {
    "slideshow": {
     "slide_type": "subslide"
    }
   },
   "source": [
    "When operating on two arrays, numpy compares shapes. Two dimensions are compatible when:"
   ]
  },
  {
   "cell_type": "markdown",
   "metadata": {
    "slideshow": {
     "slide_type": "fragment"
    }
   },
   "source": [
    "* They are of equal size\n",
    "* One of them is 1"
   ]
  },
  {
   "cell_type": "markdown",
   "metadata": {
    "slideshow": {
     "slide_type": "fragment"
    }
   },
   "source": [
    "What does this look like in a picture?"
   ]
  },
  {
   "cell_type": "markdown",
   "metadata": {
    "slideshow": {
     "slide_type": "subslide"
    }
   },
   "source": [
    "![bc](./nb-assets/img/broadcasting.png)"
   ]
  },
  {
   "cell_type": "markdown",
   "metadata": {
    "slideshow": {
     "slide_type": "subslide"
    }
   },
   "source": [
    "Quick example with Scipy!"
   ]
  },
  {
   "cell_type": "code",
   "execution_count": 1,
   "metadata": {
    "collapsed": true,
    "slideshow": {
     "slide_type": "subslide"
    }
   },
   "outputs": [],
   "source": [
    "from scipy.optimize import leastsq, fmin\n",
    "from numpy import sin, cos, pi, sqrt\n",
    "import numpy as np\n",
    "import matplotlib.pyplot as plt\n",
    "%matplotlib inline"
   ]
  },
  {
   "cell_type": "code",
   "execution_count": 2,
   "metadata": {
    "collapsed": true,
    "slideshow": {
     "slide_type": "subslide"
    }
   },
   "outputs": [],
   "source": [
    "# Define a simple signal model\n",
    "def model(par):\n",
    "    p = 2.0\n",
    "    return par[0] + par[1]*sin(2*pi*t/p) + (t/5) ** 2 * par[2]*(cos(2*pi*t/(p*(t + 1))))**2"
   ]
  },
  {
   "cell_type": "code",
   "execution_count": 3,
   "metadata": {
    "collapsed": false,
    "slideshow": {
     "slide_type": "fragment"
    }
   },
   "outputs": [
    {
     "data": {
      "text/plain": [
       "[<matplotlib.lines.Line2D at 0x10e2cb710>]"
      ]
     },
     "execution_count": 3,
     "metadata": {},
     "output_type": "execute_result"
    },
    {
     "data": {
      "image/png": "[encoded data removed]",
      "text/plain": [
       "<matplotlib.figure.Figure at 0x10e1fff90>"
      ]
     },
     "metadata": {},
     "output_type": "display_data"
    }
   ],
   "source": [
    "# Create some data with this model\n",
    "par = [0.1, 1.5, 2]\n",
    "t = np.linspace(0, 4 * pi, 300)\n",
    "y = model(par)\n",
    "\n",
    "plt.plot(t, y, label='data')"
   ]
  },
  {
   "cell_type": "code",
   "execution_count": 4,
   "metadata": {
    "collapsed": false,
    "slideshow": {
     "slide_type": "subslide"
    }
   },
   "outputs": [],
   "source": [
    "# Add a bit of gaussian noise\n",
    "dy = 3*np.random.normal(0, 1, y.shape[0])\n",
    "y += dy"
   ]
  },
  {
   "cell_type": "code",
   "execution_count": 5,
   "metadata": {
    "collapsed": false,
    "slideshow": {
     "slide_type": "fragment"
    }
   },
   "outputs": [
    {
     "data": {
      "text/plain": [
       "[<matplotlib.lines.Line2D at 0x10e2dfb10>]"
      ]
     },
     "execution_count": 5,
     "metadata": {},
     "output_type": "execute_result"
    },
    {
     "data": {
      "image/png": "[encoded data removed]",
      "text/plain": [
       "<matplotlib.figure.Figure at 0x10e3b5210>"
      ]
     },
     "metadata": {},
     "output_type": "display_data"
    }
   ],
   "source": [
    "plt.plot(t, y, label='data')"
   ]
  },
  {
   "cell_type": "code",
   "execution_count": 6,
   "metadata": {
    "collapsed": true,
    "slideshow": {
     "slide_type": "subslide"
    }
   },
   "outputs": [],
   "source": [
    "# error function we minimize, simply the 1-norm\n",
    "def resid(par):\n",
    "    return np.sum(np.abs(model(par)-y))"
   ]
  },
  {
   "cell_type": "code",
   "execution_count": 7,
   "metadata": {
    "collapsed": false,
    "slideshow": {
     "slide_type": "fragment"
    }
   },
   "outputs": [
    {
     "name": "stdout",
     "output_type": "stream",
     "text": [
      "Optimization terminated successfully.\n",
      "         Current function value: 771.340985\n",
      "         Iterations: 204\n",
      "         Function evaluations: 363\n"
     ]
    }
   ],
   "source": [
    "x0 = np.array([0, 0, 0])\n",
    "rez = fmin(resid, x0)"
   ]
  },
  {
   "cell_type": "code",
   "execution_count": 8,
   "metadata": {
    "collapsed": false,
    "slideshow": {
     "slide_type": "fragment"
    }
   },
   "outputs": [
    {
     "name": "stdout",
     "output_type": "stream",
     "text": [
      "Exact parameters:  [0.1, 1.5, 2]\n",
      "Fitted parameters: [-0.07911866  1.47540444  2.1042333 ]\n"
     ]
    }
   ],
   "source": [
    "print 'Exact parameters: ', par\n",
    "print 'Fitted parameters:', rez"
   ]
  },
  {
   "cell_type": "code",
   "execution_count": 9,
   "metadata": {
    "collapsed": false,
    "slideshow": {
     "slide_type": "subslide"
    }
   },
   "outputs": [
    {
     "data": {
      "text/plain": [
       "<matplotlib.legend.Legend at 0x10e5dcc10>"
      ]
     },
     "execution_count": 9,
     "metadata": {},
     "output_type": "execute_result"
    },
    {
     "data": {
      "image/png": "[encoded data removed]",
      "text/plain": [
       "<matplotlib.figure.Figure at 0x10e34efd0>"
      ]
     },
     "metadata": {},
     "output_type": "display_data"
    }
   ],
   "source": [
    "plt.plot(t, y, label='Data', color='blue')\n",
    "plt.plot(t, model(rez), label='Estimated', color='red', linewidth=2)\n",
    "plt.plot(t, model(par), '--', label='Actual', color='lime', linewidth=2)\n",
    "plt.legend(loc=4)"
   ]
  },
  {
   "cell_type": "markdown",
   "metadata": {
    "slideshow": {
     "slide_type": "slide"
    }
   },
   "source": [
    "## Classes"
   ]
  },
  {
   "cell_type": "markdown",
   "metadata": {
    "slideshow": {
     "slide_type": "subslide"
    }
   },
   "source": [
    "So far, we have seen many objects in the course that come standard with Python. "
   ]
  },
  {
   "cell_type": "markdown",
   "metadata": {
    "slideshow": {
     "slide_type": "fragment"
    }
   },
   "source": [
    "* Integers\n",
    "* Strings \n",
    "* Lists \n",
    "* Dictionaries\n",
    "* Sets\n",
    "* etc..."
   ]
  },
  {
   "cell_type": "markdown",
   "metadata": {
    "slideshow": {
     "slide_type": "fragment"
    }
   },
   "source": [
    "But often, one wants to build (much) more complicated structures! (why...)"
   ]
  },
  {
   "cell_type": "markdown",
   "metadata": {
    "slideshow": {
     "slide_type": "fragment"
    }
   },
   "source": [
    "As usual with programming, we want to *abstract* concepts away."
   ]
  },
  {
   "cell_type": "markdown",
   "metadata": {
    "slideshow": {
     "slide_type": "subslide"
    }
   },
   "source": [
    "Suppose you have a program that needs to store all information about houses. How are we storing all information about this house?"
   ]
  },
  {
   "cell_type": "markdown",
   "metadata": {
    "slideshow": {
     "slide_type": "fragment"
    }
   },
   "source": [
    "A house might be a list with two elements, one for rooms, one for construction information.\n",
    "\n",
    "```\n",
    "house = [{bathroom: ..., kitchen: ...}, [brick, wood, ...]]\n",
    "```"
   ]
  },
  {
   "cell_type": "markdown",
   "metadata": {
    "slideshow": {
     "slide_type": "fragment"
    }
   },
   "source": [
    "For the rooms we might again want to know about what’s in the room, what it’s made of.\n",
    "\n",
    "So `bathroom = (materials, bathtub, sink)`, where materials might be a list."
   ]
  },
  {
   "cell_type": "markdown",
   "metadata": {
    "slideshow": {
     "slide_type": "fragment"
    }
   },
   "source": [
    "Now lets say we care about *where* the materials are from. "
   ]
  },
  {
   "cell_type": "markdown",
   "metadata": {
    "slideshow": {
     "slide_type": "fragment"
    }
   },
   "source": [
    "See what I'm getting at? "
   ]
  },
  {
   "cell_type": "markdown",
   "metadata": {
    "slideshow": {
     "slide_type": "fragment"
    }
   },
   "source": [
    "We get a terribly nested structure, impossible to handle! Let’s think more about this..."
   ]
  },
  {
   "cell_type": "markdown",
   "metadata": {
    "slideshow": {
     "slide_type": "slide"
    }
   },
   "source": [
    "## A Pythonic Solution -- Classes"
   ]
  },
  {
   "cell_type": "markdown",
   "metadata": {
    "slideshow": {
     "slide_type": "fragment"
    }
   },
   "source": [
    "We can use this example to introduce the notion of object oriented programming. "
   ]
  },
  {
   "cell_type": "markdown",
   "metadata": {
    "slideshow": {
     "slide_type": "slide"
    }
   },
   "source": [
    "We can construct our own objects:\n",
    "\n",
    "* `House`\n",
    "* `Room`\n",
    "* `BuildingMaterial`\n",
    "* etc"
   ]
  },
  {
   "cell_type": "markdown",
   "metadata": {
    "slideshow": {
     "slide_type": "fragment"
    }
   },
   "source": [
    "The House could have a set that holds the rooms, each room has a set of furniture, each piece of furniture has a set of materials, etc, etc."
   ]
  },
  {
   "cell_type": "markdown",
   "metadata": {
    "slideshow": {
     "slide_type": "subslide"
    }
   },
   "source": [
    "Structure in familiar form *much* easier to understand and doesn't lead to programming errors.\n",
    "\n",
    "```python\n",
    "for room in house.rooms:\n",
    "    print 'In room: {}'.format(room.name)\n",
    "    for piece in room.furniture:\n",
    "        print '   * item: {}, made with {}'.format(\n",
    "            piece.name, ', '.join(m.name for m in piece.materials)\n",
    "        )\n",
    "```"
   ]
  },
  {
   "cell_type": "markdown",
   "metadata": {
    "slideshow": {
     "slide_type": "fragment"
    }
   },
   "source": [
    "We could have output:\n",
    "```\n",
    "In room: bedroom\n",
    "   * item: bed, made with wood, fabric, springs\n",
    "   * item: table, made with wood, screws\n",
    "In room: kitchen\n",
    "   * item: fridge, made with aluminum, ...\n",
    "   ...\n",
    "```"
   ]
  },
  {
   "cell_type": "markdown",
   "metadata": {
    "slideshow": {
     "slide_type": "slide"
    }
   },
   "source": [
    "### Object Oriented Programming (OOP)"
   ]
  },
  {
   "cell_type": "markdown",
   "metadata": {
    "slideshow": {
     "slide_type": "subslide"
    }
   },
   "source": [
    "In OOP, we express computation in terms of objects, which are instances of classes \n",
    "\n",
    "* Class Blueprint (only one)\n",
    "* Object Instance (many)"
   ]
  },
  {
   "cell_type": "markdown",
   "metadata": {
    "slideshow": {
     "slide_type": "fragment"
    }
   },
   "source": [
    "Classes specify attributes (data) and methods to interact with the attributes."
   ]
  },
  {
   "cell_type": "markdown",
   "metadata": {
    "slideshow": {
     "slide_type": "fragment"
    }
   },
   "source": [
    "For those of you coming from languages such as C++ and Java, you've seen things like data protection with private and public attributes and methods. "
   ]
  },
  {
   "cell_type": "markdown",
   "metadata": {
    "slideshow": {
     "slide_type": "fragment"
    }
   },
   "source": [
    "Python doesn't have this! "
   ]
  },
  {
   "cell_type": "markdown",
   "metadata": {
    "slideshow": {
     "slide_type": "fragment"
    }
   },
   "source": [
    "People name things that \"you shouldn't touch\" with an underscore (\"`_`\") infront."
   ]
  },
  {
   "cell_type": "code",
   "execution_count": 10,
   "metadata": {
    "collapsed": false,
    "slideshow": {
     "slide_type": "subslide"
    }
   },
   "outputs": [
    {
     "name": "stdout",
     "output_type": "stream",
     "text": [
      "<__main__.Leaf object at 0x10e4c26d0>\n",
      "<class '__main__.Leaf'>\n",
      "True\n"
     ]
    }
   ],
   "source": [
    "# -- minimal example...\n",
    "# define class:\n",
    "class Leaf(object): \n",
    "    pass\n",
    "# instantiate object\n",
    "leaf = Leaf()\n",
    "print leaf\n",
    "print type(leaf)\n",
    "print isinstance(leaf, Leaf)"
   ]
  },
  {
   "cell_type": "markdown",
   "metadata": {
    "slideshow": {
     "slide_type": "subslide"
    }
   },
   "source": [
    "We can make our objects more complex and involved by specifying an initialization method. In practice, we define a class method called `__init__`."
   ]
  },
  {
   "cell_type": "code",
   "execution_count": 11,
   "metadata": {
    "collapsed": false,
    "slideshow": {
     "slide_type": "subslide"
    }
   },
   "outputs": [
    {
     "name": "stdout",
     "output_type": "stream",
     "text": [
      "red\n"
     ]
    }
   ],
   "source": [
    "# example\n",
    "class Leaf(object):\n",
    "    def __init__(self, color):\n",
    "        self.color = color # private attribute \n",
    "    \n",
    "redleaf = Leaf('red')\n",
    "blueleaf = Leaf('blue')\n",
    "\n",
    "print redleaf.color"
   ]
  },
  {
   "cell_type": "markdown",
   "metadata": {
    "slideshow": {
     "slide_type": "fragment"
    }
   },
   "source": [
    "The self parameter seems strange at first sight. It refers to the the object (instance) itself. "
   ]
  },
  {
   "cell_type": "markdown",
   "metadata": {
    "slideshow": {
     "slide_type": "fragment"
    }
   },
   "source": [
    "If you come from C++, equivalent to `this`. Hence, `self.color = color` sets the `color` of the object `self.color` equal to the variable `color`."
   ]
  },
  {
   "cell_type": "markdown",
   "metadata": {
    "slideshow": {
     "slide_type": "subslide"
    }
   },
   "source": [
    "Now, lets discuss *methods* -- these are similar to regular functions, but need **self** implicitly passed as a first argument."
   ]
  },
  {
   "cell_type": "code",
   "execution_count": 12,
   "metadata": {
    "collapsed": true,
    "slideshow": {
     "slide_type": "fragment"
    }
   },
   "outputs": [],
   "source": [
    "class Stock(object):\n",
    "    def __init__(self, name, symbol, prices=[]):\n",
    "        self.name = name \n",
    "        self.symbol = symbol \n",
    "        self.prices = prices\n",
    "        \n",
    "    def high_price(self):\n",
    "        if len(self.prices) == 0:\n",
    "            return 'MISSING PRICES'\n",
    "        return max(self.prices)\n",
    "    "
   ]
  },
  {
   "cell_type": "code",
   "execution_count": 31,
   "metadata": {
    "collapsed": true,
    "slideshow": {
     "slide_type": "fragment"
    }
   },
   "outputs": [],
   "source": [
    "apple = Stock('Apple', 'APPL', [500.43, 570.60, 569.20]) "
   ]
  },
  {
   "cell_type": "code",
   "execution_count": 32,
   "metadata": {
    "collapsed": false,
    "slideshow": {
     "slide_type": "fragment"
    }
   },
   "outputs": [
    {
     "name": "stdout",
     "output_type": "stream",
     "text": [
      "570.6\n"
     ]
    }
   ],
   "source": [
    "print apple.high_price()"
   ]
  },
  {
   "cell_type": "markdown",
   "metadata": {
    "slideshow": {
     "slide_type": "subslide"
    }
   },
   "source": [
    "Python has both object and class attributes"
   ]
  },
  {
   "cell_type": "code",
   "execution_count": 14,
   "metadata": {
    "collapsed": true,
    "slideshow": {
     "slide_type": "subslide"
    }
   },
   "outputs": [],
   "source": [
    "class Leaf(object):\n",
    "    n_leaves = 0 # class attribute: shared\n",
    "    def __init__(self, color):\n",
    "        self.color = color # object attribute \n",
    "        Leaf.n_leaves += 1"
   ]
  },
  {
   "cell_type": "code",
   "execution_count": 15,
   "metadata": {
    "collapsed": true,
    "slideshow": {
     "slide_type": "fragment"
    }
   },
   "outputs": [],
   "source": [
    "redleaf = Leaf('red')\n",
    "blueleaf = Leaf('blue')"
   ]
  },
  {
   "cell_type": "code",
   "execution_count": 16,
   "metadata": {
    "collapsed": false,
    "slideshow": {
     "slide_type": "fragment"
    }
   },
   "outputs": [
    {
     "name": "stdout",
     "output_type": "stream",
     "text": [
      "red\n",
      "2\n"
     ]
    }
   ],
   "source": [
    "print redleaf.color # red\n",
    "print Leaf.n_leaves #2"
   ]
  },
  {
   "cell_type": "code",
   "execution_count": 17,
   "metadata": {
    "collapsed": false,
    "slideshow": {
     "slide_type": "fragment"
    }
   },
   "outputs": [
    {
     "name": "stdout",
     "output_type": "stream",
     "text": [
      "3\n"
     ]
    }
   ],
   "source": [
    "purpleleaf = Leaf('purple')\n",
    "print Leaf.n_leaves #3"
   ]
  },
  {
   "cell_type": "markdown",
   "metadata": {
    "slideshow": {
     "slide_type": "slide"
    }
   },
   "source": [
    "### Hierarchy"
   ]
  },
  {
   "cell_type": "markdown",
   "metadata": {
    "slideshow": {
     "slide_type": "subslide"
    }
   },
   "source": [
    "A natural thing to think about as it relates to classes is the notion of *hierarchy*. We imbue the notion of hierarchy through something called *inheritance*.\n",
    "\n",
    "An example:\n",
    "\n",
    "* Animal\n",
    "  * Bird\n",
    "    * Hawk \n",
    "    * Seagull\n",
    "    * ...\n",
    "  * Dog\n",
    "    * Shiba Inu\n",
    "    * Golden Retriever\n",
    "    * ...\n",
    "  * ..."
   ]
  },
  {
   "cell_type": "code",
   "execution_count": 18,
   "metadata": {
    "collapsed": true,
    "slideshow": {
     "slide_type": "subslide"
    }
   },
   "outputs": [],
   "source": [
    "# lets define an *abstract* base class.\n",
    "\n",
    "class Animal(object):\n",
    "    def __init__(self, n_legs, color):\n",
    "        self.n_legs = n_legs \n",
    "        self.color = color\n",
    "    def make_noise(self): \n",
    "        print 'noise'"
   ]
  },
  {
   "cell_type": "code",
   "execution_count": null,
   "metadata": {
    "collapsed": true,
    "slideshow": {
     "slide_type": "fragment"
    }
   },
   "outputs": [],
   "source": [
    "# lets define some classes that will inherit\n",
    "class Dog(Animal):\n",
    "    def __init__(self, color, name):\n",
    "        Animal.__init__(self, 4, color)\n",
    "        self.name = name \n",
    "    def make_noise(self):\n",
    "        print self.name + ': ' + 'woof'\n",
    "        "
   ]
  },
  {
   "cell_type": "code",
   "execution_count": 19,
   "metadata": {
    "collapsed": true,
    "slideshow": {
     "slide_type": "fragment"
    }
   },
   "outputs": [],
   "source": [
    "class Bird(Animal):\n",
    "    def __init__(self, color, name, has_wings=True, can_fly=True):\n",
    "        Animal.__init__(self, 2, color)\n",
    "        self.name = name\n",
    "        self.has_wings = has_wings\n",
    "        self.can_fly = can_fly\n",
    "    \n",
    "    def make_noise(self):\n",
    "        print self.name + ': chirp!'"
   ]
  },
  {
   "cell_type": "code",
   "execution_count": 20,
   "metadata": {
    "collapsed": false,
    "slideshow": {
     "slide_type": "subslide"
    }
   },
   "outputs": [
    {
     "name": "stdout",
     "output_type": "stream",
     "text": [
      "Brutus: woof\n"
     ]
    }
   ],
   "source": [
    "# noise\n",
    "brutus = Dog('black', 'Brutus')\n",
    "brutus.make_noise()"
   ]
  },
  {
   "cell_type": "code",
   "execution_count": 21,
   "metadata": {
    "collapsed": false,
    "slideshow": {
     "slide_type": "fragment"
    }
   },
   "outputs": [
    {
     "name": "stdout",
     "output_type": "stream",
     "text": [
      "Shelly: chirp!\n"
     ]
    }
   ],
   "source": [
    "shelly = Bird('white', 'Shelly')\n",
    "shelly.make_noise()"
   ]
  },
  {
   "cell_type": "markdown",
   "metadata": {
    "slideshow": {
     "slide_type": "subslide"
    }
   },
   "source": [
    "There are some standard methods that one may want to overload / implement:\n",
    "\n",
    "* `__init__`: Constructor\n",
    "* `__repr__`: Represent the object (machine) \n",
    "* `__str__`: Represent the object (human) and gets called when you `print`"
   ]
  },
  {
   "cell_type": "markdown",
   "metadata": {
    "slideshow": {
     "slide_type": "fragment"
    }
   },
   "source": [
    "these `__method__` looking functions are built into Python! You'll learn more about these in the homework."
   ]
  },
  {
   "cell_type": "markdown",
   "metadata": {
    "slideshow": {
     "slide_type": "slide"
    }
   },
   "source": [
    "## Example"
   ]
  },
  {
   "cell_type": "markdown",
   "metadata": {
    "slideshow": {
     "slide_type": "fragment"
    }
   },
   "source": [
    "Your homework will be similar to this! Except we will make it more interesing..."
   ]
  },
  {
   "cell_type": "markdown",
   "metadata": {
    "slideshow": {
     "slide_type": "subslide"
    }
   },
   "source": [
    "Let's say we want to implement a class for rational numbers. Reminder, for $a \\in \\mathbb{Q}$, $a = \\frac{p}{q}$ with $p,q \\in \\mathbb{Z}$ and $q\\neq 0$. What is the minimal specification for this in a class?"
   ]
  },
  {
   "cell_type": "markdown",
   "metadata": {
    "slideshow": {
     "slide_type": "fragment"
    }
   },
   "source": [
    "* We need a numerator\n",
    "* We need a denominator\n",
    "* We need to be able to simplify...\n",
    "* We need to check our conditions..."
   ]
  },
  {
   "cell_type": "code",
   "execution_count": 22,
   "metadata": {
    "collapsed": true,
    "slideshow": {
     "slide_type": "fragment"
    }
   },
   "outputs": [],
   "source": [
    "class Rational(object):\n",
    "    def __init__(self, p, q=1):\n",
    "        \n",
    "        assert(q != 0)\n",
    "        assert(isinstance(p, int))\n",
    "        assert(isinstance(q, int))\n",
    "        \n",
    "        self.p = p\n",
    "        self.q = q"
   ]
  },
  {
   "cell_type": "markdown",
   "metadata": {
    "slideshow": {
     "slide_type": "fragment"
    }
   },
   "source": [
    "This is great! But, something is missing -- we still need to simplify! We'll use the Euclidean Algorithm."
   ]
  },
  {
   "cell_type": "code",
   "execution_count": 23,
   "metadata": {
    "collapsed": true,
    "slideshow": {
     "slide_type": "subslide"
    }
   },
   "outputs": [],
   "source": [
    "# Let's implement the Euclidean Alg.\n",
    "def gcd(a, b): \n",
    "    if b == 0:\n",
    "        return a \n",
    "    else:\n",
    "        return gcd(b, a % b)"
   ]
  },
  {
   "cell_type": "code",
   "execution_count": 24,
   "metadata": {
    "collapsed": false,
    "slideshow": {
     "slide_type": "fragment"
    }
   },
   "outputs": [
    {
     "name": "stdout",
     "output_type": "stream",
     "text": [
      "7\n"
     ]
    }
   ],
   "source": [
    "print gcd(35, 49)"
   ]
  },
  {
   "cell_type": "code",
   "execution_count": 25,
   "metadata": {
    "collapsed": true,
    "slideshow": {
     "slide_type": "subslide"
    }
   },
   "outputs": [],
   "source": [
    "# lets add this to our function! Lets also add a __str__ and __float__ method\n",
    "class Rational(object):\n",
    "    def __init__(self, p, q=1):\n",
    "    \n",
    "        if q == 0:\n",
    "            raise ValueError('Denominator must not be zero')\n",
    "        if not isinstance(p, int):\n",
    "            raise ValueError('Numerator must be an integer')\n",
    "        if not isinstance(q, int):\n",
    "            raise ValueError('Denominator must be an integer')\n",
    "        \n",
    "        g = gcd(p, q)\n",
    "        \n",
    "        self.p = p / g\n",
    "        self.q = q / g\n",
    "    \n",
    "    def __float__(self):\n",
    "        return float(self.p) / float(self.q)    \n",
    "    \n",
    "    def __str__(self):\n",
    "        return '{} / {}'.format(self.p, self.q)"
   ]
  },
  {
   "cell_type": "code",
   "execution_count": 26,
   "metadata": {
    "collapsed": false,
    "slideshow": {
     "slide_type": "subslide"
    }
   },
   "outputs": [
    {
     "name": "stdout",
     "output_type": "stream",
     "text": [
      "a = 3 / 2\n",
      "b = 3 / 2\n"
     ]
    }
   ],
   "source": [
    "# Lets see if these behave as we expect...\n",
    "a = Rational(6, 4)\n",
    "b = Rational(3, 2)\n",
    "\n",
    "print 'a = {}'.format(a)\n",
    "print 'b = {}'.format(b)"
   ]
  },
  {
   "cell_type": "markdown",
   "metadata": {
    "slideshow": {
     "slide_type": "fragment"
    }
   },
   "source": [
    "Lets also add the ability to add two Rational numbers..."
   ]
  },
  {
   "cell_type": "code",
   "execution_count": 27,
   "metadata": {
    "collapsed": false,
    "slideshow": {
     "slide_type": "skip"
    }
   },
   "outputs": [],
   "source": [
    "class Rational(object):\n",
    "    def __init__(self, p, q=1):\n",
    "    \n",
    "        if q == 0:\n",
    "            raise ValueError('Denominator must not be zero')\n",
    "        if not isinstance(p, int):\n",
    "            raise ValueError('Numerator must be an integer')\n",
    "        if not isinstance(q, int):\n",
    "            raise ValueError('Denominator must be an integer')\n",
    "        \n",
    "        g = gcd(p, q)\n",
    "        \n",
    "        self.p = p / g\n",
    "        self.q = q / g\n",
    "        \n",
    "    def __float__(self):\n",
    "        return float(self.p) / float(self.q)\n",
    "    \n",
    "    def __str__(self):\n",
    "        '''\n",
    "        Convert `self` to a string representation.\n",
    "        '''\n",
    "        return '{} / {}'.format(self.p, self.q)\n",
    "    \n",
    "    def __add__(self, other):\n",
    "        '''\n",
    "        this is R + X, where R is rational and X is another number\n",
    "        '''\n",
    "        if isinstance(other, Rational):\n",
    "            return Rational(self.p * other.q + other.p * self.q, self.q * other.q)\n",
    "        # -- if its an integer...\n",
    "        elif isinstance(other, int):\n",
    "            return Rational(self.p + other * self.q, self.q)\n",
    "        # -- otherwise, we assume it will be a float\n",
    "        return float(self) + float(other)\n",
    "    \n",
    "    def __radd__(self, other):\n",
    "        '''\n",
    "        this is X + R, where R is rational and X is not rational\n",
    "        '''\n",
    "        # -- if its an integer...\n",
    "        if isinstance(other, int):\n",
    "            return Rational(self.p + other * self.q, self.q)\n",
    "        # -- otherwise, we assume it will be a float\n",
    "        return float(self) + float(other)\n"
   ]
  },
  {
   "cell_type": "markdown",
   "metadata": {
    "slideshow": {
     "slide_type": "subslide"
    }
   },
   "source": [
    "```python\n",
    "def __add__(self, other):\n",
    "    '''\n",
    "    this is R + X, where R is rational and X is another number\n",
    "    '''\n",
    "    if isinstance(other, Rational):\n",
    "        return Rational(self.p * other.q + other.p * self.q, self.q * other.q)\n",
    "    # -- if its an integer...\n",
    "    elif isinstance(other, int):\n",
    "        return Rational(self.p + other * self.q, self.q)\n",
    "    # -- otherwise, we assume it will be a float\n",
    "    return float(self) + float(other)\n",
    "```"
   ]
  },
  {
   "cell_type": "markdown",
   "metadata": {
    "slideshow": {
     "slide_type": "fragment"
    }
   },
   "source": [
    "```python\n",
    "def __radd__(self, other):\n",
    "    '''\n",
    "    this is X + R, where R is rational and X is not rational\n",
    "    '''\n",
    "    # -- if its an integer...\n",
    "    if isinstance(other, int):\n",
    "        return Rational(self.p + other * self.q, self.q)\n",
    "    # -- otherwise, we assume it will be a float\n",
    "    return float(self) + float(other)\n",
    "```"
   ]
  },
  {
   "cell_type": "code",
   "execution_count": 28,
   "metadata": {
    "collapsed": false,
    "slideshow": {
     "slide_type": "subslide"
    }
   },
   "outputs": [
    {
     "name": "stdout",
     "output_type": "stream",
     "text": [
      "3 / 4\n"
     ]
    }
   ],
   "source": [
    "R = Rational(3, 4)\n",
    "print R"
   ]
  },
  {
   "cell_type": "code",
   "execution_count": 29,
   "metadata": {
    "collapsed": false,
    "slideshow": {
     "slide_type": "subslide"
    }
   },
   "outputs": [
    {
     "name": "stdout",
     "output_type": "stream",
     "text": [
      "Integer adding:\n",
      "right add\n",
      "19 / 4\n",
      "4.75\n",
      "left add\n",
      "19 / 4\n",
      "4.75\n"
     ]
    }
   ],
   "source": [
    "print 'Integer adding:'\n",
    "print 'right add'\n",
    "print R + 4\n",
    "print float(R + 4)\n",
    "print 'left add'\n",
    "print 4 + R\n",
    "print float(4 + R)"
   ]
  },
  {
   "cell_type": "code",
   "execution_count": 30,
   "metadata": {
    "collapsed": false,
    "slideshow": {
     "slide_type": "subslide"
    }
   },
   "outputs": [
    {
     "name": "stdout",
     "output_type": "stream",
     "text": [
      "Float adding:\n",
      "right add\n",
      "4.95\n",
      "4.95\n",
      "left add\n",
      "4.95\n",
      "4.95\n"
     ]
    }
   ],
   "source": [
    "print 'Float adding:'\n",
    "print 'right add'\n",
    "print R + 4.2\n",
    "print float(R + 4.2)\n",
    "print 'left add'\n",
    "print 4.2 + R\n",
    "print float(4.2 + R)"
   ]
  },
  {
   "cell_type": "markdown",
   "metadata": {
    "slideshow": {
     "slide_type": "slide"
    }
   },
   "source": [
    "## Homework #1"
   ]
  },
  {
   "cell_type": "markdown",
   "metadata": {
    "slideshow": {
     "slide_type": "fragment"
    }
   },
   "source": [
    "Will be posted 5pm today, due 5pm next Thursday. "
   ]
  },
  {
   "cell_type": "markdown",
   "metadata": {
    "slideshow": {
     "slide_type": "fragment"
    }
   },
   "source": [
    "You will be creating a Matrix class from scratch! Learn about what needs to go into Numpy..."
   ]
  },
  {
   "cell_type": "markdown",
   "metadata": {
    "slideshow": {
     "slide_type": "fragment"
    }
   },
   "source": [
    "Low level, get you thinking about scientific computing!"
   ]
  },
  {
   "cell_type": "markdown",
   "metadata": {
    "slideshow": {
     "slide_type": "slide"
    }
   },
   "source": [
    "## Homework #2\n",
    "\n",
    "..."
   ]
  }
 ],
 "metadata": {
  "celltoolbar": "Slideshow",
  "kernelspec": {
   "display_name": "Python 2",
   "language": "python",
   "name": "python2"
  },
  "language_info": {
   "codemirror_mode": {
    "name": "ipython",
    "version": 2
   },
   "file_extension": ".py",
   "mimetype": "text/x-python",
   "name": "python",
   "nbconvert_exporter": "python",
   "pygments_lexer": "ipython2",
   "version": "2.7.10"
  },
  "name": "_merged_merged_merged_merged"
 },
 "nbformat": 4,
 "nbformat_minor": 0
}
