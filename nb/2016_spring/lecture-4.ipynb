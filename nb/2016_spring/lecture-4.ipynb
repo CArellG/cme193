{
 "cells": [
  {
   "cell_type": "markdown",
   "metadata": {
    "slideshow": {
     "slide_type": "slide"
    }
   },
   "source": [
    "# CME 193 - Scientific Python\n",
    "### Lecture 4 (4/14)\n",
    "Spring 2016, Stanford University"
   ]
  },
  {
   "cell_type": "markdown",
   "metadata": {
    "slideshow": {
     "slide_type": "slide"
    }
   },
   "source": [
    "## Administrative Details\n",
    "* No class next Tuesday!\n",
    "* Homework will be released over the weekend (sorry for the delay)"
   ]
  },
  {
   "cell_type": "markdown",
   "metadata": {
    "slideshow": {
     "slide_type": "slide"
    }
   },
   "source": [
    "## Last time...\n",
    "* Primative Data Structures\n",
    "* Intro to Numpy!"
   ]
  },
  {
   "cell_type": "markdown",
   "metadata": {},
   "source": [
    "## Today\n",
    "* Some more advanced numpy\n",
    "* Some plotting\n",
    "* A cool SciPy example!"
   ]
  },
  {
   "cell_type": "markdown",
   "metadata": {
    "slideshow": {
     "slide_type": "slide"
    }
   },
   "source": [
    "# More Numpy"
   ]
  },
  {
   "cell_type": "markdown",
   "metadata": {
    "slideshow": {
     "slide_type": "fragment"
    }
   },
   "source": [
    "* Fundamental package for scientific computing with Python\n",
    "* N-dimensional array object\n",
    "* Linear algebra, Fourier transform, random number capabilities\n",
    "* Building block for other packages (e.g. Scipy, scikit-learn)\n",
    "* Open source, huge dev community!"
   ]
  },
  {
   "cell_type": "code",
   "execution_count": 225,
   "metadata": {
    "collapsed": true,
    "slideshow": {
     "slide_type": "subslide"
    }
   },
   "outputs": [],
   "source": [
    "import numpy as np"
   ]
  },
  {
   "cell_type": "code",
   "execution_count": 175,
   "metadata": {
    "collapsed": false,
    "slideshow": {
     "slide_type": "subslide"
    }
   },
   "outputs": [
    {
     "name": "stdout",
     "output_type": "stream",
     "text": [
      "a =  [0 1 2 3]\n"
     ]
    }
   ],
   "source": [
    "a = np.arange(4)\n",
    "print 'a = ', a"
   ]
  },
  {
   "cell_type": "code",
   "execution_count": 176,
   "metadata": {
    "collapsed": false,
    "slideshow": {
     "slide_type": "fragment"
    }
   },
   "outputs": [
    {
     "name": "stdout",
     "output_type": "stream",
     "text": [
      "b = [2 3 2 4]\n"
     ]
    }
   ],
   "source": [
    "b = np.array([2, 3, 2, 4])\n",
    "print 'b =', b"
   ]
  },
  {
   "cell_type": "code",
   "execution_count": 177,
   "metadata": {
    "collapsed": false,
    "slideshow": {
     "slide_type": "fragment"
    }
   },
   "outputs": [
    {
     "name": "stdout",
     "output_type": "stream",
     "text": [
      "a * b = [ 0  3  4 12]\n",
      "b - a = [2 2 0 1]\n",
      "c = [2, 3, 4, 5]\n",
      "a * c = [ 0  3  8 15]\n"
     ]
    }
   ],
   "source": [
    "print 'a * b =', a * b \n",
    "print 'b - a =', b - a  \n",
    "c = [2, 3, 4, 5]\n",
    "print 'c =', c\n",
    "print 'a * c =', a * c \n",
    "# if we want, we can also use +=, -=, *=, etc"
   ]
  },
  {
   "cell_type": "markdown",
   "metadata": {
    "slideshow": {
     "slide_type": "slide"
    }
   },
   "source": [
    "## Array Broadcasting"
   ]
  },
  {
   "cell_type": "markdown",
   "metadata": {
    "slideshow": {
     "slide_type": "fragment"
    }
   },
   "source": [
    "When operating on two arrays, numpy compares shapes. Two dimensions are compatible when:"
   ]
  },
  {
   "cell_type": "markdown",
   "metadata": {
    "slideshow": {
     "slide_type": "fragment"
    }
   },
   "source": [
    "* They are of equal size\n",
    "* One of them is 1"
   ]
  },
  {
   "cell_type": "markdown",
   "metadata": {
    "slideshow": {
     "slide_type": "subslide"
    }
   },
   "source": [
    "What does this look like in a picture?"
   ]
  },
  {
   "cell_type": "markdown",
   "metadata": {
    "slideshow": {
     "slide_type": "fragment"
    }
   },
   "source": [
    "![bc](./nb-assets/img/broadcasting.png)"
   ]
  },
  {
   "cell_type": "markdown",
   "metadata": {
    "slideshow": {
     "slide_type": "subslide"
    }
   },
   "source": [
    "Array broadcasting also works with scalars"
   ]
  },
  {
   "cell_type": "markdown",
   "metadata": {
    "slideshow": {
     "slide_type": "fragment"
    }
   },
   "source": [
    "This also allows us to add a constant to a matrix or multiply a matrix by a constant"
   ]
  },
  {
   "cell_type": "code",
   "execution_count": 178,
   "metadata": {
    "collapsed": false,
    "slideshow": {
     "slide_type": "fragment"
    }
   },
   "outputs": [
    {
     "name": "stdout",
     "output_type": "stream",
     "text": [
      "[[ 2.  2.  2.]\n",
      " [ 2.  2.  2.]\n",
      " [ 2.  2.  2.]]\n"
     ]
    }
   ],
   "source": [
    "A = np.ones((3,3))\n",
    "print 3 * A - 1"
   ]
  },
  {
   "cell_type": "markdown",
   "metadata": {
    "slideshow": {
     "slide_type": "subslide"
    }
   },
   "source": [
    "Numpy gives us vector ops!"
   ]
  },
  {
   "cell_type": "code",
   "execution_count": 179,
   "metadata": {
    "collapsed": true,
    "slideshow": {
     "slide_type": "fragment"
    }
   },
   "outputs": [],
   "source": [
    "u = [1, 2, 3]\n",
    "v = [1, 1, 1]"
   ]
  },
  {
   "cell_type": "code",
   "execution_count": 180,
   "metadata": {
    "collapsed": false,
    "slideshow": {
     "slide_type": "fragment"
    }
   },
   "outputs": [
    {
     "name": "stdout",
     "output_type": "stream",
     "text": [
      "np.inner(u, v) = 6\n",
      "np.outer(u, v) =\n",
      "[[1 1 1]\n",
      " [2 2 2]\n",
      " [3 3 3]]\n",
      "np.dot(u, v) = 6\n"
     ]
    }
   ],
   "source": [
    "print 'np.inner(u, v) =', np.inner(u, v)\n",
    "\n",
    "print 'np.outer(u, v) =\\n', np.outer(u, v)\n",
    "\n",
    "print 'np.dot(u, v) =', np.dot(u, v)"
   ]
  },
  {
   "cell_type": "markdown",
   "metadata": {
    "slideshow": {
     "slide_type": "subslide"
    }
   },
   "source": [
    "More matrix operations"
   ]
  },
  {
   "cell_type": "code",
   "execution_count": 181,
   "metadata": {
    "collapsed": false,
    "slideshow": {
     "slide_type": "subslide"
    }
   },
   "outputs": [
    {
     "name": "stdout",
     "output_type": "stream",
     "text": [
      "A.T =\n",
      "[[ 1.  1.  1.]\n",
      " [ 1.  1.  1.]]\n",
      "B =\n",
      "[[ 1.  1.  1.]\n",
      " [ 1.  1.  1.]]\n"
     ]
    }
   ],
   "source": [
    "# first, some matricies\n",
    "A = np.ones((3, 2))\n",
    "print 'A.T =\\n', A.T\n",
    "B = np.ones((2, 3))\n",
    "print 'B =\\n', B"
   ]
  },
  {
   "cell_type": "markdown",
   "metadata": {
    "slideshow": {
     "slide_type": "fragment"
    }
   },
   "source": [
    "Which ones of these are valid?\n",
    "```python\n",
    "print 'np.dot(A, B) =\\n', np.dot(A, B)\n",
    "\n",
    "print 'np.dot(B, A) =\\n', np.dot(B, A)\n",
    "\n",
    "print 'np.dot(B.T, A.T) =\\n', np.dot(B.T, A.T)\n",
    "\n",
    "print 'np.dot(A, B.T) =\\n', np.dot(A, B.T)\n",
    "```"
   ]
  },
  {
   "cell_type": "code",
   "execution_count": 182,
   "metadata": {
    "collapsed": false,
    "slideshow": {
     "slide_type": "subslide"
    }
   },
   "outputs": [
    {
     "name": "stdout",
     "output_type": "stream",
     "text": [
      "np.dot(A, B) =\n",
      "[[ 2.  2.  2.]\n",
      " [ 2.  2.  2.]\n",
      " [ 2.  2.  2.]]\n"
     ]
    }
   ],
   "source": [
    "print 'np.dot(A, B) =\\n', np.dot(A, B)"
   ]
  },
  {
   "cell_type": "code",
   "execution_count": 183,
   "metadata": {
    "collapsed": false,
    "slideshow": {
     "slide_type": "fragment"
    }
   },
   "outputs": [
    {
     "name": "stdout",
     "output_type": "stream",
     "text": [
      "np.dot(B, A) =\n",
      "[[ 3.  3.]\n",
      " [ 3.  3.]]\n"
     ]
    }
   ],
   "source": [
    "print 'np.dot(B, A) =\\n', np.dot(B, A)"
   ]
  },
  {
   "cell_type": "code",
   "execution_count": 184,
   "metadata": {
    "collapsed": false,
    "slideshow": {
     "slide_type": "fragment"
    }
   },
   "outputs": [
    {
     "name": "stdout",
     "output_type": "stream",
     "text": [
      "np.dot(B.T, A.T) =\n",
      "[[ 2.  2.  2.]\n",
      " [ 2.  2.  2.]\n",
      " [ 2.  2.  2.]]\n"
     ]
    }
   ],
   "source": [
    "print 'np.dot(B.T, A.T) =\\n', np.dot(B.T, A.T)"
   ]
  },
  {
   "cell_type": "code",
   "execution_count": 185,
   "metadata": {
    "collapsed": false,
    "slideshow": {
     "slide_type": "fragment"
    }
   },
   "outputs": [
    {
     "name": "stdout",
     "output_type": "stream",
     "text": [
      "np.dot(A, B.T) =\n"
     ]
    },
    {
     "ename": "ValueError",
     "evalue": "shapes (3,2) and (3,2) not aligned: 2 (dim 1) != 3 (dim 0)",
     "output_type": "error",
     "traceback": [
      "\u001b[0;31m---------------------------------------------------------------------------\u001b[0m",
      "\u001b[0;31mValueError\u001b[0m                                Traceback (most recent call last)",
      "\u001b[0;32m<ipython-input-185-3b14d52c6576>\u001b[0m in \u001b[0;36m<module>\u001b[0;34m()\u001b[0m\n\u001b[0;32m----> 1\u001b[0;31m \u001b[0;32mprint\u001b[0m \u001b[0;34m'np.dot(A, B.T) =\\n'\u001b[0m\u001b[0;34m,\u001b[0m \u001b[0mnp\u001b[0m\u001b[0;34m.\u001b[0m\u001b[0mdot\u001b[0m\u001b[0;34m(\u001b[0m\u001b[0mA\u001b[0m\u001b[0;34m,\u001b[0m \u001b[0mB\u001b[0m\u001b[0;34m.\u001b[0m\u001b[0mT\u001b[0m\u001b[0;34m)\u001b[0m\u001b[0;34m\u001b[0m\u001b[0m\n\u001b[0m",
      "\u001b[0;31mValueError\u001b[0m: shapes (3,2) and (3,2) not aligned: 2 (dim 1) != 3 (dim 0)"
     ]
    }
   ],
   "source": [
    "print 'np.dot(A, B.T) =\\n', np.dot(A, B.T)"
   ]
  },
  {
   "cell_type": "code",
   "execution_count": 186,
   "metadata": {
    "collapsed": false,
    "slideshow": {
     "slide_type": "subslide"
    }
   },
   "outputs": [
    {
     "name": "stdout",
     "output_type": "stream",
     "text": [
      "a =\n",
      "[[ 0.47623094  0.0857769   0.923002  ]\n",
      " [ 0.69339628  0.96353318  0.7157176 ]]\n",
      "\n",
      "a.sum() = 3.85765690381\n",
      "\n",
      "a.sum(axis=0) = [ 1.16962722  1.04931008  1.6387196 ]\n",
      "\n",
      "a.cumsum() = [ 0.47623094  0.56200784  1.48500984  2.17840613  3.14193931  3.8576569 ]\n",
      "\n",
      "a.cumsum(axis=1) = [[ 0.47623094  0.56200784  1.48500984]\n",
      " [ 0.69339628  1.65692946  2.37264706]]\n",
      "\n",
      "a.min() = 0.0857769008015\n",
      "\n",
      "a.max(axis=0) = [ 0.69339628  0.96353318  0.923002  ]\n"
     ]
    }
   ],
   "source": [
    "# -- lets see what operations we can do across the axes of a matrix\n",
    "a = np.random.random((2,3))\n",
    "print 'a =\\n', a\n",
    "\n",
    "print '\\na.sum() =', a.sum()\n",
    "\n",
    "print '\\na.sum(axis=0) =', a.sum(axis=0)\n",
    "\n",
    "print '\\na.cumsum() =', a.cumsum()\n",
    "\n",
    "print '\\na.cumsum(axis=1) =', a.cumsum(axis=1)\n",
    "\n",
    "print '\\na.min() =', a.min()\n",
    "\n",
    "print '\\na.max(axis=0) =', a.max(axis=0)\n"
   ]
  },
  {
   "cell_type": "code",
   "execution_count": 187,
   "metadata": {
    "collapsed": false,
    "slideshow": {
     "slide_type": "subslide"
    }
   },
   "outputs": [
    {
     "name": "stdout",
     "output_type": "stream",
     "text": [
      "a =\n",
      "[[ 0.34296743  0.80266225  0.21422598  0.07833627  0.27805466]\n",
      " [ 0.53126287  0.19729885  0.04696256  0.79380008  0.54489992]\n",
      " [ 0.61683247  0.95651728  0.09852218  0.52969981  0.07618432]\n",
      " [ 0.6473786   0.52226079  0.59290397  0.58380562  0.9448792 ]]\n",
      "\n",
      "a[2, :] = [ 0.61683247  0.95651728  0.09852218  0.52969981  0.07618432]\n",
      "\n",
      "a[1:3] = [[ 0.53126287  0.19729885  0.04696256  0.79380008  0.54489992]\n",
      " [ 0.61683247  0.95651728  0.09852218  0.52969981  0.07618432]]\n",
      "\n",
      "a[:, 2:4] = [[ 0.21422598  0.07833627]\n",
      " [ 0.04696256  0.79380008]\n",
      " [ 0.09852218  0.52969981]\n",
      " [ 0.59290397  0.58380562]]\n"
     ]
    }
   ],
   "source": [
    "# -- arrays are like lists, they can be sliced!\n",
    "\n",
    "a = np.random.random((4,5))\n",
    "print 'a =\\n', a\n",
    "print '\\na[2, :] =', a[2, :]\n",
    "# third row, all columns\n",
    "print '\\na[1:3] =', a[1:3]\n",
    "# 2nd, 3rd row, all columns\n",
    "print '\\na[:, 2:4] =', a[:, 2:4]\n",
    "# all rows, columns 3 and 4"
   ]
  },
  {
   "cell_type": "markdown",
   "metadata": {
    "slideshow": {
     "slide_type": "subslide"
    }
   },
   "source": [
    "## Iterating"
   ]
  },
  {
   "cell_type": "markdown",
   "metadata": {
    "slideshow": {
     "slide_type": "fragment"
    }
   },
   "source": [
    "Iterating over multidimensional arrays is done with respect to the first axis: `for row in A`\n",
    "\n",
    "One can loop over all elements with `for element in A.flat`"
   ]
  },
  {
   "cell_type": "markdown",
   "metadata": {
    "slideshow": {
     "slide_type": "subslide"
    }
   },
   "source": [
    "## Reshaping"
   ]
  },
  {
   "cell_type": "markdown",
   "metadata": {
    "slideshow": {
     "slide_type": "fragment"
    }
   },
   "source": [
    "Reshape using `reshape`. Total size must remain the same. For example, \n",
    "```python\n",
    "a = np.arange(10).reshape((2,5))\n",
    "```"
   ]
  },
  {
   "cell_type": "markdown",
   "metadata": {
    "slideshow": {
     "slide_type": "subslide"
    }
   },
   "source": [
    "## Linear Algebra"
   ]
  },
  {
   "cell_type": "markdown",
   "metadata": {
    "slideshow": {
     "slide_type": "fragment"
    }
   },
   "source": [
    "Start with `import numpy.linalg as la`"
   ]
  },
  {
   "cell_type": "markdown",
   "metadata": {
    "slideshow": {
     "slide_type": "fragment"
    }
   },
   "source": [
    "* `la.eye(3)`, Identity matrix\n",
    "* `la.trace(A)`, Trace\n",
    "* `la.column_stack((A,B))`, Stack column wise\n",
    "* `la.row_stack((A,B,A))`, Stack row wise\n",
    "* `la.qr`, Computes the QR decomposition\n",
    "* `la.cholesky`, Computes the Cholesky decomposition\n",
    "* `la.inv(A)`, Inverse\n",
    "* `la.solve(A,b)`, Solves $Ax = b$ for $A$ full rank\n",
    "* `la.lstsq(A,b)`, Solves $\\arg\\min_x \\|Ax-b\\|_2$\n",
    "* `la.eig(A)`, Eigenvalue decomposition\n",
    "* `la.eig(A)`, Eigenvalue decomposition for\n",
    "symmetric or hermitian\n",
    "* `la.eigvals(A)`, Computes eigenvalues.\n",
    "* `la.svd(A, full)`, Singular value decomposition\n",
    "* `la.pinv(A)`, Computes pseudo-inverse of A"
   ]
  },
  {
   "cell_type": "markdown",
   "metadata": {
    "slideshow": {
     "slide_type": "subslide"
    }
   },
   "source": [
    "## Random Numbers"
   ]
  },
  {
   "cell_type": "markdown",
   "metadata": {
    "slideshow": {
     "slide_type": "fragment"
    }
   },
   "source": [
    "Start with `import numpy.random as rng`"
   ]
  },
  {
   "cell_type": "markdown",
   "metadata": {
    "slideshow": {
     "slide_type": "fragment"
    }
   },
   "source": [
    "* `rng.rand(d0,d1,...,dn)`, Random values in a given shape\n",
    "* `rng.randn(d0, d1, ...,dn)`, Random standard normal\n",
    "* `rng.randint(lo, hi, size)`, Random integers `[lo, hi)`\n",
    "* `rng.choice(a, size, repl, p)`, Sample from a\n",
    "* `rng.shuffle(a)`, Permutation (in-place)\n",
    "* `rng.permutation(a)`, Permutation (new array)\n",
    "* Also, have parameterized distributions: `beta`, `binomial`, `chisquare`, `exponential`, `dirichlet`, `gamma`, `laplace`, `lognormal`, `pareto`, `poisson`, `power`..."
   ]
  },
  {
   "cell_type": "markdown",
   "metadata": {
    "slideshow": {
     "slide_type": "slide"
    }
   },
   "source": [
    "## Advanced Numpy"
   ]
  },
  {
   "cell_type": "code",
   "execution_count": 226,
   "metadata": {
    "collapsed": false,
    "slideshow": {
     "slide_type": "subslide"
    }
   },
   "outputs": [
    {
     "name": "stdout",
     "output_type": "stream",
     "text": [
      "[[-0.22096906  0.14572631  0.76177951 -0.18998748]\n",
      " [-0.49046559  1.00491722  0.96755576 -0.63314531]\n",
      " [ 1.61691851 -0.84905022  0.06227401 -0.43981804]\n",
      " [-0.75149588 -1.85862846  1.62607115  1.67048571]]\n"
     ]
    }
   ],
   "source": [
    "A = np.random.normal(0, 1, (4, 4))\n",
    "print A"
   ]
  },
  {
   "cell_type": "code",
   "execution_count": 227,
   "metadata": {
    "collapsed": false,
    "slideshow": {
     "slide_type": "fragment"
    }
   },
   "outputs": [
    {
     "name": "stdout",
     "output_type": "stream",
     "text": [
      "[[-0.22096906  0.14572631  0.76177951 -0.18998748]\n",
      " [ 3.          2.          1.          0.        ]\n",
      " [ 1.61691851 -0.84905022  0.06227401 -0.43981804]\n",
      " [-0.75149588 -1.85862846  1.62607115  1.67048571]]\n"
     ]
    }
   ],
   "source": [
    "A[1, ::-1] = range(A.shape[1])\n",
    "print A"
   ]
  },
  {
   "cell_type": "code",
   "execution_count": 228,
   "metadata": {
    "collapsed": false,
    "slideshow": {
     "slide_type": "fragment"
    }
   },
   "outputs": [
    {
     "name": "stdout",
     "output_type": "stream",
     "text": [
      "[[ 10.77903094   0.14572631   0.76177951  -0.18998748]\n",
      " [  3.          13.           1.           0.        ]\n",
      " [  1.61691851  -0.84905022  11.06227401  -0.43981804]\n",
      " [ -0.75149588  -1.85862846   1.62607115  12.67048571]]\n"
     ]
    }
   ],
   "source": [
    "A[np.diag_indices_from(A)] += 11.0\n",
    "print A"
   ]
  },
  {
   "cell_type": "markdown",
   "metadata": {
    "collapsed": false,
    "slideshow": {
     "slide_type": "subslide"
    }
   },
   "source": [
    "We have all the standard matrix decompositions in Numpy! Let's do the SVD.\n",
    "\n",
    "The SVD states that for a matrix $A$, we can find $U$, $S$, and $V$ such that\n",
    "\n",
    "$$\n",
    "A = USV^T,\n",
    "$$\n",
    "\n",
    "where $U$ and $V$ are unitary and S is diagonal."
   ]
  },
  {
   "cell_type": "code",
   "execution_count": 229,
   "metadata": {
    "collapsed": false,
    "slideshow": {
     "slide_type": "subslide"
    }
   },
   "outputs": [
    {
     "name": "stdout",
     "output_type": "stream",
     "text": [
      "A = \n",
      "[[ 1.54388122 -1.12034591  2.20359774 -0.7319467 ]\n",
      " [ 1.04501887 -1.10611156 -1.97218464 -3.10609537]\n",
      " [ 1.35227705  1.72672689  0.23990681  0.45996125]\n",
      " [-0.43460698  2.17951651 -0.48570388  1.42140066]]\n",
      "\n",
      "A^T = \n",
      "[[ 1.54388122  1.04501887  1.35227705 -0.43460698]\n",
      " [-1.12034591 -1.10611156  1.72672689  2.17951651]\n",
      " [ 2.20359774 -1.97218464  0.23990681 -0.48570388]\n",
      " [-0.7319467  -3.10609537  0.45996125  1.42140066]]\n"
     ]
    }
   ],
   "source": [
    "# -- lets make a new matrix A!\n",
    "A = np.random.normal(0, 2, (4, 4))\n",
    "print 'A = '\n",
    "print A\n",
    "\n",
    "print '\\nA^T = '\n",
    "print A.T"
   ]
  },
  {
   "cell_type": "code",
   "execution_count": null,
   "metadata": {
    "collapsed": true,
    "slideshow": {
     "slide_type": "subslide"
    }
   },
   "outputs": [],
   "source": [
    "# -- Unpacking!\n",
    "d = {}\n",
    "d['U'], d['S'], d['V'] = np.linalg.svd(A)\n",
    "U, S, V = d['U'], d['S'], d['V']"
   ]
  },
  {
   "cell_type": "code",
   "execution_count": 230,
   "metadata": {
    "collapsed": false,
    "slideshow": {
     "slide_type": "fragment"
    }
   },
   "outputs": [
    {
     "name": "stdout",
     "output_type": "stream",
     "text": [
      "U = \n",
      "[[-0.26915078  0.81831522 -0.27023625  0.42998886]\n",
      " [-0.77789751 -0.47867145 -0.35357377  0.20182837]\n",
      " [ 0.23154638  0.04753641 -0.84629352 -0.47740322]\n",
      " [ 0.51847814 -0.31460155 -0.29282286  0.73923004]]\n",
      "S = \n",
      "[ 4.58808669  3.25609812  2.33927036  0.18205208]\n",
      "V = \n",
      "[[-0.24861644  0.58670043  0.16232914  0.75340674]\n",
      " [ 0.29611246 -0.30433019  0.89416026  0.14204919]\n",
      " [-0.77112266 -0.60090529  0.01753298  0.20970281]\n",
      " [-0.50584297  0.4495315   0.41691639 -0.6068155 ]]\n"
     ]
    }
   ],
   "source": [
    "for M in ['U', 'S', 'V']:\n",
    "    print '{} = \\n{}'.format(M, d[M])"
   ]
  },
  {
   "cell_type": "code",
   "execution_count": 232,
   "metadata": {
    "collapsed": true,
    "slideshow": {
     "slide_type": "subslide"
    }
   },
   "outputs": [],
   "source": [
    "# -- lets turn S back to a matrix, and verify!\n",
    "Sd = np.diag(S)\n",
    "\n",
    "A_try = U.dot(Sd).dot(V)"
   ]
  },
  {
   "cell_type": "code",
   "execution_count": 233,
   "metadata": {
    "collapsed": false,
    "slideshow": {
     "slide_type": "fragment"
    }
   },
   "outputs": [
    {
     "name": "stdout",
     "output_type": "stream",
     "text": [
      "Reconstructed\n",
      "[[ 1.54388122 -1.12034591  2.20359774 -0.7319467 ]\n",
      " [ 1.04501887 -1.10611156 -1.97218464 -3.10609537]\n",
      " [ 1.35227705  1.72672689  0.23990681  0.45996125]\n",
      " [-0.43460698  2.17951651 -0.48570388  1.42140066]]\n"
     ]
    }
   ],
   "source": [
    "print 'Reconstructed'\n",
    "print A_try"
   ]
  },
  {
   "cell_type": "code",
   "execution_count": 234,
   "metadata": {
    "collapsed": false,
    "slideshow": {
     "slide_type": "fragment"
    }
   },
   "outputs": [
    {
     "name": "stdout",
     "output_type": "stream",
     "text": [
      "\n",
      "Original\n",
      "[[ 1.54388122 -1.12034591  2.20359774 -0.7319467 ]\n",
      " [ 1.04501887 -1.10611156 -1.97218464 -3.10609537]\n",
      " [ 1.35227705  1.72672689  0.23990681  0.45996125]\n",
      " [-0.43460698  2.17951651 -0.48570388  1.42140066]]\n"
     ]
    }
   ],
   "source": [
    "print '\\nOriginal'\n",
    "print A"
   ]
  },
  {
   "cell_type": "markdown",
   "metadata": {
    "collapsed": false,
    "slideshow": {
     "slide_type": "subslide"
    }
   },
   "source": [
    "Let's test a cool feature of the SVD! Given $A = U S V^T$, we have that \n",
    "\n",
    "$$\n",
    "A^{-1} = (U S V^{T}) ^ {-1} = V^{-T} S^{-1} U^{-1} = V S^{-1} U^T\n",
    "$$\n",
    "\n",
    "So basically, we can invert the diagonals in $S$ and get our inverse!"
   ]
  },
  {
   "cell_type": "code",
   "execution_count": 235,
   "metadata": {
    "collapsed": true,
    "slideshow": {
     "slide_type": "subslide"
    }
   },
   "outputs": [],
   "source": [
    "Ainv_ours = V.T.dot(np.diag(1 / S)).dot(U.T)\n",
    "Ainv = np.linalg.inv(A)"
   ]
  },
  {
   "cell_type": "code",
   "execution_count": 236,
   "metadata": {
    "collapsed": false,
    "slideshow": {
     "slide_type": "fragment"
    }
   },
   "outputs": [
    {
     "name": "stdout",
     "output_type": "stream",
     "text": [
      "Ours\n",
      "[[-1.01666648 -0.44561831  1.59724475 -2.01417476]\n",
      " [ 1.02026499  0.53445454 -0.93626686  1.99626531]\n",
      " [ 1.19788515  0.30058502 -1.07839506  1.62266265]\n",
      " [-1.46596054 -0.85305012  1.55550945 -2.4188353 ]]\n"
     ]
    }
   ],
   "source": [
    "print 'Ours'\n",
    "print Ainv_ours"
   ]
  },
  {
   "cell_type": "code",
   "execution_count": 237,
   "metadata": {
    "collapsed": false,
    "slideshow": {
     "slide_type": "fragment"
    }
   },
   "outputs": [
    {
     "name": "stdout",
     "output_type": "stream",
     "text": [
      "\n",
      "Standard way\n",
      "[[-1.01666648 -0.44561831  1.59724475 -2.01417476]\n",
      " [ 1.02026499  0.53445454 -0.93626686  1.99626531]\n",
      " [ 1.19788515  0.30058502 -1.07839506  1.62266265]\n",
      " [-1.46596054 -0.85305012  1.55550945 -2.4188353 ]]\n"
     ]
    }
   ],
   "source": [
    "print '\\nStandard way'\n",
    "print Ainv"
   ]
  },
  {
   "cell_type": "markdown",
   "metadata": {
    "slideshow": {
     "slide_type": "slide"
    }
   },
   "source": [
    "# Matplotlib"
   ]
  },
  {
   "cell_type": "markdown",
   "metadata": {
    "slideshow": {
     "slide_type": "fragment"
    }
   },
   "source": [
    "Matplotlib is the most commonly used Python plotting library. If you're coming from a Matlab background, the API is meant to emulate that style of workflow."
   ]
  },
  {
   "cell_type": "markdown",
   "metadata": {
    "slideshow": {
     "slide_type": "fragment"
    }
   },
   "source": [
    "The Matplotlib + IPython stack is quite useful. As you'll see (through experimentation), matplotlib is complicated and large, and you will *usually* need some experimentation to figure out what to do."
   ]
  },
  {
   "cell_type": "code",
   "execution_count": 238,
   "metadata": {
    "collapsed": true,
    "slideshow": {
     "slide_type": "subslide"
    }
   },
   "outputs": [],
   "source": [
    "# -- set this so stuff happens in-notebook\n",
    "%matplotlib inline\n",
    "\n",
    "import numpy as np\n",
    "import matplotlib.pyplot as plt"
   ]
  },
  {
   "cell_type": "code",
   "execution_count": 239,
   "metadata": {
    "collapsed": false,
    "slideshow": {
     "slide_type": "subslide"
    }
   },
   "outputs": [
    {
     "data": {
      "image/png": "[encoded data removed]",
      "text/plain": [
       "<matplotlib.figure.Figure at 0x113caf1d0>"
      ]
     },
     "metadata": {},
     "output_type": "display_data"
    }
   ],
   "source": [
    "x = np.linspace(0, 10, 1000)\n",
    "y = np.power(x, 2)\n",
    "plt.plot(x, y)\n",
    "plt.title('An example plot!')\n",
    "plt.show()"
   ]
  },
  {
   "cell_type": "markdown",
   "metadata": {
    "slideshow": {
     "slide_type": "fragment"
    }
   },
   "source": [
    "Can get very involved! Most plotting code is very \"boilerplate\". I recommend looking at the [matplotlib gallery](http://matplotlib.org/gallery.html) for inspiration and associated source code!"
   ]
  },
  {
   "cell_type": "code",
   "execution_count": 240,
   "metadata": {
    "collapsed": false,
    "slideshow": {
     "slide_type": "subslide"
    }
   },
   "outputs": [
    {
     "data": {
      "image/png": "[encoded data removed]",
      "text/plain": [
       "<matplotlib.figure.Figure at 0x113e06f90>"
      ]
     },
     "metadata": {},
     "output_type": "display_data"
    }
   ],
   "source": [
    "f, ax = plt.subplots(1, 1, figsize=(5,4))\n",
    "\n",
    "x = np.linspace(0, 10, 1000)\n",
    "y = np.power(x, 2)\n",
    "ax.plot(x, y)\n",
    "\n",
    "ax.set_xlim((1, 5))\n",
    "ax.set_ylim((0, 30))\n",
    "\n",
    "# -- we can handle LaTeX!\n",
    "ax.set_xlabel('my fancy $x$ label')\n",
    "ax.set_ylabel('my $y = \\sum_i f_{i}(x)$ label')\n",
    "\n",
    "ax.set_title(r'plot title, including $f_i$')\n",
    "plt.tight_layout()\n",
    "# -- save to a PDF\n",
    "plt.savefig('line_plot_plus.pdf')"
   ]
  },
  {
   "cell_type": "markdown",
   "metadata": {
    "slideshow": {
     "slide_type": "subslide"
    }
   },
   "source": [
    "Can histogram data! Very useful in the sciences."
   ]
  },
  {
   "cell_type": "code",
   "execution_count": 57,
   "metadata": {
    "collapsed": false,
    "slideshow": {
     "slide_type": "subslide"
    }
   },
   "outputs": [
    {
     "data": {
      "image/png": "[encoded data removed]",
      "text/plain": [
       "<matplotlib.figure.Figure at 0x10ef03bd0>"
      ]
     },
     "metadata": {},
     "output_type": "display_data"
    }
   ],
   "source": [
    "f, ax = plt.subplots(1, 1, figsize=(5,4))\n",
    "\n",
    "bins = np.linspace(-20, 20)\n",
    "\n",
    "x1 = np.random.normal(-1, 3, 5000)\n",
    "x2 = np.random.normal(6, 4, 5000)\n",
    "\n",
    "plt.hist(x1, bins = bins, color='red', label = 'Trial', histtype='step')\n",
    "plt.hist(x2, bins = bins, color='blue', label = 'Control', histtype='step')\n",
    "\n",
    "ax.set_xlabel(r'complicated label $\\sum_i X_i$')\n",
    "ax.set_ylabel('Count!')\n",
    "plt.legend()\n",
    "plt.show()"
   ]
  },
  {
   "cell_type": "markdown",
   "metadata": {
    "slideshow": {
     "slide_type": "subslide"
    }
   },
   "source": [
    "2D histogram! These can be pretty!"
   ]
  },
  {
   "cell_type": "code",
   "execution_count": 58,
   "metadata": {
    "collapsed": false,
    "slideshow": {
     "slide_type": "subslide"
    }
   },
   "outputs": [
    {
     "data": {
      "image/png": "[encoded data removed]",
      "text/plain": [
       "<matplotlib.figure.Figure at 0x10ef1c550>"
      ]
     },
     "metadata": {},
     "output_type": "display_data"
    }
   ],
   "source": [
    "\n",
    "f, ax = plt.subplots(1, 1, figsize=(5,4))\n",
    "bins = np.linspace(-20, 20)\n",
    "plt.hist2d(np.random.normal(-1, 3, 100000), np.random.normal(6, 4, 100000), bins=100)\n",
    "ax.set_xlabel(r'complicated label $\\sum_i X_i$')\n",
    "ax.set_ylabel('Count!')\n",
    "plt.show()\n"
   ]
  },
  {
   "cell_type": "markdown",
   "metadata": {
    "slideshow": {
     "slide_type": "slide"
    }
   },
   "source": [
    "# SciPy"
   ]
  },
  {
   "cell_type": "markdown",
   "metadata": {
    "slideshow": {
     "slide_type": "fragment"
    }
   },
   "source": [
    "SciPy is a library of algorithms and mathematical tools built to work with NumPy arrays."
   ]
  },
  {
   "cell_type": "markdown",
   "metadata": {
    "slideshow": {
     "slide_type": "fragment"
    }
   },
   "source": [
    "* linear algebra - `scipy.linalg`\n",
    "* statistics - `scipy.stats`\n",
    "* optimization - `scipy.optimize`\n",
    "* sparse matrices - `scipy.sparse`\n",
    "* signal processing - `scipy.signal`\n",
    "* etc."
   ]
  },
  {
   "cell_type": "markdown",
   "metadata": {
    "slideshow": {
     "slide_type": "fragment"
    }
   },
   "source": [
    "Slightly different from numpy.linalg., SciPy *always* uses BLAS/LAPACK support, so could be faster in many cases!"
   ]
  },
  {
   "cell_type": "markdown",
   "metadata": {
    "slideshow": {
     "slide_type": "subslide"
    }
   },
   "source": [
    "## Optimization\n",
    "\n",
    "* General purpose minimization: CG, BFGS, least-squares\n",
    "* Constrainted minimization; non-negative least-squares\n",
    "* Minimize using simulated annealing\n",
    "* Scalar function minimization\n",
    "* Root finding\n",
    "* Check gradient function\n",
    "* Line search"
   ]
  },
  {
   "cell_type": "markdown",
   "metadata": {
    "slideshow": {
     "slide_type": "subslide"
    }
   },
   "source": [
    "## Statistics\n",
    "\n",
    "* Mean, median, mode, variance, kurtosis\n",
    "* Pearson correlation coefficient\n",
    "* Hypothesis tests (ttest, Wilcoxon signed-rank test, Kolmogorov-Smirnov)\n",
    "* Gaussian kernel density estimation"
   ]
  },
  {
   "cell_type": "markdown",
   "metadata": {
    "slideshow": {
     "slide_type": "subslide"
    }
   },
   "source": [
    "## Matricies (sparse)\n",
    "\n",
    "* Sparse matrix classes: CSC, CSR, etc.\n",
    "* Functions to build sparse matrices\n",
    "* `sparse.linalg` module for sparse linear algebra\n",
    "* `sparse.csgrap`h for sparse graph routines\n",
    "* Matlab files\n",
    "* Matrix Market files (sparse matrices)\n",
    "* `.wav` files"
   ]
  },
  {
   "cell_type": "markdown",
   "metadata": {
    "slideshow": {
     "slide_type": "subslide"
    }
   },
   "source": [
    "Quick example with Scipy!"
   ]
  },
  {
   "cell_type": "code",
   "execution_count": 113,
   "metadata": {
    "collapsed": true,
    "slideshow": {
     "slide_type": "subslide"
    }
   },
   "outputs": [],
   "source": [
    "from scipy.optimize import leastsq, fmin\n",
    "from numpy import sin, cos, pi, sqrt"
   ]
  },
  {
   "cell_type": "code",
   "execution_count": 216,
   "metadata": {
    "collapsed": true,
    "slideshow": {
     "slide_type": "fragment"
    }
   },
   "outputs": [],
   "source": [
    "# Define a simple signal model\n",
    "def model(par):\n",
    "    p = 2.0\n",
    "    return par[0] + par[1]*sin(2*pi*t/p) + (t/5) ** 2 * par[2]*(cos(2*pi*t/(p*(t + 1))))**2"
   ]
  },
  {
   "cell_type": "code",
   "execution_count": 217,
   "metadata": {
    "collapsed": false,
    "slideshow": {
     "slide_type": "fragment"
    }
   },
   "outputs": [
    {
     "data": {
      "text/plain": [
       "[<matplotlib.lines.Line2D at 0x112ff86d0>]"
      ]
     },
     "execution_count": 217,
     "metadata": {},
     "output_type": "execute_result"
    },
    {
     "data": {
      "image/png": "[encoded data removed]",
      "text/plain": [
       "<matplotlib.figure.Figure at 0x11381be10>"
      ]
     },
     "metadata": {},
     "output_type": "display_data"
    }
   ],
   "source": [
    "# Create some data with this model\n",
    "par = [0.1, 1.5, 2]\n",
    "t = np.linspace(0, 4 * pi, 300)\n",
    "y = model(par)\n",
    "\n",
    "plt.plot(t, y, label='data')"
   ]
  },
  {
   "cell_type": "code",
   "execution_count": 218,
   "metadata": {
    "collapsed": true,
    "slideshow": {
     "slide_type": "subslide"
    }
   },
   "outputs": [],
   "source": [
    "# Add a bit of gaussian noise\n",
    "dy = 3*np.random.normal(0, 1, y.shape[0])\n",
    "y += dy"
   ]
  },
  {
   "cell_type": "code",
   "execution_count": 219,
   "metadata": {
    "collapsed": false,
    "slideshow": {
     "slide_type": "fragment"
    }
   },
   "outputs": [
    {
     "data": {
      "text/plain": [
       "[<matplotlib.lines.Line2D at 0x113c8ea50>]"
      ]
     },
     "execution_count": 219,
     "metadata": {},
     "output_type": "execute_result"
    },
    {
     "data": {
      "image/png": "[encoded data removed]",
      "text/plain": [
       "<matplotlib.figure.Figure at 0x1137e2190>"
      ]
     },
     "metadata": {},
     "output_type": "display_data"
    }
   ],
   "source": [
    "plt.plot(t, y, label='data')"
   ]
  },
  {
   "cell_type": "code",
   "execution_count": 220,
   "metadata": {
    "collapsed": true,
    "slideshow": {
     "slide_type": "subslide"
    }
   },
   "outputs": [],
   "source": [
    "# error function we minimize, simply the 1-norm\n",
    "def resid(par):\n",
    "    return np.sum(np.abs(model(par)-y))"
   ]
  },
  {
   "cell_type": "code",
   "execution_count": 221,
   "metadata": {
    "collapsed": false,
    "slideshow": {
     "slide_type": "fragment"
    }
   },
   "outputs": [
    {
     "name": "stdout",
     "output_type": "stream",
     "text": [
      "Optimization terminated successfully.\n",
      "         Current function value: 720.169399\n",
      "         Iterations: 203\n",
      "         Function evaluations: 364\n"
     ]
    }
   ],
   "source": [
    "x0 = np.array([0, 0, 0])\n",
    "rez = fmin(resid, x0)"
   ]
  },
  {
   "cell_type": "code",
   "execution_count": 222,
   "metadata": {
    "collapsed": false,
    "slideshow": {
     "slide_type": "fragment"
    }
   },
   "outputs": [
    {
     "name": "stdout",
     "output_type": "stream",
     "text": [
      "Exact parameters:  [0.1, 1.5, 2]\n",
      "Fitted parameters: [ 0.3248099   1.75849786  1.77051822]\n"
     ]
    }
   ],
   "source": [
    "print 'Exact parameters: ', par\n",
    "print 'Fitted parameters:', rez"
   ]
  },
  {
   "cell_type": "code",
   "execution_count": 223,
   "metadata": {
    "collapsed": false,
    "slideshow": {
     "slide_type": "subslide"
    }
   },
   "outputs": [
    {
     "data": {
      "text/plain": [
       "<matplotlib.legend.Legend at 0x113dada90>"
      ]
     },
     "execution_count": 223,
     "metadata": {},
     "output_type": "execute_result"
    },
    {
     "data": {
      "image/png": "[encoded data removed]",
      "text/plain": [
       "<matplotlib.figure.Figure at 0x113c20cd0>"
      ]
     },
     "metadata": {},
     "output_type": "display_data"
    }
   ],
   "source": [
    "plt.plot(t, y, label='Data', color='blue')\n",
    "plt.plot(t, model(rez), label='Estimated', color='red', linewidth=2)\n",
    "plt.plot(t, model(par), '--', label='Actual', color='lime', linewidth=2)\n",
    "plt.legend(loc=4)"
   ]
  }
 ],
 "metadata": {
  "celltoolbar": "Slideshow",
  "kernelspec": {
   "display_name": "Python 2",
   "language": "python",
   "name": "python2"
  },
  "language_info": {
   "codemirror_mode": {
    "name": "ipython",
    "version": 2
   },
   "file_extension": ".py",
   "mimetype": "text/x-python",
   "name": "python",
   "nbconvert_exporter": "python",
   "pygments_lexer": "ipython2",
   "version": "2.7.10"
  },
  "name": "_merged_merged_merged"
 },
 "nbformat": 4,
 "nbformat_minor": 0
}
