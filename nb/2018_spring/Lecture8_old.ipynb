{
 "cells": [
  {
   "cell_type": "code",
   "execution_count": 1,
   "metadata": {
    "slideshow": {
     "slide_type": "skip"
    }
   },
   "outputs": [
    {
     "data": {
      "text/plain": [
       "{u'start_slideshow_at': 'selected', u'theme': 'simple', u'transition': 'zoom'}"
      ]
     },
     "execution_count": 1,
     "metadata": {},
     "output_type": "execute_result"
    }
   ],
   "source": [
    "from traitlets.config.manager import BaseJSONConfigManager\n",
    "# To make this work, replace path with your own:\n",
    "# On the command line, type juypter --paths to see where your nbconfig is stored\n",
    "# Should be in the environment in which you install reveal.js\n",
    "path = \" /Users/Blake/.virtualenvs/cme193/bin/../etc/jupyter\"\n",
    "cm = BaseJSONConfigManager(config_dir=path)\n",
    "cm.update('livereveal', {\n",
    "              'theme': 'simple',\n",
    "              'transition': 'zoom',\n",
    "              'start_slideshow_at': 'selected',\n",
    "    })"
   ]
  },
  {
   "cell_type": "code",
   "execution_count": 2,
   "metadata": {
    "slideshow": {
     "slide_type": "skip"
    }
   },
   "outputs": [
    {
     "data": {
      "text/html": [
       "<link rel=\"stylesheet\" type=\"text/css\" href=\"custom.css\">"
      ],
      "text/plain": [
       "<IPython.core.display.HTML object>"
      ]
     },
     "metadata": {},
     "output_type": "display_data"
    }
   ],
   "source": [
    "%%HTML \n",
    "<link rel=\"stylesheet\" type=\"text/css\" href=\"custom.css\">"
   ]
  },
  {
   "cell_type": "markdown",
   "metadata": {
    "nbpresent": {
     "id": "a499af69-0fe0-4eb0-b156-5f5396da619d"
    },
    "slideshow": {
     "slide_type": "slide"
    }
   },
   "source": [
    "# CME 193 \n",
    "## Introduction to Scientific Python\n",
    "## Spring 2017\n",
    "\n",
    "<br>\n",
    "\n",
    "## Lecture 8\n",
    "-------------\n",
    "## Recursion, Exceptions, Unit testing, and more packages"
   ]
  },
  {
   "cell_type": "markdown",
   "metadata": {},
   "source": [
    "---------"
   ]
  },
  {
   "cell_type": "markdown",
   "metadata": {
    "nbpresent": {
     "id": "487809eb-b9d2-4bcc-8942-ca61011c3204"
    },
    "slideshow": {
     "slide_type": "slide"
    }
   },
   "source": [
    "# Lecture 8 Contents\n",
    "\n",
    "* Admin\n",
    "* Recursion\n",
    "* Exceptions\n",
    "* Unit Testing\n",
    "* More packages"
   ]
  },
  {
   "cell_type": "markdown",
   "metadata": {
    "slideshow": {
     "slide_type": "subslide"
    }
   },
   "source": [
    "## Administration\n",
    "\n",
    "* Thank you for your project proposals! Really cool and interesting ideas.\n",
    "* Complete either HW2 or Project by **May 16**.\n",
    "* Exercises also due **May 16**."
   ]
  },
  {
   "cell_type": "markdown",
   "metadata": {
    "slideshow": {
     "slide_type": "subslide"
    }
   },
   "source": [
    "### Project tips and general feedback\n",
    "\n",
    "- If your project involves a dataset, make sure you tackle this step early\n",
    "- HW2 is the benchmark for required deliverables.\n",
    "- If you need to pivot along the way, that is fine, if it's substantial let us know\n",
    "- Have fun and research best practices along the way. You are *not* being graded on how well your model works.\n"
   ]
  },
  {
   "cell_type": "markdown",
   "metadata": {
    "slideshow": {
     "slide_type": "subslide"
    }
   },
   "source": [
    "## Office Hours\n",
    "\n",
    "We will continue to hold office hours over the next two weeks:\n",
    "\n",
    "- 11am - 1pm Tuesday/Thursday\n",
    " - ```May 4, May 9, May 11, May 16```"
   ]
  },
  {
   "cell_type": "markdown",
   "metadata": {},
   "source": [
    "---------"
   ]
  },
  {
   "cell_type": "markdown",
   "metadata": {
    "slideshow": {
     "slide_type": "subslide"
    }
   },
   "source": [
    "# Recursion"
   ]
  },
  {
   "cell_type": "markdown",
   "metadata": {
    "slideshow": {
     "slide_type": "subslide"
    }
   },
   "source": [
    "Recursive function solve problems by reducing them to smaller problems of the same form.\n",
    "\n",
    "This allows recursive functions to call themselves.\n",
    " - New paradigm \n",
    " - Powerful tool \n",
    " - Divide-and-conquer \n",
    " - Beautiful solutions"
   ]
  },
  {
   "cell_type": "markdown",
   "metadata": {
    "slideshow": {
     "slide_type": "subslide"
    }
   },
   "source": [
    "## First example\n",
    "\n",
    "Let’s consider a trivial problem:\n",
    "\n",
    "Suppose we want to add two positive numbers ```a``` and ```b```, but we can only add/subtract 1 to any number.\n",
    "\n",
    "How would you write a function to do this without recursion? \n",
    "\n",
    "What control statement(s) would you use?"
   ]
  },
  {
   "cell_type": "code",
   "execution_count": 24,
   "metadata": {
    "slideshow": {
     "slide_type": "subslide"
    }
   },
   "outputs": [
    {
     "data": {
      "text/plain": [
       "15"
      ]
     },
     "execution_count": 24,
     "metadata": {},
     "output_type": "execute_result"
    }
   ],
   "source": [
    "# Non-recursive solution\n",
    "def add(a, b): \n",
    "    while b > 0:\n",
    "        a += 1\n",
    "        b -= 1 \n",
    "    return a\n",
    "\n",
    "add(7, 8)"
   ]
  },
  {
   "cell_type": "markdown",
   "metadata": {
    "slideshow": {
     "slide_type": "subslide"
    }
   },
   "source": [
    "## Recursive solution\n",
    "\n",
    "- Simple case: \n",
    " - If ```add(a,b)``` is called with ```b = 0``` just return ```a```\n",
    "- Otherwise, we can return ```1 + add(a, b-1)```"
   ]
  },
  {
   "cell_type": "code",
   "execution_count": 25,
   "metadata": {
    "collapsed": true,
    "slideshow": {
     "slide_type": "subslide"
    }
   },
   "outputs": [],
   "source": [
    "# Recursive solution\n",
    "# Adding b to a, (if only able to use +1)\n",
    "def add(a, b):\n",
    "    if b == 0:\n",
    "        # base case\n",
    "        return a\n",
    "    # recursive step\n",
    "    return add(a, b-1) + 1"
   ]
  },
  {
   "cell_type": "markdown",
   "metadata": {
    "slideshow": {
     "slide_type": "subslide"
    }
   },
   "source": [
    "### Base case and recursive steps\n",
    "\n",
    "Recursive functions consist of two parts:\n",
    "\n",
    "**Base case**: The base case is the trivial case that can be dealt with easily.\n",
    "\n",
    "**Recursive step**: The recursive step brings us slightly closer (breaks the problem into smaller subproblems) to the base case and\n",
    "calls the function itself again."
   ]
  },
  {
   "cell_type": "markdown",
   "metadata": {
    "slideshow": {
     "slide_type": "subslide"
    }
   },
   "source": [
    "## Reversing a list\n",
    "\n",
    "How can we recursively reverse a list? ```([1, 2, 3] → [3, 2, 1])```\n",
    "\n",
    " - If list is empty or has one element, the reverse is itself \n",
    " - Otherwise, reverse elements 2 to n, and append the first"
   ]
  },
  {
   "cell_type": "code",
   "execution_count": 26,
   "metadata": {
    "slideshow": {
     "slide_type": "subslide"
    }
   },
   "outputs": [
    {
     "data": {
      "text/plain": [
       "[3, 2, 1]"
      ]
     },
     "execution_count": 26,
     "metadata": {},
     "output_type": "execute_result"
    }
   ],
   "source": [
    "def reverse_list(xs):\n",
    "    if len(xs) <= 1:\n",
    "        return xs\n",
    "    else:\n",
    "        # shift first element to last\n",
    "        return reverse_list(xs[1:]) + [xs[0]]\n",
    "    \n",
    "reverse_list([1,2,3])"
   ]
  },
  {
   "cell_type": "markdown",
   "metadata": {
    "slideshow": {
     "slide_type": "subslide"
    }
   },
   "source": [
    "## Palindromes\n",
    "\n",
    "- A palindrome is a word that reads the same from both ways, such as radar or level.\n",
    "\n",
    "- Let’s write a function that checks whether a given word is a palindrome."
   ]
  },
  {
   "cell_type": "markdown",
   "metadata": {
    "slideshow": {
     "slide_type": "subslide"
    }
   },
   "source": [
    "## The recursive idea\n",
    "\n",
    "Given a word, such as level, we check:\n",
    " - whether the first and last character are the same\n",
    " - whether the string with first and last character removed are the same"
   ]
  },
  {
   "cell_type": "markdown",
   "metadata": {
    "slideshow": {
     "slide_type": "subslide"
    }
   },
   "source": [
    "## Base case\n",
    "\n",
    "What’s the base case in this case? \n",
    "\n",
    "- The empty string is a palindrome \n",
    "- Any 1 letter string is a palindrome"
   ]
  },
  {
   "cell_type": "code",
   "execution_count": 27,
   "metadata": {
    "slideshow": {
     "slide_type": "subslide"
    }
   },
   "outputs": [
    {
     "name": "stdout",
     "output_type": "stream",
     "text": [
      "False\n",
      "True\n"
     ]
    }
   ],
   "source": [
    "def is_palin(s):\n",
    "    '''returns True iff s is a palindrome'''\n",
    "    if len(s) <= 1:\n",
    "        return True\n",
    "    return s[0] == s[-1] and is_palin(s[1:-1])\n",
    "\n",
    "print((is_palin('cme193')))\n",
    "print((is_palin('racecar')))"
   ]
  },
  {
   "cell_type": "markdown",
   "metadata": {
    "slideshow": {
     "slide_type": "subslide"
    }
   },
   "source": [
    "## Another example\n",
    "\n",
    "Write a recursive function that computes ab for given a and b, where b is an integer. (Do not use ∗∗)"
   ]
  },
  {
   "cell_type": "markdown",
   "metadata": {
    "slideshow": {
     "slide_type": "subslide"
    }
   },
   "source": [
    "### Another example\n",
    "\n",
    "Base case: $b=0$ , $a^b =1$\n",
    "\n",
    "Recursive step: (be careful) there are actually two options, one for if b < 0 and one for if b > 0."
   ]
  },
  {
   "cell_type": "code",
   "execution_count": 30,
   "metadata": {
    "slideshow": {
     "slide_type": "subslide"
    }
   },
   "outputs": [
    {
     "data": {
      "text/plain": [
       "True"
      ]
     },
     "execution_count": 30,
     "metadata": {},
     "output_type": "execute_result"
    }
   ],
   "source": [
    "def power(a,b):\n",
    "    if b == 0:\n",
    "        return 1\n",
    "    elif b > 0:\n",
    "        return a*power(a,b-1)\n",
    "    else:\n",
    "        return (1./a)*power(a,b+1)\n",
    "    \n",
    "power(2,10)\n",
    "power(2, -10) == 1.0/1024"
   ]
  },
  {
   "cell_type": "markdown",
   "metadata": {
    "slideshow": {
     "slide_type": "subslide"
    }
   },
   "source": [
    "### Example: Fibonacci\n",
    "\n",
    "```python\n",
    "fib(0) = 0\n",
    "\n",
    "fib(1) = 1\n",
    "\n",
    "fib(n) = fib(n-1) + fib(n-2)  for n >= 2\n",
    "```"
   ]
  },
  {
   "cell_type": "code",
   "execution_count": 31,
   "metadata": {
    "slideshow": {
     "slide_type": "subslide"
    }
   },
   "outputs": [
    {
     "data": {
      "text/plain": [
       "5702887"
      ]
     },
     "execution_count": 31,
     "metadata": {},
     "output_type": "execute_result"
    }
   ],
   "source": [
    "def fib(n):\n",
    "    if n <= 1:\n",
    "        return n\n",
    "    f = fib(n-1) + fib(n-2)\n",
    "    return f\n",
    "fib(34)"
   ]
  },
  {
   "cell_type": "markdown",
   "metadata": {
    "slideshow": {
     "slide_type": "subslide"
    }
   },
   "source": [
    "## Memoization\n",
    "#### A paradigm to trade memory for time"
   ]
  },
  {
   "cell_type": "code",
   "execution_count": 34,
   "metadata": {
    "collapsed": true,
    "slideshow": {
     "slide_type": "subslide"
    }
   },
   "outputs": [],
   "source": [
    "M = {0: 0, 1:1}\n",
    "\n",
    "def fib_memo(n):\n",
    "    if n in M:\n",
    "        return M[n]\n",
    "    f = fib(n-1) + fib(n-2)\n",
    "    M[n] = f\n",
    "    return f"
   ]
  },
  {
   "cell_type": "markdown",
   "metadata": {
    "slideshow": {
     "slide_type": "subslide"
    }
   },
   "source": [
    "## Trapezoid Rule"
   ]
  },
  {
   "cell_type": "code",
   "execution_count": 13,
   "metadata": {
    "collapsed": true,
    "slideshow": {
     "slide_type": "subslide"
    }
   },
   "outputs": [],
   "source": [
    "def trapezoid(f, a, b, N):\n",
    "    '''integrates f over [a,b] using N steps'''\n",
    "    if a > b:\n",
    "        a, b = b, a\n",
    "    # step size\n",
    "    h = float(b-a)/N\n",
    "    # running sum\n",
    "    s = h/2 * (f(a) + f(b))\n",
    "    for k in range(1, N-1):\n",
    "        s += h * f(a + h*k)\n",
    "    return s"
   ]
  },
  {
   "cell_type": "markdown",
   "metadata": {
    "slideshow": {
     "slide_type": "subslide"
    }
   },
   "source": [
    "## Adaptive integration"
   ]
  },
  {
   "cell_type": "code",
   "execution_count": 14,
   "metadata": {
    "collapsed": true,
    "slideshow": {
     "slide_type": "subslide"
    }
   },
   "outputs": [],
   "source": [
    "def ada_int(f, a, b, tol=1.0e-6, n=5, N=10):\n",
    "    area = trapezoid(f, a, b, N)\n",
    "    check = trapezoid(f, a, b, n)\n",
    "    if abs(area - check) > tol:\n",
    "        # bad accuracy, add more points to interval\n",
    "        m = (b + a) / 2.0\n",
    "        area = ada_int(f, a, m) + ada_int(f, m, b)\n",
    "    return area"
   ]
  },
  {
   "cell_type": "markdown",
   "metadata": {
    "slideshow": {
     "slide_type": "subslide"
    }
   },
   "source": [
    "## Pitfalls\n",
    "\n",
    "Recursion can be very powerful, but there are some pitfalls: \n",
    "- Have to ensure you always reach the base case.\n",
    "\n",
    "- Each successive call of the algorithm must be solving a simpler problem\n",
    "\n",
    "- The number of function calls shouldn’t explode. (see exercises)\n",
    "\n",
    "- An iterative algorithm is always faster due to overhead of function calls. (However, the iterative solution might be much more complex)"
   ]
  },
  {
   "cell_type": "markdown",
   "metadata": {},
   "source": [
    "---------"
   ]
  },
  {
   "cell_type": "markdown",
   "metadata": {
    "slideshow": {
     "slide_type": "slide"
    }
   },
   "source": [
    "# Exceptions"
   ]
  },
  {
   "cell_type": "markdown",
   "metadata": {
    "slideshow": {
     "slide_type": "subslide"
    }
   },
   "source": [
    "## Exceptions\n",
    "### Example\n",
    "\n",
    "Consider a function that takes a filename, and returns the 20 most common words. (This is similar to one of the exercises you could have done.)"
   ]
  },
  {
   "cell_type": "markdown",
   "metadata": {
    "slideshow": {
     "slide_type": "subslide"
    }
   },
   "source": [
    "Suppose we have written a function:\n",
    "\n",
    "```python\n",
    "topkwords(filename, k)\n",
    "```\n",
    "\n",
    "\n",
    "Instead of entering ```filename``` and value of ```k``` in the script, we may also want to run it from the terminal."
   ]
  },
  {
   "cell_type": "markdown",
   "metadata": {
    "slideshow": {
     "slide_type": "subslide"
    }
   },
   "source": [
    "### Parse input from command line\n",
    "\n",
    "The sys module allows us to read the terminal command that started the script:\n",
    "\n",
    "```\n",
    "import sys\n",
    "\n",
    "print sys.argv```\n"
   ]
  },
  {
   "cell_type": "markdown",
   "metadata": {
    "slideshow": {
     "slide_type": "subslide"
    }
   },
   "source": [
    "## ```sys.argv```\n",
    "\n",
    "```sys.argv``` holds a list with command line arguments passed to a Python script.\n",
    "\n",
    "Note that ```sys.argv[0]``` will be the name of the python script itself."
   ]
  },
  {
   "cell_type": "markdown",
   "metadata": {
    "slideshow": {
     "slide_type": "subslide"
    }
   },
   "source": [
    "```python\n",
    "import sys\n",
    "def topkwords(filename, k):\n",
    "# Returns k most common words in filename\n",
    "    pass\n",
    "\n",
    "if __name__ == \"__main__\":\n",
    "    filename = sys.argv[1]\n",
    "    k = int(sys.argv[2])\n",
    "    print topkwords(filename, k)```"
   ]
  },
  {
   "cell_type": "markdown",
   "metadata": {
    "slideshow": {
     "slide_type": "subslide"
    }
   },
   "source": [
    "## Issues\n",
    "\n",
    "- What if the file does not exist?\n",
    "- What if the second argument is not an integer? \n",
    "- What if no command line arguments are supplied?\n",
    "- All result in errors: \n",
    " - ```IOError```\n",
    " - ```ValueError```\n",
    " - ```IndexError```"
   ]
  },
  {
   "cell_type": "markdown",
   "metadata": {
    "slideshow": {
     "slide_type": "subslide"
    }
   },
   "source": [
    "## Exception handling\n",
    "\n",
    "What do we want to happen when these errors occur? Should the program simply crash?\n",
    "\n",
    "No, we want it to gracefully handle these\n",
    "- ```IOError```: Tell the user the file does not exist.\n",
    "- ```ValueError```, ```IndexError```: Tell the user what the format of the command line arguments should be."
   ]
  },
  {
   "cell_type": "markdown",
   "metadata": {
    "slideshow": {
     "slide_type": "subslide"
    }
   },
   "source": [
    "## Try ... Except\n",
    "\n",
    "- The try clause is executed\n",
    "- If no exception occurs, the except clause is skipped\n",
    "- If an exception occurs, the rest of the try clause is skipped. Then if the exception type is matched, the except clause is executed. Then the code continues after the try statement\n",
    "- If an exception occurs with no match in the except clause, execution is stopped and we get the standard error"
   ]
  },
  {
   "cell_type": "markdown",
   "metadata": {
    "slideshow": {
     "slide_type": "slide"
    }
   },
   "source": [
    "```python\n",
    "import sys\n",
    "if __name__ == \"__main__\": \n",
    "    try:\n",
    "        filename = sys.argv[1]\n",
    "        k = int(sys.argv[2])\n",
    "        print topkwords(filename, k)\n",
    "    except IOError:\n",
    "        print \"File does not exist\"\n",
    "    except (ValueError, IndexError):\n",
    "        print \"Error in command line input\"\n",
    "        print \"Run as: python wc.py <filename> <k>\"\n",
    "        print \"where <k> is an integer\"\n",
    "```"
   ]
  },
  {
   "cell_type": "markdown",
   "metadata": {
    "slideshow": {
     "slide_type": "subslide"
    }
   },
   "source": [
    "## A naked except"
   ]
  },
  {
   "cell_type": "markdown",
   "metadata": {
    "slideshow": {
     "slide_type": "subslide"
    }
   },
   "source": [
    "### A naked except\n",
    "We can have a naked except that catches any error:\n",
    "```python\n",
    "try:\n",
    "    t = 3.0 / 0.0\n",
    "except:\n",
    "    # handles any error\n",
    "    print 'There was some error'\n",
    "```\n",
    "\n",
    "Use this with extreme caution though, as genuine bugs might be impossible to correct!"
   ]
  },
  {
   "cell_type": "markdown",
   "metadata": {
    "slideshow": {
     "slide_type": "subslide"
    }
   },
   "source": [
    "## Try - Except - Else\n",
    "\n",
    "- Else clause after all except statements is executed after successful execution of the try block (hence, when no exception was raised)\n",
    "\n",
    "Why? \n",
    " - Avoids catching exception that was not protected E.g. consider f.readlines raising an IOError"
   ]
  },
  {
   "cell_type": "markdown",
   "metadata": {
    "slideshow": {
     "slide_type": "subslide"
    }
   },
   "source": [
    "```python\n",
    "# from Python docs\n",
    "for arg in sys.argv[1:]:\n",
    "    try:\n",
    "        f = open(arg, 'r')\n",
    "    except IOError:\n",
    "        print 'cannot open', arg \n",
    "    else:\n",
    "        print arg, 'has', len(f.readlines()), 'lines' f.close()\n",
    "```"
   ]
  },
  {
   "cell_type": "markdown",
   "metadata": {
    "slideshow": {
     "slide_type": "subslide"
    }
   },
   "source": [
    "## Raise\n",
    "\n",
    "We can use Raise to raise an exception ourselves.\n",
    "\n",
    "```\n",
    ">>> raise NameError(’Oops’)\n",
    "Traceback (most recent call last):\n",
    "  File \"<stdin>\", line 1, in ?\n",
    "NameError: Oops\n",
    "```"
   ]
  },
  {
   "cell_type": "markdown",
   "metadata": {
    "slideshow": {
     "slide_type": "subslide"
    }
   },
   "source": [
    "## ```finally```\n",
    "\n",
    "The finally statement is always executed before leaving the try statement, whether or not an exception has occured.\n",
    "\n",
    "Useful in case we have to close files, closing network connections etc."
   ]
  },
  {
   "cell_type": "code",
   "execution_count": 35,
   "metadata": {
    "slideshow": {
     "slide_type": "subslide"
    }
   },
   "outputs": [
    {
     "name": "stdout",
     "output_type": "stream",
     "text": [
      "Finally clause\n",
      "1\n",
      "Division by zero!\n",
      "Finally clause\n",
      "None\n"
     ]
    }
   ],
   "source": [
    "def div(x, y):\n",
    "    try:\n",
    "        return x/y\n",
    "    except ZeroDivisionError:\n",
    "        print('Division by zero!') \n",
    "    finally:\n",
    "        print(\"Finally clause\")\n",
    "print((div(3,2))) \n",
    "print((div(3,0)))"
   ]
  },
  {
   "cell_type": "markdown",
   "metadata": {
    "slideshow": {
     "slide_type": "subslide"
    }
   },
   "source": [
    "## Raising our own excecptions\n",
    "\n",
    "Recall the Rational class we considered a few lectures ago.\n",
    "\n",
    "What if the denominator passed in to the constructor is zero?"
   ]
  },
  {
   "cell_type": "markdown",
   "metadata": {
    "slideshow": {
     "slide_type": "subslide"
    }
   },
   "source": [
    "## Raising our own excecptions\n",
    "\n",
    "```python\n",
    "class Rational:\n",
    "    def __init__(self, p, q=1):\n",
    "        g = gcd(p, q)\n",
    "        self.p = p / g\n",
    "        self.q = q / g\n",
    "```\n",
    "\n",
    "What if ```q == 0```?"
   ]
  },
  {
   "cell_type": "markdown",
   "metadata": {
    "slideshow": {
     "slide_type": "subslide"
    }
   },
   "source": [
    "## Making the necessary change\n",
    "\n",
    "```python\n",
    "class Rational:\n",
    "    def __init__(self, p, q=1):\n",
    "        if q == 0:\n",
    "            raise ZeroDivisionError('denominator is zero')\n",
    "        g = gcd(p, q) \n",
    "        self.p = p / g \n",
    "        self.q = q / g\n",
    "```"
   ]
  },
  {
   "cell_type": "markdown",
   "metadata": {},
   "source": [
    "---------"
   ]
  },
  {
   "cell_type": "markdown",
   "metadata": {
    "slideshow": {
     "slide_type": "slide"
    }
   },
   "source": [
    "# Unit tests"
   ]
  },
  {
   "cell_type": "markdown",
   "metadata": {
    "slideshow": {
     "slide_type": "subslide"
    }
   },
   "source": [
    "## Unit tests: \n",
    "\n",
    "Test individual pieces of code.\n",
    "\n",
    "For example, for factorial function, test\n",
    "```0! = 1``` or ```3! = 6``` etc."
   ]
  },
  {
   "cell_type": "markdown",
   "metadata": {
    "slideshow": {
     "slide_type": "subslide"
    }
   },
   "source": [
    "![title](img/test_comp.png)"
   ]
  },
  {
   "cell_type": "markdown",
   "metadata": {
    "slideshow": {
     "slide_type": "subslide"
    }
   },
   "source": [
    "## Test driven development\n",
    "\n",
    "Some write tests before code. Reasons:\n",
    "- Focus on the requirements\n",
    "- Don’t write too much\n",
    "- Safely restructure/optimize code\n",
    "- When collaborating: don’t break other’s code \n",
    "- Faster"
   ]
  },
  {
   "cell_type": "markdown",
   "metadata": {
    "slideshow": {
     "slide_type": "subslide"
    }
   },
   "source": [
    "## Test cases\n",
    "\n",
    "How to construct test cases?\n",
    "\n",
    "A test case should answer a single question about the code.\n",
    "\n",
    "A test case should:\n",
    "- Run by itself, no human input required\n",
    "- Determine on its own whether the test has passed or failed \n",
    "- Be separate from other tests"
   ]
  },
  {
   "cell_type": "markdown",
   "metadata": {
    "slideshow": {
     "slide_type": "subslide"
    }
   },
   "source": [
    "## What to test?\n",
    "- Known values\n",
    "- Sanity check (for conversion functions for example)\n",
    "- Bad input\n",
    " - Input is too large?\n",
    " - Negative input?\n",
    " - String input when expected an integer?\n",
    "- etc: very dependent on problem"
   ]
  },
  {
   "cell_type": "markdown",
   "metadata": {
    "slideshow": {
     "slide_type": "subslide"
    }
   },
   "source": [
    "## ```unittest```\n",
    "\n",
    "A testcase is created by subclassing ```unittest.TestCase```\n",
    "\n",
    "Individual tests are defined with methods whose names start with the letters test. (Allows the test runner to identify the tests)\n",
    "\n",
    "Each test usually calls an assert method to run the test - many assert options.\n",
    "\n",
    "A few different ways to run tests (see documentation). Easiest way is to run ```unittest.main()``` for example if the test script is the main program."
   ]
  },
  {
   "cell_type": "markdown",
   "metadata": {
    "slideshow": {
     "slide_type": "subslide"
    }
   },
   "source": [
    "# ```assert```\n",
    "\n",
    "We can use a number of methods to check for failures:\n",
    "- assertEqual\n",
    "- assertNotEqual\n",
    "- assertTrue, assertFalse\n",
    "- assertIn\n",
    "- assertRaises \n",
    "- assertAlmostEqual \n",
    "- assertGreater, assertLessEqual\n",
    "- etc. (see Docs)"
   ]
  },
  {
   "cell_type": "markdown",
   "metadata": {
    "slideshow": {
     "slide_type": "subslide"
    }
   },
   "source": [
    "```python\n",
    "import unittest\n",
    "from my_script import is_palindrome\n",
    "\n",
    "class KnownInput(unittest.TestCase):\n",
    "    knownValues = (('lego', False),\n",
    "                   ('radar', True))\n",
    "\n",
    "    def testKnownValues(self):\n",
    "        for word, palin in self.knownValues:\n",
    "            result = is_palindrome(word)\n",
    "            self.assertEqual(result, palin)\n",
    "```"
   ]
  },
  {
   "cell_type": "markdown",
   "metadata": {
    "collapsed": true,
    "slideshow": {
     "slide_type": "subslide"
    }
   },
   "source": [
    "### ```unittest```\n",
    "\n",
    "Note, to use the ```unittest``` package inside a Jupyter notebook instead of ```unittest.main()```, use:\n",
    "\n",
    "\n",
    "``` unittest.main(argv=['ignored', '-v'], exit=False)```"
   ]
  },
  {
   "cell_type": "markdown",
   "metadata": {
    "slideshow": {
     "slide_type": "subslide"
    }
   },
   "source": [
    "# Alternatives\n",
    "\n",
    "- ```nose2```\n",
    "- ```Pytest```\n",
    "\n",
    "http://nose2.readthedocs.io/en/latest/differences.html"
   ]
  },
  {
   "cell_type": "markdown",
   "metadata": {
    "slideshow": {
     "slide_type": "subslide"
    }
   },
   "source": [
    "## Pytest\n",
    "\n",
    "```pip install pytest```\n",
    "\n",
    "- Easy testing\n",
    "- Automatically discovers tests\n",
    "- No need to remember all assert functions, keyword assert works for everything\n",
    "- Informative failure results"
   ]
  },
  {
   "cell_type": "markdown",
   "metadata": {
    "slideshow": {
     "slide_type": "subslide"
    }
   },
   "source": [
    "## Pytest\n",
    "\n",
    "Test discovery: (basics)\n",
    "\n",
    "- Scans files starting with test_ \n",
    "- Run functions starting with test_"
   ]
  },
  {
   "cell_type": "markdown",
   "metadata": {
    "slideshow": {
     "slide_type": "subslide"
    }
   },
   "source": [
    "## Example : primes\n",
    "\n",
    "Create two files in a directory:\n",
    "    ```primes.py``` – Implementation \n",
    "    ```test_primes.py``` – Tests\n"
   ]
  },
  {
   "cell_type": "markdown",
   "metadata": {
    "slideshow": {
     "slide_type": "subslide"
    }
   },
   "source": [
    "```python\n",
    "# primes.py\n",
    "# (simplest solution that passes tests)\n",
    "\n",
    "def is_prime(x):\n",
    "    for i in xrange(2, x):\n",
    "        if x % i == 0: \n",
    "            return False\n",
    "    return True\n",
    "```"
   ]
  },
  {
   "cell_type": "markdown",
   "metadata": {
    "slideshow": {
     "slide_type": "subslide"
    }
   },
   "source": [
    "```python\n",
    "\n",
    "# test_primes.py\n",
    "from primes import is_prime \n",
    "def test_is_three_prime():\n",
    "    assert is_prime(3)\n",
    "def test_is_four_prime(): \n",
    "    assert not is_prime(4)\n",
    "```"
   ]
  },
  {
   "cell_type": "markdown",
   "metadata": {
    "slideshow": {
     "slide_type": "subslide"
    }
   },
   "source": [
    "### Using ```py.test``` to execute test suite\n",
    "\n",
    "#### By default, it will run all files prefixed with test.\n",
    "\n",
    "Here we pass in the name of our test script:\n",
    "\n",
    "```py.test test_primes.py```"
   ]
  },
  {
   "cell_type": "markdown",
   "metadata": {
    "collapsed": true,
    "slideshow": {
     "slide_type": "subslide"
    }
   },
   "source": [
    "```python\n",
    "from primes import is_prime \n",
    "\n",
    "def test_is_zero_prime():\n",
    "    assert not is_prime(0) \n",
    "def test_is_one_prime():\n",
    "    assert not is_prime(1) \n",
    "def test_is_two_prime():\n",
    "    assert is_prime(2)\n",
    "def test_is_three_prime(): \n",
    "    assert is_prime(3)\n",
    "def test_is_four_prime(): \n",
    "    assert not is_prime(4)```"
   ]
  },
  {
   "cell_type": "markdown",
   "metadata": {
    "slideshow": {
     "slide_type": "subslide"
    }
   },
   "source": [
    "## Some more tests\n",
    "\n",
    "- Negative numbers \n",
    "- Non integers\n",
    "- Large prime\n",
    "- List of known primes \n",
    "- List of non-primes"
   ]
  },
  {
   "cell_type": "markdown",
   "metadata": {
    "slideshow": {
     "slide_type": "subslide"
    }
   },
   "source": [
    "### When all tests pass...\n",
    "\n",
    "- First make sure all tests pass\n",
    "- Then optimize code, making sure nothing breaks\n",
    "\n",
    "Now you can be confident that whatever algorithm you use, it still works as desired!"
   ]
  },
  {
   "cell_type": "markdown",
   "metadata": {
    "slideshow": {
     "slide_type": "subslide"
    }
   },
   "source": [
    "## Example - tests for Rational class\n",
    "\n",
    "Recall the rational numbers class we made earlier. What are some unit tests that you would use to test that class?"
   ]
  },
  {
   "cell_type": "markdown",
   "metadata": {
    "slideshow": {
     "slide_type": "subslide"
    }
   },
   "source": [
    "### Test for Rational class\n",
    "```python\n",
    "import exception_rational_fix\n",
    "import unittest\n",
    "\n",
    "class TestMethods(unittest.TestCase):\n",
    "    def test_denomZero(self):\n",
    "        self.assertRaises(ZeroDivisionError)\n",
    "\n",
    "if __name__ == '__main__':\n",
    "    unittest.main()\n",
    "```"
   ]
  },
  {
   "cell_type": "markdown",
   "metadata": {
    "slideshow": {
     "slide_type": "subslide"
    }
   },
   "source": [
    "## Writing good tests\n",
    "- Utilize automation and code reuse\n",
    "- Know the type and scope - your module or somebody else’s?\n",
    "- A single test should focus on a single thing\n",
    "- Functional tests must be deterministic\n",
    "- Leave no trace - safe setup and clean up"
   ]
  },
  {
   "cell_type": "markdown",
   "metadata": {},
   "source": [
    "---------"
   ]
  },
  {
   "cell_type": "markdown",
   "metadata": {
    "slideshow": {
     "slide_type": "subslide"
    }
   },
   "source": [
    "# More packages"
   ]
  },
  {
   "cell_type": "markdown",
   "metadata": {
    "slideshow": {
     "slide_type": "subslide"
    }
   },
   "source": [
    "## More packages\n",
    "\n",
    "We've seen the huge value in using packages for scientific programming. Let's check out a few more packages that could be useful for your projects and in the future.\n",
    "\n",
    "Here is an amazing repository of curated Python resources: https://github.com/vinta/awesome-python"
   ]
  },
  {
   "cell_type": "markdown",
   "metadata": {
    "slideshow": {
     "slide_type": "subslide"
    }
   },
   "source": [
    "## Pickle"
   ]
  },
  {
   "cell_type": "markdown",
   "metadata": {
    "slideshow": {
     "slide_type": "subslide"
    }
   },
   "source": [
    "```python\n",
    "import pickle\n",
    "\n",
    "with open('grades.txt', 'r') as fin:\n",
    "    with open('grades.bin', 'wb') as fout:\n",
    "        lines = fin.readlines()\n",
    "        n = len(lines)\n",
    "        pickle.dump(n, fout)\n",
    "        for line in lines:\n",
    "            student = line.split()\n",
    "            name = student[0]\n",
    "            grades = [int(student[i]) for i in range(1,len(student))]\n",
    "            pickle.dump(name, fout)\n",
    "            pickle.dump(grades, fout)```"
   ]
  },
  {
   "cell_type": "markdown",
   "metadata": {
    "slideshow": {
     "slide_type": "subslide"
    }
   },
   "source": [
    "## Pickle\n",
    "There are definitely other options for binary file i/o in Python.\n",
    "\n",
    "Just use the tags ’rb’ and ’wb’ - but Pickle makes it easier to deal with conversion of objects to byte streams.\n",
    "\n",
    "Easiest way to deal with unknown size of loads is to just save all data in one big data structure and load everything at once (though may be infeasible if you are working with a lot of data).\n",
    "\n",
    "Warning: Pickle not secure against erroneous or maliciously constructed data!"
   ]
  },
  {
   "cell_type": "markdown",
   "metadata": {
    "slideshow": {
     "slide_type": "subslide"
    }
   },
   "source": [
    "## Speeding up Python\n",
    "\n",
    "Compared to C or Fortran, Python can be slow.\n",
    "\n",
    "Ways to improve execution time:\n",
    "\n",
    "- Pypy: no need to change any code, simply run your code using pypy script.py. However, does not work with Numpy etc.\n",
    "- Numba: A little more work, but works with numpy\n",
    "- Cython: Most work, fastest"
   ]
  },
  {
   "cell_type": "markdown",
   "metadata": {
    "slideshow": {
     "slide_type": "subslide"
    }
   },
   "source": [
    "## ```requests```\n",
    "\n",
    "HTTP library for Python\n",
    "\n",
    "Alternative: ```urllib, urllib2```"
   ]
  },
  {
   "cell_type": "markdown",
   "metadata": {
    "slideshow": {
     "slide_type": "subslide"
    }
   },
   "source": [
    "```python\n",
    "import requests\n",
    "\n",
    "r = requests.get('http://google.com')\n",
    "\n",
    "print r.text```"
   ]
  },
  {
   "cell_type": "markdown",
   "metadata": {
    "slideshow": {
     "slide_type": "subslide"
    }
   },
   "source": [
    "## Beatiful Soup\n",
    "\n",
    "Useful for scraping HTML pages.\n",
    "\n",
    "Such as: finding all links, or specific urls.\n",
    "\n",
    "Get data from poorly designed websites.\n",
    "\n",
    "Alternative: Scrapy"
   ]
  },
  {
   "cell_type": "markdown",
   "metadata": {
    "slideshow": {
     "slide_type": "subslide"
    }
   },
   "source": [
    "## APIs\n",
    "\n",
    "There are several modules that you can use to access APIs of websites Twitter python-twitter, Tweepy\n",
    "Reddit PRAW ...\n",
    "\n",
    "Always a good idea to see if the maintainers of a particular data source provide an API.\n",
    "\n",
    "Able to get data or create apps for the ambitious."
   ]
  },
  {
   "cell_type": "markdown",
   "metadata": {
    "slideshow": {
     "slide_type": "subslide"
    }
   },
   "source": [
    "# Flask"
   ]
  },
  {
   "cell_type": "markdown",
   "metadata": {
    "slideshow": {
     "slide_type": "subslide"
    }
   },
   "source": [
    "## Flask\n",
    "\n",
    "Flask is a 'microframework' for web development using Python.\n",
    "\n",
    "Example script next, which you can run and then browse to http://127.0.0.1:5000/.\n",
    "\n",
    "In-depth tutorial: http://blog.miguelgrinberg.com/post/\n",
    "the-flask-mega-tutorial-part-i-hello-world"
   ]
  },
  {
   "cell_type": "markdown",
   "metadata": {
    "slideshow": {
     "slide_type": "subslide"
    }
   },
   "source": [
    "```python\n",
    "from flask import Flask\n",
    "\n",
    "app = Flask(__name__)\n",
    "@app.route(\"/\")\n",
    "def hello(name=\"World\"):\n",
    "    return \"Hello {}!\".format(name)\n",
    "    \n",
    "if __name__ == \"__main__\":\n",
    "    app.run(debug=True) # only for debugging!```"
   ]
  },
  {
   "cell_type": "markdown",
   "metadata": {
    "slideshow": {
     "slide_type": "subslide"
    }
   },
   "source": [
    "## Django\n",
    "\n",
    "Another web development framework using Python\n",
    "https://www.djangoproject.com/"
   ]
  },
  {
   "cell_type": "markdown",
   "metadata": {
    "slideshow": {
     "slide_type": "subslide"
    }
   },
   "source": [
    "## ```Scikit```\n",
    "\n",
    "We saw ```scikit-learn``` last week.\n",
    "\n",
    "There are other Scikit packages available with a lot of functionality. Sponsored by INRIA (and Google sometimes)"
   ]
  },
  {
   "cell_type": "markdown",
   "metadata": {
    "slideshow": {
     "slide_type": "subslide"
    }
   },
   "source": [
    "## ```scikit-*```\n",
    "\n",
    "Additional scikit packages that extend Scipy: \n",
    "\n",
    "- ```skikit-aero```\n",
    "- ```scikit-image```\n",
    "- ```cuda```\n",
    "- ```odes```"
   ]
  },
  {
   "cell_type": "markdown",
   "metadata": {
    "slideshow": {
     "slide_type": "subslide"
    }
   },
   "source": [
    "## ```PyMC```\n",
    "\n",
    "A framework for Monte Carlo simulations\n",
    "\n",
    "Tutorial: https://camdavidsonpilon.github.io/Probabilistic-Programming-and-Bayesian-Methods-for-Hackers/"
   ]
  },
  {
   "cell_type": "markdown",
   "metadata": {
    "slideshow": {
     "slide_type": "subslide"
    }
   },
   "source": [
    "## ```Selenium```\n",
    "\n",
    "- Selenium Python bindings provides a simple API to write functional/acceptance tests using Selenium WebDriver.\n",
    "\n",
    "Tutorial: http://selenium-python.readthedocs.io/"
   ]
  },
  {
   "cell_type": "markdown",
   "metadata": {
    "slideshow": {
     "slide_type": "slide"
    }
   },
   "source": [
    "# Wrap Up"
   ]
  },
  {
   "cell_type": "markdown",
   "metadata": {
    "slideshow": {
     "slide_type": "subslide"
    }
   },
   "source": [
    "# Zen of Python\n",
    "\n",
    "Very easy to write code.\n",
    "\n",
    "A ton of packages already exist to help do most any tasks you like.\n",
    "\n",
    "Once you know basics, very easy to pick up everything else - and a ton of sources as well!"
   ]
  },
  {
   "cell_type": "markdown",
   "metadata": {
    "slideshow": {
     "slide_type": "subslide"
    }
   },
   "source": [
    "# Feedback\n",
    "\n",
    "Thanks a lot!\n",
    "\n",
    "Hope you enjoyed the class, learned a lot and will continue using Python!\n",
    "\n",
    "Please fill out feedback forms at the end of the quarter - or feel free to let me know any feedback you have.\n",
    "\n",
    "Questions?"
   ]
  }
 ],
 "metadata": {
  "celltoolbar": "Slideshow",
  "kernelspec": {
   "display_name": "Python 3",
   "language": "python",
   "name": "python3"
  },
  "language_info": {
   "codemirror_mode": {
    "name": "ipython",
    "version": 3
   },
   "file_extension": ".py",
   "mimetype": "text/x-python",
   "name": "python",
   "nbconvert_exporter": "python",
   "pygments_lexer": "ipython3",
   "version": "3.6.1"
  },
  "nbpresent": {
   "slides": {
    "933f0936-8e4d-487a-b1d2-7de7c8056959": {
     "id": "933f0936-8e4d-487a-b1d2-7de7c8056959",
     "prev": null,
     "regions": {
      "29bfbd0a-4b01-4b14-9acf-280d75ad4e02": {
       "attrs": {
        "height": 1,
        "width": 1,
        "x": -0.052023118050195334,
        "y": 0.10089331985492428
       },
       "id": "29bfbd0a-4b01-4b14-9acf-280d75ad4e02"
      }
     }
    }
   },
   "themes": {
    "default": "254e2e7f-be4a-4770-9d75-364f6733f9b5",
    "theme": {}
   }
  }
 },
 "nbformat": 4,
 "nbformat_minor": 2
}
