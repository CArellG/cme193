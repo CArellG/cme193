{
 "cells": [
  {
   "cell_type": "markdown",
   "metadata": {},
   "source": [
    "# CME 193 - Lecture 3 \n",
    "\n",
    "\n",
    "## Assignment 1\n",
    "Assignment 1 is out, it is notebook form. You need to fill in the answers in the cells and produce graphs. It involves markov models, but everything needed for the assignment is explained in the notebook. It is due on Feb 1st 5pm. If you have any questions, come to the office hours on thursday.\n",
    "\n",
    "Today we will cover the following\n",
    "\n",
    "1. Walk through of implementing the power method.\n",
    "2. Classes and objects in python"
   ]
  },
  {
   "cell_type": "markdown",
   "metadata": {},
   "source": [
    "## Power method\n",
    "\n",
    "Power method is an algorithm for finding the largest eigenpair of a matrix.  We'll assume that we're working with symmetric/hermitian matrices for simplicity.  Recall the largest eigenvector of a matrix $A$ solves the variational problem:\n",
    "$$\\max_{\\|v\\|_2 = 1} v^T A v$$\n",
    "The eigenvalue is the value $\\lambda = v^T A v$.\n",
    "* generate a random symmetric matrix (however you like).\n",
    "* Find the largest eigenpair using `numpy.linalg.eigh`\n",
    "\n",
    "The power method uses iterated matrix-vector multiplication to find the largest eigenvalue of $A$.  \n",
    "```\n",
    "input: A - n x n symmetric matrix\n",
    "output: v, lam - vector of length n and eigenvalue\n",
    "\n",
    "v = random vector of length n\n",
    "v = v/||v||_2\n",
    "while not converged:\n",
    "    v = A*v\n",
    "    v = v/||v||_2\n",
    "    \n",
    "lam = v^T A v\n",
    "```\n",
    "\n",
    "turn the above pseudo-code into a python function that implements power method. How does the result compare to `eigh`?"
   ]
  },
  {
   "cell_type": "code",
   "execution_count": 196,
   "metadata": {},
   "outputs": [],
   "source": [
    "import numpy as np\n",
    "import numpy.random as rnd\n",
    "import numpy.linalg as la\n",
    "import matplotlib.pyplot as plt"
   ]
  },
  {
   "cell_type": "code",
   "execution_count": 271,
   "metadata": {},
   "outputs": [],
   "source": [
    "#CODE"
   ]
  },
  {
   "cell_type": "code",
   "execution_count": null,
   "metadata": {},
   "outputs": [],
   "source": []
  },
  {
   "cell_type": "code",
   "execution_count": null,
   "metadata": {},
   "outputs": [],
   "source": []
  },
  {
   "cell_type": "markdown",
   "metadata": {},
   "source": [
    "\n",
    "# Classes/Object Oriented Programming\n",
    "\n",
    "The basic goal of classes is to give you a way to abstract away details when you program.  For instance, NumPy gave you an `array` class, which allowed you to store and pass around a large amount of information using a single variable, and perform a variety of operations on that variable (methods) without needing to implement them yourself.\n",
    "\n",
    "Many programming languages have the ability to accomplish similar levels of abstraction, although not all use the same terminology.\n",
    "\n",
    "Classes you've already seen:\n",
    "* Integers\n",
    "* Floats\n",
    "* Lists\n",
    "* NumPy Arrays\n",
    "* PyPlot - Figures, Axes, etc.\n",
    "\n",
    "When you want to make your own class, you need to write a class definition.  Then you can create objects using that class definition."
   ]
  },
  {
   "cell_type": "code",
   "execution_count": 197,
   "metadata": {},
   "outputs": [
    {
     "name": "stdout",
     "output_type": "stream",
     "text": [
      "<__main__.Leaf object at 0x7f2d087a4860>\n",
      "<class '__main__.Leaf'>\n",
      "False\n"
     ]
    }
   ],
   "source": [
    "# -- minimal example...\n",
    "# define class:\n",
    "class Leaf(object): \n",
    "    pass # there is no information in this class\n",
    "# instantiate object\n",
    "leaf = Leaf()\n",
    "\n",
    "print(leaf)\n",
    "print(type(leaf))\n",
    "print(isinstance(1.0, Leaf)) # checks class membership"
   ]
  },
  {
   "cell_type": "markdown",
   "metadata": {},
   "source": [
    "To put information in your class, add an initialization method"
   ]
  },
  {
   "cell_type": "code",
   "execution_count": 199,
   "metadata": {},
   "outputs": [
    {
     "data": {
      "text/plain": [
       "array([1, 2, 3])"
      ]
     },
     "execution_count": 199,
     "metadata": {},
     "output_type": "execute_result"
    }
   ],
   "source": [
    "import numpy as np\n",
    "a = np.array([1,2,3])\n",
    "a"
   ]
  },
  {
   "cell_type": "code",
   "execution_count": 200,
   "metadata": {},
   "outputs": [
    {
     "name": "stdout",
     "output_type": "stream",
     "text": [
      "red\n"
     ]
    }
   ],
   "source": [
    "# example\n",
    "class Leaf(object):\n",
    "    def __init__(self, color1):\n",
    "        self.color = color1 # private attribute \n",
    "    \n",
    "redleaf = Leaf('red')\n",
    "blueleaf = Leaf('blue')\n",
    "\n",
    "print(redleaf.color) # access the attribute using ."
   ]
  },
  {
   "cell_type": "markdown",
   "metadata": {},
   "source": [
    "## Class Hierarchy\n",
    "\n",
    "A natural thing to think about as it relates to classes is the notion of *hierarchy*. We imbue the notion of hierarchy through something called *inheritance*.\n",
    "\n",
    "An example:\n",
    "\n",
    "* Animal\n",
    "  * Bird\n",
    "    * Hawk \n",
    "    * Seagull\n",
    "    * ...\n",
    "  * Dog\n",
    "    * Shiba Inu\n",
    "    * Golden Retriever\n",
    "    * ...\n",
    "  * ..."
   ]
  },
  {
   "cell_type": "code",
   "execution_count": 213,
   "metadata": {},
   "outputs": [],
   "source": [
    "# lets define an *abstract* base class.\n",
    "\n",
    "class Animal(object):\n",
    "    def __init__(self, n_legs, color):\n",
    "        self.n_legs = n_legs \n",
    "        self.color = color\n",
    "        \n",
    "    def make_noise(self): \n",
    "        print('noise')"
   ]
  },
  {
   "cell_type": "code",
   "execution_count": 214,
   "metadata": {},
   "outputs": [],
   "source": [
    "# lets define some classes that will inherit\n",
    "class Dog(Animal): # note we use (Animal), not (object)\n",
    "    def __init__(self, color, name):\n",
    "        Animal.__init__(self, 4, color) # 4 legs\n",
    "        self.name = name \n",
    "        \n",
    "    def make_noise(self):\n",
    "        print(self.name + ': ' + 'woof')"
   ]
  },
  {
   "cell_type": "code",
   "execution_count": 218,
   "metadata": {},
   "outputs": [],
   "source": [
    "class Bird(Animal):\n",
    "    def __init__(self, color, name, has_wings=True, can_fly=True):\n",
    "        Animal.__init__(self, 2, color) # 2 legs\n",
    "        self.name = name\n",
    "        self.has_wings = has_wings\n",
    "        self.can_fly = can_fly\n",
    "    \n",
    "    def make_noise(self):\n",
    "        print(self.name + ': chirp!')"
   ]
  },
  {
   "cell_type": "code",
   "execution_count": 216,
   "metadata": {},
   "outputs": [
    {
     "name": "stdout",
     "output_type": "stream",
     "text": [
      "Brutus: woof\n"
     ]
    },
    {
     "data": {
      "text/plain": [
       "3"
      ]
     },
     "execution_count": 216,
     "metadata": {},
     "output_type": "execute_result"
    }
   ],
   "source": [
    "# noise\n",
    "brutus = Dog('black', 'Brutus')\n",
    "brutus.make_noise()\n",
    "brutus.n_legs = 3\n",
    "brutus.n_legs"
   ]
  },
  {
   "cell_type": "code",
   "execution_count": 219,
   "metadata": {},
   "outputs": [
    {
     "name": "stdout",
     "output_type": "stream",
     "text": [
      "noise\n"
     ]
    },
    {
     "data": {
      "text/plain": [
       "True"
      ]
     },
     "execution_count": 219,
     "metadata": {},
     "output_type": "execute_result"
    }
   ],
   "source": [
    "shelly = Bird('white', 'Shelly')\n",
    "shelly.make_noise()\n",
    "shelly.can_fly"
   ]
  },
  {
   "cell_type": "markdown",
   "metadata": {},
   "source": [
    "There are some standard methods that one may want to overload / implement:\n",
    "\n",
    "* `__init__`: Constructor\n",
    "* `__repr__`: Represent the object (machine) \n",
    "* `__str__`: Represent the object (human) and gets called when you `print`\n",
    "    \n",
    "these `__method__` looking functions are built into Python!"
   ]
  },
  {
   "cell_type": "markdown",
   "metadata": {},
   "source": [
    "## Example: Rational Numbers\n",
    "\n",
    "Here we'l make a class that holds rational numbers (fractions).  That is, numbers of the form\n",
    "$$r = \\frac{p}{q}$$\n",
    "where $p$ and $q$ are integers"
   ]
  },
  {
   "cell_type": "code",
   "execution_count": 223,
   "metadata": {},
   "outputs": [],
   "source": [
    "# from numpy import gcd\n",
    "from math import gcd\n",
    "\n",
    "class Rational(object):\n",
    "    def __init__(self, p, q=1):\n",
    "    \n",
    "        if q == 0:\n",
    "            raise ValueError('Denominator must not be zero')\n",
    "        if not isinstance(p, int):\n",
    "            raise ValueError('Numerator must be an integer')\n",
    "        if not isinstance(q, int):\n",
    "            raise ValueError('Denominator must be an integer')\n",
    "        \n",
    "        g = int(gcd(p, q)) # because numpy returns a float\n",
    "        \n",
    "        self.p = p // g # integer division\n",
    "        self.q = q // g\n",
    "    \n",
    "    # method to convert rational to float\n",
    "    def __float__(self):\n",
    "        return float(self.p) / float(self.q)    \n",
    "    \n",
    "    # method to convert rational to string for printing\n",
    "    def __str__(self):\n",
    "        return '%d / %d' % (self.p, self.q)\n"
   ]
  },
  {
   "cell_type": "code",
   "execution_count": 224,
   "metadata": {},
   "outputs": [
    {
     "name": "stdout",
     "output_type": "stream",
     "text": [
      "<class '__main__.Rational'>\n",
      "a =  3 / 2\n",
      "b =  3 / 2\n",
      "[<__main__.Rational object at 0x7f2d089f4358>, <__main__.Rational object at 0x7f2d089f41d0>]\n",
      "float(a) =  1.5\n"
     ]
    }
   ],
   "source": [
    "a = Rational(6, 4)\n",
    "b = Rational(3, 2)\n",
    "\n",
    "print(type(a))\n",
    "print(\"a = \",a)\n",
    "print(\"b = \",b)\n",
    "print([a,b])\n",
    "print(\"float(a) = \", float(a))"
   ]
  },
  {
   "cell_type": "markdown",
   "metadata": {},
   "source": [
    "You can do cool things like overload math operators.  This lets you write code that looks like you would write math.  Recall\n",
    "\n",
    "$$ \\frac{p_1}{q_1} + \\frac{p_2}{q_2} = \\frac{p_1 q_2 + p_2 q_1}{q_1 q_2}$$"
   ]
  },
  {
   "cell_type": "code",
   "execution_count": 210,
   "metadata": {},
   "outputs": [],
   "source": [
    "class Rational(object):\n",
    "    def __init__(self, p, q=1):\n",
    "    \n",
    "        if q == 0:\n",
    "            raise ValueError('Denominator must not be zero')\n",
    "        if not isinstance(p, int):\n",
    "            raise ValueError('Numerator must be an integer')\n",
    "        if not isinstance(q, int):\n",
    "            raise ValueError('Denominator must be an integer')\n",
    "        \n",
    "        g = int(gcd(p, q)) # because numpy returns a float\n",
    "        \n",
    "        self.p = p // g\n",
    "        self.q = q // g\n",
    "    \n",
    "    # method to convert rational to float\n",
    "    def __float__(self):\n",
    "        return float(self.p) / float(self.q)    \n",
    "    \n",
    "    # method to convert rational to string for printing\n",
    "    def __str__(self):\n",
    "        return '%d / %d' % (self.p, self.q)\n",
    "    \n",
    "    # method to add two rationals - interprets self + other\n",
    "    def __add__(self, other): # that's two underscores \"_\" on each side\n",
    "        '''\n",
    "        this is R + X, where R is rational and X is another number\n",
    "        '''\n",
    "        if isinstance(other, Rational):\n",
    "            return Rational(self.p * other.q + other.p * self.q, self.q * other.q)\n",
    "        # -- if its an integer...\n",
    "        elif isinstance(other, int):\n",
    "            return Rational(self.p + other * self.q, self.q)\n",
    "        # -- otherwise, we assume it will be a float\n",
    "        return float(self) + float(other)\n",
    "    \n",
    "    def __radd__(self, other): # interprets other + self\n",
    "        '''\n",
    "        this is X + R, where R is rational and X is not rational\n",
    "        '''\n",
    "        return self + other # addition commutes!\n",
    "    "
   ]
  },
  {
   "cell_type": "code",
   "execution_count": 211,
   "metadata": {},
   "outputs": [
    {
     "name": "stdout",
     "output_type": "stream",
     "text": [
      "3 / 1\n"
     ]
    }
   ],
   "source": [
    "r = Rational(3)\n",
    "print(r)"
   ]
  },
  {
   "cell_type": "code",
   "execution_count": 212,
   "metadata": {},
   "outputs": [
    {
     "name": "stdout",
     "output_type": "stream",
     "text": [
      "Integer adding:\n",
      "right add\n",
      "11 / 2\n",
      "5.5\n",
      "left add\n",
      "11 / 2\n",
      "5.5\n"
     ]
    }
   ],
   "source": [
    "r = Rational(3, 2)\n",
    "print('Integer adding:')\n",
    "print('right add')\n",
    "print(r + 4)\n",
    "print(float(r + 4))\n",
    "print('left add')\n",
    "print(4 + r)\n",
    "print(float(4 + r))"
   ]
  },
  {
   "cell_type": "markdown",
   "metadata": {},
   "source": [
    "# Exercise 1\n",
    "\n",
    "### Create another class\n",
    "\n",
    "Implement a class to do modular arithmetic\n",
    "* $a + b = (a + b) \\mod N$\n",
    "* $a * b = (a * b) \\mod N$\n",
    "\n",
    "You can either:\n",
    "* Choose a value for $N$ and hard-code it into your class\n",
    "* Specify $N$ for each object you create.\n",
    "    * make sure two objects are in the same ring when you do arithmetic!\n",
    "\n",
    "### Add more operations to `Rational`\n",
    "You can read about the available operations that you can overload [here](https://docs.python.org/3.3/reference/datamodel.html#emulating-numeric-types)\n",
    "\n",
    "Add the following operations to the `Rational` class:\n",
    "* `*` - use `__mul__` (and `__rmul__`)\n",
    "* `/` - use `__truediv__` (and `__rtruediv__`)\n",
    "* `-` - use `__sub__` (and `__rsub__`)\n",
    "\n",
    "You only need to define these operations between two `Rational` types - use an `isinstance(other, Rational)` block.\n",
    "\n",
    "Note that the `__r<op>__` methods only need to be overloaded if you want to interact with another class.\n",
    "\n",
    "Make a few examples to convince yourself that this works.\n",
    "\n"
   ]
  },
  {
   "cell_type": "code",
   "execution_count": 254,
   "metadata": {},
   "outputs": [],
   "source": [
    "from math import gcd\n",
    "class Rational(object):\n",
    "    def __init__(self, p, q=1):\n",
    "    \n",
    "        if q == 0:\n",
    "            raise ValueError('Denominator must not be zero')\n",
    "        if not isinstance(p, int):\n",
    "            raise ValueError('Numerator must be an integer')\n",
    "        if not isinstance(q, int):\n",
    "            raise ValueError('Denominator must be an integer')\n",
    "        \n",
    "        g = int(gcd(p, q)) # because numpy returns a float\n",
    "        \n",
    "        self.p = p // g\n",
    "        self.q = q // g\n",
    "    \n",
    "    # method to convert rational to float\n",
    "    def __float__(self):\n",
    "        return float(self.p) / float(self.q)    \n",
    "    \n",
    "    # method to convert rational to string for printing\n",
    "    def __str__(self):\n",
    "        return '%d / %d' % (self.p, self.q)\n",
    "    \n",
    "    # method to add two rationals\n",
    "    def __add__(self, other): # that's two underscores \"_\" on each side\n",
    "        '''\n",
    "        this is R + X, where R is rational and X is another number\n",
    "        '''\n",
    "        if isinstance(other, Rational):\n",
    "            return Rational(self.p * other.q + other.p * self.q, self.q * other.q)\n",
    "        # -- if its an integer...\n",
    "        elif isinstance(other, int):\n",
    "            return Rational(self.p + other * self.q, self.q)\n",
    "        # -- otherwise, we assume it will be a float\n",
    "        return float(self) + float(other)\n",
    "    \n",
    "    def __radd__(self, other):\n",
    "        '''\n",
    "        this is X + R, where R is rational and X is not rational\n",
    "        '''\n",
    "        return self + other # addition commutes!\n",
    "    \n",
    "    # subtraction\n",
    "    def __sub__(self, other):\n",
    "        if isinstance(other, Rational):\n",
    "            return Rational(self.p * other.q - other.p * self.q, self.q * other.q)\n",
    "    \n",
    "    # multiplication\n",
    "    def __mul__(self, other):\n",
    "        if isinstance(other, Rational):\n",
    "            return Rational(self.p * other.p, self.q * other.q)\n",
    "        \n",
    "    # division\n",
    "    def __truediv__(self, other):\n",
    "        if isinstance(other, Rational):\n",
    "            return Rational(self.p * other.q, self.q * other.p)\n",
    "        if isinstance(other, int):\n",
    "            return Rational(self.p , self.q * other)"
   ]
  },
  {
   "cell_type": "code",
   "execution_count": 255,
   "metadata": {},
   "outputs": [
    {
     "name": "stdout",
     "output_type": "stream",
     "text": [
      "3 / 1\n",
      "0 / 1\n",
      "9 / 4\n",
      "1 / 1\n"
     ]
    }
   ],
   "source": [
    "a = Rational(3,2)\n",
    "b = Rational(3,2)\n",
    "print(a + b)\n",
    "print(a - b)\n",
    "print(a * b)\n",
    "print(a / b)"
   ]
  },
  {
   "cell_type": "markdown",
   "metadata": {},
   "source": [
    "## Application of the rational class"
   ]
  },
  {
   "cell_type": "code",
   "execution_count": 268,
   "metadata": {},
   "outputs": [],
   "source": [
    "x = 24"
   ]
  },
  {
   "cell_type": "code",
   "execution_count": 269,
   "metadata": {},
   "outputs": [
    {
     "name": "stdout",
     "output_type": "stream",
     "text": [
      "4.898979485575103\n"
     ]
    }
   ],
   "source": [
    "y = x/2\n",
    "for i in range(5):\n",
    "    y = (y + x/y)/2;\n",
    "print(y)"
   ]
  },
  {
   "cell_type": "code",
   "execution_count": 270,
   "metadata": {},
   "outputs": [
    {
     "data": {
      "text/plain": [
       "4.898979485566356"
      ]
     },
     "execution_count": 270,
     "metadata": {},
     "output_type": "execute_result"
    }
   ],
   "source": [
    "np.sqrt(24)"
   ]
  },
  {
   "cell_type": "code",
   "execution_count": null,
   "metadata": {},
   "outputs": [],
   "source": []
  }
 ],
 "metadata": {
  "kernelspec": {
   "display_name": "Python (3.6-cme193)",
   "language": "python",
   "name": "cme193"
  },
  "language_info": {
   "codemirror_mode": {
    "name": "ipython",
    "version": 3
   },
   "file_extension": ".py",
   "mimetype": "text/x-python",
   "name": "python",
   "nbconvert_exporter": "python",
   "pygments_lexer": "ipython3",
   "version": "3.6.8"
  }
 },
 "nbformat": 4,
 "nbformat_minor": 2
}
