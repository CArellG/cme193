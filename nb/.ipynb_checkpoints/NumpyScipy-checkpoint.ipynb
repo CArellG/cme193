{
 "cells": [
  {
   "cell_type": "markdown",
   "metadata": {},
   "source": [
    "#Introduction to Scientific Python \n",
    "##*Lecture 5: An introduction to Numpy and Scipy*\n",
    "\n",
    "Luke de Oliveira (lukedeo@stanford.edu)\n",
    "\n",
    "January 26th, 2016"
   ]
  },
  {
   "cell_type": "markdown",
   "metadata": {},
   "source": [
    "##Overview\n",
    "Last time, we talked about classes, OOP, and file read/writes usign pyt\n",
    "\n",
    "###IPython notebooks\n",
    "Technically, you'll be able to follow along on your computer today while we learn! If you don't have a working python installation, don't worry! You will still be able to follow along. \n",
    "\n",
    "You can download the notebook directory from [this link](https://github.com/icme/cme193/archive/master.zip). Make sure you unzip the zip file! Alternatively, you can *clone* the repository by typing \n",
    "\n",
    "```\n",
    "git clone https://github.com/icme/cme193\n",
    "```\n",
    "\n",
    "in your terminal in the folder you want this to live.\n",
    "\n",
    "Now, go to your command line and `cd` to where this is. From your commandline (after you install ipython via `sudo pip install ipython`) you can now type `ipython notebook`, and your browser will open up with your IPython session!"
   ]
  },
  {
   "cell_type": "markdown",
   "metadata": {},
   "source": [
    "##Homework\n",
    "\n",
    "Let's talk about the homework! I hope I can clarify a few things today. There will be office hours tonight for in-depth questions.\n",
    "\n",
    "Let's say we want to implement a class for rational numbers. Reminder, for $a \\in \\mathbb{Q}$, $a = \\frac{p}{q}$ with $p,q \\in \\mathbb{Z}$ and $q\\neq 0$. What is the minimal specification for this in a class?\n",
    "\n",
    "* We need a numerator\n",
    "* We need a denominator\n",
    "* We need to be able to simplify...\n",
    "* We need to check our conditions..."
   ]
  },
  {
   "cell_type": "code",
   "execution_count": 1,
   "metadata": {
    "collapsed": true
   },
   "outputs": [],
   "source": [
    "class Rational:\n",
    "    def __init__(self, p, q=1):\n",
    "        \n",
    "        assert(q != 0)\n",
    "        assert(isinstance(p, int))\n",
    "        assert(isinstance(q, int))\n",
    "        \n",
    "        self.p = p\n",
    "        self.q = q"
   ]
  },
  {
   "cell_type": "markdown",
   "metadata": {},
   "source": [
    "This is great! But, something is missing -- we still need to simplify! We'll use the Euclidean Algorithm to simplify fractions"
   ]
  },
  {
   "cell_type": "code",
   "execution_count": 2,
   "metadata": {
    "collapsed": false
   },
   "outputs": [
    {
     "name": "stdout",
     "output_type": "stream",
     "text": [
      "7\n"
     ]
    }
   ],
   "source": [
    "# Let's implement the Euclidean Alg.\n",
    "def gcd(a, b): \n",
    "    if b == 0:\n",
    "        return a \n",
    "    else:\n",
    "        return gcd(b, a%b)\n",
    "\n",
    "print gcd(35, 49) # 7"
   ]
  },
  {
   "cell_type": "code",
   "execution_count": 3,
   "metadata": {
    "collapsed": true
   },
   "outputs": [],
   "source": [
    "# lets add this to our function! Lets also add a __str__ method\n",
    "\n",
    "class Rational(object):\n",
    "    def __init__(self, p, q=1):\n",
    "        \n",
    "        # usually we would use exceptions, but we \n",
    "        # haven't learned about them yet!\n",
    "        assert(q != 0)\n",
    "        assert(isinstance(p, int))\n",
    "        assert(isinstance(q, int))\n",
    "        \n",
    "        g = gcd(p, q)\n",
    "        \n",
    "        self.p = p / g\n",
    "        self.q = q / g\n",
    "\n",
    "    def __str__(self):\n",
    "        return '{} / {}'.format(self.p, self.q)"
   ]
  },
  {
   "cell_type": "code",
   "execution_count": 4,
   "metadata": {
    "collapsed": false
   },
   "outputs": [
    {
     "name": "stdout",
     "output_type": "stream",
     "text": [
      "a = 3 / 2\n",
      "b = 3 / 2\n"
     ]
    }
   ],
   "source": [
    "# Lets see if these behave as we expect...\n",
    "a = Rational(6, 4)\n",
    "b = Rational(3, 2)\n",
    "\n",
    "print 'a = {}'.format(a)\n",
    "print 'b = {}'.format(b)"
   ]
  },
  {
   "cell_type": "markdown",
   "metadata": {},
   "source": [
    "This is great! As part of your homework assignment, you'll be extending the `Rational` class to be able to handle operators and other fun stuff!\n",
    "\n",
    "A weird thing you may have noticed in your homework -- for every operator you implement, for example `__add__`, I'm also asking you to implement this thing called `__radd__`. What is this?\n",
    "\n",
    "Well, it is R.H.S. addition! Let's say you're a Python interpreter, and you read left to right. Also, let's say you've **already implemented __add__**\n",
    "\n",
    "```python\n",
    ">>> a, b = Rational(3, 2), 5\n",
    ">>> print a.__class__.__name__\n",
    "Rational\n",
    ">>> print b.__class__.__name__\n",
    "int\n",
    ">>> print a + b\n",
    "13 / 2\n",
    ">>> print b + a\n",
    "TypeError: unsupported operand type(s) for +: 'int' and 'Rational'\n",
    "```\n",
    "\n",
    "Why is this the case?"
   ]
  },
  {
   "cell_type": "markdown",
   "metadata": {},
   "source": [
    "## Numpy\n",
    "\n",
    "Ok, let's shift gears! Let's talk numpy. \n",
    "\n",
    "* Fundamental package for scientific computing with Python\n",
    "* N-dimensional array object\n",
    "* Linear algebra, Fourier transform, random number capabilities\n",
    "* Building block for other packages (e.g. Scipy, scikit-learn)\n",
    "* Open source, huge dev community!\n",
    "\n",
    "###Installation\n",
    "If you installed Python with `anaconda`, you should already have Python installed. To test if you have numpy already, go to your terminal or command prompt and type:\n",
    "\n",
    "```bash\n",
    "python -c 'import numpy'\n",
    "```\n",
    "\n",
    "If this does nothing, congrats! You gave numpy. If the output looks something like this:\n",
    "\n",
    "```bash\n",
    "Traceback (most recent call last):\n",
    "  File \"<string>\", line 1, in <module>\n",
    "ImportError: No module named numpy\n",
    "```\n",
    "\n",
    "Then you don't...\n",
    "\n",
    "\n",
    "To install numpy, simply go to your terminal and type \n",
    "\n",
    "```bash\n",
    "pip install numpy\n",
    "```\n",
    "\n",
    "You may need to type \n",
    "\n",
    "```bash\n",
    "sudo pip install numpy\n",
    "```\n",
    "\n",
    "and type your computer password if you get an error that says \"blah blah permission denied blah blah\"."
   ]
  },
  {
   "cell_type": "markdown",
   "metadata": {},
   "source": [
    "###Why numpy?\n",
    "\n",
    "A very common question people ask is \"why can't I just use lists for math?\"\n",
    "\n",
    "Any ideas?\n",
    "\n",
    "Here are a few reasons why not:\n",
    "\n",
    "* Real vectors can be big!\n",
    "* How to handle $n$ dimensions? If we have lists, there is no restriction. \n",
    "* How about very sparse data?\n",
    "* *abstraction*! Something like $A = U\\Sigma V^T$ is common enough that we want to encapsulate that.\n",
    "* Speed\n",
    "\n",
    "###A quick lesson on `import`ing in Python\n",
    "\n",
    "There are 3 basic ways to import a package in Python.\n",
    "\n",
    "* `from numpy import linspace`\n",
    "* `import numpy as np`\n",
    "* `import numpy`\n",
    "    \n",
    "Lets say you know that numpy has the function `linspace`. Here is how you access that function in each scenario:\n",
    "\n",
    "* `linspace(...)`\n",
    "* `np.linspace(...)`\n",
    "* `numpy.linspace(...)`\n",
    "\n",
    "Hurray! "
   ]
  },
  {
   "cell_type": "code",
   "execution_count": 13,
   "metadata": {
    "collapsed": true
   },
   "outputs": [],
   "source": [
    "# -- let's jump in! The first thing to do is import numpy.\n",
    "import numpy as np\n",
    "\n",
    "# -- lets make a function for seperating output...\n",
    "def linebreak():\n",
    "    print '-' * 20"
   ]
  },
  {
   "cell_type": "code",
   "execution_count": 14,
   "metadata": {
    "collapsed": false
   },
   "outputs": [
    {
     "name": "stdout",
     "output_type": "stream",
     "text": [
      "[[1 2 3]\n",
      " [4 5 6]]\n",
      "--------------------\n",
      "[[ 1.  2.  3.]\n",
      " [ 4.  5.  6.]]\n"
     ]
    }
   ],
   "source": [
    "A = np.array([[1, 2, 3], [4, 5, 6]]) \n",
    "print A\n",
    "linebreak()\n",
    "Af = np.array([[1, 2, 3], [4, 5, 6]], float)\n",
    "print Af"
   ]
  },
  {
   "cell_type": "code",
   "execution_count": 17,
   "metadata": {
    "collapsed": false
   },
   "outputs": [
    {
     "name": "stdout",
     "output_type": "stream",
     "text": [
      "[ 0.   0.2  0.4  0.6  0.8]\n",
      "--------------------\n",
      "[ 0.          2.0943951   4.1887902   6.28318531]\n",
      "--------------------\n",
      "[[ 0.  0.  0.]\n",
      " [ 0.  0.  0.]]\n",
      "--------------------\n",
      "(2, 3)\n"
     ]
    }
   ],
   "source": [
    "# -- numpy provides many ways to create arrays subject to mathematical constraints\n",
    "print np.arange(0, 1, 0.2)\n",
    "linebreak()\n",
    "\n",
    "print np.linspace(0, 2*np.pi, 4)\n",
    "linebreak()\n",
    "# -- a matrix of zeros\n",
    "A = np.zeros((2,3))\n",
    "print A\n",
    "linebreak()\n",
    "print A.shape ## a tuple!"
   ]
  },
  {
   "cell_type": "code",
   "execution_count": 18,
   "metadata": {
    "collapsed": false
   },
   "outputs": [
    {
     "name": "stdout",
     "output_type": "stream",
     "text": [
      "[[ 0.38732245  0.70620747  0.82777124]\n",
      " [ 0.28384959  0.8485654   0.30733713]]\n",
      "--------------------\n",
      "[[ 0.7516955   1.91584949]\n",
      " [-4.68465101  3.33771411]]\n",
      "--------------------\n",
      "[[ 0.7516955   1.91584949]\n",
      " [-4.68465101  3.33771411]]\n"
     ]
    }
   ],
   "source": [
    "# -- numpy provides routines for random array creation\n",
    "print np.random.random((2,3))\n",
    "linebreak()\n",
    "\n",
    "a = np.random.normal(loc=1.0, scale=2.0, size=(2,2))\n",
    "print a\n",
    "linebreak()\n",
    "\n",
    "# -- we can serialize!\n",
    "np.savetxt(\"a_out.txt\", a)\n",
    "b = np.loadtxt(\"a_out.txt\")\n",
    "print b"
   ]
  },
  {
   "cell_type": "code",
   "execution_count": 19,
   "metadata": {
    "collapsed": false
   },
   "outputs": [
    {
     "name": "stdout",
     "output_type": "stream",
     "text": [
      "[[ 1.  0.]\n",
      " [ 0.  0.]]\n"
     ]
    }
   ],
   "source": [
    "# -- numpy arrays are mutable\n",
    "A = np.zeros((2, 2))\n",
    "C = A\n",
    "C[0, 0] = 1\n",
    "\n",
    "# -- what will this be?\n",
    "print A "
   ]
  },
  {
   "cell_type": "code",
   "execution_count": 21,
   "metadata": {
    "collapsed": false
   },
   "outputs": [
    {
     "name": "stdout",
     "output_type": "stream",
     "text": [
      "a = [0 1 2 3 4 5 6 7 8 9]\n",
      "\n",
      "after reshape, a = [[0 1 2 3 4]\n",
      " [5 6 7 8 9]]\n",
      "\n",
      "a.ndim = 2\n",
      "\n",
      "a.shape = (2, 5)\n",
      "\n",
      "a.size = 10\n",
      "\n",
      "a.T = [[0 5]\n",
      " [1 6]\n",
      " [2 7]\n",
      " [3 8]\n",
      " [4 9]]\n",
      "\n",
      "a.dtype = int64\n"
     ]
    }
   ],
   "source": [
    "# -- arrays are extremely flexible...\n",
    "a = np.arange(10)\n",
    "print 'a =', a\n",
    "\n",
    "a = a.reshape((2,5))\n",
    "print '\\nafter reshape, a =', a\n",
    "\n",
    "print '\\na.ndim =', a.ndim\n",
    "print '\\na.shape =', a.shape\n",
    "print '\\na.size =', a.size\n",
    "print '\\na.T =', a.T\n",
    "print '\\na.dtype =', a.dtype"
   ]
  },
  {
   "cell_type": "code",
   "execution_count": 22,
   "metadata": {
    "collapsed": false
   },
   "outputs": [
    {
     "name": "stdout",
     "output_type": "stream",
     "text": [
      "a =  [0 1 2 3]\n",
      "b = [2 3 2 4]\n",
      "a * b = [ 0  3  4 12]\n",
      "b - a = [2 2 0 1]\n",
      "c = [2, 3, 4, 5]\n",
      "a * c = [ 0  3  8 15]\n"
     ]
    }
   ],
   "source": [
    "# -- just like your rational class, arrays have overloaded math operators\n",
    "a = np.arange(4)\n",
    "print 'a = ', a\n",
    "\n",
    "b = np.array([2, 3, 2, 4])\n",
    "print 'b =', b\n",
    "\n",
    "print 'a * b =', a * b \n",
    "print 'b - a =', b - a  \n",
    "c = [2, 3, 4, 5]\n",
    "print 'c =', c\n",
    "print 'a * c =', a * c \n",
    "# if we want, we can also use +=, -=, *=, etc"
   ]
  },
  {
   "cell_type": "markdown",
   "metadata": {},
   "source": [
    "####Array Broadcasting\n",
    "\n",
    "When operating on two arrays, numpy compares shapes. Two dimensions are compatible when\n",
    "\n",
    "* They are of equal size\n",
    "* One of them is 1\n",
    "\n",
    "What does this look like in a picture?\n",
    "\n",
    "![bc](./img/broadcasting.png)"
   ]
  },
  {
   "cell_type": "code",
   "execution_count": 25,
   "metadata": {
    "collapsed": false
   },
   "outputs": [
    {
     "name": "stdout",
     "output_type": "stream",
     "text": [
      "[[ 2.  2.  2.]\n",
      " [ 2.  2.  2.]\n",
      " [ 2.  2.  2.]]\n"
     ]
    }
   ],
   "source": [
    "# -- array broadcasting also works with scalars\n",
    "# This also allows us to add a constant to a \n",
    "# matrix or multiply a matrix by a constant\n",
    "\n",
    "A = np.ones((3,3))\n",
    "print 3 * A - 1"
   ]
  },
  {
   "cell_type": "code",
   "execution_count": 24,
   "metadata": {
    "collapsed": false
   },
   "outputs": [
    {
     "name": "stdout",
     "output_type": "stream",
     "text": [
      "np.inner(u, v) = 6\n",
      "np.outer(u, v) =\n",
      "[[1 1 1]\n",
      " [2 2 2]\n",
      " [3 3 3]]\n",
      "np.dot(u, v) = 6\n"
     ]
    }
   ],
   "source": [
    "# -- numpy gives us vector ops\n",
    "u = [1, 2, 3]\n",
    "v = [1, 1, 1]\n",
    "\n",
    "print 'np.inner(u, v) =', np.inner(u, v)\n",
    "\n",
    "print 'np.outer(u, v) =\\n', np.outer(u, v)\n",
    "\n",
    "print 'np.dot(u, v) =', np.dot(u, v)\n"
   ]
  },
  {
   "cell_type": "markdown",
   "metadata": {},
   "source": [
    "####More matrix operations"
   ]
  },
  {
   "cell_type": "code",
   "execution_count": 26,
   "metadata": {
    "collapsed": false
   },
   "outputs": [
    {
     "name": "stdout",
     "output_type": "stream",
     "text": [
      "A.T =\n",
      "[[ 1.  1.  1.]\n",
      " [ 1.  1.  1.]]\n",
      "B =\n",
      "[[ 1.  1.  1.]\n",
      " [ 1.  1.  1.]]\n"
     ]
    }
   ],
   "source": [
    "# first, some matricies\n",
    "A = np.ones((3, 2))\n",
    "print 'A.T =\\n', A.T\n",
    "B = np.ones((2, 3))\n",
    "print 'B =\\n', B"
   ]
  },
  {
   "cell_type": "code",
   "execution_count": 27,
   "metadata": {
    "collapsed": false
   },
   "outputs": [
    {
     "name": "stdout",
     "output_type": "stream",
     "text": [
      "np.dot(A, B) =\n",
      "[[ 2.  2.  2.]\n",
      " [ 2.  2.  2.]\n",
      " [ 2.  2.  2.]]\n",
      "np.dot(B, A) =\n",
      "[[ 3.  3.]\n",
      " [ 3.  3.]]\n",
      "np.dot(B.T, A.T) =\n",
      "[[ 2.  2.  2.]\n",
      " [ 2.  2.  2.]\n",
      " [ 2.  2.  2.]]\n",
      "np.dot(A, B.T) =\n"
     ]
    },
    {
     "ename": "ValueError",
     "evalue": "shapes (3,2) and (3,2) not aligned: 2 (dim 1) != 3 (dim 0)",
     "output_type": "error",
     "traceback": [
      "\u001b[0;31m---------------------------------------------------------------------------\u001b[0m",
      "\u001b[0;31mValueError\u001b[0m                                Traceback (most recent call last)",
      "\u001b[0;32m<ipython-input-27-5b77cd70d318>\u001b[0m in \u001b[0;36m<module>\u001b[0;34m()\u001b[0m\n\u001b[1;32m      7\u001b[0m \u001b[0;32mprint\u001b[0m \u001b[0;34m'np.dot(B.T, A.T) =\\n'\u001b[0m\u001b[0;34m,\u001b[0m \u001b[0mnp\u001b[0m\u001b[0;34m.\u001b[0m\u001b[0mdot\u001b[0m\u001b[0;34m(\u001b[0m\u001b[0mB\u001b[0m\u001b[0;34m.\u001b[0m\u001b[0mT\u001b[0m\u001b[0;34m,\u001b[0m \u001b[0mA\u001b[0m\u001b[0;34m.\u001b[0m\u001b[0mT\u001b[0m\u001b[0;34m)\u001b[0m\u001b[0;34m\u001b[0m\u001b[0m\n\u001b[1;32m      8\u001b[0m \u001b[0;34m\u001b[0m\u001b[0m\n\u001b[0;32m----> 9\u001b[0;31m \u001b[0;32mprint\u001b[0m \u001b[0;34m'np.dot(A, B.T) =\\n'\u001b[0m\u001b[0;34m,\u001b[0m \u001b[0mnp\u001b[0m\u001b[0;34m.\u001b[0m\u001b[0mdot\u001b[0m\u001b[0;34m(\u001b[0m\u001b[0mA\u001b[0m\u001b[0;34m,\u001b[0m \u001b[0mB\u001b[0m\u001b[0;34m.\u001b[0m\u001b[0mT\u001b[0m\u001b[0;34m)\u001b[0m\u001b[0;34m\u001b[0m\u001b[0m\n\u001b[0m",
      "\u001b[0;31mValueError\u001b[0m: shapes (3,2) and (3,2) not aligned: 2 (dim 1) != 3 (dim 0)"
     ]
    }
   ],
   "source": [
    "# -- are these all valid?\n",
    "\n",
    "print 'np.dot(A, B) =\\n', np.dot(A, B)\n",
    "\n",
    "print 'np.dot(B, A) =\\n', np.dot(B, A)\n",
    "\n",
    "print 'np.dot(B.T, A.T) =\\n', np.dot(B.T, A.T)\n",
    "\n",
    "print 'np.dot(A, B.T) =\\n', np.dot(A, B.T)\n"
   ]
  },
  {
   "cell_type": "code",
   "execution_count": 29,
   "metadata": {
    "collapsed": false
   },
   "outputs": [
    {
     "name": "stdout",
     "output_type": "stream",
     "text": [
      "a =\n",
      "[[ 0.83481011  0.79204333  0.81680118]\n",
      " [ 0.7732253   0.57648099  0.00180735]]\n",
      "\n",
      "a.sum() = 3.79516825472\n",
      "\n",
      "a.sum(axis=0) = [ 1.60803541  1.36852432  0.81860853]\n",
      "\n",
      "a.cumsum() = [ 0.83481011  1.62685343  2.44365461  3.21687991  3.7933609   3.79516825]\n",
      "\n",
      "a.cumsum(axis=1) = [[ 0.83481011  1.62685343  2.44365461]\n",
      " [ 0.7732253   1.34970629  1.35151365]]\n",
      "\n",
      "a.min() = 0.00180735257307\n",
      "\n",
      "a.max(axis=0) = [ 0.83481011  0.79204333  0.81680118]\n"
     ]
    }
   ],
   "source": [
    "# -- lets see what operations we can do across the axes of a matrix\n",
    "a = np.random.random((2,3))\n",
    "print 'a =\\n', a\n",
    "\n",
    "print '\\na.sum() =', a.sum()\n",
    "\n",
    "print '\\na.sum(axis=0) =', a.sum(axis=0)\n",
    "\n",
    "print '\\na.cumsum() =', a.cumsum()\n",
    "\n",
    "print '\\na.cumsum(axis=1) =', a.cumsum(axis=1)\n",
    "\n",
    "print '\\na.min() =', a.min()\n",
    "\n",
    "print '\\na.max(axis=0) =', a.max(axis=0)\n"
   ]
  },
  {
   "cell_type": "code",
   "execution_count": 30,
   "metadata": {
    "collapsed": false
   },
   "outputs": [
    {
     "name": "stdout",
     "output_type": "stream",
     "text": [
      "a =\n",
      "[[ 0.35570616  0.56789007  0.49257881  0.69755026  0.81386473]\n",
      " [ 0.07385069  0.7266599   0.00784031  0.76184057  0.73782388]\n",
      " [ 0.43143641  0.90700812  0.0404472   0.63831358  0.0964778 ]\n",
      " [ 0.27114795  0.13442414  0.61816229  0.78268455  0.36967036]]\n",
      "\n",
      "a[2, :] = [ 0.43143641  0.90700812  0.0404472   0.63831358  0.0964778 ]\n",
      "\n",
      "a[1:3] = [[ 0.07385069  0.7266599   0.00784031  0.76184057  0.73782388]\n",
      " [ 0.43143641  0.90700812  0.0404472   0.63831358  0.0964778 ]]\n",
      "\n",
      "a[:, 2:4] = [[ 0.49257881  0.69755026]\n",
      " [ 0.00784031  0.76184057]\n",
      " [ 0.0404472   0.63831358]\n",
      " [ 0.61816229  0.78268455]]\n"
     ]
    }
   ],
   "source": [
    "# -- arrays are like lists, they can be sliced!\n",
    "\n",
    "a = np.random.random((4,5))\n",
    "print 'a =\\n', a\n",
    "print '\\na[2, :] =', a[2, :]\n",
    "# third row, all columns\n",
    "print '\\na[1:3] =', a[1:3]\n",
    "# 2nd, 3rd row, all columns\n",
    "print '\\na[:, 2:4] =', a[:, 2:4]\n",
    "# all rows, columns 3 and 4"
   ]
  },
  {
   "cell_type": "markdown",
   "metadata": {},
   "source": [
    "####Iterating\n",
    "Iterating over multidimensional arrays is done with respect to the first axis: `for row in A`\n",
    "\n",
    "One can loop over all elements with `for element in A.flat`\n",
    "\n",
    "####Reshaping\n",
    "\n",
    "Reshape using `reshape`. Total size must remain the same. For example, `a = np.arange(10).reshape((2,5))`.\n",
    "\n",
    "####Linear Algebra\n",
    "\n",
    "Start with `import numpy.linalg as la`\n",
    "\n",
    "* `la.eye(3)`, Identity matrix\n",
    "* `la.trace(A)`, Trace\n",
    "* `la.column_stack((A,B))`, Stack column wise\n",
    "* `la.row_stack((A,B,A))`, Stack row wise\n",
    "* `la.qr`, Computes the QR decomposition\n",
    "* `la.cholesky`, Computes the Cholesky decomposition\n",
    "* `la.inv(A)`, Inverse\n",
    "* `la.solve(A,b)`, Solves $Ax = b$ for $A$ full rank\n",
    "* `la.lstsq(A,b)`, Solves $\\arg\\min_x \\|Ax-b\\|_2$\n",
    "* `la.eig(A)`, Eigenvalue decomposition\n",
    "* `la.eig(A)`, Eigenvalue decomposition for\n",
    "symmetric or hermitian\n",
    "* `la.eigvals(A)`, Computes eigenvalues.\n",
    "* `la.svd(A, full)`, Singular value decomposition\n",
    "* `la.pinv(A)`, Computes pseudo-inverse of A\n",
    "\n",
    "####Random Numbers\n",
    "\n",
    "Start with `import numpy.random as rng`\n",
    "\n",
    "* `rng.rand(d0,d1,...,dn)`, Random values in a given shape\n",
    "* `rng.randn(d0, d1, ...,dn)`, Random standard normal\n",
    "* `rng.randint(lo, hi, size)`, Random integers `[lo, hi)`\n",
    "* `rng.choice(a, size, repl, p)`, Sample from a\n",
    "* `rng.shuffle(a)`, Permutation (in-place)\n",
    "* `rng.permutation(a)`, Permutation (new array)\n",
    "* Also, have parameterized distributions: `beta`, `binomial`, `chisquare`, `exponential`, `dirichlet`, `gamma`, `laplace`, `lognormal`, `pareto`, `poisson`, `power`..."
   ]
  },
  {
   "cell_type": "markdown",
   "metadata": {},
   "source": [
    "###SciPy\n",
    "\n",
    "SciPy is a library of algorithms and mathematical tools built to work with NumPy arrays.\n",
    "\n",
    "* linear algebra - `scipy.linalg`\n",
    "* statistics - `scipy.stats`\n",
    "* optimization - `scipy.optimize`\n",
    "* sparse matrices - `scipy.sparse`\n",
    "* signal processing - `scipy.signal`\n",
    "* etc.\n",
    "\n",
    "\n",
    "Slightly different from numpy.linalg., SciPy *always* uses BLAS/LAPACK support, so could be faster in many cases!\n",
    "\n",
    "\n",
    "####Optimization\n",
    "\n",
    "* General purpose minimization: CG, BFGS, least-squares\n",
    "* Constrainted minimization; non-negative least-squares\n",
    "* Minimize using simulated annealing\n",
    "* Scalar function minimization\n",
    "* Root finding\n",
    "* Check gradient function\n",
    "* Line search\n",
    "\n",
    "####Statistics\n",
    "\n",
    "* Mean, median, mode, variance, kurtosis\n",
    "* Pearson correlation coefficient\n",
    "* Hypothesis tests (ttest, Wilcoxon signed-rank test, Kolmogorov-Smirnov)\n",
    "* Gaussian kernel density estimation\n",
    "\n",
    "####Matricies (sparse)\n",
    "\n",
    "* Sparse matrix classes: CSC, CSR, etc.\n",
    "* Functions to build sparse matrices\n",
    "* `sparse.linalg` module for sparse linear algebra\n",
    "* `sparse.csgrap`h for sparse graph routines\n",
    "* Matlab files\n",
    "* Matrix Market files (sparse matrices)\n",
    "* `.wav` files\n"
   ]
  },
  {
   "cell_type": "code",
   "execution_count": null,
   "metadata": {
    "collapsed": true
   },
   "outputs": [],
   "source": []
  }
 ],
 "metadata": {
  "kernelspec": {
   "display_name": "Python 2",
   "language": "python",
   "name": "python2"
  },
  "language_info": {
   "codemirror_mode": {
    "name": "ipython",
    "version": 2
   },
   "file_extension": ".py",
   "mimetype": "text/x-python",
   "name": "python",
   "nbconvert_exporter": "python",
   "pygments_lexer": "ipython2",
   "version": "2.7.10"
  }
 },
 "nbformat": 4,
 "nbformat_minor": 0
}
