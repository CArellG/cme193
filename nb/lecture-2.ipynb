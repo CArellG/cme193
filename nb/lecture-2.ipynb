{
 "cells": [
  {
   "cell_type": "markdown",
   "metadata": {
    "slideshow": {
     "slide_type": "slide"
    }
   },
   "source": [
    "# CME 193 - Scientific Python\n",
    "### Lecture 2 (4/7)\n",
    "Spring 2016, Stanford University"
   ]
  },
  {
   "cell_type": "markdown",
   "metadata": {
    "slideshow": {
     "slide_type": "slide"
    }
   },
   "source": [
    "## Administrative Details\n",
    "* The room...\n",
    "* Sign up for Piazza! http://piazza.com/stanford/spring2016/cme193\n",
    "* We have a website! http://icme.github.io/cme193\n",
    "* Please take the Survey (link on website)! **Required for all people taking this for credit** http://goo.gl/forms/ZmrKtReiWC "
   ]
  },
  {
   "cell_type": "markdown",
   "metadata": {
    "slideshow": {
     "slide_type": "slide"
    }
   },
   "source": [
    "## Last time\n",
    "\n",
    "* Got you thinking about Python from 30,000 ft\n",
    "* Introduction to syntax\n",
    "* Control statements (if these aren't clear, check out lecture 1!)\n"
   ]
  },
  {
   "cell_type": "markdown",
   "metadata": {
    "slideshow": {
     "slide_type": "subslide"
    }
   },
   "source": [
    "## Questions...?"
   ]
  },
  {
   "cell_type": "markdown",
   "metadata": {
    "slideshow": {
     "slide_type": "slide"
    }
   },
   "source": [
    "## Today\n",
    "\n",
    "* Functions and abstraction\n",
    "* Primitive Data Structures\n",
    "* Comprehension"
   ]
  },
  {
   "cell_type": "markdown",
   "metadata": {
    "slideshow": {
     "slide_type": "slide"
    }
   },
   "source": [
    "# Syntax tidbits\n",
    "\n",
    "* Python is whitespace based! Logical statements should align in whitespace\n",
    "* Comments start with a hashtag (#)"
   ]
  },
  {
   "cell_type": "markdown",
   "metadata": {
    "collapsed": true,
    "slideshow": {
     "slide_type": "slide"
    }
   },
   "source": [
    "# Functions\n",
    "Use your mathematical intution on this! Formally, a function maps a collection of arguments to a resulting type"
   ]
  },
  {
   "cell_type": "markdown",
   "metadata": {
    "slideshow": {
     "slide_type": "subslide"
    }
   },
   "source": [
    "Key idea: a good function encapsulates a templatable task\n",
    "\n",
    "Why might we care?\n",
    "* Code re-use\n",
    "* Replication\n",
    "* Understanding"
   ]
  },
  {
   "cell_type": "markdown",
   "metadata": {
    "slideshow": {
     "slide_type": "subslide"
    }
   },
   "source": [
    "## Contrived example\n",
    "\n",
    "Let's say we are realtors and we're trying to sell an apartment thats a triangle. We measure, and find the base is 4m and the height is 4.3m. Because we can't do mental math, we decide to write a Python program.\n",
    "\n",
    "```python\n",
    "base = 4\n",
    "height = 4.3\n",
    "area = 0.5 * base * height\n",
    "```"
   ]
  },
  {
   "cell_type": "markdown",
   "metadata": {
    "slideshow": {
     "slide_type": "fragment"
    }
   },
   "source": [
    "Why is this bad?"
   ]
  },
  {
   "cell_type": "code",
   "execution_count": 5,
   "metadata": {
    "collapsed": true,
    "slideshow": {
     "slide_type": "subslide"
    }
   },
   "outputs": [],
   "source": [
    "# def tells python you're trying to declare a function\n",
    "def triange_area(base, height):\n",
    "    # the function takes input arguments \n",
    "    # (these variables are def'd in the function scope)\n",
    "    \n",
    "    # return keyword shoots the result out of the function\n",
    "    return 0.5 * base * height"
   ]
  },
  {
   "cell_type": "code",
   "execution_count": 6,
   "metadata": {
    "collapsed": false,
    "slideshow": {
     "slide_type": "subslide"
    }
   },
   "outputs": [
    {
     "name": "stdout",
     "output_type": "stream",
     "text": [
      "base = 4, height = 4.3, area = 8.6\n"
     ]
    }
   ],
   "source": [
    "base = 4\n",
    "height = 4.3\n",
    "\n",
    "print 'base = {}, height = {}, area = {}'.format(\n",
    "    base, \n",
    "    height, \n",
    "    triange_area(base, height)\n",
    ")"
   ]
  },
  {
   "cell_type": "markdown",
   "metadata": {
    "slideshow": {
     "slide_type": "subslide"
    }
   },
   "source": [
    "By default, Python returns `None`\n",
    "\n",
    "What is `None`?"
   ]
  },
  {
   "cell_type": "markdown",
   "metadata": {
    "collapsed": true,
    "slideshow": {
     "slide_type": "subslide"
    }
   },
   "source": [
    "Once Python hits `return`, it will return the output and jump out of the function\n",
    "\n",
    "```python\n",
    "def loop():\n",
    "    for x in xrange(10):\n",
    "        print x\n",
    "        if x == 3:\n",
    "            return\n",
    "```"
   ]
  },
  {
   "cell_type": "code",
   "execution_count": 7,
   "metadata": {
    "collapsed": true,
    "slideshow": {
     "slide_type": "skip"
    }
   },
   "outputs": [],
   "source": [
    "def loop():\n",
    "    for x in xrange(10):\n",
    "        print x\n",
    "        if x == 3:\n",
    "            return"
   ]
  },
  {
   "cell_type": "code",
   "execution_count": 8,
   "metadata": {
    "collapsed": false,
    "slideshow": {
     "slide_type": "fragment"
    }
   },
   "outputs": [
    {
     "name": "stdout",
     "output_type": "stream",
     "text": [
      "0\n",
      "1\n",
      "2\n",
      "3\n"
     ]
    }
   ],
   "source": [
    "loop()"
   ]
  },
  {
   "cell_type": "markdown",
   "metadata": {
    "collapsed": true,
    "slideshow": {
     "slide_type": "subslide"
    }
   },
   "source": [
    "**Everything** in Python is an object and can be passed to a function!\n",
    "\n",
    "```python\n",
    "def twice(f, x):\n",
    "    return f(f(x))\n",
    "```"
   ]
  },
  {
   "cell_type": "code",
   "execution_count": 9,
   "metadata": {
    "collapsed": true,
    "slideshow": {
     "slide_type": "skip"
    }
   },
   "outputs": [],
   "source": [
    "def twice(f, x):\n",
    "    return f(f(x))"
   ]
  },
  {
   "cell_type": "code",
   "execution_count": 10,
   "metadata": {
    "collapsed": true,
    "slideshow": {
     "slide_type": "fragment"
    }
   },
   "outputs": [],
   "source": [
    "def square(x):\n",
    "    return x ** 2"
   ]
  },
  {
   "cell_type": "code",
   "execution_count": 11,
   "metadata": {
    "collapsed": false,
    "slideshow": {
     "slide_type": "fragment"
    }
   },
   "outputs": [
    {
     "name": "stdout",
     "output_type": "stream",
     "text": [
      "256\n"
     ]
    }
   ],
   "source": [
    "print twice(square, 4)"
   ]
  },
  {
   "cell_type": "markdown",
   "metadata": {
    "slideshow": {
     "slide_type": "fragment"
    }
   },
   "source": [
    "Why is this nice?"
   ]
  },
  {
   "cell_type": "markdown",
   "metadata": {
    "collapsed": true,
    "slideshow": {
     "slide_type": "subslide"
    }
   },
   "source": [
    "Let's combine some things we've learned!\n",
    "\n",
    "```python\n",
    "def n_apply(f, x, n):\n",
    "    for _ in xrange(n):\n",
    "        x = f(x)\n",
    "    return x\n",
    "```"
   ]
  },
  {
   "cell_type": "code",
   "execution_count": 12,
   "metadata": {
    "collapsed": true,
    "slideshow": {
     "slide_type": "skip"
    }
   },
   "outputs": [],
   "source": [
    "def n_apply(f, x, n):\n",
    "    for _ in xrange(n):\n",
    "        x = f(x)\n",
    "    return x"
   ]
  },
  {
   "cell_type": "code",
   "execution_count": 13,
   "metadata": {
    "collapsed": false,
    "slideshow": {
     "slide_type": "fragment"
    }
   },
   "outputs": [
    {
     "name": "stdout",
     "output_type": "stream",
     "text": [
      "256\n",
      "256\n",
      "65536\n"
     ]
    }
   ],
   "source": [
    "print twice(square, 4)\n",
    "print n_apply(square, 4, 2)\n",
    "print n_apply(square, 4, 3)"
   ]
  },
  {
   "cell_type": "markdown",
   "metadata": {
    "slideshow": {
     "slide_type": "subslide"
    }
   },
   "source": [
    "## Lambda functions\n",
    "\n",
    "An alternative way to define short functions:\n",
    "* One line / in line\n",
    "* No need to name a function (passed as an arg)\n",
    "\n",
    "```python\n",
    "cube = lambda x: x*x*x\n",
    "```"
   ]
  },
  {
   "cell_type": "code",
   "execution_count": 14,
   "metadata": {
    "collapsed": true,
    "slideshow": {
     "slide_type": "skip"
    }
   },
   "outputs": [],
   "source": [
    "cube = lambda x: x*x*x"
   ]
  },
  {
   "cell_type": "code",
   "execution_count": 15,
   "metadata": {
    "collapsed": false,
    "slideshow": {
     "slide_type": "fragment"
    }
   },
   "outputs": [
    {
     "data": {
      "text/plain": [
       "27"
      ]
     },
     "execution_count": 15,
     "metadata": {},
     "output_type": "execute_result"
    }
   ],
   "source": [
    "cube(3)"
   ]
  },
  {
   "cell_type": "markdown",
   "metadata": {
    "slideshow": {
     "slide_type": "subslide"
    }
   },
   "source": [
    "## Default arguments\n",
    "\n",
    "We might have functions that have a lot of knobs to tune, but 90% of the time we change one or two. How can we be smart?"
   ]
  },
  {
   "cell_type": "markdown",
   "metadata": {
    "slideshow": {
     "slide_type": "fragment"
    }
   },
   "source": [
    "Enter: default arguments"
   ]
  },
  {
   "cell_type": "code",
   "execution_count": 16,
   "metadata": {
    "collapsed": true,
    "slideshow": {
     "slide_type": "subslide"
    }
   },
   "outputs": [],
   "source": [
    "def print_welcome(name, course='CME 193', term='Spring `16', \\\n",
    "                  instructor='Luke de O.', additional='We hope you enjoy it!'):\n",
    "    print 'Hi %s! Welcome to %s, which is taught by %s in %s. %s' % (\n",
    "        name, course, instructor, term, additional\n",
    "    )"
   ]
  },
  {
   "cell_type": "code",
   "execution_count": 17,
   "metadata": {
    "collapsed": false,
    "slideshow": {
     "slide_type": "fragment"
    }
   },
   "outputs": [
    {
     "name": "stdout",
     "output_type": "stream",
     "text": [
      "Hi Robert! Welcome to CME 193, which is taught by Luke de O. in Spring `16. We hope you enjoy it!\n"
     ]
    }
   ],
   "source": [
    "print_welcome('Robert')"
   ]
  },
  {
   "cell_type": "code",
   "execution_count": 18,
   "metadata": {
    "collapsed": false,
    "slideshow": {
     "slide_type": "fragment"
    }
   },
   "outputs": [
    {
     "name": "stdout",
     "output_type": "stream",
     "text": [
      "Hi Jessica! Welcome to CME 193, which is taught by Dr. Ten Uretrack in Spring `16. We hope you enjoy it!\n"
     ]
    }
   ],
   "source": [
    "print_welcome('Jessica', instructor='Dr. Ten Uretrack')"
   ]
  },
  {
   "cell_type": "code",
   "execution_count": 19,
   "metadata": {
    "collapsed": false,
    "slideshow": {
     "slide_type": "fragment"
    }
   },
   "outputs": [
    {
     "name": "stdout",
     "output_type": "stream",
     "text": [
      "Hi Jessica! Welcome to CME 308, which is taught by Luke de O. in Spring `16. We hope you enjoy it!\n"
     ]
    }
   ],
   "source": [
    "print_welcome('Jessica', 'CME 308')"
   ]
  },
  {
   "cell_type": "markdown",
   "metadata": {
    "slideshow": {
     "slide_type": "subslide"
    }
   },
   "source": [
    "Question: how can we make sure you/others know how to use the software you write?"
   ]
  },
  {
   "cell_type": "markdown",
   "metadata": {
    "slideshow": {
     "slide_type": "fragment"
    }
   },
   "source": [
    "Enter: Docstrings!"
   ]
  },
  {
   "cell_type": "markdown",
   "metadata": {
    "collapsed": true,
    "slideshow": {
     "slide_type": "subslide"
    }
   },
   "source": [
    "```python\n",
    "def fancy(parameter, name, what, place):\n",
    "    '''\n",
    "    Here is a description!\n",
    "    Docstrings go directly underneath the function definition\n",
    "        \n",
    "        parameter: a parameter\n",
    "        name: you get the idea...\n",
    "    '''\n",
    "    pass\n",
    "```"
   ]
  },
  {
   "cell_type": "code",
   "execution_count": 20,
   "metadata": {
    "collapsed": true,
    "slideshow": {
     "slide_type": "skip"
    }
   },
   "outputs": [],
   "source": [
    "def fancy(parameter, name, what, place):\n",
    "    '''\n",
    "    Here is a description!\n",
    "        \n",
    "        parameter: a parameter\n",
    "        name: you get the idea...\n",
    "    '''\n",
    "    pass"
   ]
  },
  {
   "cell_type": "code",
   "execution_count": 21,
   "metadata": {
    "collapsed": false,
    "slideshow": {
     "slide_type": "fragment"
    }
   },
   "outputs": [
    {
     "name": "stdout",
     "output_type": "stream",
     "text": [
      "Help on function fancy in module __main__:\n",
      "\n",
      "fancy(parameter, name, what, place)\n",
      "    Here is a description!\n",
      "        \n",
      "        parameter: a parameter\n",
      "        name: you get the idea...\n",
      "\n"
     ]
    }
   ],
   "source": [
    "help(fancy)# or fancy? in the interpreter"
   ]
  },
  {
   "cell_type": "markdown",
   "metadata": {
    "slideshow": {
     "slide_type": "slide"
    }
   },
   "source": [
    "# Data Structures"
   ]
  },
  {
   "cell_type": "markdown",
   "metadata": {
    "slideshow": {
     "slide_type": "slide"
    }
   },
   "source": [
    "## Lists"
   ]
  },
  {
   "cell_type": "markdown",
   "metadata": {
    "slideshow": {
     "slide_type": "fragment"
    }
   },
   "source": [
    "* Group variables together\n",
    "* Specific order\n",
    "* Access items using square brackets: [ ]"
   ]
  },
  {
   "cell_type": "markdown",
   "metadata": {
    "slideshow": {
     "slide_type": "fragment"
    }
   },
   "source": [
    "**However, do not confuse a list with the mathematical notion of a vector.**"
   ]
  },
  {
   "cell_type": "markdown",
   "metadata": {
    "slideshow": {
     "slide_type": "subslide"
    }
   },
   "source": [
    "### Element access\n",
    "\n",
    "* First item: `mylist[0]`\n",
    "* Last item: `mylist[-1]`"
   ]
  },
  {
   "cell_type": "markdown",
   "metadata": {
    "slideshow": {
     "slide_type": "fragment"
    }
   },
   "source": [
    "```python\n",
    "myList = [5, 2.3, 'hello']\n",
    "myList[0]  # 5\n",
    "myList[2]  # ’hello’\n",
    "myList[3]  # ! IndexError\n",
    "myList[-1]  # ’hello’\n",
    "myList[-3]  # ?\n",
    "```"
   ]
  },
  {
   "cell_type": "markdown",
   "metadata": {
    "slideshow": {
     "slide_type": "subslide"
    }
   },
   "source": [
    "### Operations\n",
    "\n",
    "* Lists can be sliced: [2:5] \n",
    "* Lists can be multiplied\n",
    "* Lists can be added\n",
    "\n",
    "Caveat: not always def'd how you'd imagine!"
   ]
  },
  {
   "cell_type": "markdown",
   "metadata": {
    "slideshow": {
     "slide_type": "fragment"
    }
   },
   "source": [
    "```python\n",
    ">>> myList = [5, 2.3, 'hello']\n",
    ">>> myList[0:2]     # [5, 2.3]\n",
    ">>> mySecondList = ['a', '3']\n",
    ">>> concatList = myList + mySecondList\n",
    "# [5, 2.3, ’hello’, ’a’, ’3’]\n",
    "```"
   ]
  },
  {
   "cell_type": "markdown",
   "metadata": {
    "slideshow": {
     "slide_type": "subslide"
    }
   },
   "source": [
    "### more examples, details"
   ]
  },
  {
   "cell_type": "code",
   "execution_count": 22,
   "metadata": {
    "collapsed": false,
    "slideshow": {
     "slide_type": "-"
    }
   },
   "outputs": [
    {
     "name": "stdout",
     "output_type": "stream",
     "text": [
      "Indexing forwards\n",
      "John\n",
      "Emily\n",
      "\n",
      "Indexing backwards\n",
      "Jill\n",
      "Jane\n"
     ]
    }
   ],
   "source": [
    "students = ['John', 'Emily', 'Sally', 'Rob', 'Luke', 'Dylan', 'Jane', 'Jill']\n",
    "print 'Indexing forwards'\n",
    "print students[0]\n",
    "print students[1]\n",
    "\n",
    "print '\\nIndexing backwards'\n",
    "# -- some fancier indexing\n",
    "print students[-1]\n",
    "print students[-2]"
   ]
  },
  {
   "cell_type": "markdown",
   "metadata": {
    "slideshow": {
     "slide_type": "subslide"
    }
   },
   "source": [
    "We can also *slice* a list, which means we can retrieve a patterned block of elements. Most basically, `list[i:j]` will return a list with elements \n",
    "\n",
    "```[list[i], list[i + 1], ..., list[j - 2], list[j - 1]]```. \n",
    "\n",
    "The slice `i:j` internally is similar to using `range(i, j)`."
   ]
  },
  {
   "cell_type": "code",
   "execution_count": 23,
   "metadata": {
    "collapsed": false,
    "slideshow": {
     "slide_type": "fragment"
    }
   },
   "outputs": [
    {
     "name": "stdout",
     "output_type": "stream",
     "text": [
      "['John', 'Emily', 'Sally']\n"
     ]
    }
   ],
   "source": [
    "print students[0:3]"
   ]
  },
  {
   "cell_type": "code",
   "execution_count": 24,
   "metadata": {
    "collapsed": false,
    "slideshow": {
     "slide_type": "fragment"
    }
   },
   "outputs": [
    {
     "name": "stdout",
     "output_type": "stream",
     "text": [
      "['Luke', 'Dylan', 'Jane', 'Jill']\n"
     ]
    }
   ],
   "source": [
    "print students[4:8]"
   ]
  },
  {
   "cell_type": "code",
   "execution_count": 25,
   "metadata": {
    "collapsed": false,
    "slideshow": {
     "slide_type": "fragment"
    }
   },
   "outputs": [
    {
     "name": "stdout",
     "output_type": "stream",
     "text": [
      "['John', 'Emily', 'Sally']\n",
      "['Luke', 'Dylan', 'Jane', 'Jill']\n"
     ]
    }
   ],
   "source": [
    "# -- we can drop the initial zero or the final index, and achieve the same thing...\n",
    "print students[:3]\n",
    "print students[4:]"
   ]
  },
  {
   "cell_type": "code",
   "execution_count": 26,
   "metadata": {
    "collapsed": false,
    "slideshow": {
     "slide_type": "subslide"
    }
   },
   "outputs": [
    {
     "name": "stdout",
     "output_type": "stream",
     "text": [
      "['Dylan', 'Jane', 'Jill']\n"
     ]
    }
   ],
   "source": [
    "# -- we can also get fancy, lets say I want everything from 3 elements back until the end...\n",
    "print students[-3:]"
   ]
  },
  {
   "cell_type": "code",
   "execution_count": 27,
   "metadata": {
    "collapsed": false,
    "slideshow": {
     "slide_type": "fragment"
    }
   },
   "outputs": [
    {
     "name": "stdout",
     "output_type": "stream",
     "text": [
      "['Emily', 'Luke', 'Jill']\n"
     ]
    }
   ],
   "source": [
    "# -- and lets say I want every third student, starting at students[1]\n",
    "print students[1::3]"
   ]
  },
  {
   "cell_type": "markdown",
   "metadata": {
    "slideshow": {
     "slide_type": "subslide"
    }
   },
   "source": [
    "*ALWAYS Remember*, a list is **not** the mathematical notion of a vector! Check this out..."
   ]
  },
  {
   "cell_type": "code",
   "execution_count": 28,
   "metadata": {
    "collapsed": false,
    "slideshow": {
     "slide_type": "subslide"
    }
   },
   "outputs": [
    {
     "name": "stdout",
     "output_type": "stream",
     "text": [
      "[1, 2, 4, 0, 3, 1]\n"
     ]
    }
   ],
   "source": [
    "print [1, 2, 4] + [0, 3, 1] # = [1, 5, 5]?"
   ]
  },
  {
   "cell_type": "code",
   "execution_count": 29,
   "metadata": {
    "collapsed": false,
    "slideshow": {
     "slide_type": "subslide"
    }
   },
   "outputs": [
    {
     "name": "stdout",
     "output_type": "stream",
     "text": [
      "[1, 9, 3, 1, 9, 3]\n"
     ]
    }
   ],
   "source": [
    "print [1, 9, 3] * 2 # = [2, 18, 6]?"
   ]
  },
  {
   "cell_type": "markdown",
   "metadata": {
    "slideshow": {
     "slide_type": "subslide"
    }
   },
   "source": [
    "This is a great time to talk about a *very* important topic -- *mutability*.\n",
    "\n",
    "What is mutability? Basically, it means the *values* of the elements of a list **can** be changed! Why is this special? We will see..."
   ]
  },
  {
   "cell_type": "code",
   "execution_count": 30,
   "metadata": {
    "collapsed": false,
    "slideshow": {
     "slide_type": "subslide"
    }
   },
   "outputs": [
    {
     "name": "stdout",
     "output_type": "stream",
     "text": [
      "['a', 43, 1.234]\n"
     ]
    }
   ],
   "source": [
    "data = ['a', 43, 1.234]\n",
    "\n",
    "print data"
   ]
  },
  {
   "cell_type": "code",
   "execution_count": 31,
   "metadata": {
    "collapsed": false,
    "slideshow": {
     "slide_type": "fragment"
    }
   },
   "outputs": [
    {
     "name": "stdout",
     "output_type": "stream",
     "text": [
      "[-3, 43, 1.234]\n"
     ]
    }
   ],
   "source": [
    "# -- we can modify data! A blessing and a curse\n",
    "data[0] = -3\n",
    "print data"
   ]
  },
  {
   "cell_type": "code",
   "execution_count": 32,
   "metadata": {
    "collapsed": false,
    "slideshow": {
     "slide_type": "fragment"
    }
   },
   "outputs": [
    {
     "name": "stdout",
     "output_type": "stream",
     "text": [
      "[-3, ['Luke', 'ICME'], 2.3]\n"
     ]
    }
   ],
   "source": [
    "# -- we can use our slicing machinery to modify subsets of a list\n",
    "x = ['Luke', 'ICME']\n",
    "data[1:3] = [x, 2.3]\n",
    "print data"
   ]
  },
  {
   "cell_type": "code",
   "execution_count": 33,
   "metadata": {
    "collapsed": false,
    "slideshow": {
     "slide_type": "fragment"
    }
   },
   "outputs": [
    {
     "name": "stdout",
     "output_type": "stream",
     "text": [
      "[-3, ['Luke', 'ICME'], 2.3]\n"
     ]
    }
   ],
   "source": [
    "# ...but note, things are *copied* into the list when created!\n",
    "x = 42\n",
    "print data"
   ]
  },
  {
   "cell_type": "markdown",
   "metadata": {
    "slideshow": {
     "slide_type": "subslide"
    }
   },
   "source": [
    "Let's transition here to a very important topic -- copying lists. \n",
    "\n",
    "It's importance will carry over to when we talk about numpy! \n",
    "\n",
    "When we assign a list to a variable, what really happens? Let's investigate..."
   ]
  },
  {
   "cell_type": "code",
   "execution_count": 34,
   "metadata": {
    "collapsed": false,
    "slideshow": {
     "slide_type": "fragment"
    }
   },
   "outputs": [
    {
     "name": "stdout",
     "output_type": "stream",
     "text": [
      "a = \n",
      "[1, 2, 3]\n",
      "b = \n",
      "[1, 2, 3]\n"
     ]
    }
   ],
   "source": [
    "a = [1, 2, 3]\n",
    "b = a #let’s copy a \n",
    "print 'a = '\n",
    "print a\n",
    "print 'b = '\n",
    "print b"
   ]
  },
  {
   "cell_type": "code",
   "execution_count": 52,
   "metadata": {
    "collapsed": true,
    "slideshow": {
     "slide_type": "fragment"
    }
   },
   "outputs": [],
   "source": [
    "# modify an element of b, the supposed copy\n",
    "b[1] = 5 # now we want to change an element "
   ]
  },
  {
   "cell_type": "code",
   "execution_count": 36,
   "metadata": {
    "collapsed": false,
    "slideshow": {
     "slide_type": "fragment"
    }
   },
   "outputs": [
    {
     "name": "stdout",
     "output_type": "stream",
     "text": [
      "a = \n",
      "[1, 5, 3]\n",
      "b = \n",
      "[1, 5, 3]\n"
     ]
    }
   ],
   "source": [
    "print 'a = '\n",
    "print a\n",
    "print 'b = '\n",
    "print b"
   ]
  },
  {
   "cell_type": "markdown",
   "metadata": {
    "slideshow": {
     "slide_type": "subslide"
    }
   },
   "source": [
    "What happened here? When we modify `b`, which is the copy of `a`, we modify both! To understand why this is the case, one needs to understand what lists and variables really are in python. "
   ]
  },
  {
   "cell_type": "markdown",
   "metadata": {
    "slideshow": {
     "slide_type": "subslide"
    }
   },
   "source": [
    "We can think of variables in python as tags -- in the previous example, the tags `a` and `b` both point to the *same actual object*. When we excecute `b = a`, we are really saying \"let the `b` tag point to the same object as `a`\""
   ]
  },
  {
   "cell_type": "markdown",
   "metadata": {
    "slideshow": {
     "slide_type": "fragment"
    }
   },
   "source": [
    "![list_tag](./nb-assets/img/list_tag.png \"Variables as Tags\")"
   ]
  },
  {
   "cell_type": "markdown",
   "metadata": {
    "slideshow": {
     "slide_type": "subslide"
    }
   },
   "source": [
    "What did you have in mind when we started talking about copying? Most likely, it was the creation of an *independent duplicate*, which would look like this:"
   ]
  },
  {
   "cell_type": "markdown",
   "metadata": {
    "slideshow": {
     "slide_type": "fragment"
    }
   },
   "source": [
    "![list_tag2](./nb-assets/img/list_tag2.png \"Copyling the list\")\n",
    "This is quite easy...\n",
    "￼￼￼￼￼"
   ]
  },
  {
   "cell_type": "code",
   "execution_count": 37,
   "metadata": {
    "collapsed": false,
    "slideshow": {
     "slide_type": "subslide"
    }
   },
   "outputs": [
    {
     "name": "stdout",
     "output_type": "stream",
     "text": [
      "a = \n",
      "['cme193', 5, 3]\n",
      "b = \n",
      "['cme193', 5, 3]\n",
      "c = \n",
      "[1, 5, 3]\n"
     ]
    }
   ],
   "source": [
    "# the pythonic way\n",
    "c = list(a)\n",
    "# this calls the list \"constructor\", or the method which makes instances of objects\n",
    "# now, modify something\n",
    "a[0] = 'cme193'\n",
    "print 'a = '\n",
    "print a\n",
    "print 'b = '\n",
    "print b\n",
    "print 'c = '\n",
    "print c"
   ]
  },
  {
   "cell_type": "code",
   "execution_count": 38,
   "metadata": {
    "collapsed": false,
    "slideshow": {
     "slide_type": "fragment"
    }
   },
   "outputs": [
    {
     "name": "stdout",
     "output_type": "stream",
     "text": [
      "id(a) = 4520273464, id(b) = 4520273464, id(c) = 4520344752\n"
     ]
    }
   ],
   "source": [
    "# Python has a function called id(...) which returns the slot in memory...\n",
    "# a and b should be in the same slot, and c should have a different slot\n",
    "print 'id(a) = {}, id(b) = {}, id(c) = {}'.format(id(a), id(b), id(c))"
   ]
  },
  {
   "cell_type": "markdown",
   "metadata": {
    "slideshow": {
     "slide_type": "subslide"
    }
   },
   "source": [
    "What are some practical things we can do with lists? Well, we have the following operations available to us for lists. Let `xs` be a list, and `x` be an element of that list.\n",
    "* `len(xs)`\n",
    "* `xs.append(x)`\n",
    "* `xs.count(x)`\n",
    "* `xs.insert(i, x)`\n",
    "* `xs.sort()` and `sorted(xs)`: what’s the difference? \n",
    "* `xs.remove(x)`\n",
    "* `xs.pop()` or `xs.pop(i)`\n",
    "* `x in xs`"
   ]
  },
  {
   "cell_type": "markdown",
   "metadata": {
    "slideshow": {
     "slide_type": "subslide"
    }
   },
   "source": [
    "A natural thing we might want to do when dealing with lists is iterate through them -- after all, they do have an order! Iterating with a for loop is quite easy..."
   ]
  },
  {
   "cell_type": "code",
   "execution_count": 39,
   "metadata": {
    "collapsed": false,
    "slideshow": {
     "slide_type": "fragment"
    }
   },
   "outputs": [
    {
     "name": "stdout",
     "output_type": "stream",
     "text": [
      "1\n",
      "2\n",
      "45\n",
      "61.2\n"
     ]
    }
   ],
   "source": [
    "nums = [1, 2, 45, 61.2]\n",
    "\n",
    "for n in nums:\n",
    "    print n"
   ]
  },
  {
   "cell_type": "code",
   "execution_count": 55,
   "metadata": {
    "collapsed": true,
    "slideshow": {
     "slide_type": "subslide"
    }
   },
   "outputs": [],
   "source": [
    "# -- does this modify nums?\n",
    "for n in nums:\n",
    "    n = n ** 2"
   ]
  },
  {
   "cell_type": "code",
   "execution_count": 56,
   "metadata": {
    "collapsed": false,
    "slideshow": {
     "slide_type": "fragment"
    }
   },
   "outputs": [
    {
     "name": "stdout",
     "output_type": "stream",
     "text": [
      "[1, 2, 45, 61.2]\n"
     ]
    }
   ],
   "source": [
    "print nums"
   ]
  },
  {
   "cell_type": "markdown",
   "metadata": {
    "slideshow": {
     "slide_type": "subslide"
    }
   },
   "source": [
    "This is all great, but one issue -- what if I need to know the index as I'm iterating? This is a very common use case in scientific programming. How can we do this in python? \n",
    "\n",
    "Enter the `enumerate` object. When wrapped like `enumerate(mylist)`, our iterable yields pairs of the index and value like `(ix, val)`."
   ]
  },
  {
   "cell_type": "code",
   "execution_count": 57,
   "metadata": {
    "collapsed": false,
    "slideshow": {
     "slide_type": "fragment"
    }
   },
   "outputs": [
    {
     "name": "stdout",
     "output_type": "stream",
     "text": [
      "(0, 1)\n",
      "(1, 2)\n",
      "(2, 45)\n",
      "(3, 61.2)\n"
     ]
    }
   ],
   "source": [
    "# for those with a python background, this will look odd\n",
    "# stay with me until tuples\n",
    "for pair in enumerate(nums):\n",
    "    print pair"
   ]
  },
  {
   "cell_type": "markdown",
   "metadata": {
    "slideshow": {
     "slide_type": "slide"
    }
   },
   "source": [
    "Let's shift gears for a second. We're going to learn about some interesting functions/abstraction paradigms that can be applied to lists.\n",
    "\n",
    "Suppose we have some data in a list, lets say we have measurements in inches and we want them in feet."
   ]
  },
  {
   "cell_type": "code",
   "execution_count": 59,
   "metadata": {
    "collapsed": false,
    "slideshow": {
     "slide_type": "subslide"
    }
   },
   "outputs": [
    {
     "name": "stdout",
     "output_type": "stream",
     "text": [
      "data (in) =  [14.0, 16.4, 33.2, 11.5, 9.01]\n",
      "data (ft) =  [1.1666666666666667, 1.3666666666666665, 2.766666666666667, 0.9583333333333334, 0.7508333333333334]\n"
     ]
    }
   ],
   "source": [
    "data = [14.0, 16.4, 33.2, 11.5, 9.01] # measurements in inches\n",
    "\n",
    "# -- lets be naive...\n",
    "\n",
    "data_feet = []\n",
    "for point in data:\n",
    "    # -- lets use a list function we learned about today\n",
    "    data_feet.append(point / 12.0) # 12in/ft\n",
    "\n",
    "print 'data (in) = ', data\n",
    "print 'data (ft) = ', data_feet\n"
   ]
  },
  {
   "cell_type": "markdown",
   "metadata": {
    "slideshow": {
     "slide_type": "fragment"
    }
   },
   "source": [
    "This is technically correct! However, this is writing C/C++/Java code in python...\n",
    "\n",
    "Lets make a key observation here -- the function that converts inches to feet is independent across each element of the list! Python allows us to use that notion with something called a `map(f, seq)`, where `f` is a function, and `seq` is some iterable. Semantically, calling `map` maps the value of each element of a list to the image under the function `f`."
   ]
  },
  {
   "cell_type": "code",
   "execution_count": 60,
   "metadata": {
    "collapsed": false,
    "slideshow": {
     "slide_type": "subslide"
    }
   },
   "outputs": [
    {
     "name": "stdout",
     "output_type": "stream",
     "text": [
      "data (in) =  [14.0, 16.4, 33.2, 11.5, 9.01]\n",
      "data (ft) =  [1.1666666666666667, 1.3666666666666665, 2.766666666666667, 0.9583333333333334, 0.7508333333333334]\n"
     ]
    }
   ],
   "source": [
    "def to_feet(inches):\n",
    "    return inches / 12.0\n",
    "\n",
    "data_feet = map(to_feet, data)\n",
    "\n",
    "print 'data (in) = ', data\n",
    "print 'data (ft) = ', data_feet"
   ]
  },
  {
   "cell_type": "markdown",
   "metadata": {
    "slideshow": {
     "slide_type": "fragment"
    }
   },
   "source": [
    "This is getting better! Though we can go one step more to make sure this is very pythonic. Recall lambda functions from earlier..."
   ]
  },
  {
   "cell_type": "code",
   "execution_count": 61,
   "metadata": {
    "collapsed": false,
    "slideshow": {
     "slide_type": "fragment"
    }
   },
   "outputs": [
    {
     "name": "stdout",
     "output_type": "stream",
     "text": [
      "data (in) =  [14.0, 16.4, 33.2, 11.5, 9.01]\n",
      "data (ft) =  [1.1666666666666667, 1.3666666666666665, 2.766666666666667, 0.9583333333333334, 0.7508333333333334]\n"
     ]
    }
   ],
   "source": [
    "data_feet = map(lambda x: x / 12.0, data)\n",
    "\n",
    "print 'data (in) = ', data\n",
    "print 'data (ft) = ', data_feet"
   ]
  },
  {
   "cell_type": "markdown",
   "metadata": {
    "slideshow": {
     "slide_type": "subslide"
    }
   },
   "source": [
    "Python provides us with similar functionality for *filtering* out elements subject to boolean conditions. \n",
    "\n",
    "Let's say we wanted to make sure we remove all data points that have a measurement less than 12in. How would we do this?"
   ]
  },
  {
   "cell_type": "code",
   "execution_count": 62,
   "metadata": {
    "collapsed": false,
    "slideshow": {
     "slide_type": "fragment"
    }
   },
   "outputs": [
    {
     "name": "stdout",
     "output_type": "stream",
     "text": [
      "data (in) =  [14.0, 16.4, 33.2, 11.5, 9.01]\n",
      "data (> 12in) [14.0, 16.4, 33.2]\n"
     ]
    }
   ],
   "source": [
    "data = [14.0, 16.4, 33.2, 11.5, 9.01] # measurements in inches\n",
    "\n",
    "# -- lets be naive...\n",
    "\n",
    "data_gt_12 = []\n",
    "for point in data:\n",
    "    # -- lets use a list function we learned about today\n",
    "    if point > 12:\n",
    "        data_gt_12.append(point) # 12in/ft\n",
    "\n",
    "print 'data (in) = ', data\n",
    "print 'data (> 12in)', data_gt_12"
   ]
  },
  {
   "cell_type": "code",
   "execution_count": 63,
   "metadata": {
    "collapsed": false,
    "slideshow": {
     "slide_type": "subslide"
    }
   },
   "outputs": [
    {
     "name": "stdout",
     "output_type": "stream",
     "text": [
      "data (in) =  [14.0, 16.4, 33.2, 11.5, 9.01]\n",
      "data (> 12in) =  [14.0, 16.4, 33.2]\n"
     ]
    }
   ],
   "source": [
    "# Let's use pythons `filter` function! Same form as `map`...\n",
    "\n",
    "data_gt_12 = filter(lambda x: x > 12.0, data)\n",
    "\n",
    "print 'data (in) = ', data\n",
    "print 'data (> 12in) = ', data_gt_12"
   ]
  },
  {
   "cell_type": "markdown",
   "metadata": {
    "slideshow": {
     "slide_type": "subslide"
    }
   },
   "source": [
    "Python offers us a *very* powerful and pythonic way to create lists/iterables, and perform map/filter operations on them -- called **list comprehension**"
   ]
  },
  {
   "cell_type": "markdown",
   "metadata": {
    "slideshow": {
     "slide_type": "fragment"
    }
   },
   "source": [
    "These statements are of the form:\n",
    "\n",
    "```python\n",
    "[f(x) for x in X if B(x)]\n",
    "```\n",
    "Where `X` is an iterable, `x` is the temporary value for iterating, `f` is our function to map (could be `f = lambda x: x` to do nothing) and `B` is a boolean statement that depends on `x`."
   ]
  },
  {
   "cell_type": "code",
   "execution_count": 42,
   "metadata": {
    "collapsed": false
   },
   "outputs": [
    {
     "name": "stdout",
     "output_type": "stream",
     "text": [
      "[0, 1, 4, 9, 16]\n"
     ]
    }
   ],
   "source": [
    "print [i**2 for i in range(5)]"
   ]
  },
  {
   "cell_type": "markdown",
   "metadata": {
    "slideshow": {
     "slide_type": "subslide"
    }
   },
   "source": [
    "lets go back to our data!"
   ]
  },
  {
   "cell_type": "code",
   "execution_count": 65,
   "metadata": {
    "collapsed": true,
    "slideshow": {
     "slide_type": "fragment"
    }
   },
   "outputs": [],
   "source": [
    "\n",
    "data = [14.0, 16.4, 33.2, 11.5, 9.01] # measurements in inches\n",
    "\n",
    "# extremely pythonic!\n",
    "data_feet = [x / 12.0 for x in data]\n",
    "data_gt_12 = [x for x in data if x > 12.0]"
   ]
  },
  {
   "cell_type": "code",
   "execution_count": null,
   "metadata": {
    "collapsed": true,
    "slideshow": {
     "slide_type": "subslide"
    }
   },
   "outputs": [],
   "source": [
    "# IN-CLASS: let's write `map` and `filter` ourselves using list comprehension!\n",
    "\n",
    "def our_map(f, seq):\n",
    "    # -- to implement\n",
    "    pass\n",
    "\n",
    "def our_filter(f, seq):\n",
    "    # -- to implement\n",
    "    pass"
   ]
  },
  {
   "cell_type": "code",
   "execution_count": null,
   "metadata": {
    "collapsed": false
   },
   "outputs": [],
   "source": [
    "# -- lets make sure our implementation matches the python standard!\n",
    "assert(our_map(lambda x: x**2, range(5)) == map(lambda x: x**2, range(5)))\n",
    "assert(our_filter(lambda x: x<3, range(5)) == filter(lambda x: x<3, range(5)))"
   ]
  },
  {
   "cell_type": "markdown",
   "metadata": {
    "slideshow": {
     "slide_type": "slide"
    }
   },
   "source": [
    "We're now very familiar with lists, how they work, and what one can do with them. Let's now look at some other data structures from standard python! Many of them derive a lot of qualities from lists, so learning them is significantly easier."
   ]
  },
  {
   "cell_type": "markdown",
   "metadata": {
    "slideshow": {
     "slide_type": "slide"
    }
   },
   "source": [
    "## Tuples\n",
    "\n",
    "Tuples are identical to lists except for one thing -- mutability. Let's look at some code!"
   ]
  },
  {
   "cell_type": "code",
   "execution_count": 68,
   "metadata": {
    "collapsed": false,
    "slideshow": {
     "slide_type": "subslide"
    }
   },
   "outputs": [
    {
     "name": "stdout",
     "output_type": "stream",
     "text": [
      "tup[0] = 1\n",
      "tup[-2:] = (3, 'luke')\n"
     ]
    }
   ],
   "source": [
    "tup = (1, 2, 3, 'luke')\n",
    "\n",
    "# tuples support indexing in the same way as lists!\n",
    "\n",
    "print 'tup[0] =', tup[0]\n",
    "print 'tup[-2:] =', tup[-2:]"
   ]
  },
  {
   "cell_type": "code",
   "execution_count": 69,
   "metadata": {
    "collapsed": false,
    "slideshow": {
     "slide_type": "subslide"
    }
   },
   "outputs": [
    {
     "ename": "TypeError",
     "evalue": "'tuple' object does not support item assignment",
     "output_type": "error",
     "traceback": [
      "\u001b[0;31m---------------------------------------------------------------------------\u001b[0m",
      "\u001b[0;31mTypeError\u001b[0m                                 Traceback (most recent call last)",
      "\u001b[0;32m<ipython-input-69-9bf2add3fd3e>\u001b[0m in \u001b[0;36m<module>\u001b[0;34m()\u001b[0m\n\u001b[1;32m      1\u001b[0m \u001b[0;31m# lets modify something!\u001b[0m\u001b[0;34m\u001b[0m\u001b[0;34m\u001b[0m\u001b[0m\n\u001b[0;32m----> 2\u001b[0;31m \u001b[0mtup\u001b[0m\u001b[0;34m[\u001b[0m\u001b[0;36m1\u001b[0m\u001b[0;34m]\u001b[0m \u001b[0;34m=\u001b[0m \u001b[0;36m9.8\u001b[0m\u001b[0;34m\u001b[0m\u001b[0m\n\u001b[0m",
      "\u001b[0;31mTypeError\u001b[0m: 'tuple' object does not support item assignment"
     ]
    }
   ],
   "source": [
    "# lets modify something!\n",
    "tup[1] = 9.8"
   ]
  },
  {
   "cell_type": "markdown",
   "metadata": {
    "slideshow": {
     "slide_type": "subslide"
    }
   },
   "source": [
    "Voilà! We have that tuples cannot be changed via their own interface, and are therefore *immutable*. Why would we care about this, and why could this be useful?\n",
    "\n",
    "There are some very weird behaviors, though, and one should be aware of them. Let's look at a tuple of lists..."
   ]
  },
  {
   "cell_type": "code",
   "execution_count": 70,
   "metadata": {
    "collapsed": false,
    "slideshow": {
     "slide_type": "subslide"
    }
   },
   "outputs": [
    {
     "name": "stdout",
     "output_type": "stream",
     "text": [
      "([1, 4], [1, 3, 4])\n"
     ]
    }
   ],
   "source": [
    "# lets make a list here\n",
    "a = [1, 3, 4]\n",
    "\n",
    "# and make a tuple of lists...\n",
    "tup = ([1, 4], a)\n",
    "print tup"
   ]
  },
  {
   "cell_type": "code",
   "execution_count": 71,
   "metadata": {
    "collapsed": false,
    "slideshow": {
     "slide_type": "fragment"
    }
   },
   "outputs": [
    {
     "name": "stdout",
     "output_type": "stream",
     "text": [
      "[16, 3, 4]\n"
     ]
    }
   ],
   "source": [
    "# lets modify the constituent list...\n",
    "a[0] = 16\n",
    "print a"
   ]
  },
  {
   "cell_type": "markdown",
   "metadata": {
    "slideshow": {
     "slide_type": "fragment"
    }
   },
   "source": [
    "what happens to the tuple?"
   ]
  },
  {
   "cell_type": "code",
   "execution_count": 73,
   "metadata": {
    "collapsed": false,
    "slideshow": {
     "slide_type": "fragment"
    }
   },
   "outputs": [
    {
     "data": {
      "text/plain": [
       "([1, 4], [16, 3, 4])"
      ]
     },
     "execution_count": 73,
     "metadata": {},
     "output_type": "execute_result"
    }
   ],
   "source": [
    "tup"
   ]
  },
  {
   "cell_type": "markdown",
   "metadata": {
    "slideshow": {
     "slide_type": "subslide"
    }
   },
   "source": [
    "Tuples/lists allow for a very convenient thing called *unpacking*"
   ]
  },
  {
   "cell_type": "code",
   "execution_count": 74,
   "metadata": {
    "collapsed": false,
    "slideshow": {
     "slide_type": "fragment"
    }
   },
   "outputs": [
    {
     "name": "stdout",
     "output_type": "stream",
     "text": [
      "X = 9, X ** 2 = 81\n"
     ]
    }
   ],
   "source": [
    "tup = (3.3, 4.0, 7.1)\n",
    "\n",
    "# -- unpack the values into variables (containers!)\n",
    "x, y, z = tup\n",
    "\n",
    "# this also works for functions!\n",
    "\n",
    "def fancy_func(x):\n",
    "    return x, x**2\n",
    "\n",
    "X, Xsq = fancy_func(9)\n",
    "\n",
    "print 'X = {}, X ** 2 = {}'.format(X, Xsq)"
   ]
  },
  {
   "cell_type": "markdown",
   "metadata": {
    "slideshow": {
     "slide_type": "slide"
    }
   },
   "source": [
    "## Dictionaries"
   ]
  },
  {
   "cell_type": "markdown",
   "metadata": {
    "slideshow": {
     "slide_type": "fragment"
    }
   },
   "source": [
    "A dictionary is a collection of key-value pairs. It is an *associative array*"
   ]
  },
  {
   "cell_type": "markdown",
   "metadata": {
    "slideshow": {
     "slide_type": "fragment"
    }
   },
   "source": [
    "An example: the keys are all words in the English language, and their corresponding values are the meanings."
   ]
  },
  {
   "cell_type": "markdown",
   "metadata": {
    "slideshow": {
     "slide_type": "fragment"
    }
   },
   "source": [
    "Lists + Dictionaries = $$$"
   ]
  },
  {
   "cell_type": "markdown",
   "metadata": {
    "slideshow": {
     "slide_type": "subslide"
    }
   },
   "source": [
    "two main methods of creating dictionaries..."
   ]
  },
  {
   "cell_type": "code",
   "execution_count": 45,
   "metadata": {
    "collapsed": false,
    "slideshow": {
     "slide_type": "fragment"
    }
   },
   "outputs": [
    {
     "name": "stdout",
     "output_type": "stream",
     "text": [
      "d = {1: 'one', 2: 'two'}\n"
     ]
    }
   ],
   "source": [
    "# method 1\n",
    "d = {}\n",
    "d[1] = \"one\"\n",
    "d[2] = \"two\"\n",
    "\n",
    "print 'd =', d"
   ]
  },
  {
   "cell_type": "code",
   "execution_count": 75,
   "metadata": {
    "collapsed": false,
    "slideshow": {
     "slide_type": "fragment"
    }
   },
   "outputs": [
    {
     "name": "stdout",
     "output_type": "stream",
     "text": [
      "d = {1: 'one', 2: 'two'}\n",
      "e = {1: 'one', 'hello': True}\n"
     ]
    }
   ],
   "source": [
    "# method 2\n",
    "e = {1: 'one', 'hello': True}\n",
    "print 'e =', e"
   ]
  },
  {
   "cell_type": "markdown",
   "metadata": {
    "slideshow": {
     "slide_type": "fragment"
    }
   },
   "source": [
    "Note that we can have *mixed types*. We have only one restriction on dictionaries -- the keys of a dictionary must be **immutable**"
   ]
  },
  {
   "cell_type": "code",
   "execution_count": 76,
   "metadata": {
    "collapsed": false,
    "slideshow": {
     "slide_type": "subslide"
    }
   },
   "outputs": [
    {
     "ename": "TypeError",
     "evalue": "unhashable type: 'list'",
     "output_type": "error",
     "traceback": [
      "\u001b[0;31m---------------------------------------------------------------------------\u001b[0m",
      "\u001b[0;31mTypeError\u001b[0m                                 Traceback (most recent call last)",
      "\u001b[0;32m<ipython-input-76-a12f4de0f257>\u001b[0m in \u001b[0;36m<module>\u001b[0;34m()\u001b[0m\n\u001b[1;32m      2\u001b[0m \u001b[0;34m\u001b[0m\u001b[0m\n\u001b[1;32m      3\u001b[0m \u001b[0;31m# -- error\u001b[0m\u001b[0;34m\u001b[0m\u001b[0;34m\u001b[0m\u001b[0m\n\u001b[0;32m----> 4\u001b[0;31m \u001b[0md\u001b[0m \u001b[0;34m=\u001b[0m \u001b[0;34m{\u001b[0m\u001b[0ml\u001b[0m \u001b[0;34m:\u001b[0m \u001b[0;36m4\u001b[0m\u001b[0;34m}\u001b[0m\u001b[0;34m\u001b[0m\u001b[0m\n\u001b[0m",
      "\u001b[0;31mTypeError\u001b[0m: unhashable type: 'list'"
     ]
    }
   ],
   "source": [
    "l = [1, 2, 3]\n",
    "\n",
    "# -- error\n",
    "d = {l : 4}"
   ]
  },
  {
   "cell_type": "markdown",
   "metadata": {
    "slideshow": {
     "slide_type": "subslide"
    }
   },
   "source": [
    "Keys to dictionaries must be unique! Old values get overwritten..."
   ]
  },
  {
   "cell_type": "code",
   "execution_count": 77,
   "metadata": {
    "collapsed": false,
    "slideshow": {
     "slide_type": "fragment"
    }
   },
   "outputs": [
    {
     "name": "stdout",
     "output_type": "stream",
     "text": [
      "d = {'luke': 'instructor', 'joe': 'student'}\n",
      "d = {'luke': 'grad student', 'joe': 'student'}\n"
     ]
    }
   ],
   "source": [
    "d = {'luke' : 'instructor', 'joe' : 'student'}\n",
    "print 'd =', d \n",
    "\n",
    "d['luke'] = 'grad student'\n",
    "print 'd =', d"
   ]
  },
  {
   "cell_type": "markdown",
   "metadata": {
    "slideshow": {
     "slide_type": "subslide"
    }
   },
   "source": [
    "There is a conceptually important note about dictionaries -- you can access values by their keys, but *not* the other way around! This is because values can be *mutable*."
   ]
  },
  {
   "cell_type": "markdown",
   "metadata": {
    "slideshow": {
     "slide_type": "subslide"
    }
   },
   "source": [
    "Lets look at a dictionary with some more interesting data"
   ]
  },
  {
   "cell_type": "code",
   "execution_count": 46,
   "metadata": {
    "collapsed": true,
    "slideshow": {
     "slide_type": "fragment"
    }
   },
   "outputs": [],
   "source": [
    "laptop = {\n",
    "    'make' : 'apple', \n",
    "    'model' : 'MacBook Pro',\n",
    "    'screen_size' : (15, 'in'),\n",
    "    'age' : (3, 'yrs'),\n",
    "    'memory' : (16, 'GB'),\n",
    "    'storage' : (2, 'TB')\n",
    "}"
   ]
  },
  {
   "cell_type": "code",
   "execution_count": 47,
   "metadata": {
    "collapsed": false,
    "slideshow": {
     "slide_type": "fragment"
    }
   },
   "outputs": [
    {
     "name": "stdout",
     "output_type": "stream",
     "text": [
      "keys:\n",
      "['age', 'screen_size', 'storage', 'memory', 'model', 'make']\n",
      "values:\n",
      "[(3, 'yrs'), (15, 'in'), (2, 'TB'), (16, 'GB'), 'MacBook Pro', 'apple']\n",
      "We know the laptop model\n"
     ]
    }
   ],
   "source": [
    "print 'keys:'\n",
    "print laptop.keys()\n",
    "print 'values:'\n",
    "print laptop.values()\n",
    "\n",
    "if 'model' in laptop.keys():\n",
    "    print 'We know the laptop model'"
   ]
  },
  {
   "cell_type": "code",
   "execution_count": 48,
   "metadata": {
    "collapsed": false,
    "slideshow": {
     "slide_type": "subslide"
    }
   },
   "outputs": [
    {
     "name": "stdout",
     "output_type": "stream",
     "text": [
      "Field #1: age = (3, 'yrs')\n",
      "Field #2: screen_size = (15, 'in')\n",
      "Field #3: storage = (2, 'TB')\n",
      "Field #4: memory = (16, 'GB')\n",
      "Field #5: model = MacBook Pro\n",
      "Field #6: make = apple\n"
     ]
    }
   ],
   "source": [
    "# lets combine enumeration, looping, and unpacking!\n",
    "\n",
    "for i, (k, v) in enumerate(laptop.iteritems()):\n",
    "    print 'Field #{}: {} = {}'.format(i + 1, k, v)"
   ]
  },
  {
   "cell_type": "markdown",
   "metadata": {
    "slideshow": {
     "slide_type": "subslide"
    }
   },
   "source": [
    "Dictionaries also offer comprehension!\n",
    "\n",
    "Dictionary comprehension allows us to do pythonic dictionary creation!"
   ]
  },
  {
   "cell_type": "code",
   "execution_count": 81,
   "metadata": {
    "collapsed": false,
    "slideshow": {
     "slide_type": "fragment"
    }
   },
   "outputs": [
    {
     "name": "stdout",
     "output_type": "stream",
     "text": [
      "{'luke': 23, 'rob': 44, 'sally': 32, 'jen': 25}\n"
     ]
    }
   ],
   "source": [
    "people = ['luke', 'rob', 'sally', 'jen']\n",
    "ages = [23, 44, 32, 25]\n",
    "d = {name: age for (name, age) in zip(people, ages)}\n",
    "\n",
    "print d"
   ]
  },
  {
   "cell_type": "markdown",
   "metadata": {
    "slideshow": {
     "slide_type": "slide"
    }
   },
   "source": [
    "## Sets"
   ]
  },
  {
   "cell_type": "markdown",
   "metadata": {
    "slideshow": {
     "slide_type": "fragment"
    }
   },
   "source": [
    "Our final data structure is the *Set*. Think of this exactly like the mathematical definition! An *unordered* collection of unique elements"
   ]
  },
  {
   "cell_type": "code",
   "execution_count": 49,
   "metadata": {
    "collapsed": false,
    "slideshow": {
     "slide_type": "subslide"
    }
   },
   "outputs": [
    {
     "name": "stdout",
     "output_type": "stream",
     "text": [
      "set(['orange', 'pear', 'apple', 'banana'])\n"
     ]
    }
   ],
   "source": [
    "basket = ['apple', 'orange', 'apple', 'pear', 'orange', 'banana', 'apple'] # notice the duplicates!\n",
    "fruit = set(basket)\n",
    "print fruit"
   ]
  },
  {
   "cell_type": "markdown",
   "metadata": {
    "slideshow": {
     "slide_type": "subslide"
    }
   },
   "source": [
    "Sets have very fast membership access..."
   ]
  },
  {
   "cell_type": "code",
   "execution_count": 58,
   "metadata": {
    "collapsed": false,
    "slideshow": {
     "slide_type": "fragment"
    }
   },
   "outputs": [
    {
     "name": "stdout",
     "output_type": "stream",
     "text": [
      "We have oranges\n"
     ]
    }
   ],
   "source": [
    "if 'orange' in fruit:\n",
    "    print 'We have oranges'"
   ]
  },
  {
   "cell_type": "markdown",
   "metadata": {
    "collapsed": false,
    "slideshow": {
     "slide_type": "fragment"
    }
   },
   "source": [
    "You can of this like a dictionary with only keys!"
   ]
  },
  {
   "cell_type": "markdown",
   "metadata": {
    "slideshow": {
     "slide_type": "subslide"
    }
   },
   "source": [
    "We also have set comprehension!"
   ]
  },
  {
   "cell_type": "code",
   "execution_count": 51,
   "metadata": {
    "collapsed": false,
    "slideshow": {
     "slide_type": "fragment"
    }
   },
   "outputs": [
    {
     "name": "stdout",
     "output_type": "stream",
     "text": [
      "set(['orange', 'apple', 'banana'])\n"
     ]
    }
   ],
   "source": [
    "fruit = {item for item in basket if item != 'pear'}\n",
    "print fruit"
   ]
  },
  {
   "cell_type": "markdown",
   "metadata": {
    "slideshow": {
     "slide_type": "slide"
    }
   },
   "source": [
    "# Questions?"
   ]
  },
  {
   "cell_type": "markdown",
   "metadata": {
    "slideshow": {
     "slide_type": "slide"
    }
   },
   "source": [
    "# Next time..."
   ]
  },
  {
   "cell_type": "markdown",
   "metadata": {
    "slideshow": {
     "slide_type": "fragment"
    }
   },
   "source": [
    "... Numpy and Scipy! See you 4/12!"
   ]
  }
 ],
 "metadata": {
  "celltoolbar": "Slideshow",
  "kernelspec": {
   "display_name": "Python 2",
   "language": "python",
   "name": "python2"
  },
  "language_info": {
   "codemirror_mode": {
    "name": "ipython",
    "version": 2
   },
   "file_extension": ".py",
   "mimetype": "text/x-python",
   "name": "python",
   "nbconvert_exporter": "python",
   "pygments_lexer": "ipython2",
   "version": "2.7.10"
  },
  "name": "_merged"
 },
 "nbformat": 4,
 "nbformat_minor": 0
}
