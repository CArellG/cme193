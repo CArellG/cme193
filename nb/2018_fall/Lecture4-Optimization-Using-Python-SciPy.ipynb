{
 "cells": [
  {
   "cell_type": "markdown",
   "metadata": {},
   "source": [
    "# Lecture 4: Optimization Using Python - SciPy"
   ]
  },
  {
   "cell_type": "markdown",
   "metadata": {},
   "source": [
    "In this lecture / tutorial, we will learn how to solve some simple optimization problems using Python, focusing on the specific optimization library ```scipy.optimize```.\n",
    "\n",
    "***\n",
    "## Learning goals\n",
    "- Obtain an overview of optimization problems that can be easily solved using SciPy.\n",
    "- Learn the syntax to solve some simple optimization problems using SciPy\n",
    "- Test your understanding by solving a few of the practice problems in each section."
   ]
  },
  {
   "cell_type": "markdown",
   "metadata": {},
   "source": [
    "***\n",
    "# Prerequisites for running this notebook\n",
    "\n",
    "You should have Python 3.6 installed on your computer, with all necessary packages installed.\n",
    "\n",
    "We recommend that you install Anaconda (Python 3.6 version) from the following links depending on your OS:\n",
    "- For Windows: https://www.anaconda.com/download/#windows\n",
    "- For macOS: https://www.anaconda.com/download/#macos\n",
    "- For Linux: https://www.anaconda.com/download/#linux\n",
    "\n",
    "**If you are not using Anaconda, it is your responsibility to make sure that Python and all necessary packages are correctly installed and configured to be able to run this notebook.**\n",
    "\n",
    "***\n",
    "\n",
    "Once Anaconda is installed, open a **Terminal** (if you are using macOS / Linux), or **Anaconda Prompt** (if you are using Windows), and then create a new Python environment called **cme193**, by running the following command:<br>\n",
    "> ```conda create -n cme193 python=3.6```\n",
    "\n",
    "Next, change to the newly created virtual environment by running the command:\n",
    "\n",
    "On Windows\n",
    "> ```activate cme193``` <br>\n",
    "\n",
    "On macOS or Linux\n",
    "> ```source activate cme193```\n",
    "\n",
    "Next install all the necessary packages by running the following commands:\n",
    "\n",
    "> ```conda install nb_conda``` <br>\n",
    "> ```conda install -c anaconda scipy``` <br>\n",
    "> ```conda install -c conda-forge matplotlib``` <br>\n",
    "\n",
    "Now navigate to the directory containing this .ipynb file, from inside the terminal, and start jupyter notebook by typing the following command:\n",
    "> ```jupyter notebook```\n",
    "\n",
    "You should now be able to launch the .ipynb file from the browser. For more information on jupyter notebooks, read the <a href=\"https://jupyter-notebook.readthedocs.io/en/stable/notebook.html\" style=\"text-decoration: none;\">user documentation</a>."
   ]
  },
  {
   "cell_type": "markdown",
   "metadata": {},
   "source": [
    "***\n",
    "# 1. Introduction to scipy.optimize\n",
    "\n",
    "In this section we will learn how to solve some simple optimization problems using ```scipy```. The ```scipy.optimize``` package already gives us a lot of basic tools to solve a wide variety of important optimization problems. For more information please read the <a href=\"https://docs.scipy.org/doc/scipy/reference/tutorial/optimize.html\" style=\"text-decoration: none;\">documentation</a>.\n",
    "\n",
    "We can import the module as follows (henceforth to be referred to as ```sciopt```). We also import some other modules we will use in this notebook."
   ]
  },
  {
   "cell_type": "code",
   "execution_count": 1,
   "metadata": {},
   "outputs": [],
   "source": [
    "import scipy.optimize as sciopt\n",
    "import numpy as np\n",
    "import matplotlib.pyplot as plt"
   ]
  },
  {
   "cell_type": "markdown",
   "metadata": {},
   "source": [
    "***\n",
    "## 1.1 Solving a linear program\n",
    "\n",
    "The first example we will look at is that of solving a **linear program (LP)**. A linear program is any optimization problem of the following form:\n",
    "\n",
    "$$\n",
    "\\begin{equation}\n",
    "\\begin{split}\n",
    "\\text{minimize} \\;\\; & c^{T}x  \\\\\n",
    "\\text{subject to} \\;\\; & A_{ub}x \\leq b_{ub} \\\\\n",
    "& A_{eq}x = b_{eq}\n",
    "\\end{split}\n",
    "\\end{equation}\n",
    "$$\n",
    "\n",
    "where $c, x \\in \\mathbb{R}^n$, $A_{ub} \\in \\mathbb{R}^{m \\times n}$, $A_{eq} \\in \\mathbb{R}^{p \\times n}$, $b_{ub} \\in \\mathbb{R}^{m}$, and $b_{eq} \\in \\mathbb{R}^{p}$. It should be noted that all LP can be put in this form.\n",
    "\n",
    "```scipy.optimize``` provides a simple function ```scipy.optimize.linprog``` to solve such problems, which is documented <a href=\"https://docs.scipy.org/doc/scipy-0.15.1/reference/generated/scipy.optimize.linprog.html#scipy.optimize.linprog\" style=\"text-decoration: none;\">here</a>. Currently, the only available algorithm that is implemented are the **simplex method**, and the **interior point method**. We will demonstrate its usage using a few examples."
   ]
  },
  {
   "cell_type": "markdown",
   "metadata": {},
   "source": [
    "***\n",
    "### Example 1.1.1\n",
    "Let us consider the problem\n",
    "\n",
    "$$\n",
    "\\begin{equation}\n",
    "\\begin{split}\n",
    "\\text{minimize} \\;\\; & x_1 + 2 x_2  \\\\\n",
    "\\text{subject to} \\;\\; & x_1 \\leq 1 \\\\\n",
    "& 5 x_1 + x_2 \\geq 0\n",
    "\\end{split}\n",
    "\\end{equation}\n",
    "$$\n",
    "\n",
    "In order to solve it, we first need to transform it to the form that ```scipy.optimize.linprog``` requires. The problem is clearly equivalent to\n",
    "\n",
    "$$\n",
    "\\begin{equation}\n",
    "\\begin{split}\n",
    "\\text{minimize} \\;\\; & x_1 + 2 x_2  \\\\\n",
    "\\text{subject to} \\;\\; & x_1 \\leq 1 \\\\\n",
    "& -5 x_1 - x_2 \\leq 0\n",
    "\\end{split}\n",
    "\\end{equation}\n",
    "$$\n",
    "\n",
    "The following Python code then solves this problem."
   ]
  },
  {
   "cell_type": "code",
   "execution_count": 2,
   "metadata": {},
   "outputs": [],
   "source": [
    "# Define problem parameters\n",
    "c = [1, 2]\n",
    "A_ub = [[1, 0], [-5, -1]]\n",
    "b_ub = [1, 0]\n",
    "bounds = ((None, None), (None, None))\n",
    "\n",
    "# Solve the LP\n",
    "result = sciopt.linprog(c=c, A_ub=A_ub, b_ub=b_ub, bounds=bounds)"
   ]
  },
  {
   "cell_type": "code",
   "execution_count": 3,
   "metadata": {
    "scrolled": true
   },
   "outputs": [
    {
     "name": "stdout",
     "output_type": "stream",
     "text": [
      "     fun: -9.000000000000004\n",
      " message: 'Optimization terminated successfully.'\n",
      "     nit: 2\n",
      "   slack: array([0., 0.])\n",
      "  status: 0\n",
      " success: True\n",
      "       x: array([ 1., -5.])\n"
     ]
    }
   ],
   "source": [
    "# Print the result\n",
    "print(result)"
   ]
  },
  {
   "cell_type": "markdown",
   "metadata": {},
   "source": [
    "***\n",
    "Notice that we must explicitly set the ```bounds``` parameter in the above problem. If we don't pass this parameter, the default assumption is that the variables are non-negative.\n",
    "\n",
    "You can additionally pass the parameter ```options={\"disp\": True}``` to print convergence messages from the solver. **Solver method specific parameters can also be passed as optional parameters in** ```options```."
   ]
  },
  {
   "cell_type": "code",
   "execution_count": 4,
   "metadata": {
    "scrolled": true
   },
   "outputs": [
    {
     "name": "stdout",
     "output_type": "stream",
     "text": [
      "Optimization terminated successfully.\n",
      "         Current function value: -9.000000   \n",
      "         Iterations: 2\n"
     ]
    }
   ],
   "source": [
    "# Solve the LP and print convergence messages\n",
    "result = sciopt.linprog(c=c, A_ub=A_ub, b_ub=b_ub, bounds=bounds, options={\"disp\": True})"
   ]
  },
  {
   "cell_type": "code",
   "execution_count": 5,
   "metadata": {},
   "outputs": [
    {
     "name": "stdout",
     "output_type": "stream",
     "text": [
      "Optimal solution: x1 =  1.0 , x2 =  -5.000000000000002\n",
      "Optimal value =  -9.000000000000004\n"
     ]
    }
   ],
   "source": [
    "# Extract the solution and print it\n",
    "obj_optimal = result['fun']\n",
    "x = result['x']\n",
    "print(\"Optimal solution: x1 = \", x[0], \", x2 = \", x[1])\n",
    "print(\"Optimal value = \", obj_optimal)"
   ]
  },
  {
   "cell_type": "markdown",
   "metadata": {},
   "source": [
    "***\n",
    "### Example 1.1.2\n",
    "Let us change the problem by adding an equality constraint\n",
    "\n",
    "$$\n",
    "\\begin{equation}\n",
    "\\begin{split}\n",
    "\\text{minimize} \\;\\; & x_1 + 2 x_2  \\\\\n",
    "\\text{subject to} \\;\\; & x_1 \\leq 1 \\\\\n",
    "& 5 x_1 + x_2 \\geq 0 \\\\\n",
    "& x_1 + x_2 = 3.\n",
    "\\end{split}\n",
    "\\end{equation}\n",
    "$$\n",
    "\n",
    "In order to solve it, we first need to transform it to the form that ```scipy.optimize.linprog``` requires. The problem is clearly equivalent to\n",
    "\n",
    "$$\n",
    "\\begin{equation}\n",
    "\\begin{split}\n",
    "\\text{minimize} \\;\\; & x_1 + 2 x_2  \\\\\n",
    "\\text{subject to} \\;\\; & x_1 \\leq 1 \\\\\n",
    "& -5 x_1 - x_2 \\leq 0 \\\\\n",
    "& x_1 + x_2 = 3.\n",
    "\\end{split}\n",
    "\\end{equation}\n",
    "$$\n",
    "\n",
    "The following Python code then solves this problem."
   ]
  },
  {
   "cell_type": "code",
   "execution_count": 6,
   "metadata": {},
   "outputs": [
    {
     "name": "stdout",
     "output_type": "stream",
     "text": [
      "Solving the LP\n",
      "Optimization terminated successfully.\n",
      "         Current function value: 5.000000    \n",
      "         Iterations: 2\n",
      "\n",
      "\n",
      "Optimal solution: x1 =  1.0 , x2 =  2.0\n",
      "Optimal value =  5.0\n"
     ]
    }
   ],
   "source": [
    "# Define problem parameters\n",
    "c = [1, 2]\n",
    "A_ub = [[1, 0], [-5, -1]]\n",
    "b_ub = [1, 0]\n",
    "A_eq = [[1, 1]]\n",
    "b_eq = [3]\n",
    "bounds = ((None, None), (None, None))\n",
    "\n",
    "# Solve the LP\n",
    "print(\"Solving the LP\")\n",
    "result = sciopt.linprog(c=c, A_ub=A_ub, b_ub=b_ub, A_eq=A_eq, b_eq=b_eq, bounds=bounds, options={\"disp\": True})\n",
    "\n",
    "# Extract the solution and print it\n",
    "obj_optimal = result['fun']\n",
    "x = result['x']\n",
    "print(\"\\n\")\n",
    "print(\"Optimal solution: x1 = \", x[0], \", x2 = \", x[1])\n",
    "print(\"Optimal value = \", obj_optimal)"
   ]
  },
  {
   "cell_type": "markdown",
   "metadata": {},
   "source": [
    "#### Alternate way of solving the problem\n",
    "Notice that the inequality constraint ```x1 <= 1``` is a **bound constraint**. Hence, an alternate way to solve **Example 1.1.2** is as follows:"
   ]
  },
  {
   "cell_type": "code",
   "execution_count": 7,
   "metadata": {},
   "outputs": [
    {
     "name": "stdout",
     "output_type": "stream",
     "text": [
      "Solving the LP\n",
      "Optimization terminated successfully.\n",
      "         Current function value: 5.000000    \n",
      "         Iterations: 2\n",
      "\n",
      "\n",
      "Optimal solution: x1 =  1.0 , x2 =  2.0\n",
      "Optimal value =  5.0\n"
     ]
    }
   ],
   "source": [
    "# Define problem parameters\n",
    "c = [1, 2]\n",
    "A_ub = [[-5, -1]]\n",
    "b_ub = [0]\n",
    "A_eq = [[1, 1]]\n",
    "b_eq = [3]\n",
    "bounds = ((None, 1), (None, None))\n",
    "\n",
    "# Solve the LP\n",
    "print(\"Solving the LP\")\n",
    "result = sciopt.linprog(c=c, A_ub=A_ub, b_ub=b_ub, A_eq=A_eq, b_eq=b_eq, bounds=bounds, options={\"disp\": True})\n",
    "\n",
    "# Extract the solution and print it\n",
    "obj_optimal = result['fun']\n",
    "x = result['x']\n",
    "print(\"\\n\")\n",
    "print(\"Optimal solution: x1 = \", x[0], \", x2 = \", x[1])\n",
    "print(\"Optimal value = \", obj_optimal)"
   ]
  },
  {
   "cell_type": "markdown",
   "metadata": {},
   "source": [
    "***\n",
    "### Example 1.1.3\n",
    "Some special problems can be reduced to a LP. Consider the following optimization problem\n",
    "\n",
    "$$\n",
    "\\begin{equation}\n",
    "\\begin{split}\n",
    "\\text{minimize} \\;\\; & x_1 + 2 x_2 - 3 x_3  \\\\\n",
    "\\text{subject to} \\;\\; & |x_1| \\leq 1 \\\\\n",
    "& |x_2| \\leq 2 \\\\\n",
    "& |x_3| \\leq 1 \\\\\n",
    "& x_1 + x_2 + x_3 = 1.\n",
    "\\end{split}\n",
    "\\end{equation}\n",
    "$$\n",
    "\n",
    "But this is just equivalent to\n",
    "\n",
    "$$\n",
    "\\begin{equation}\n",
    "\\begin{split}\n",
    "\\text{minimize} \\;\\; & x_1 + 2 x_2 - 3 x_3  \\\\\n",
    "\\text{subject to} \\;\\; & -1 \\leq x_1 \\leq 1 \\\\\n",
    "& -2 \\leq x_2 \\leq 2 \\\\\n",
    "& -1 \\leq x_3 \\leq 1 \\\\\n",
    "& x_1 + x_2 + x_3 = 1.\n",
    "\\end{split}\n",
    "\\end{equation}\n",
    "$$\n",
    "\n",
    "The following Python code then solves this problem."
   ]
  },
  {
   "cell_type": "code",
   "execution_count": 8,
   "metadata": {},
   "outputs": [
    {
     "name": "stdout",
     "output_type": "stream",
     "text": [
      "Solving the LP\n",
      "Primal Feasibility  Dual Feasibility    Duality Gap         Step             Path Parameter      Objective          \n",
      "1.0                 1.0                 1.0                 -                1.0                 -2.0                \n",
      "0.2580267693811     0.2580267693811     0.2580267693811     0.7472714508774  0.2580267693811     -4.874990060633     \n",
      "0.02400575024644    0.02400575024644    0.02400575024644    0.9172681112386  0.02400575024644    -3.930935041508     \n",
      "0.0001908759146977  0.0001908759145871  0.0001908759145884  0.9958556392802  0.0001908759146894  -4.001229925194     \n",
      "9.555359004043e-09  9.555359095733e-09  9.555358282398e-09  0.9999499421812  9.555358866709e-09  -4.000000061479     \n",
      "4.773407186698e-13  4.778634535547e-13  4.776179451937e-13  0.9999499968491  4.777679471601e-13  -4.000000000003     \n",
      "Optimization terminated successfully.\n",
      "\n",
      "\n",
      "Optimal solution: x1 =  0.9999999999999634 , x2 =  -1.0000000000018114 , x3 =  0.9999999999998039\n",
      "Optimal value =  -4.000000000003071\n"
     ]
    }
   ],
   "source": [
    "# Define problem parameters\n",
    "c = [1, 2, -3]\n",
    "A_eq = [[1, 1, 1]]\n",
    "b_eq = [1]\n",
    "bounds = ((-1, 1), (-2, 2), (-1, 1))\n",
    "\n",
    "# Solve the LP\n",
    "print(\"Solving the LP\")\n",
    "result = sciopt.linprog(c=c, A_eq=A_eq, b_eq=b_eq, bounds=bounds, method=\"interior-point\", options={\"disp\": True})\n",
    "\n",
    "# Extract the solution and print it\n",
    "obj_optimal = result['fun']\n",
    "x = result['x']\n",
    "print(\"\\n\")\n",
    "print(\"Optimal solution: x1 = \", x[0], \", x2 = \", x[1], \", x3 = \", x[2])\n",
    "print(\"Optimal value = \", obj_optimal)"
   ]
  },
  {
   "cell_type": "markdown",
   "metadata": {},
   "source": [
    "***\n",
    "### Example 1.1.4\n",
    "Here is another interesting example. Consider the following optimization problem\n",
    "\n",
    "$$\n",
    "\\begin{equation}\n",
    "\\begin{split}\n",
    "\\text{minimize} \\;\\; & \\max \\{|x_1|, |x_2|, |x_3|\\}  \\\\\n",
    "\\text{subject to} \\;\\; & x_1 + x_2 + x_3 \\geq 1.\n",
    "\\end{split}\n",
    "\\end{equation}\n",
    "$$\n",
    "\n",
    "It is easy to show that this problem is equivalent to the problem (this is called the **epigraph form** of the problem)\n",
    "\n",
    "$$\n",
    "\\begin{equation}\n",
    "\\begin{split}\n",
    "\\text{minimize} \\;\\; & s  \\\\\n",
    "\\text{subject to} \\;\\; & |x_1| \\leq s \\\\\n",
    "& |x_2| \\leq s \\\\\n",
    "& |x_3| \\leq s \\\\\n",
    "& s \\geq 0 \\\\\n",
    "& x_1 + x_2 + x_3 \\geq 1\n",
    "\\end{split}\n",
    "\\end{equation}\n",
    "$$\n",
    "\n",
    "where the minimization is now over the variables $x_1, x_2, x_3,$ and $s$.\n",
    "\n",
    "As before we need to change this problem into a form that is suitable for ```scipy.optimize.linprog```. The problem can be written equivalently as\n",
    "\n",
    "$$\n",
    "\\begin{equation}\n",
    "\\begin{split}\n",
    "\\text{minimize} \\;\\; & s  \\\\\n",
    "\\text{subject to} \\;\\; & x_1 - s \\leq 0 \\\\\n",
    "& x_2 - s \\leq 0 \\\\\n",
    "& x_3 - s \\leq 0 \\\\\n",
    "& - x_1 - s \\leq 0 \\\\\n",
    "& - x_2 - s \\leq 0 \\\\\n",
    "& - x_3 - s \\leq 0 \\\\\n",
    "& - x_1 - x_2 - x_3 \\leq -1 \\\\\n",
    "& s \\geq 0 .\n",
    "\\end{split}\n",
    "\\end{equation}\n",
    "$$\n",
    "\n",
    "The following Python code then solves this problem."
   ]
  },
  {
   "cell_type": "code",
   "execution_count": 9,
   "metadata": {},
   "outputs": [
    {
     "name": "stdout",
     "output_type": "stream",
     "text": [
      "Solving the LP\n",
      "Primal Feasibility  Dual Feasibility    Duality Gap         Step             Path Parameter      Objective          \n",
      "1.0                 1.0                 1.0                 -                1.0                 1.0                 \n",
      "0.1929160231033     0.1929160231033     0.1929160231033     0.8097074289665  0.1929160231033     0.7308257137377     \n",
      "0.006450902537359   0.006450902537359   0.006450902537359   0.9797701682345  0.006450902537359   0.3336302680012     \n",
      "3.775130950068e-07  3.775130944228e-07  3.775130943962e-07  0.9999416764449  3.775130944919e-07  0.3333334186219     \n",
      "1.887590085209e-11  1.887565983396e-11  1.887567879777e-11  0.9999499999434  1.887566346212e-11  0.3333333333376     \n",
      "Optimization terminated successfully.\n",
      "\n",
      "\n",
      "Optimal solution: x1 =  0.3333333333374885 , x2 =  0.33333333333748894 , x3 =  0.3333333333374887 , s =  0.3333333333375978\n",
      "Optimal value =  0.3333333333375978\n"
     ]
    }
   ],
   "source": [
    "# Define problem parameters\n",
    "c = [0, 0, 0, 1]\n",
    "A_ub = [[1, 0, 0, -1], [0, 1, 0, -1], [0, 0, 1, -1], [-1, 0, 0, -1], [0, -1, 0, -1], [0, 0, -1, -1], [-1, -1, -1, 0]]\n",
    "b_ub = [0, 0, 0, 0, 0, 0, -1]\n",
    "bounds = ((None, None), (None, None),(None, None), (0, None))\n",
    "\n",
    "# Solve the LP\n",
    "print(\"Solving the LP\")\n",
    "result = sciopt.linprog(c=c, A_ub=A_ub, b_ub=b_ub, bounds=bounds, method=\"interior-point\", options={\"disp\": True})\n",
    "\n",
    "# Extract the solution and print it\n",
    "obj_optimal = result['fun']\n",
    "x = result['x']\n",
    "print(\"\\n\")\n",
    "print(\"Optimal solution: x1 = \", x[0], \", x2 = \", x[1], \", x3 = \", x[2], \", s = \", x[3])\n",
    "print(\"Optimal value = \", obj_optimal)"
   ]
  },
  {
   "cell_type": "markdown",
   "metadata": {},
   "source": [
    "***\n",
    "### Exercise 1.1.1\n",
    "Compare the efficiency of the **simplex method** and the **interior point method** at solving linear programs, by generating some random LPs, and then solving them using both options. Plot the timing results as a function of problem size."
   ]
  },
  {
   "cell_type": "code",
   "execution_count": 10,
   "metadata": {},
   "outputs": [],
   "source": [
    "# Write your solution here"
   ]
  },
  {
   "cell_type": "markdown",
   "metadata": {},
   "source": [
    "***\n",
    "## 1.2 Minimum weight matching in bipartite graphs\n",
    "\n",
    "Given an (undirected) **complete bipartite graph** $G = (V_1, V_2, E)$, with an edge cost function $C : E \\rightarrow \\mathbb{R}$, the goal is to find a minimum weight **matching** $M \\subset E$ that covers the smaller of the two sets $V_1$ or $V_2$. Thus $V_1$ and $V_2$ need not be of the same sizes. $G$ being complete bipartite graph means that there is an edge $e \\in E$ between every pair of vertices $v_1 \\in V_1$, and $v_2 \\in V_2$. A matching refers to a selection of edges such that no vertex is covered more than once. This problem is also known as the **linear sum assignment** problem.\n",
    "\n",
    "Let $|V_1| = N_1$, and $|V_2| = N_2$, and without loss of generality assume that $N_1 \\leq N_2$. If we index the vertices in $V_1$ by $i$, and those in $V_2$ by $j$, then $e_{ij}$ will refer to the edge between $i$ and $j$, and similarly $C_{ij}$ will refer to the cost of the edge $e_{ij}$. Let $X_{ij}$ be a boolean $\\{0,1\\}$ variable that indicates whether edge $e_{ij}$ is selected or not. Then our goals can be represented by the following optimization problem:\n",
    "\n",
    "$$\n",
    "\\begin{equation}\n",
    "\\begin{split}\n",
    "\\text{minimize} \\;\\; & \\sum_{i=1}^{N_1} \\sum_{j=1}^{N_2} C_{ij} X_{ij}  \\\\\n",
    "\\text{subject to} \\;\\; & X_{ij} \\in \\{0, 1\\}, \\;\\; \\forall \\;\\; i, j \\\\\n",
    "& \\sum_{j=1}^{N_2} X_{ij} = 1, \\;\\; \\forall \\;\\; i \\\\\n",
    "& \\sum_{i=1}^{N_1} X_{ij} \\leq 1, \\;\\; \\forall \\;\\; j.\n",
    "\\end{split}\n",
    "\\end{equation}\n",
    "$$\n",
    "\n",
    "```scipy.optimize``` provides an inbuilt function ```scipy.optimize.linear_sum_assignment``` that solves exactly this problem, which is documented <a href=\"https://docs.scipy.org/doc/scipy/reference/generated/scipy.optimize.linear_sum_assignment.html#scipy.optimize.linear_sum_assignment\" style=\"text-decoration: none;\">here</a>. The algorithm used to solve this problem is the famous **Hungarian algorithm**, also known as the **Kuhn-Munkres algorithm**, although it was discovered in 2006 that <a href=\"https://en.wikipedia.org/wiki/Carl_Gustav_Jacob_Jacobi\" style=\"text-decoration: none;\">Carl Gustav Jacobi</a> had solved the problem in 1840s (published only posthumously in 1890)."
   ]
  },
  {
   "cell_type": "markdown",
   "metadata": {},
   "source": [
    "***\n",
    "Let us see an example.\n",
    "\n",
    "### Example 1.2.1\n",
    "Consider the following $C$ matrix\n",
    "\n",
    "$$\n",
    "C = \n",
    "\\begin{bmatrix}\n",
    "2 & 1 & -1 & 1 \\\\\n",
    "4 & 5 & -2 & -3 \\\\\n",
    "1 & 2 & -1 & 5 \\\\\n",
    "-2 & 3 & 4 & 0\n",
    "\\end{bmatrix}\n",
    "\\;\\;.\n",
    "$$\n",
    "\n",
    "This problem is easily solved using the following Python code."
   ]
  },
  {
   "cell_type": "code",
   "execution_count": 11,
   "metadata": {},
   "outputs": [
    {
     "name": "stdout",
     "output_type": "stream",
     "text": [
      "Solving the linear sum assignment problem\n",
      "\n",
      "\n",
      "Row index :  [0 1 2 3]\n",
      "Col index :  [1 3 2 0]\n",
      "\n",
      "\n",
      "The selected edges in the optimal assignment and their costs are:\n",
      "Edge (0,1) , Cost = 1\n",
      "Edge (1,3) , Cost = -3\n",
      "Edge (2,2) , Cost = -1\n",
      "Edge (3,0) , Cost = -2\n",
      "\n",
      "\n",
      "The optimal cost is :  -5\n"
     ]
    }
   ],
   "source": [
    "# Define problem parameters\n",
    "cost_matrix = [[2, 1, -1, 1], [4, 5, -2, -3], [1, 2, -1, 5], [-2, 3, 4, 0]]\n",
    "\n",
    "# Solve the linear sum assignment problem\n",
    "print(\"Solving the linear sum assignment problem\")\n",
    "row_ind, col_ind = sciopt.linear_sum_assignment(cost_matrix=cost_matrix)\n",
    "\n",
    "# Print the solution\n",
    "print(\"\\n\")\n",
    "print(\"Row index : \", row_ind)\n",
    "print(\"Col index : \", col_ind)\n",
    "\n",
    "# Print selected edges and the costs\n",
    "print(\"\\n\")\n",
    "print(\"The selected edges in the optimal assignment and their costs are:\")\n",
    "cost_opt = 0\n",
    "for ind, row in enumerate(row_ind):\n",
    "    col = col_ind[ind]\n",
    "    cost_opt += cost_matrix[row][col]\n",
    "    print(\"Edge (\" + str(row) + \",\" + str(col) + \") , Cost = \" + str(cost_matrix[row][col]))\n",
    "\n",
    "# Print optimal cost\n",
    "print(\"\\n\")\n",
    "print(\"The optimal cost is : \", cost_opt)"
   ]
  },
  {
   "cell_type": "markdown",
   "metadata": {},
   "source": [
    "***\n",
    "### Example 1.2.2\n",
    "\n",
    "Consider the following $C$ matrix\n",
    "\n",
    "$$\n",
    "C = \n",
    "\\begin{bmatrix}\n",
    "2 & 1 & -1 & 1 \\\\\n",
    "4 & 5 & -2 & -3 \\\\\n",
    "1 & 2 & -1 & 5\n",
    "\\end{bmatrix}\n",
    "\\;\\;.\n",
    "$$\n",
    "\n",
    "This problem is easily solved using the following Python code."
   ]
  },
  {
   "cell_type": "code",
   "execution_count": 12,
   "metadata": {},
   "outputs": [
    {
     "name": "stdout",
     "output_type": "stream",
     "text": [
      "Solving the linear sum assignment problem\n",
      "\n",
      "\n",
      "Row index :  [0 1 2]\n",
      "Col index :  [2 3 0]\n",
      "\n",
      "\n",
      "The selected edges in the optimal assignment and their costs are:\n",
      "Edge (0,2) , Cost = -1\n",
      "Edge (1,3) , Cost = -3\n",
      "Edge (2,0) , Cost = 1\n",
      "\n",
      "\n",
      "The optimal cost is :  -3\n"
     ]
    }
   ],
   "source": [
    "# Define problem parameters\n",
    "cost_matrix = [[2, 1, -1, 1], [4, 5, -2, -3], [1, 2, -1, 5]]\n",
    "\n",
    "# Solve the linear sum assignment problem\n",
    "print(\"Solving the linear sum assignment problem\")\n",
    "row_ind, col_ind = sciopt.linear_sum_assignment(cost_matrix=cost_matrix)\n",
    "\n",
    "# Print the solution\n",
    "print(\"\\n\")\n",
    "print(\"Row index : \", row_ind)\n",
    "print(\"Col index : \", col_ind)\n",
    "\n",
    "# Print selected edges and the costs\n",
    "print(\"\\n\")\n",
    "print(\"The selected edges in the optimal assignment and their costs are:\")\n",
    "cost_opt = 0\n",
    "for ind, row in enumerate(row_ind):\n",
    "    col = col_ind[ind]\n",
    "    cost_opt += cost_matrix[row][col]\n",
    "    print(\"Edge (\" + str(row) + \",\" + str(col) + \") , Cost = \" + str(cost_matrix[row][col]))\n",
    "\n",
    "# Print optimal cost\n",
    "print(\"\\n\")\n",
    "print(\"The optimal cost is : \", cost_opt)"
   ]
  },
  {
   "cell_type": "markdown",
   "metadata": {},
   "source": [
    "***\n",
    "## 1.3 Root finding problems - univariate rootfinding\n",
    "\n",
    "```scipy.optimize``` provides a bunch of functions for finding the roots of a **continuous** univariate function $f$. $x$ is a root of $f$ if and only if $f(x) = 0$. We illustrate some of the important ones with an example.\n",
    "\n",
    "Consider the function $f(x) = x^4 - x^2$. The function has 3 roots ${-1,0,1}$. The function is graphed below."
   ]
  },
  {
   "cell_type": "code",
   "execution_count": 13,
   "metadata": {},
   "outputs": [
    {
     "data": {
      "text/plain": [
       "Text(0,0.5,'$x^4 - x^2$')"
      ]
     },
     "execution_count": 13,
     "metadata": {},
     "output_type": "execute_result"
    },
    {
     "data": {
      "image/png": "[encoded data removed]",
      "text/plain": [
       "<Figure size 432x288 with 1 Axes>"
      ]
     },
     "metadata": {
      "needs_background": "light"
     },
     "output_type": "display_data"
    }
   ],
   "source": [
    "%matplotlib inline\n",
    "\n",
    "def func(x):\n",
    "    return x**4 - x**2\n",
    "\n",
    "step = 0.01\n",
    "max_x = 1.2\n",
    "x = np.arange(-max_x, max_x + step, step)\n",
    "y = func(x)\n",
    "\n",
    "plt.plot(x, y, \"-r\")\n",
    "plt.grid()\n",
    "plt.xlabel(\"x\", fontsize=16)\n",
    "plt.ylabel(\"$x^4 - x^2$\", fontsize=16)"
   ]
  },
  {
   "cell_type": "markdown",
   "metadata": {},
   "source": [
    "The important functions in ```scipy.optimize``` for finding the roots of $f$ can be divided into two categories:\n",
    "- **Root finding on an interval**: Requires that an interval $[a,b]$ be specified such that $f(a)f(b) < 0$, i.e. the function has different signs at the end points of the interval. The methods that can be used in this setting are ```scipy.optimize.brentq```, ```scipy.optimize.brenth```, ```scipy.optimize.bisect```, ```scipy.optimize.ridder```.\n",
    "- **Root finding near a point**: Requires a starting point $x_0$. The method that can be used in this setting is ```scipy.optimize.newton```.\n",
    "\n",
    "More information on these methods can be obtained by clicking on each of these functions, starting from the <a href=\"https://docs.scipy.org/doc/scipy/reference/optimize.html#module-scipy.optimize\" style=\"text-decoration: none;\">documentation page</a> for ```scipy.optimize```."
   ]
  },
  {
   "cell_type": "markdown",
   "metadata": {},
   "source": [
    "***\n",
    "### 1.3.1 Root finding in an interval\n",
    "Let us first try to search for a root in the interval $[-1.5, 0.5]$ using the different methods, and print some performance metrics related to convergence."
   ]
  },
  {
   "cell_type": "code",
   "execution_count": 14,
   "metadata": {},
   "outputs": [
    {
     "name": "stdout",
     "output_type": "stream",
     "text": [
      "\n",
      "\n",
      "brentq method results\n",
      "\n",
      "Root detected at x =  -1.0000000000000588\n",
      "Performance parameters:\n",
      "      converged: True\n",
      "           flag: 'converged'\n",
      " function_calls: 68\n",
      "     iterations: 67\n",
      "           root: -1.0000000000000588\n",
      "\n",
      "\n",
      "brenth method results\n",
      "\n",
      "Root detected at x =  -1.0\n",
      "Performance parameters:\n",
      "      converged: True\n",
      "           flag: 'converged'\n",
      " function_calls: 67\n",
      "     iterations: 66\n",
      "           root: -1.0\n",
      "\n",
      "\n",
      "ridder method results\n",
      "\n",
      "Root detected at x =  -1.0000000000009923\n",
      "Performance parameters:\n",
      "      converged: True\n",
      "           flag: 'converged'\n",
      " function_calls: 16\n",
      "     iterations: 7\n",
      "           root: -1.0000000000009923\n",
      "\n",
      "\n",
      "bisect method results\n",
      "\n",
      "Root detected at x =  -1.0\n",
      "Performance parameters:\n",
      "      converged: True\n",
      "           flag: 'converged'\n",
      " function_calls: 4\n",
      "     iterations: 2\n",
      "           root: -1.0\n"
     ]
    }
   ],
   "source": [
    "# Set a, b\n",
    "a = -1.5\n",
    "b = 0.5\n",
    "\n",
    "# Solve using different methods\n",
    "root1, result1 = sciopt.brentq(f=func, a=a, b=b, full_output=True, disp=True)\n",
    "root2, result2 = sciopt.brenth(f=func, a=a, b=b, full_output=True, disp=True)\n",
    "root3, result3 = sciopt.ridder(f=func, a=a, b=b, full_output=True, disp=True)\n",
    "root4, result4 = sciopt.bisect(f=func, a=a, b=b, full_output=True, disp=True)\n",
    "\n",
    "# Print messages\n",
    "print(\"\\n\\nbrentq method results\\n\")\n",
    "print(\"Root detected at x = \", root1)\n",
    "print(\"Performance parameters:\")\n",
    "print(result1)\n",
    "\n",
    "print(\"\\n\\nbrenth method results\\n\")\n",
    "print(\"Root detected at x = \", root2)\n",
    "print(\"Performance parameters:\")\n",
    "print(result2)\n",
    "\n",
    "print(\"\\n\\nridder method results\\n\")\n",
    "print(\"Root detected at x = \", root3)\n",
    "print(\"Performance parameters:\")\n",
    "print(result3)\n",
    "\n",
    "print(\"\\n\\nbisect method results\\n\")\n",
    "print(\"Root detected at x = \", root4)\n",
    "print(\"Performance parameters:\")\n",
    "print(result4)"
   ]
  },
  {
   "cell_type": "markdown",
   "metadata": {},
   "source": [
    "***\n",
    "### Exercise 1.3.1\n",
    "Try different values of $[a,b]$ and check the performance comparison as above."
   ]
  },
  {
   "cell_type": "code",
   "execution_count": 15,
   "metadata": {},
   "outputs": [],
   "source": [
    "# Write your code here"
   ]
  },
  {
   "cell_type": "markdown",
   "metadata": {},
   "source": [
    "***\n",
    "### 1.3.2 Root finding near a point\n",
    "Next let us try to search for a root of the same function $f(x) = x^4 - x^2$ near a point, using the Newton algorithm. The Newton algorithm ```scipy.optimize.newton``` can take in optional parameters which are the first and second derivatives of the function. When derivatives are not provided the **secant method** is used. When the first derivative is provided, the algorithm used is called **Newton-Raphson**. When both first and second derivatives are provided, the algorithm used is called **Halley's algorithm**.\n",
    "\n",
    "**Note: It is very important to check the result $x$ from this algorithm, i.e, if $f(x) = 0$, as convergence is only guaranteed when one starts near a zero**.\n",
    "\n",
    "We first code up the function first and second derivatives."
   ]
  },
  {
   "cell_type": "code",
   "execution_count": 16,
   "metadata": {},
   "outputs": [],
   "source": [
    "def func_prime(x):\n",
    "    return 4 * (x ** 3) - 2 * x\n",
    "\n",
    "def func_prime2(x):\n",
    "    return 12 * (x ** 2) - 2"
   ]
  },
  {
   "cell_type": "markdown",
   "metadata": {},
   "source": [
    "Let us see the effect of running these different algorithms for finding a root of our function, starting from the point $x_0 = 0.5$."
   ]
  },
  {
   "cell_type": "code",
   "execution_count": 17,
   "metadata": {},
   "outputs": [
    {
     "name": "stdout",
     "output_type": "stream",
     "text": [
      "\n",
      "Printing the roots :\n",
      "Secant method :  1.7614525405214752e-08\n",
      "Newton-Rapheson method :  1.4586678995097246e-08\n",
      "Halley's method :  5.324162359300112e-09\n"
     ]
    }
   ],
   "source": [
    "# Define starting point\n",
    "x0 = 0.5\n",
    "\n",
    "# Solve using secant method\n",
    "root_secant = sciopt.newton(func=func, x0=x0)\n",
    "\n",
    "# Solve using Newton-Rapheson method\n",
    "root_newton = sciopt.newton(func=func, x0=x0, fprime=func_prime)\n",
    "\n",
    "# Solve using Halley's method\n",
    "root_halley = sciopt.newton(func=func, x0=x0, fprime=func_prime, fprime2=func_prime2)\n",
    "\n",
    "# Print results\n",
    "print(\"\\nPrinting the roots :\")\n",
    "print(\"Secant method : \", root_secant)\n",
    "print(\"Newton-Rapheson method : \", root_newton)\n",
    "print(\"Halley's method : \", root_halley)"
   ]
  },
  {
   "cell_type": "markdown",
   "metadata": {},
   "source": [
    "***\n",
    "### Exercise 1.3.2\n",
    "Try different values of $x_0$ and check what happens with each root finding method. Do you see something strange for $x_0 = 0.7$? If yes, can you explain it?"
   ]
  },
  {
   "cell_type": "code",
   "execution_count": 18,
   "metadata": {},
   "outputs": [],
   "source": [
    "# Write your code here"
   ]
  },
  {
   "cell_type": "markdown",
   "metadata": {},
   "source": [
    "***\n",
    "## 1.4 Root finding problems - multivariate rootfinding\n",
    "\n",
    "We now turn to the much harder problem of finding zeros of functions of the form  $f : \\mathbb{R}^m \\rightarrow \\mathbb{R}^n$. ```scipy.optimize``` provides a single function ```scipy.optimize.root```, through which all the other functions listed in the <a href=\"https://docs.scipy.org/doc/scipy/reference/optimize.html#module-scipy.optimize\" style=\"text-decoration: none;\">documentation page</a> for multivariate root finding are accessible. All the algorithms require an initial guess (or starting point) $x_0$. The syntax for the function ```scipy.optimize.root``` can be found <a href=\"https://docs.scipy.org/doc/scipy/reference/generated/scipy.optimize.root.html#scipy.optimize.root\" style=\"text-decoration: none;\">here</a>.\n",
    "\n",
    "The important parameters that this function accepts, and about which you should be aware of are:\n",
    "- ```fun```: A function that implements $f$. The function can optionally return the Jacobian as well.\n",
    "- ```x0```: Initial guess.\n",
    "- ```method```: The type of solver to use. Options include ```hybr```, ```krylov```, ```broyden1``` etc.\n",
    "- ```jac```: Either a ```bool```, or a callable function that returns the Jacobian. In this case, it must accept the same arguments as fun.\n",
    "- ```options```: A dictionary with optional arguments for the solver ```method```.\n",
    "\n",
    "**Note:** If ```jac``` is a Boolean and is True, ```fun``` is assumed to return the value of Jacobian along with the objective function. If False, the Jacobian will be estimated numerically. Also one should be aware that many methods do not need the Jacobian implemented; they approximate the Jacobian internally.\n",
    "\n",
    "We will learn to use some of the features of ```scipy.optimize.root``` using an example."
   ]
  },
  {
   "cell_type": "markdown",
   "metadata": {},
   "source": [
    "***\n",
    "### Example 1.4.1\n",
    "Consider the function $f : \\mathbb{R}^2 \\rightarrow \\mathbb{R}^2$ defined as\n",
    "\n",
    "$$\n",
    "f(x,y) = ((x - x_t)^2 - (y - y_t)^2, 2(x - x_t)(y - y_t)),\n",
    "$$\n",
    "\n",
    "for some $(x_t, y_t) \\in \\mathbb{R}^2$.\n",
    "\n",
    "Alternatively you can also think of this function as $f : \\mathbb{C} \\rightarrow \\mathbb{C}$, defined as $f(z) = (z - z_t)^2$, where $z = x + i y$, and $z_t = x_t + i y_t$. Clearly this function has only one root $z = z_t$, i.e. $(x, y) = (x_t, y_t)$.\n",
    "\n",
    "Let us code up the function and its Jacobian. The Jacobian is given by\n",
    "\n",
    "$$\n",
    "J(x,y) = \n",
    "\\begin{bmatrix}\n",
    "2(x - x_t) & 2(y - y_t) \\\\\n",
    "-2(y - y_t) & 2(x - x_t)\n",
    "\\end{bmatrix}\n",
    ".\n",
    "$$\n",
    "\n",
    "Set $x_t = 1, y_t = 1$."
   ]
  },
  {
   "cell_type": "code",
   "execution_count": 19,
   "metadata": {},
   "outputs": [],
   "source": [
    "# Define xt, yt\n",
    "xt = 1\n",
    "yt = 1\n",
    "\n",
    "# Define the function\n",
    "def fun(x):\n",
    "    return [(x[0] - xt) ** 2 - (x[1] - yt) ** 2, 2 * (x[0] - xt) * (x[1] - yt)]\n",
    "\n",
    "# Define the Jacobian\n",
    "def jac(x):\n",
    "    return [[2 * (x[0] - xt), 2 * (x[1] - yt)], [-2 * (x[1] - yt), 2 * (x[0] - xt)]]\n",
    "\n",
    "# Define the function that also returns the Jacobian\n",
    "def fun1(x):\n",
    "    return (\n",
    "        [(x[0] - xt) ** 2 - (x[1] - yt) ** 2, 2 * (x[0] - xt) * (x[1] - yt)], \n",
    "        [[2 * (x[0] - xt), 2 * (x[1] - yt)], [-2 * (x[1] - yt), 2 * (x[0] - xt)]]\n",
    "    )"
   ]
  },
  {
   "cell_type": "markdown",
   "metadata": {},
   "source": [
    "Define a starting guess of the root $(x_0, y_0) = (0.5, 0.5)$, and lets demonstrate how the Jacobian can be passed."
   ]
  },
  {
   "cell_type": "code",
   "execution_count": 20,
   "metadata": {
    "scrolled": false
   },
   "outputs": [
    {
     "name": "stdout",
     "output_type": "stream",
     "text": [
      "Method 1 \n",
      "\n",
      "    fjac: array([[ 0.98400183,  0.17815833],\n",
      "       [-0.17815833,  0.98400183]])\n",
      "     fun: array([3.09280704e-17, 1.47994165e-17])\n",
      " message: 'The solution converged.'\n",
      "    nfev: 60\n",
      "    njev: 3\n",
      "     qtf: array([1.05477780e-16, 2.65636348e-17])\n",
      "       r: array([-2.93722421e-08,  2.88725167e-08, -2.92569278e-08])\n",
      "  status: 1\n",
      " success: True\n",
      "       x: array([0.99999999, 1.        ]) \n",
      "\n",
      "Solution : x =  0.9999999942897184 , y =  0.999999998704143 \n",
      "\n",
      "\n",
      "\n",
      "Method 2 \n",
      "\n",
      "    fjac: array([[-1.00000000e+00, -1.26928271e-15],\n",
      "       [ 1.26928271e-15, -1.00000000e+00]])\n",
      "     fun: array([0.0000000e+00, 2.2186713e-31])\n",
      " message: 'The solution converged.'\n",
      "    nfev: 75\n",
      "     qtf: array([-1.12644845e-45, -8.87468518e-31])\n",
      "       r: array([ 9.99999993e-01, -9.99999993e-01,  2.92304139e-15])\n",
      "  status: 1\n",
      " success: True\n",
      "       x: array([1., 1.]) \n",
      "\n",
      "Solution : x =  0.9999999999999997 , y =  0.9999999999999997 \n",
      "\n",
      "\n",
      "\n",
      "Method 3 \n",
      "\n",
      "    fjac: array([[ 0.98400183,  0.17815833],\n",
      "       [-0.17815833,  0.98400183]])\n",
      "     fun: array([3.09280704e-17, 1.47994165e-17])\n",
      " message: 'The solution converged.'\n",
      "    nfev: 60\n",
      "    njev: 3\n",
      "     qtf: array([1.05477780e-16, 2.65636348e-17])\n",
      "       r: array([-2.93722421e-08,  2.88725167e-08, -2.92569278e-08])\n",
      "  status: 1\n",
      " success: True\n",
      "       x: array([0.99999999, 1.        ]) \n",
      "\n",
      "Solution : x =  0.9999999942897184 , y =  0.999999998704143 \n",
      "\n",
      "\n",
      "\n"
     ]
    }
   ],
   "source": [
    "# Define starting guess\n",
    "x0 = [0.5, 0.5]\n",
    "\n",
    "# Demonstrate usage using different ways to supply function and Jacobian\n",
    "\n",
    "print(\"Method 1\", \"\\n\")\n",
    "sol = sciopt.root(fun=fun1, x0=x0, jac=True, method='hybr')\n",
    "print(sol, \"\\n\")\n",
    "print(\"Solution : x = \", sol.x[0], \", y = \", sol.x[1], \"\\n\\n\\n\")\n",
    "\n",
    "print(\"Method 2\", \"\\n\")\n",
    "sol = sciopt.root(fun=fun, x0=x0, jac=False, method='hybr')\n",
    "print(sol, \"\\n\")\n",
    "print(\"Solution : x = \", sol.x[0], \", y = \", sol.x[1], \"\\n\\n\\n\")\n",
    "\n",
    "print(\"Method 3\", \"\\n\")\n",
    "sol = sciopt.root(fun=fun, x0=x0, jac=jac, method='hybr')\n",
    "print(sol, \"\\n\")\n",
    "print(\"Solution : x = \", sol.x[0], \", y = \", sol.x[1], \"\\n\\n\\n\")"
   ]
  },
  {
   "cell_type": "markdown",
   "metadata": {},
   "source": [
    "***\n",
    "### Exercise 1.4.1\n",
    "1. Try different values of the starting guess $(x_0, y_0)$, and see the impact on performance, as measured by the number of function and Jacobian evaluations.\n",
    "2. Repeat the experiment with different values of $(x_t, y_t)$. What happens as you approach $x_t = 0, y_t = 0$?"
   ]
  },
  {
   "cell_type": "code",
   "execution_count": 21,
   "metadata": {},
   "outputs": [],
   "source": [
    "# Write your code here"
   ]
  },
  {
   "cell_type": "markdown",
   "metadata": {},
   "source": [
    "***\n",
    "### Example 1.4.2\n",
    "Consider the following system of nonlinear equations\n",
    "\n",
    "$$\n",
    "\\begin{split}\n",
    "x + \\frac{(x - y)^3}{2} - 1 &= 0 \\\\\n",
    "\\frac{(y - x)^3}{2} + y &= 0 \\;.\n",
    "\\end{split}\n",
    "$$\n",
    "\n",
    "We can try to solve this system by trying to find the roots of the function $f : \\mathbb{R}^2 \\rightarrow \\mathbb{R}^2$ defined as\n",
    "\n",
    "$$\n",
    "f(x,y) = \\left( x + \\frac{(x - y)^3}{2} - 1, \\frac{(y - x)^3}{2} + y \\right).\n",
    "$$\n",
    "\n",
    "We code up the function, its Jacobian, and solve the problem using a few different methods."
   ]
  },
  {
   "cell_type": "code",
   "execution_count": 22,
   "metadata": {},
   "outputs": [
    {
     "name": "stdout",
     "output_type": "stream",
     "text": [
      "Method hybr \n",
      "\n",
      "    fjac: array([[ 0.95527545, -0.29571744],\n",
      "       [ 0.29571744,  0.95527545]])\n",
      "     fun: array([-1.11022302e-16,  2.77555756e-17])\n",
      " message: 'The solution converged.'\n",
      "    nfev: 10\n",
      "    njev: 1\n",
      "     qtf: array([-1.11891287e-11,  5.89928428e-12])\n",
      "       r: array([ 1.51616686, -1.4821053 ,  1.5807719 ])\n",
      "  status: 1\n",
      " success: True\n",
      "       x: array([0.8411639, 0.1588361]) \n",
      "\n",
      "Solution : x =  0.8411639019140096 , y =  0.15883609808599033 \n",
      "\n",
      "\n",
      "\n",
      "Method lm \n",
      "\n",
      "   cov_x: array([[0.58704377, 0.41295623],\n",
      "       [0.41295623, 0.58704377]])\n",
      "    fjac: array([[-1.83633283, -0.38029971],\n",
      "       [ 1.29176924, -1.30516302]])\n",
      "     fun: array([-1.11022302e-16,  2.77555756e-17])\n",
      "    ipvt: array([1, 2], dtype=int32)\n",
      " message: 'The relative error between two consecutive iterates is at most 0.000000'\n",
      "    nfev: 7\n",
      "    njev: 6\n",
      "     qtf: array([-1.85329897e-10,  7.73266306e-11])\n",
      "  status: 2\n",
      " success: True\n",
      "       x: array([0.8411639, 0.1588361]) \n",
      "\n",
      "Solution : x =  0.8411639019140096 , y =  0.15883609808599033 \n",
      "\n",
      "\n",
      "\n",
      "Method broyden1 \n",
      "\n",
      "     fun: array([-2.20142724e-07,  6.78306977e-08])\n",
      " message: 'A solution was found at the specified tolerance.'\n",
      "     nit: 11\n",
      "  status: 1\n",
      " success: True\n",
      "       x: array([0.84116377, 0.15883608]) \n",
      "\n",
      "Solution : x =  0.841163765681265 , y =  0.15883608200670896 \n",
      "\n",
      "\n",
      "\n",
      "Method anderson \n",
      "\n",
      "     fun: array([ 3.39165093e-07, -3.43755319e-07])\n",
      " message: 'A solution was found at the specified tolerance.'\n",
      "     nit: 9\n",
      "  status: 1\n",
      " success: True\n",
      "       x: array([0.84116404, 0.15883595]) \n",
      "\n",
      "Solution : x =  0.841164042089031 , y =  0.15883595332074232 \n",
      "\n",
      "\n",
      "\n",
      "Method krylov \n",
      "\n"
     ]
    },
    {
     "name": "stderr",
     "output_type": "stream",
     "text": [
      "C:\\Anaconda3\\envs\\cme193\\lib\\site-packages\\scipy\\optimize\\_root.py:209: RuntimeWarning: Method broyden1 does not use the jacobian (jac).\n",
      "  RuntimeWarning)\n"
     ]
    },
    {
     "name": "stdout",
     "output_type": "stream",
     "text": [
      "     fun: array([0.19069831, 0.08409976])\n",
      " message: 'The maximum number of iterations allowed has been reached.'\n",
      "     nit: 300\n",
      "  status: 2\n",
      " success: False\n",
      "       x: array([1.        , 0.27479807]) \n",
      "\n",
      "Solution : x =  1.0 , y =  0.2747980741784015 \n",
      "\n",
      "\n",
      "\n"
     ]
    }
   ],
   "source": [
    "# Define the function\n",
    "def fun_nonlinear_eq(x):\n",
    "    return [x[0] + 0.5 * ((x[0] - x[1]) ** 3) - 1, 0.5 * ((x[1] - x[0]) ** 3) + x[1]]\n",
    "\n",
    "# Define the Jacobian\n",
    "def jac_nonlinear_eq(x):\n",
    "    return [\n",
    "        [1 + 1.5 * ((x[0] - x[1]) ** 2), -1.5 * ((x[1] - x[0]) ** 2)], \n",
    "        [-1.5 * ((x[0] - x[1]) ** 2), 1 + 1.5 * ((x[1] - x[0]) ** 2)]\n",
    "    ]\n",
    "\n",
    "# Define starting guess\n",
    "x0 = [1, 1]\n",
    "\n",
    "# Solve using method 'hybr'\n",
    "name = 'hybr'\n",
    "print(\"Method \" + name, \"\\n\")\n",
    "sol = sciopt.root(fun=fun_nonlinear_eq, x0=x0, jac=jac_nonlinear_eq, method=name)\n",
    "print(sol, \"\\n\")\n",
    "print(\"Solution : x = \", sol.x[0], \", y = \", sol.x[1], \"\\n\\n\\n\")\n",
    "\n",
    "# Solve using method 'lm'\n",
    "name = 'lm'\n",
    "print(\"Method \" + name, \"\\n\")\n",
    "sol = sciopt.root(fun=fun_nonlinear_eq, x0=x0, jac=jac_nonlinear_eq, method=name)\n",
    "print(sol, \"\\n\")\n",
    "print(\"Solution : x = \", sol.x[0], \", y = \", sol.x[1], \"\\n\\n\\n\")\n",
    "\n",
    "# Methods below do not use Jacobian -- should throw an warning if Jacobian is passed\n",
    "\n",
    "# Solve using method 'broyden1'\n",
    "name = 'broyden1'\n",
    "print(\"Method \" + name, \"\\n\")\n",
    "sol = sciopt.root(fun=fun_nonlinear_eq, x0=x0, jac=jac_nonlinear_eq, method=name)\n",
    "print(sol, \"\\n\")\n",
    "print(\"Solution : x = \", sol.x[0], \", y = \", sol.x[1], \"\\n\\n\\n\")\n",
    "\n",
    "# Solve using method 'anderson'\n",
    "name = 'anderson'\n",
    "print(\"Method \" + name, \"\\n\")\n",
    "sol = sciopt.root(fun=fun_nonlinear_eq, x0=x0, method=name)\n",
    "print(sol, \"\\n\")\n",
    "print(\"Solution : x = \", sol.x[0], \", y = \", sol.x[1], \"\\n\\n\\n\")\n",
    "\n",
    "# Solve using method 'krylov'\n",
    "name = 'krylov'\n",
    "print(\"Method \" + name, \"\\n\")\n",
    "sol = sciopt.root(fun=fun_nonlinear_eq, x0=x0, method=name)\n",
    "print(sol, \"\\n\")\n",
    "print(\"Solution : x = \", sol.x[0], \", y = \", sol.x[1], \"\\n\\n\\n\")"
   ]
  },
  {
   "cell_type": "markdown",
   "metadata": {},
   "source": [
    "***\n",
    "### Exercise 1.4.2\n",
    "1. Increase the maximum number of iterations for the 'krylov' method and see if there is an impact on the solution.\n",
    "2. Try different starting guesses for $(x_0, y_0)$, for e.g. try $(0.8, 0.2)$ for the 'krylov' method. Does it help?"
   ]
  },
  {
   "cell_type": "code",
   "execution_count": 23,
   "metadata": {},
   "outputs": [],
   "source": [
    "# Write your code here"
   ]
  },
  {
   "cell_type": "markdown",
   "metadata": {},
   "source": [
    "***\n",
    "## 1.5 Fixed point iterations\n",
    "\n",
    "```scipy.optimize``` provides a special function ```scipy.optimize.fixed_point``` for finding fixed points of functions of the form $f : \\mathbb{R}^m \\rightarrow \\mathbb{R}^m$. $x \\in \\mathbb{R}^m$ is a fixed point of $f$ if and only if $f(x) = x$. The syntax for the function ```scipy.optimize.fixed_point``` can be found <a href=\"https://docs.scipy.org/doc/scipy/reference/generated/scipy.optimize.fixed_point.html#scipy.optimize.fixed_point\" style=\"text-decoration: none;\">here</a>.\n",
    "\n",
    "There are two main algorithms which are supported by this function: ```iteration``` and ```del2```. The default method is ```del2``` which uses Steffensen’s Method with Aitken’s convergence acceleration. The ```iteration``` method simply iterates the function until convergence is detected, without attempting to accelerate the convergence.\n",
    "\n",
    "We demonstrate the usage of this method with a few examples."
   ]
  },
  {
   "cell_type": "markdown",
   "metadata": {},
   "source": [
    "***\n",
    "### Example 1.5.1\n",
    "Let us consider the problem of finding a solution to the equation $\\sin (\\alpha x) = \\beta x$, for $\\alpha, \\beta \\in \\mathbb{R}$. The roots of this equation can be expressed as fixed points of the function $f(x) = \\frac{\\sin (\\alpha x)}{\\beta}$.\n",
    "\n",
    "Let us plot the functions $\\sin(\\alpha x)$ and $\\beta x$ below. You can change $\\alpha$ and $\\beta$ and see the changes in the plots."
   ]
  },
  {
   "cell_type": "code",
   "execution_count": 24,
   "metadata": {},
   "outputs": [
    {
     "data": {
      "text/plain": [
       "<matplotlib.legend.Legend at 0x1f8d273a860>"
      ]
     },
     "execution_count": 24,
     "metadata": {},
     "output_type": "execute_result"
    },
    {
     "data": {
      "image/png": "[encoded data removed]",
      "text/plain": [
       "<Figure size 432x288 with 1 Axes>"
      ]
     },
     "metadata": {
      "needs_background": "light"
     },
     "output_type": "display_data"
    }
   ],
   "source": [
    "%matplotlib inline\n",
    "\n",
    "alpha = 1\n",
    "beta = 0.5\n",
    "\n",
    "step = 0.01\n",
    "max_x = 5\n",
    "x = np.arange(-max_x, max_x + step, step)\n",
    "y1 = np.sin(alpha * x)\n",
    "y2 = beta * x\n",
    "\n",
    "plt.plot(x, y1, \"-r\", label=\"$\\sin$(\" + str(alpha) + \"x)\")\n",
    "plt.plot(x, y2, \"-b\", label=str(beta) + \"x\")\n",
    "plt.grid()\n",
    "plt.xlabel(\"x\", fontsize=16)\n",
    "plt.legend(fontsize=16)"
   ]
  },
  {
   "cell_type": "markdown",
   "metadata": {},
   "source": [
    "The following code solves the problem for $\\alpha = 1, \\beta = 1$, with a starting guess $x_0 = 0.5$."
   ]
  },
  {
   "cell_type": "code",
   "execution_count": 25,
   "metadata": {},
   "outputs": [
    {
     "name": "stdout",
     "output_type": "stream",
     "text": [
      "Fixed point detected : x =  0.00012560345075422456\n"
     ]
    }
   ],
   "source": [
    "# Define the function\n",
    "def func_sinx(x, alpha, beta):\n",
    "    return np.sin(alpha * x) / beta\n",
    "\n",
    "# Define alpha, beta\n",
    "alpha = 1\n",
    "beta = 1\n",
    "\n",
    "# Define initial guess\n",
    "x0 = 0.5\n",
    "\n",
    "# Solve\n",
    "fp = sciopt.fixed_point(func=func_sinx, x0=x0, args=(alpha, beta), method=\"del2\")\n",
    "\n",
    "# Print result\n",
    "print(\"Fixed point detected : x = \", fp)"
   ]
  },
  {
   "cell_type": "markdown",
   "metadata": {},
   "source": [
    "***\n",
    "### Exercise 1.5.1\n",
    "Experiment with different values of $\\alpha, \\beta, x_0$ in the above example."
   ]
  },
  {
   "cell_type": "code",
   "execution_count": 26,
   "metadata": {},
   "outputs": [],
   "source": [
    "# Write your code here"
   ]
  },
  {
   "cell_type": "markdown",
   "metadata": {},
   "source": [
    "***\n",
    "### Example 1.5.2\n",
    "Consider the function $f : \\mathbb{R}^2 \\rightarrow \\mathbb{R}^2$, defined as\n",
    "\n",
    "$$\n",
    "f(x_1, x_2) = \\left( \\frac{a_1}{x_1 + b_1}, \\frac{a_2}{x_2 + b_2} \\right),\n",
    "$$\n",
    "\n",
    "for some $a_1, b_1, a_2, b_2 \\in \\mathbb{R}$.\n",
    "\n",
    "The following Python code finds a fixed point of $f$ for $a_1 = 10, b_1 = 3, a_2 = 12, b_2 = 5$, and starting guess $(0,0)$. You can vary these parameters and see the changes in the solution."
   ]
  },
  {
   "cell_type": "code",
   "execution_count": 27,
   "metadata": {},
   "outputs": [
    {
     "name": "stdout",
     "output_type": "stream",
     "text": [
      "Fixed point detected : x1 =  2.0 , x2 =  1.7720018726587656\n",
      "Function value:  [2.         1.77200187]\n"
     ]
    }
   ],
   "source": [
    "# Define the function\n",
    "def func_fixed_point(x, a, b):\n",
    "    return (a / (x + b))\n",
    "\n",
    "# Define the parameters\n",
    "a = [10, 12]\n",
    "b = [3, 5]\n",
    "\n",
    "# Define starting guess\n",
    "x0 = [0, 0]\n",
    "\n",
    "# Solve the problem\n",
    "fp = sciopt.fixed_point(func=func_fixed_point, x0=x0, args=(a, b), method=\"del2\")\n",
    "\n",
    "# Print result\n",
    "print(\"Fixed point detected : x1 = \", fp[0], \", x2 = \", fp[1])\n",
    "print(\"Function value: \", func_fixed_point(x=fp, a=a, b=b))"
   ]
  },
  {
   "cell_type": "markdown",
   "metadata": {},
   "source": [
    "***\n",
    "### Exercise 1.5.2\n",
    "1. Formulate the above example as a multivariate root finding problem and solve it.\n",
    "2. Formulate the above example as a scalar root finding problem and solve it.\n",
    "3. Compare the performance of the two strategies."
   ]
  },
  {
   "cell_type": "code",
   "execution_count": 28,
   "metadata": {},
   "outputs": [],
   "source": [
    "# Write your code here"
   ]
  },
  {
   "cell_type": "markdown",
   "metadata": {},
   "source": [
    "***\n",
    "# 2. Local optimization using ```scipy.optimize```\n",
    "We will now consider more general optimization problems that arise in many science and engineering applications, which can be instances of both convex and non-convex optimization problems. Typically we will be given a twice continuously differentiable function $f: \\mathbb{R}^n \\rightarrow \\mathbb{R}$, with additional constraints that define a region $\\Omega \\subset \\mathbb{R}^n$, and the goal is to minimize $f$ (or equivalently maximize $-f$) over $\\Omega$, i.e. we want to find a point $x^{\\ast} \\in \\Omega$ such that $f(x^{\\ast}) \\leq f(y)$ for all $y \\in \\Omega$."
   ]
  },
  {
   "cell_type": "markdown",
   "metadata": {},
   "source": [
    "We start by giving examples of a convex function $f(x) = x^2$, and a non-convex function $f(x) = x^4 - x^2 + \\frac{x}{5}$, both of which are graphed below."
   ]
  },
  {
   "cell_type": "code",
   "execution_count": 29,
   "metadata": {},
   "outputs": [
    {
     "data": {
      "text/plain": [
       "<matplotlib.legend.Legend at 0x1f8d27767b8>"
      ]
     },
     "execution_count": 29,
     "metadata": {},
     "output_type": "execute_result"
    },
    {
     "data": {
      "image/png": "[encoded data removed]",
      "text/plain": [
       "<Figure size 432x288 with 1 Axes>"
      ]
     },
     "metadata": {
      "needs_background": "light"
     },
     "output_type": "display_data"
    }
   ],
   "source": [
    "%matplotlib inline\n",
    "\n",
    "step = 0.01\n",
    "max_x = 1\n",
    "x = np.arange(-max_x, max_x + step, step)\n",
    "y1 = x ** 2\n",
    "y2 = x ** 4 - x ** 2 + x / 5.0\n",
    "\n",
    "plt.plot(x, y1, \"-r\", label=\"$x^2$\")\n",
    "plt.plot(x, y2, \"-b\", label=\"$x^4 - x^2 + x / 5$\")\n",
    "plt.grid()\n",
    "plt.xlabel(\"x\", fontsize=16)\n",
    "plt.ylabel(\"$f(x)$\", fontsize=16)\n",
    "plt.title(\"Examples of convex and non-convex functions\", fontsize=16)\n",
    "plt.legend(fontsize=16)"
   ]
  },
  {
   "cell_type": "markdown",
   "metadata": {},
   "source": [
    "The basic structure of the optimization problem that we want to solve can be written down in the following form:\n",
    "\n",
    "$$\n",
    "\\begin{equation}\n",
    "\\begin{split}\n",
    "\\text{minimize} \\;\\; & f(x)  \\\\\n",
    "\\text{subject to} \\;\\; & h_{i} (x) = 0,\\;\\; \\forall \\;\\; 1 \\leq i \\leq m  \\;\\;\\;\\;\\;\\; \\text{(equality constraints)}\\\\\n",
    "& g_{j} (x) \\geq 0,\\;\\; \\forall \\;\\; 1 \\leq j \\leq p, \\;\\;\\;\\; \\text{(inequality constraints)}\n",
    "\\end{split}\n",
    "\\end{equation}\n",
    "$$\n",
    "\n",
    "where $x \\in \\mathbb{R}^n,\\;\\;$ $f,\\; h_i,\\; g_j : \\mathbb{R}^n \\rightarrow \\mathbb{R}$ are twice continuously differentiable, for all $1 \\leq i \\leq m$, and $1 \\leq j \\leq p$.\n",
    "\n",
    "Only in some very special cases, for example if the function is convex, can one find a solution that is a global optimum to the optimization problem above. In most cases we will only be concerned with finding a local optimum, i.e. we want to find a point $x^{\\ast} \\in \\Omega$, such that there exists a neighborhood $\\mathcal{V} \\subset \\Omega$, $x^{\\ast} \\in \\mathcal{V}$, such that $f(x^{\\ast}) \\leq f(y)$, for all $y \\in \\mathcal{V}$. Finding such a local optimum $x^{\\ast}$ is the goal of **local optimization**. Throughout we will assume that a local optimum exists. Of course, this can only be done up to some accuracy on a finite precision computer.\n",
    "\n",
    "```scipy.optimize``` provides two general methods for this task:\n",
    "- ```scipy.optimize.minimize_scalar``` for univariate optimization problems documented <a href=\"https://docs.scipy.org/doc/scipy/reference/generated/scipy.optimize.minimize_scalar.html#scipy.optimize.minimize_scalar\" style=\"text-decoration: none;\">here</a>.\n",
    "- ```scipy.optimize.minimize``` for multivariate optimization problems documented <a href=\"https://docs.scipy.org/doc/scipy/reference/generated/scipy.optimize.minimize.html#scipy.optimize.minimize\" style=\"text-decoration: none;\">here</a>.\n",
    "\n",
    "We will first study univariate minimization, as it is much simpler than the multivariate case. For the multivariate optimization case, the user needs to know how the objective function and the constraints need to be modeled using objects (or classes) that have a standardized interface."
   ]
  },
  {
   "cell_type": "markdown",
   "metadata": {},
   "source": [
    "***\n",
    "## 2.1 Univariate minimization\n",
    "The one dimensional local optimization problem reads as the following:\n",
    "\n",
    "$$\n",
    "\\begin{equation}\n",
    "\\begin{split}\n",
    "\\text{minimize} \\;\\; & f(x)  \\\\\n",
    "\\text{subject to} \\;\\; & b_{lb} \\leq x \\leq b_{ub}\n",
    "\\end{split}\n",
    "\\end{equation}\n",
    "$$\n",
    "\n",
    "where $f : \\mathbb{R} \\rightarrow \\mathbb{R}$, and $x,\\; b_{lb},\\; b_{ub} \\in \\mathbb{R}$, and notice that the general case above reduces to the special case, as typically for univariate problems we do not have nonlinear constraints.\n",
    "\n",
    "We illustrate the usage of ```scipy.optimize.minimize_scalar``` below, but there are a few important arguments to this function that the user must be aware of:\n",
    "- ```fun```: This is just a function that accepts a scalar $x \\in \\mathbb{R}$ and returns the function value $f(x)$.\n",
    "- ```method```: There are three main optimization algorithms that are implemented - a) ```Brent```, b) ```Bounded```, and c) ```Golden```.\n",
    "- ```bracket```: This is required if the methods chosen are either ```Brent``` or ```Golden```.\n",
    "- ```bounds```: This is required if the method chosen is ```Bounded```.\n",
    "\n",
    "Detailed documentation of all the arguments to ```scipy.optimize.minimize_scalar``` can be found <a href=\"https://docs.scipy.org/doc/scipy/reference/generated/scipy.optimize.minimize_scalar.html#scipy.optimize.minimize_scalar\" style=\"text-decoration: none;\">here</a>.\n",
    "\n",
    "The method ```Golden``` refers to the **Golden-section** search method, as described <a href=\"https://en.wikipedia.org/wiki/Golden-section_search\" style=\"text-decoration: none;\">here</a>. The ```Brent``` method improves on golden-section search by using inverse parabolic interpolation to speed up convergence (more information <a href=\"https://en.wikipedia.org/wiki/Brent%27s_method\" style=\"text-decoration: none;\">here</a>), while the ```Bounded``` method is exactly the ```Brent``` method with the added guarantee that the solution always lies in an input interval.\n",
    "\n",
    "The original interfaces to these methods are given below and they can still be invoked, but now all of them are integrated through the method ```scipy.optimize.minimize_scalar```. However the documentation to these original interfaces to the three methods contain useful information and should be read by the user:\n",
    "- ```Brent```: <a href=\"https://docs.scipy.org/doc/scipy/reference/generated/scipy.optimize.brent.html#scipy.optimize.brent\" style=\"text-decoration: none;\">https://docs.scipy.org/doc/scipy/reference/generated/scipy.optimize.brent.html#scipy.optimize.brent</a>\n",
    "- ```Bounded```: <a href=\"https://docs.scipy.org/doc/scipy/reference/generated/scipy.optimize.fminbound.html#scipy.optimize.fminbound\" style=\"text-decoration: none;\">https://docs.scipy.org/doc/scipy/reference/generated/scipy.optimize.fminbound.html#scipy.optimize.fminbound</a>\n",
    "- ```Golden```: <a href=\"https://docs.scipy.org/doc/scipy/reference/generated/scipy.optimize.golden.html#scipy.optimize.golden\" style=\"text-decoration: none;\">https://docs.scipy.org/doc/scipy/reference/generated/scipy.optimize.golden.html#scipy.optimize.golden</a>"
   ]
  },
  {
   "cell_type": "markdown",
   "metadata": {},
   "source": [
    "***\n",
    "### 2.1.1 Bracket\n",
    "The parameter ```bracket``` deserves a brief discussion. This parameter can either be a tuple of the form $(a,c)$, or $(a,b,c)$, and achieves the same functionality as for the method <a href=\"https://docs.scipy.org/doc/scipy/reference/generated/scipy.optimize.bracket.html#scipy.optimize.bracket\">```scipy.optimize.bracket```</a>. If a tuple $(a,b,c)$ is input then it is assumed that both $f(b) < f(a)$ and $f(b) < f(c)$. If a tuple $(a,b)$ is input then a new tuple $(a',b',c')$ is generated such that both $f(b') < f(a')$, and $f(b') < f(c')$, which is also called **auto bracketing**.\n",
    "\n",
    "We give an example below for the function $f(x) = x^4 - x^2 + \\frac{x}{5}$ that we encountered before that demonstrates how auto bracketing works ."
   ]
  },
  {
   "cell_type": "code",
   "execution_count": 30,
   "metadata": {},
   "outputs": [
    {
     "name": "stdout",
     "output_type": "stream",
     "text": [
      "Bracketing interval:\n",
      "xa = 1 , xb = 0 , xc = -1.618034\n",
      "\n",
      "\n",
      "Function values:\n",
      "f(xa) = 0.2 , f(xb) = 0.0 , f(xc) = 3.9124613317185273\n",
      "\n",
      "\n",
      "Number of function calls: 3\n"
     ]
    }
   ],
   "source": [
    "# Define the function\n",
    "def func_local_1d_opt(x):\n",
    "    return x ** 4 - x ** 2 + x / 5.0\n",
    "\n",
    "# Bracketing examples (notice that inputs need not satisfy xa < xb)\n",
    "xa, xb, xc, fa, fb, fc, fcalls = sciopt.bracket(func=func_local_1d_opt, xa=0, xb=1)\n",
    "print(\"Bracketing interval:\")\n",
    "print(\"xa =\", xa, \", xb =\", xb, \", xc =\", xc)\n",
    "print(\"\\n\")\n",
    "print(\"Function values:\")\n",
    "print(\"f(xa) =\", fa, \", f(xb) =\", fb, \", f(xc) =\", fc)\n",
    "print(\"\\n\")\n",
    "print(\"Number of function calls:\", fcalls)"
   ]
  },
  {
   "cell_type": "markdown",
   "metadata": {},
   "source": [
    "***\n",
    "### Example 2.1.1\n",
    "Let us now solve the problem of minimizing the same function $f(x) = x^4 - x^2 + \\frac{x}{5}$, which is graphed again below for convenience."
   ]
  },
  {
   "cell_type": "code",
   "execution_count": 31,
   "metadata": {},
   "outputs": [
    {
     "data": {
      "text/plain": [
       "Text(0,0.5,'$x^4 - x^2 + x / 5$')"
      ]
     },
     "execution_count": 31,
     "metadata": {},
     "output_type": "execute_result"
    },
    {
     "data": {
      "image/png": "[encoded data removed]",
      "text/plain": [
       "<Figure size 432x288 with 1 Axes>"
      ]
     },
     "metadata": {
      "needs_background": "light"
     },
     "output_type": "display_data"
    }
   ],
   "source": [
    "%matplotlib inline\n",
    "\n",
    "step = 0.01\n",
    "max_x = 1\n",
    "x = np.arange(-max_x, max_x + step, step)\n",
    "y1 = x ** 4 - x ** 2 + x / 5.0\n",
    "\n",
    "plt.plot(x, y1, \"-r\")\n",
    "plt.grid()\n",
    "plt.xlabel(\"x\", fontsize=16)\n",
    "plt.ylabel(\"$x^4 - x^2 + x / 5$\", fontsize=16)"
   ]
  },
  {
   "cell_type": "markdown",
   "metadata": {},
   "source": [
    "Let us first see what happens if we try to use the method ```Golden``` in different ways."
   ]
  },
  {
   "cell_type": "code",
   "execution_count": 32,
   "metadata": {},
   "outputs": [
    {
     "name": "stdout",
     "output_type": "stream",
     "text": [
      "     fun: -0.39611014305358877\n",
      "    nfev: 44\n",
      "     nit: 39\n",
      " success: True\n",
      "       x: -0.752618571828636\n"
     ]
    }
   ],
   "source": [
    "# Default usage with method Golden\n",
    "res = sciopt.minimize_scalar(fun=func_local_1d_opt, method=\"Golden\")\n",
    "print(res)"
   ]
  },
  {
   "cell_type": "markdown",
   "metadata": {},
   "source": [
    "Notice that specifying the ```bounds``` parameter has no impact."
   ]
  },
  {
   "cell_type": "code",
   "execution_count": 33,
   "metadata": {},
   "outputs": [
    {
     "name": "stdout",
     "output_type": "stream",
     "text": [
      "     fun: -0.39611014305358877\n",
      "    nfev: 44\n",
      "     nit: 39\n",
      " success: True\n",
      "       x: -0.752618571828636\n"
     ]
    }
   ],
   "source": [
    "# Usage with method Golden, and bounds\n",
    "res = sciopt.minimize_scalar(fun=func_local_1d_opt, method=\"Golden\", bounds=[0, 1])\n",
    "print(res)"
   ]
  },
  {
   "cell_type": "markdown",
   "metadata": {},
   "source": [
    "But specifying ```bracket``` does have an impact."
   ]
  },
  {
   "cell_type": "code",
   "execution_count": 34,
   "metadata": {},
   "outputs": [
    {
     "name": "stdout",
     "output_type": "stream",
     "text": [
      "Usage 1: Specifying exact brackets\n",
      "     fun: -0.11399411614674623\n",
      "    nfev: 43\n",
      "     nit: 38\n",
      " success: True\n",
      "       x: 0.6504879953390619\n",
      "\n",
      "\n",
      "Usage 2: Auto bracketing\n",
      "     fun: -0.39611014305358877\n",
      "    nfev: 44\n",
      "     nit: 39\n",
      " success: True\n",
      "       x: -0.752618571828636\n"
     ]
    }
   ],
   "source": [
    "# Usage with method Golden, and bracket\n",
    "\n",
    "# Usage 1 (specifying exact bracket)\n",
    "print(\"Usage 1: Specifying exact brackets\")\n",
    "res = sciopt.minimize_scalar(fun=func_local_1d_opt, method=\"Golden\", bracket=[1, 0.75, 0])\n",
    "print(res)\n",
    "print(\"\\n\")\n",
    "\n",
    "# Usage 2 (auto bracketing) - notice that bounds are not enforced\n",
    "print(\"Usage 2: Auto bracketing\")\n",
    "res = sciopt.minimize_scalar(fun=func_local_1d_opt, method=\"Golden\", bracket=[1, 0])\n",
    "print(res)"
   ]
  },
  {
   "cell_type": "markdown",
   "metadata": {},
   "source": [
    "Let us next try the same set of experiments with the method ```Brent```."
   ]
  },
  {
   "cell_type": "code",
   "execution_count": 35,
   "metadata": {},
   "outputs": [
    {
     "name": "stdout",
     "output_type": "stream",
     "text": [
      "Default usage\n",
      "     fun: -0.3961101430535888\n",
      "    nfev: 17\n",
      "     nit: 13\n",
      " success: True\n",
      "       x: -0.7526185722496597\n",
      "\n",
      "\n",
      "Usage of bounds\n",
      "     fun: -0.3961101430535888\n",
      "    nfev: 17\n",
      "     nit: 13\n",
      " success: True\n",
      "       x: -0.7526185722496597\n",
      "\n",
      "\n",
      "Usage of exact bracketing\n",
      "     fun: -0.1139941161467462\n",
      "    nfev: 14\n",
      "     nit: 10\n",
      " success: True\n",
      "       x: 0.6504879964744865\n",
      "\n",
      "\n",
      "Usage of auto bracketing\n",
      "     fun: -0.3961101430535888\n",
      "    nfev: 17\n",
      "     nit: 13\n",
      " success: True\n",
      "       x: -0.7526185722496597\n"
     ]
    }
   ],
   "source": [
    "# Default usage with method Brent\n",
    "res = sciopt.minimize_scalar(fun=func_local_1d_opt, method=\"Brent\")\n",
    "print(\"Default usage\")\n",
    "print(res)\n",
    "print(\"\\n\")\n",
    "\n",
    "# Usage with method Brent, and bounds\n",
    "print(\"Usage of bounds\")\n",
    "res = sciopt.minimize_scalar(fun=func_local_1d_opt, method=\"Brent\", bounds=[0, 1])\n",
    "print(res)\n",
    "print(\"\\n\")\n",
    "\n",
    "# Usage with method Brent, and exact bracketing\n",
    "print(\"Usage of exact bracketing\")\n",
    "res = sciopt.minimize_scalar(fun=func_local_1d_opt, method=\"Brent\", bracket=[1, 0.75, 0])\n",
    "print(res)\n",
    "print(\"\\n\")\n",
    "\n",
    "# Usage with method Brent, and auto bracketing\n",
    "print(\"Usage of auto bracketing\")\n",
    "res = sciopt.minimize_scalar(fun=func_local_1d_opt, method=\"Brent\", bracket=[1, 0])\n",
    "print(res)"
   ]
  },
  {
   "cell_type": "markdown",
   "metadata": {},
   "source": [
    "***\n",
    "### Exercise 2.1.1\n",
    "You are left to try the method ```Bounded``` in this exercise.\n",
    "\n",
    "a) Repeat the 4 experiments as done before with the method ```Bounded```. In particular you should make sure that the parameter ```bounds``` is not optional.\n",
    "\n",
    "b) Try different intervals for the bounds and make sure that the solution lies within it. In particular, try the bound $(-0.25, 0.25)$.\n",
    "\n",
    "c) Compare the number of iterations required versus using the method ```Golden```."
   ]
  },
  {
   "cell_type": "code",
   "execution_count": 36,
   "metadata": {},
   "outputs": [],
   "source": [
    "# Write your code here"
   ]
  },
  {
   "cell_type": "markdown",
   "metadata": {},
   "source": [
    "***\n",
    "## 2.2 Multivariate minimization\n",
    "We now turn to the more general (and much more difficult) case of multivariate minimization using the method ```scipy.optimize.minimize```. This method supports a lot of varied usage and is the workhorse for solving local optimization problems using ```scipy.optimize```. We will only be able to provide a brief overview of all the functionalities, and the user should read the <a href=\"https://docs.scipy.org/doc/scipy/reference/generated/scipy.optimize.minimize.html#scipy.optimize.minimize\" style=\"text-decoration: none;\">documentation page</a> for more details.\n",
    "\n",
    "However before we look at specific examples, it is necessary to take a small detour and understand how we model constraints for such optimization problems."
   ]
  },
  {
   "cell_type": "markdown",
   "metadata": {},
   "source": [
    "***\n",
    "### 2.2.1 Handling constraints\n",
    "There are three general classes that ```scipy``` provides that allow us to model constraints:\n",
    "- ```scipy.optimize.LinearConstraint```: This can be used to model both linear equality and inequality constraints.\n",
    "- ```scipy.optimize.Bounds```: This can be used only to model bound constraints.\n",
    "- ```scipy.optimize.NonlinearConstraint```: This can be used to model more general non-linear equality and inequality constraints.\n",
    "\n",
    "These three classes cover among them almost any constraint that you will write down for any optimization problem.\n",
    "\n",
    "#### ```scipy.optimize.LinearConstraint```\n",
    "This class is documented <a href=\"https://docs.scipy.org/doc/scipy/reference/generated/scipy.optimize.LinearConstraint.html#scipy.optimize.LinearConstraint\" style=\"text-decoration: none;\">here</a>. It allows us to implement linear equality and inequality constraints of the following form:\n",
    "\n",
    "$$\n",
    "\\begin{equation}\n",
    "b_{lb} \\leq Ax \\leq b_{ub}\n",
    "\\end{equation}\n",
    "$$\n",
    "\n",
    "where $A \\in \\mathbb{R}^{m \\times n}$ is a matrix, and $b_{lb}, b_{ub} \\in \\mathbb{R}^{m}$. Any equality constraint can be modeled by setting the lower and upper bounds to be the same for the corresponding entries in the vectors $b_{lb}$ and $b_{ub}$. Any equation which does not have an upper bound can be modeled by setting the corresponding entry in $b_{ub}$ to ```np.inf```, and similarly any equation which does not have a lower bound can be modeled by setting the corresponding entry in $b_{lb}$ to ```-np.inf```.\n",
    "\n",
    "#### ```scipy.optimize.Bounds```\n",
    "This class is documented <a href=\"https://docs.scipy.org/doc/scipy/reference/generated/scipy.optimize.Bounds.html#scipy.optimize.Bounds\" style=\"text-decoration: none;\">here</a>. It allows us to implement only bound constraints, which is a very special kind of linear constraint:\n",
    "\n",
    "$$\n",
    "\\begin{equation}\n",
    "b_{lb} \\leq x \\leq b_{ub},\n",
    "\\end{equation}\n",
    "$$\n",
    "\n",
    "where $b_{lb}, b_{ub} \\in \\mathbb{R}^{n}$, i.e. has the same dimension as $x$. Any variable which does not have an upper bound can be modeled by setting the corresponding entry in $b_{ub}$ to ```np.inf```, and similarly any variable which does not have a lower bound can be modeled by setting the corresponding entry in $b_{lb}$ to ```-np.inf```. Thus for any optimization problem we solve, we will always assume that we have bound constraints on all the variables.\n",
    "\n",
    "#### ```scipy.optimize.NonlinearConstraint```\n",
    "This class is documented <a href=\"https://docs.scipy.org/doc/scipy/reference/generated/scipy.optimize.NonlinearConstraint.html#scipy.optimize.NonlinearConstraint\" style=\"text-decoration: none;\">here</a>. It allows us to implement general non-linear inequality and equality constraints of the form:\n",
    "\n",
    "$$\n",
    "\\begin{equation}\n",
    "b_{lb} \\leq c_i(x) \\leq b_{ub}, \\;\\; \\forall \\;\\; 1 \\leq i \\leq m.\n",
    "\\end{equation}\n",
    "$$\n",
    "\n",
    "Among the arguments that the method ```scipy.optimize.NonlinearConstraint``` accepts, two of them deserve particular attention from the user: ```jac``` and ```hess```, which are the Jacobian and Hessians of the constraints respectively. They are **different** from the Jacobians and Hessians of the objective function being minimized, and is a source of a lot of confusion."
   ]
  },
  {
   "cell_type": "markdown",
   "metadata": {},
   "source": [
    "***\n",
    "### Exercise 2.2.1\n",
    "Read the description of the parameters ```jac``` and ```hess```, that ```scipy.optimize.NonlinearConstraint``` accepts from the <a href=\"https://docs.scipy.org/doc/scipy/reference/generated/scipy.optimize.NonlinearConstraint.html#scipy.optimize.NonlinearConstraint\" style=\"text-decoration: none;\">documentation page</a>."
   ]
  },
  {
   "cell_type": "markdown",
   "metadata": {},
   "source": [
    "***\n",
    "### Description of the parameters for ```scipy.optimize.minimize```."
   ]
  },
  {
   "cell_type": "markdown",
   "metadata": {},
   "source": [
    "***\n",
    "### Example 2.2.1\n",
    "We are now ready to look at a specific example in order to understand the syntax and usage of the function ```scipy.optimize.minimize```."
   ]
  },
  {
   "cell_type": "code",
   "execution_count": null,
   "metadata": {},
   "outputs": [],
   "source": []
  }
 ],
 "metadata": {
  "kernelspec": {
   "display_name": "Python [conda env:cme193]",
   "language": "python",
   "name": "conda-env-cme193-py"
  },
  "language_info": {
   "codemirror_mode": {
    "name": "ipython",
    "version": 3
   },
   "file_extension": ".py",
   "mimetype": "text/x-python",
   "name": "python",
   "nbconvert_exporter": "python",
   "pygments_lexer": "ipython3",
   "version": "3.6.6"
  }
 },
 "nbformat": 4,
 "nbformat_minor": 2
}
