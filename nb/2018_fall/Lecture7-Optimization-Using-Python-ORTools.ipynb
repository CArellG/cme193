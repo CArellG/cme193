{
 "cells": [
  {
   "cell_type": "markdown",
   "metadata": {},
   "source": [
    "# Lecture 7: Optimization Using Python - ORTools"
   ]
  },
  {
   "cell_type": "markdown",
   "metadata": {},
   "source": [
    "In this lecture / tutorial, we will learn how to solve some simple optimization problems using Python. This involves a brief introduction to the various optimization libraries available, such as ```scipy.optimize```, ```ortools```, and ```cplex```. We will solve an example optimization problem using each library.\n",
    "\n",
    "***\n",
    "\n",
    "## Learning goals\n",
    "- Obtain an overview of optimization problems that can be easily solved using Python.\n",
    "- Know about some of the popular optimization libraries which have easy to use Python interfaces.\n",
    "- Learn the syntax to solve some simple optimization problems using at least a couple of the libraries discussed in this tutorial.\n",
    "- Test your understanding by solving a few of the practice problems in each section."
   ]
  },
  {
   "cell_type": "markdown",
   "metadata": {},
   "source": [
    "***\n",
    "# Prerequisites for running this notebook\n",
    "\n",
    "You should have Python 3.6 installed on your computer, with all necessary packages installed.\n",
    "\n",
    "We recommend that you install Anaconda (Python 3.6 version) from the following links depending on your OS:\n",
    "- For Windows: https://www.anaconda.com/download/#windows\n",
    "- For macOS: https://www.anaconda.com/download/#macos\n",
    "- For Linux: https://www.anaconda.com/download/#linux\n",
    "\n",
    "**If you are not using Anaconda, it is your responsibility to make sure that Python and all necessary packages are correctly installed and configured to be able to run this notebook.**\n",
    "\n",
    "***\n",
    "\n",
    "Once Anaconda is installed, open a **Terminal** (if you are using macOS / Linux), or **Anaconda Prompt** (if you are using Windows), and then create a new Python environment called **cme193**, by running the following command:<br>\n",
    "> ```conda create -n cme193 python=3.6```\n",
    "\n",
    "Next, change to the newly created virtual environment by running the command:\n",
    "\n",
    "On Windows\n",
    "> ```activate cme193``` <br>\n",
    "\n",
    "On macOS or Linux\n",
    "> ```source activate cme193```\n",
    "\n",
    "Next install all the necessary packages by running the following commands:\n",
    "\n",
    "> ```conda install nb_conda``` <br>\n",
    "> ```conda install -c anaconda scipy``` <br>\n",
    "> ```conda install -c conda-forge matplotlib``` <br>\n",
    "> ```conda install -c anaconda networkx``` <br>\n",
    "> ```pip install ortools``` <br>\n",
    "\n",
    "Now navigate to the directory containing this .ipynb file, from inside the terminal, and start jupyter notebook by typing the following command:\n",
    "> ```jupyter notebook```\n",
    "\n",
    "You should now be able to launch the .ipynb file from the browser. For more information on jupyter notebooks, read the <a href=\"https://jupyter-notebook.readthedocs.io/en/stable/notebook.html\" style=\"text-decoration: none;\">user documentation</a>."
   ]
  },
  {
   "cell_type": "markdown",
   "metadata": {},
   "source": [
    "***\n",
    "# Introduction to OR-Tools\n",
    "\n",
    "In this section we will learn how to solve some simple optimization problems using the ```OR-Tools``` package. ```OR-Tools``` is an open source software suite for optimization, available from Google. It is possible to configure ```OR-Tools``` to use commercial solvers like ```CPLEX``` or ```Gurobi```, or open-source solvers like ```SCIP``` or ```GLPK```, but this involves building ```OR-Tools``` from source, and we will not discuss this here as it is an advanced topic that is not suited for an introductory course on Python. Instead we will focus on using Google's ```GLOP``` and ```CP-SAT``` solver which is available upon following the installation instructions, as described above. More information on ```OR-Tools``` can be found at the <a href=\"https://developers.google.com/optimization/\" style=\"text-decoration: none;\">OR-Tools homepage</a>. The user guide can be found <a href=\"https://developers.google.com/optimization/introduction/overview\" style=\"text-decoration: none;\">here</a>, which contains extensive documentation and lots of examples.\n",
    "\n",
    "**Note: Detailed documentation only exists for C++ interface. The documentation for the Python interface is mostly work in progress. But the examples provided by ```OR-Tools``` are good enough to do many sophisticated tasks at an introductory level!**\n",
    "\n",
    "The main tools provided by ```OR-Tools```, that we need to be aware of are solvers for the following broad category of problems:\n",
    "- ```Constraint Programming```: The specialized ```CP-SAT``` solver (or the old ```original CP solver```) has been designed specifically to solve these kind of problems. The current recommendation is to always use the ```CP-SAT``` solver whenever possible. We will mostly stick to this guideline in this tutorial, with a few possible exceptions.\n",
    "- ```Linear and Mixed Integer Linear Programming```: These are the kind of problems that the specialized library ```GLOP``` is designed to solve. For solving Mixed Integer Linear Programming (MILP) problems, the default installer uses the <a href=\"https://projects.coin-or.org/Cbc\" style=\"text-decoration: none;\">Coin-or branch and cut (CBC)</a> open-source solver.\n",
    "- ```Vehicle Routing```: This is a specialized library designed specifically for solving routing problems.\n",
    "- ```Graph Algorithms```: Specialized library for finding shortest paths, max flows, min-cost flows and linear sum assignment.\n",
    "- ```Bin Packing```: Specialized library for bin packing problems such as knapsack.\n",
    "\n",
    "We will learn to use the ```OR-Tools``` library by solving a few examples in each of the above categories.\n",
    "\n",
    "We can import the ```OR-Tools``` library as follows (henceforth to be referred to as ```ortools```). We also import some other modules we will use in this notebook."
   ]
  },
  {
   "cell_type": "code",
   "execution_count": 6,
   "metadata": {},
   "outputs": [],
   "source": [
    "import ortools\n",
    "import scipy.optimize as sciopt\n",
    "import numpy as np\n",
    "import networkx as nx\n",
    "import matplotlib.pyplot as plt"
   ]
  },
  {
   "cell_type": "markdown",
   "metadata": {},
   "source": [
    "***\n",
    "## Linear programming\n",
    "\n",
    "We have already seen how to solve linear programming (LP) examples using ```scipy.optimize```. So we will keep this discussion concise, and reuse a couple of the examples from there, and solve it using ```ortools```. More information on solving LPs using ```ortools``` can be found <a href=\"https://developers.google.com/optimization/lp\" style=\"text-decoration: none;\">here</a>. Google's open-source linear solver library ```GLOP``` is specifically designed for solving linear programs.\n",
    "\n",
    "```GLOP``` requires that the LP be expressed in the following form\n",
    "\n",
    "$$\n",
    "\\begin{equation}\n",
    "\\begin{split}\n",
    "\\text{minimize} \\;\\; & c^{T}x  \\\\\n",
    "\\text{subject to} \\;\\; & b_{lb} \\leq Ax \\leq b_{ub}\n",
    "\\end{split}\n",
    "\\end{equation}\n",
    "$$\n",
    "\n",
    "where $c, x \\in \\mathbb{R}^n$, $A \\in \\mathbb{R}^{m \\times n}$, and $b_{ub}, b_{lb} \\in \\mathbb{R}^{m}$. It should be noted that all LP can be put in this form, as for equality constraints we can set upper and lower bounds to be the same. If either upper or lower bound is not present, then one can set it to $-\\infty$ and $\\infty$ respectively, as shown in the examples below.\n",
    "\n",
    "Let us first import the python wrapper ```pywraplp``` for the underlying C++ solver using the following Python code."
   ]
  },
  {
   "cell_type": "code",
   "execution_count": 7,
   "metadata": {},
   "outputs": [],
   "source": [
    "from ortools.linear_solver import pywraplp"
   ]
  },
  {
   "cell_type": "markdown",
   "metadata": {},
   "source": [
    "***\n",
    "### Example 1\n",
    "We consider an example that we have encountered previously on solving LPs using ```scipy.optimize```. The example is\n",
    "\n",
    "$$\n",
    "\\begin{equation}\n",
    "\\begin{split}\n",
    "\\text{minimize} \\;\\; & x_1 + 2 x_2 - 3 x_3  \\\\\n",
    "\\text{subject to} \\;\\; & |x_1| \\leq 1 \\\\\n",
    "& |x_2| \\leq 2 \\\\\n",
    "& |x_3| \\leq 1 \\\\\n",
    "& x_1 + x_2 + x_3 = 1,\n",
    "\\end{split}\n",
    "\\end{equation}\n",
    "$$\n",
    "\n",
    "which we saw is equivalent to the following optimization problem\n",
    "\n",
    "$$\n",
    "\\begin{equation}\n",
    "\\begin{split}\n",
    "\\text{minimize} \\;\\; & x_1 + 2 x_2 - 3 x_3  \\\\\n",
    "\\text{subject to} \\;\\; & -1 \\leq x_1 \\leq 1 \\\\\n",
    "& -2 \\leq x_2 \\leq 2 \\\\\n",
    "& -1 \\leq x_3 \\leq 1 \\\\\n",
    "& x_1 + x_2 + x_3 = 1.\n",
    "\\end{split}\n",
    "\\end{equation}\n",
    "$$\n",
    "\n",
    "The basic steps involved in solving the LP with ```pywraplp``` are:\n",
    "- Declare the solver - the algorithm that solves the problem\n",
    "- Create the variables in the LP\n",
    "- Define the constraints\n",
    "- Define the objective function\n",
    "- Invoke the solver to solve the problem\n",
    "- Extract information about the solved problem\n",
    "\n",
    "We demonstrate basic usage and implementation of these steps below using Python code.\n",
    "\n",
    "**Note: For each of the object handles we obtain below, there are a lot of methods for the object which can be accessed but not discussed in this tutorial. For example to access ```solver``` object's methods, just type ```solver.``` and hit ```tab``` on your keyboard in a Jupyter Notebook ```code cell```.**"
   ]
  },
  {
   "cell_type": "markdown",
   "metadata": {},
   "source": [
    "#### Declare the solver\n",
    "Notice that the argument ```pywraplp.Solver.GLOP_LINEAR_PROGRAMMING``` tells the solver to use ```GLOP```."
   ]
  },
  {
   "cell_type": "code",
   "execution_count": 8,
   "metadata": {},
   "outputs": [],
   "source": [
    "# Instantiate a Glop solver, naming it Example1\n",
    "solver = pywraplp.Solver('Example1', pywraplp.Solver.GLOP_LINEAR_PROGRAMMING)"
   ]
  },
  {
   "cell_type": "markdown",
   "metadata": {},
   "source": [
    "#### Create the variables in the LP\n",
    "The basic syntax is to call the ```solver``` object's method ```NumVar``` as ```solver.NumVar(lower bound, upper bound, name)```."
   ]
  },
  {
   "cell_type": "code",
   "execution_count": 9,
   "metadata": {},
   "outputs": [],
   "source": [
    "# Create the variables and put bounds on them thus incorporating the inequality constraints\n",
    "x1 = solver.NumVar(-1, 1, 'x1')\n",
    "x2 = solver.NumVar(-2, 2, 'x2')\n",
    "x3 = solver.NumVar(-1, 1, 'x3')"
   ]
  },
  {
   "cell_type": "markdown",
   "metadata": {},
   "source": [
    "#### Define the constraints\n",
    "This is done in two steps for each constraint:\n",
    "- Set the bounds on the constraints using the syntax ```constraint = solver.Constraint(lower bound, upper bound)```.\n",
    "- Set the coefficients of the variables using the created ```constraint``` object's ```SetCoefficient``` method as ```constraint.SetCoefficient(variable, coefficient)```."
   ]
  },
  {
   "cell_type": "code",
   "execution_count": 10,
   "metadata": {},
   "outputs": [],
   "source": [
    "# Constraint 1: x1 + x2 + x3 = 1\n",
    "constraint1 = solver.Constraint(1, 1)\n",
    "constraint1.SetCoefficient(x1, 1)\n",
    "constraint1.SetCoefficient(x2, 1)\n",
    "constraint1.SetCoefficient(x3, 1)"
   ]
  },
  {
   "cell_type": "markdown",
   "metadata": {},
   "source": [
    "#### Define the objective\n",
    "This is done in two steps for the obejctive:\n",
    "- Create the object ```objective``` by calling the ```Objective``` method of the ```solver``` object as ```objective = solver.Objective()```.\n",
    "- Set the coefficients of each variable in the objective function using the created ```objective``` object's method ```SetCoefficient``` using the syntax ```constraint.SetCoefficient(variable, coefficient)```.\n",
    "- Set whether to maximize or minimize the objective as ```objective.SetMaximization()``` or ```objective.SetMinimization()\n",
    "``` respectively."
   ]
  },
  {
   "cell_type": "code",
   "execution_count": 11,
   "metadata": {},
   "outputs": [],
   "source": [
    "# Objective function: x1 + 2 * x2 - 3 * x3\n",
    "objective = solver.Objective()\n",
    "objective.SetCoefficient(x1, 1)\n",
    "objective.SetCoefficient(x2, 2)\n",
    "objective.SetCoefficient(x3, -3)\n",
    "objective.SetMinimization()"
   ]
  },
  {
   "cell_type": "markdown",
   "metadata": {},
   "source": [
    "#### Invoke the solver to solve the problem\n",
    "Call the ```Solve``` method of the ```solver``` object as ```solver.Solve()```."
   ]
  },
  {
   "cell_type": "code",
   "execution_count": 12,
   "metadata": {},
   "outputs": [],
   "source": [
    "# Solve the problem and verify the problem has an optimal solution\n",
    "status = solver.Solve()\n",
    "assert status == pywraplp.Solver.OPTIMAL"
   ]
  },
  {
   "cell_type": "markdown",
   "metadata": {},
   "source": [
    "#### Extract information about the solved problem\n",
    "The following Python code shows how to extract information from the ```solver``` object."
   ]
  },
  {
   "cell_type": "code",
   "execution_count": 13,
   "metadata": {},
   "outputs": [
    {
     "name": "stdout",
     "output_type": "stream",
     "text": [
      "Number of variables = 3\n",
      "Number of constraints = 1\n",
      "Solution:\n",
      "x1 =  1.0\n",
      "x2 =  -1.0\n",
      "x3 =  1.0\n",
      "Optimal objective value = -4.0\n"
     ]
    }
   ],
   "source": [
    "# Print information of the problem\n",
    "print('Number of variables =', solver.NumVariables())\n",
    "print('Number of constraints =', solver.NumConstraints())\n",
    "\n",
    "# The value of each variable in the solution\n",
    "print('Solution:')\n",
    "print('x1 = ', x1.solution_value())\n",
    "print('x2 = ', x2.solution_value())\n",
    "print('x3 = ', x3.solution_value())\n",
    "\n",
    "# The objective value of the solution\n",
    "print('Optimal objective value =', objective.Value())"
   ]
  },
  {
   "cell_type": "markdown",
   "metadata": {},
   "source": [
    "***\n",
    "### Example 2\n",
    "Consider the example from before in the LP tutorial section using ```scipy.optimize```\n",
    "$$\n",
    "\\begin{equation}\n",
    "\\begin{split}\n",
    "\\text{minimize} \\;\\; & x_1 + 2 x_2  \\\\\n",
    "\\text{subject to} \\;\\; & x_1 \\leq 1 \\\\\n",
    "& 5 x_1 + x_2 \\geq 0 \\\\\n",
    "& x_1 + x_2 = 3.\n",
    "\\end{split}\n",
    "\\end{equation}\n",
    "$$\n",
    "\n",
    "We demonstrate a full Python program to solve it below, especially how to handle the constraint $5 x_1 + x_2 \\geq 0$."
   ]
  },
  {
   "cell_type": "code",
   "execution_count": 14,
   "metadata": {},
   "outputs": [
    {
     "name": "stdout",
     "output_type": "stream",
     "text": [
      "Number of variables = 2\n",
      "Number of constraints = 2\n",
      "Solution:\n",
      "x1 =  1.0\n",
      "x2 =  2.0\n",
      "Optimal objective value = 5.0\n"
     ]
    }
   ],
   "source": [
    "\"\"\"\n",
    "Python code for Example 2\n",
    "\"\"\"\n",
    "def lp_example2():\n",
    "    \n",
    "    # Instantiate a Glop solver, naming it Example 2\n",
    "    solver = pywraplp.Solver('Example1', pywraplp.Solver.GLOP_LINEAR_PROGRAMMING)\n",
    "    \n",
    "    # Create the variables and put bounds on them\n",
    "    x1 = solver.NumVar(-solver.infinity(), 1, 'x1')\n",
    "    x2 = solver.NumVar(-solver.infinity(), solver.infinity(), 'x2')\n",
    "    \n",
    "    # Constraint 1: x1 + x2 = 3\n",
    "    constraint1 = solver.Constraint(3, 3)\n",
    "    constraint1.SetCoefficient(x1, 1)\n",
    "    constraint1.SetCoefficient(x2, 1)\n",
    "    \n",
    "    # Constraint 2: 5 * x1 + x2 >= 0\n",
    "    constraint2 = solver.Constraint(0, solver.infinity())\n",
    "    constraint2.SetCoefficient(x1, 5)\n",
    "    constraint2.SetCoefficient(x2, 1)\n",
    "    \n",
    "    # Objective function: x1 + 2 * x2\n",
    "    objective = solver.Objective()\n",
    "    objective.SetCoefficient(x1, 1)\n",
    "    objective.SetCoefficient(x2, 2)\n",
    "    objective.SetMinimization()\n",
    "    \n",
    "    # Solve the system\n",
    "    status = solver.Solve()\n",
    "    \n",
    "    # Print information of the problem\n",
    "    print('Number of variables =', solver.NumVariables())\n",
    "    print('Number of constraints =', solver.NumConstraints())\n",
    "\n",
    "    # The value of each variable in the solution\n",
    "    print('Solution:')\n",
    "    print('x1 = ', x1.solution_value())\n",
    "    print('x2 = ', x2.solution_value())\n",
    "\n",
    "    # The objective value of the solution\n",
    "    print('Optimal objective value =', objective.Value())\n",
    "\n",
    "if __name__ == \"__main__\":\n",
    "    lp_example2()"
   ]
  },
  {
   "cell_type": "markdown",
   "metadata": {},
   "source": [
    "***\n",
    "### Exercise 1\n",
    "Study the Stigler diet example solved using ```GLOP``` on the <a href=\"https://developers.google.com/optimization/lp/glop\" style=\"text-decoration: none;\">documentation</a> page. Change the problem in your own way, and modify the code to solve your modified problem."
   ]
  },
  {
   "cell_type": "code",
   "execution_count": 15,
   "metadata": {},
   "outputs": [],
   "source": [
    "# Write your code here"
   ]
  },
  {
   "cell_type": "markdown",
   "metadata": {},
   "source": [
    "***\n",
    "## Mixed-integer linear programming\n",
    "While solving combinatorial optimization problems, one often encounters situations where some of the variables are only allowed to be integers. If such a problem can be represented as an optimization problem with a cost function that is linear in the variables of the problem, and some (but not all) of the variables are constrained to be integers, then it is called a **Mixed Integer Linear Program (MILP)**. If all of the variables are constrained to be integers then it is called an **Integer Linear Program (ILP)**.\n",
    "\n",
    "```ortools``` provides us several options to solve these kinds of problems:\n",
    "- Mixed integer programming (MIP) solver\n",
    "- Constraint programming (CP) solver\n",
    "- Min cost flow solver\n",
    "\n",
    "Of these, the first two are very general and can be used to solve many different MILP problems, while the min cost flow solver can only solve structured problems representable as network flow problems. There are some key differences between all three of them. In this section we focus on the MIP solver, while the other two are discussed in later sections.\n",
    "\n",
    "The MIP solver that is provided by ```ortools``` is just an interface to the <a href=\"https://projects.coin-or.org/Cbc\" style=\"text-decoration: none;\">Coin-or branch and cut (CBC)</a> open-source solver. While CBC allows the capability to also solve **Mixed Integer Quadratic Programming (MIQP)** problems, currently this capability is not wrapped by ```ortools```.\n",
    "\n",
    "The basic MILP problem type that we can solve using ```ortools``` is\n",
    "\n",
    "$$\n",
    "\\begin{equation}\n",
    "\\begin{split}\n",
    "\\text{minimize} \\;\\; & c^{T}x  \\\\\n",
    "\\text{subject to} \\;\\; & b_{lb} \\leq Ax \\leq b_{ub}\n",
    "\\end{split}\n",
    "\\end{equation}\n",
    "$$\n",
    "\n",
    "where $x$ can be partitioned into two sets of variables $x = (x_1, x_2)$, with $x_1$ constrained to be integers, and $x_2$ not constrained to be integers. As in the case of LPs, note that any MILP can be put in this form; in particular for equality constraints we just set the upper and lower bounds to be the same. More information on solving MILPs with ```ortools``` can be found <a href=\"https://developers.google.com/optimization/mip\" style=\"text-decoration: none;\">here</a>.\n",
    "\n",
    "We illustrate the process of solving such problems using ```ortools``` with a few examples. The python wrapper ```pywraplp``` that we will use was already imported before."
   ]
  },
  {
   "cell_type": "markdown",
   "metadata": {},
   "source": [
    "***\n",
    "### Example 1\n",
    "Consider the following optimization problem over the variables $x_1, x_2, x_3, x_4, x_5$\n",
    "\n",
    "$$\n",
    "\\begin{equation}\n",
    "\\begin{split}\n",
    "\\text{minimize} \\;\\; & x_1 + 2 x_2 - 3 x_3 + x_4  \\\\\n",
    "\\text{subject to} \\;\\; & 3 x_2 + x_4 + x_5 \\leq 2 \\\\\n",
    "& -1 \\leq x_1 + x_3 + x_4 \\leq 1 \\\\\n",
    "& x_1 + 2 x_2 + x_3 = 10 \\\\\n",
    "& x_1, x_2 \\in \\{1,2\\} \\\\\n",
    "& x_5 \\in \\{0,1,2\\}.\n",
    "\\end{split}\n",
    "\\end{equation}\n",
    "$$\n",
    "\n",
    "The basic steps involved in solving this MILP with ```pywraplp``` are analogous to the LP case:\n",
    "- Declare the solver - the algorithm that solves the problem\n",
    "- Create the variables in the MILP\n",
    "- Define the constraints\n",
    "- Define the objective function\n",
    "- Invoke the solver to solve the problem\n",
    "- Extract information about the solved problem\n",
    "\n",
    "We demonstrate basic usage and implementation of these steps below using Python code."
   ]
  },
  {
   "cell_type": "markdown",
   "metadata": {},
   "source": [
    "#### Declare the solver\n",
    "Notice that the argument ```pywraplp.Solver.CBC_MIXED_INTEGER_PROGRAMMING``` tells the solver to use the MIP solver."
   ]
  },
  {
   "cell_type": "code",
   "execution_count": 16,
   "metadata": {},
   "outputs": [],
   "source": [
    "# Instantiate a mixed-integer solver, naming it Example1\n",
    "solver = pywraplp.Solver('Example1', pywraplp.Solver.CBC_MIXED_INTEGER_PROGRAMMING)"
   ]
  },
  {
   "cell_type": "markdown",
   "metadata": {},
   "source": [
    "#### Create the variables in the MILP\n",
    "The basic syntax is to call the ```solver``` object's method ```NumVar``` as ```solver.NumVar(lower bound, upper bound, name)``` for defining non-integer variables, while for integer variables we need to call the ```solver``` object's method ```IntVar``` as ```solver.IntVar(lower bound, upper bound, name)```."
   ]
  },
  {
   "cell_type": "code",
   "execution_count": 17,
   "metadata": {},
   "outputs": [],
   "source": [
    "# Create the non-integer variables\n",
    "x3 = solver.NumVar(-solver.infinity(), solver.infinity(), 'x3')\n",
    "x4 = solver.NumVar(-solver.infinity(), solver.infinity(), 'x4')\n",
    "\n",
    "# Create the integer variables and put bounds for the ones applicable\n",
    "x1 = solver.IntVar(1, 2, 'x1')\n",
    "x2 = solver.IntVar(1, 2, 'x2')\n",
    "x5 = solver.IntVar(0, 2, 'x5')"
   ]
  },
  {
   "cell_type": "markdown",
   "metadata": {},
   "source": [
    "#### Define the constraints\n",
    "This is done exactly as in the case of LP."
   ]
  },
  {
   "cell_type": "code",
   "execution_count": 18,
   "metadata": {},
   "outputs": [],
   "source": [
    "# Constraint 1: 3 * x2 + x4 + x5 <= 2\n",
    "constraint1 = solver.Constraint(-solver.infinity(), 2)\n",
    "constraint1.SetCoefficient(x2, 3)\n",
    "constraint1.SetCoefficient(x4, 1)\n",
    "constraint1.SetCoefficient(x5, 1)\n",
    "\n",
    "# Constraint 2: -1 <= x1 + x3 + x4 <= 1\n",
    "constraint2 = solver.Constraint(-1, 1)\n",
    "constraint2.SetCoefficient(x1, 1)\n",
    "constraint2.SetCoefficient(x3, 1)\n",
    "constraint2.SetCoefficient(x4, 1)\n",
    "\n",
    "# Constraint 3: x1 + 2 * x2 + x3 = 10\n",
    "constraint3 = solver.Constraint(10, 10)\n",
    "constraint3.SetCoefficient(x1, 1)\n",
    "constraint3.SetCoefficient(x2, 2)\n",
    "constraint3.SetCoefficient(x3, 1)"
   ]
  },
  {
   "cell_type": "markdown",
   "metadata": {},
   "source": [
    "#### Define the objective\n",
    "This is done exactly as in the case of LP."
   ]
  },
  {
   "cell_type": "code",
   "execution_count": 19,
   "metadata": {},
   "outputs": [],
   "source": [
    "# Objective function: x1 + 2 * x2 - 3 * x3 + x4\n",
    "objective = solver.Objective()\n",
    "objective.SetCoefficient(x1, 1)\n",
    "objective.SetCoefficient(x2, 2)\n",
    "objective.SetCoefficient(x3, -3)\n",
    "objective.SetCoefficient(x4, 1)\n",
    "objective.SetMinimization()"
   ]
  },
  {
   "cell_type": "markdown",
   "metadata": {},
   "source": [
    "#### Invoke the solver to solve the problem\n",
    "Call the ```Solve``` method of the ```solver``` object as ```solver.Solve()```."
   ]
  },
  {
   "cell_type": "code",
   "execution_count": 20,
   "metadata": {},
   "outputs": [],
   "source": [
    "# Solve the problem and verify that an optimal solution has been found\n",
    "status = solver.Solve()\n",
    "assert status == pywraplp.Solver.OPTIMAL"
   ]
  },
  {
   "cell_type": "markdown",
   "metadata": {},
   "source": [
    "#### Extract information about the solved problem\n",
    "The following Python code shows how to extract information from the ```solver``` object."
   ]
  },
  {
   "cell_type": "code",
   "execution_count": 21,
   "metadata": {},
   "outputs": [
    {
     "name": "stdout",
     "output_type": "stream",
     "text": [
      "Number of variables = 5\n",
      "Number of constraints = 3\n",
      "Solution:\n",
      "x1 =  1.0\n",
      "x2 =  1.0\n",
      "x3 =  7.000000000000001\n",
      "x4 =  -9.000000000000002\n",
      "x5 =  0.0\n",
      "Optimal objective value = -27.0\n"
     ]
    }
   ],
   "source": [
    "# Print information of the problem\n",
    "print('Number of variables =', solver.NumVariables())\n",
    "print('Number of constraints =', solver.NumConstraints())\n",
    "\n",
    "# The value of each variable in the solution\n",
    "print('Solution:')\n",
    "print('x1 = ', x1.solution_value())\n",
    "print('x2 = ', x2.solution_value())\n",
    "print('x3 = ', x3.solution_value())\n",
    "print('x4 = ', x4.solution_value())\n",
    "print('x5 = ', x5.solution_value())\n",
    "\n",
    "# The objective value of the solution\n",
    "print('Optimal objective value =', objective.Value())"
   ]
  },
  {
   "cell_type": "markdown",
   "metadata": {},
   "source": [
    "***\n",
    "### Example 2: Weighted Vertex Cover\n",
    "The **weighted vertex cover** is a classic problem in combinatorial optimization. The basic setting is that we have a simple graph $G(V,E)$, which means that is it is an undirected graph with no multiple edges and with no loops, and is equipped with a cost function defined on the set of vertices $c : V \\rightarrow \\mathbb{R}$. The goal is to find a subset of vertices $S \\subset V$ that **cover** all the edges in $E$, such that the total sum of the cost function for the selected vertices is minimized. An edge $e \\in E$ is said to be covered by $S$ if and only if there exists a vertex $v \\in S$ that is an end point of $e$. Clearly this problem is feasible, as choosing $S=V$ covers all the edges in $E$.\n",
    "\n",
    "The goals of the weighted vertex cover problem can be expressed by an integer (binary) optimization problem. Let us assign a binary variable $x_v \\in \\{0,1\\}$ for every vertex $v \\in V$, with $x_v = 1$ if and only if $v \\in S$, and $0$ otherwise. Then the goals of the weighted vertex cover problem can be expressed as the following ILP:\n",
    "\n",
    "$$\n",
    "\\begin{equation}\n",
    "\\begin{split}\n",
    "\\text{minimize} \\;\\; & \\sum_{v \\in V} c(v) \\; x_v  \\\\\n",
    "\\text{subject to} \\;\\; & x_u + x_v \\geq 1, \\;\\; \\forall \\;\\; \\{u,v\\} \\in E  \\\\\n",
    "& x_v \\in \\{0,1\\}, \\;\\; \\forall \\;\\; v \\in V.\n",
    "\\end{split}\n",
    "\\end{equation}\n",
    "$$\n",
    "\n",
    "The first constraint says that if $\\{u,v\\}$ is an edge, then it must be covered, while the second constraint says that each vertex is either selected in the set $S$ or not.\n",
    "\n",
    "Let us take a concrete example. Let $V = \\{1, 2, 3, 4, 5\\}$, and $E = \\{ \\{1, 2\\}, \\{1, 3\\}, \\{2, 3\\}, \\{3, 4\\}, \\{1, 5\\} \\}$. Let the cost function be $c(1) = 1, \\; c(2) = 20, \\; c(3) = -2.5, \\; c(4) = 0, \\; \\text{and} \\; c(5) = 2$.\n",
    "\n",
    "We first visualize the graph using the ```NetworkX``` package which we have already imported before. More information on ```NetworkX``` can be found on its <a href=\"https://networkx.github.io/documentation/networkx-1.10/overview.html\" style=\"text-decoration: none;\">documentation page</a>."
   ]
  },
  {
   "cell_type": "code",
   "execution_count": 22,
   "metadata": {
    "scrolled": false
   },
   "outputs": [
    {
     "name": "stdout",
     "output_type": "stream",
     "text": [
      "List of vertices: [1, 2, 3, 4, 5]\n",
      "List of edges: [(1, 2), (1, 3), (2, 3), (3, 4), (1, 5)]\n",
      "List of node values: [1, 20, -2.5, 0, 2]\n",
      "\n",
      "Drawing the graph\n"
     ]
    },
    {
     "data": {
      "image/png": "[encoded data removed]",
      "text/plain": [
       "<Figure size 432x288 with 1 Axes>"
      ]
     },
     "metadata": {},
     "output_type": "display_data"
    }
   ],
   "source": [
    "%matplotlib inline\n",
    "\n",
    "# Function for visualizing graph\n",
    "def graph_visualize(V, E, valmin=0, valmax=1, values=None):\n",
    "    \"\"\"\n",
    "    V: list of vertices\n",
    "    E: list of edges (each edge is a tuple of vertices)\n",
    "    \"\"\"\n",
    "    \n",
    "    # Create an empty graph object\n",
    "    G = nx.Graph()\n",
    "    \n",
    "    # Add the vertices to G\n",
    "    G.add_nodes_from(V)\n",
    "    \n",
    "    # Add the edges to G\n",
    "    G.add_edges_from(E)\n",
    "    \n",
    "    # Draw the graph\n",
    "    if values is None:\n",
    "        values = len(G.nodes()) * [0.5]\n",
    "        nx.draw_circular(G, with_labels=True, cmap=plt.get_cmap('Reds'), node_color=values, vmin=valmin, vmax=valmax)\n",
    "    else:\n",
    "        nx.draw_circular(G, with_labels=True, cmap=plt.get_cmap('Reds'), node_color=values, vmin=valmin, vmax=valmax)\n",
    "\n",
    "if __name__ == \"__main__\":\n",
    "    \n",
    "    # Create vertex list\n",
    "    V = [1, 2, 3, 4, 5]\n",
    "    \n",
    "    # Create edge list\n",
    "    E = [(1, 2), (1, 3), (2, 3), (3, 4), (1, 5)]\n",
    "    \n",
    "    # Create list of node values\n",
    "    values = [1, 20, -2.5, 0, 2]\n",
    "    \n",
    "    # Print vertex and edge information\n",
    "    print(\"List of vertices:\", V)\n",
    "    print(\"List of edges:\", E)\n",
    "    print(\"List of node values:\", values)\n",
    "    \n",
    "    # Visualize the graph\n",
    "    print(\"\\nDrawing the graph\")\n",
    "    graph_visualize(V, E)"
   ]
  },
  {
   "cell_type": "markdown",
   "metadata": {},
   "source": [
    "The following Python code solves the weighted vertex cover problem using ```ortools```."
   ]
  },
  {
   "cell_type": "code",
   "execution_count": 23,
   "metadata": {},
   "outputs": [
    {
     "name": "stdout",
     "output_type": "stream",
     "text": [
      "List of vertices in the graph: [1, 2, 3, 4, 5]\n",
      "List of edges in the graph: [(1, 2), (1, 3), (2, 3), (3, 4), (1, 5)]\n",
      "\n",
      "\n",
      "The selected vertices are:\n",
      "1\n",
      "3\n",
      "4\n"
     ]
    },
    {
     "data": {
      "image/png": "[encoded data removed]",
      "text/plain": [
       "<Figure size 432x288 with 1 Axes>"
      ]
     },
     "metadata": {},
     "output_type": "display_data"
    },
    {
     "data": {
      "image/png": "[encoded data removed]",
      "text/plain": [
       "<Figure size 432x288 with 1 Axes>"
      ]
     },
     "metadata": {},
     "output_type": "display_data"
    }
   ],
   "source": [
    "from ortools.linear_solver import pywraplp\n",
    "\n",
    "def weighted_vertex_cover():\n",
    "    \n",
    "    # Represent the problem data\n",
    "    V = [1, 2, 3, 4, 5]\n",
    "    E = [(1, 2), (1, 3), (2, 3), (3, 4), (1, 5)]\n",
    "    \n",
    "    # Print the problem data\n",
    "    print(\"List of vertices in the graph:\", V)\n",
    "    print(\"List of edges in the graph:\", E)\n",
    "    \n",
    "    # Instantiate a mixed-integer solver, naming it Weighted-Set-Cover\n",
    "    solver = pywraplp.Solver('Weighted-Vertex-Cover', pywraplp.Solver.CBC_MIXED_INTEGER_PROGRAMMING)\n",
    "    \n",
    "    # Define integer binary variables.\n",
    "    x1 = solver.IntVar(0, 1, '1')\n",
    "    x2 = solver.IntVar(0, 1, '2')\n",
    "    x3 = solver.IntVar(0, 1, '3')\n",
    "    x4 = solver.IntVar(0, 1, '4')\n",
    "    x5 = solver.IntVar(0, 1, '5')\n",
    "    \n",
    "    # Constraint 1 (edge (1,2) is covered): x1 + x2 >= 1\n",
    "    constraint1 = solver.Constraint(1, solver.infinity())\n",
    "    constraint1.SetCoefficient(x1, 1)\n",
    "    constraint1.SetCoefficient(x2, 1)\n",
    "    \n",
    "    # Constraint 2 (edge (1,3) is covered): x1 + x3 >= 1\n",
    "    constraint2 = solver.Constraint(1, solver.infinity())\n",
    "    constraint2.SetCoefficient(x1, 1)\n",
    "    constraint2.SetCoefficient(x3, 1)\n",
    "    \n",
    "    # Constraint 3 (edge (2,3) is covered): x2 + x3 >= 1\n",
    "    constraint3 = solver.Constraint(1, solver.infinity())\n",
    "    constraint3.SetCoefficient(x2, 1)\n",
    "    constraint3.SetCoefficient(x3, 1)\n",
    "    \n",
    "    # Constraint 4 (edge (3,4) is covered): x3 + x4 >= 1\n",
    "    constraint4 = solver.Constraint(1, solver.infinity())\n",
    "    constraint4.SetCoefficient(x3, 1)\n",
    "    constraint4.SetCoefficient(x4, 1)\n",
    "    \n",
    "    # Constraint 5 (edge (1,5) is covered): x1 + x5 >= 1\n",
    "    constraint5 = solver.Constraint(1, solver.infinity())\n",
    "    constraint5.SetCoefficient(x1, 1)\n",
    "    constraint5.SetCoefficient(x5, 1)\n",
    "    \n",
    "    # Minimize 1 * x1 + 20 * x2 - 2.5 * x3 + 0 * x4 + 2 * x5\n",
    "    objective = solver.Objective()\n",
    "    objective.SetCoefficient(x1, 1)\n",
    "    objective.SetCoefficient(x2, 20)\n",
    "    objective.SetCoefficient(x3, -2.5)\n",
    "    objective.SetCoefficient(x4, 0)\n",
    "    objective.SetCoefficient(x5, 2)\n",
    "    objective.SetMinimization()\n",
    "    \n",
    "    # Solve the problem and verify the problem has an optimal solution\n",
    "    result_status = solver.Solve()\n",
    "    assert result_status == pywraplp.Solver.OPTIMAL\n",
    "    \n",
    "    # Print the selected subsets in the optimal solution, and extract the optimal value of all variables\n",
    "    print(\"\\n\")\n",
    "    print(\"The selected vertices are:\")\n",
    "    values_opt = []\n",
    "    for item in ['1', '2', '3', '4', '5']:\n",
    "        var = solver.LookupVariable(item)\n",
    "        values_opt.append(var.solution_value())\n",
    "        if var.solution_value() == 1:\n",
    "            print(item)\n",
    "    \n",
    "    # Display solution\n",
    "    graph_visualize(V, E)\n",
    "    plt.title(\"Original Graph\", fontsize=16)\n",
    "    plt.show()\n",
    "    \n",
    "    graph_visualize(V, E, 0, 2, values_opt)\n",
    "    plt.title(\"Vertex Cover\", fontsize=16)\n",
    "    plt.show()\n",
    "\n",
    "if __name__ == \"__main__\":\n",
    "    weighted_vertex_cover()"
   ]
  },
  {
   "cell_type": "markdown",
   "metadata": {},
   "source": [
    "***\n",
    "### Example 3: Weighted Set Cover\n",
    "The **weighted set cover** problem is another classic problem in combinatorial optimization. Suppose that we are given a finite set $\\mathcal{S}$ of elements, and another subset $\\mathcal{T}$ of the power set of $\\mathcal{S}$, i.e. $\\mathcal{T} \\subset 2^{\\mathcal{S}}$, with the property that $\\bigcup\\limits_{t \\in \\mathcal{T}} t = \\mathcal{S}$. There is also a cost function $w : \\mathcal{T} \\rightarrow \\mathbb{R}$. The goal is to find a subset of $\\mathcal{T}$ that covers all the elements in $\\mathcal{S}$, such that the total sum of the costs of the selected elements of $\\mathcal{T}$ is minimized.\n",
    "\n",
    "Formally our goals can be expressed as an integer (binary) optimization problem. Assign a binary variable $x_t \\in \\{0,1\\}$ for every element $t \\in \\mathcal{T}$, which will be referred to as **subset indicator variables**. Also for all $t \\in \\mathcal{T}$, and $s \\in \\mathcal{S}$, we define $c_{ts} = 1$ if $s \\in t$, and $c_{ts} = 0$ if $s \\notin t$. Then our weighted set cover problem goals can be expressed by the following ILP:\n",
    "\n",
    "$$\n",
    "\\begin{equation}\n",
    "\\begin{split}\n",
    "\\text{minimize} \\;\\; & \\sum_{t \\in \\mathcal{T}} w(t) \\; x_t  \\\\\n",
    "\\text{subject to} \\;\\; & \\sum_{t \\in \\mathcal{T}} c_{ts} x_t \\geq 1, \\;\\; \\forall \\;\\; s \\in \\mathcal{S}  \\\\\n",
    "& x_t \\in \\{0,1\\}, \\;\\; \\forall \\;\\; t \\in \\mathcal{T}.\n",
    "\\end{split}\n",
    "\\end{equation}\n",
    "$$\n",
    "\n",
    "The first constraint expresses the fact that each element $s \\in \\mathcal{S}$ is covered by at least one element $t \\in \\mathcal{T}$, which is the **set cover** constraint, from which the problem derives its name.\n",
    "\n",
    "Let us take a concrete example. Suppose $\\mathcal{S} = \\{1,2,3,4,5,6,7\\}$, and let $\\mathcal{T} = \\{a,b,c,d,e\\}$, where \n",
    "\n",
    "$$\n",
    "\\begin{equation}\n",
    "\\begin{split}\n",
    "a &= \\{1,2,3\\} \\\\\n",
    "b &= \\{3,4,6\\} \\\\\n",
    "c &= \\{4,5\\} \\\\\n",
    "d &= \\{2,5,6,7\\}.\n",
    "\\end{split}\n",
    "\\end{equation}\n",
    "$$\n",
    "\n",
    "We will represent $c_{ts}$ using a cost matrix $C$ defined below, with rows indexing elements of $\\mathcal{T}$, and columns indexing elements of $\\mathcal{S}$,\n",
    "\n",
    "$$\n",
    "C = \n",
    "\\begin{bmatrix}\n",
    "1 & 1 & 1 & 0 & 0 & 0 & 0 \\\\\n",
    "0 & 0 & 1 & 1 & 0 & 1 & 0 \\\\\n",
    "0 & 0 & 0 & 1 & 1 & 0 & 0 \\\\\n",
    "0 & 1 & 0 & 0 & 1 & 1 & 1\n",
    "\\end{bmatrix}\n",
    "\\;\\;.\n",
    "$$\n",
    "\n",
    "Also let the cost function $w$ be the constant function $w(t) = 1$, for all $t \\in \\mathcal{T}$, which corresponds to the **original set cover** problem, that seeks to minimize the number of selected subsets that cover the set $\\mathcal{S}$.\n",
    "\n",
    "Here is the full Python code that solves the problem using ```ortools```."
   ]
  },
  {
   "cell_type": "code",
   "execution_count": 24,
   "metadata": {},
   "outputs": [
    {
     "name": "stdout",
     "output_type": "stream",
     "text": [
      "The set S of elements:\n",
      "1\n",
      "2\n",
      "3\n",
      "4\n",
      "5\n",
      "6\n",
      "7\n",
      "\n",
      "\n",
      "The set T of subsets of S:\n",
      "a : {1, 2, 3}\n",
      "b : {3, 4, 6}\n",
      "c : {4, 5}\n",
      "d : {2, 5, 6, 7}\n",
      "\n",
      "\n",
      "The selected subsets are:\n",
      "a : {1, 2, 3}\n",
      "b : {3, 4, 6}\n",
      "d : {2, 5, 6, 7}\n"
     ]
    }
   ],
   "source": [
    "from ortools.linear_solver import pywraplp\n",
    "\n",
    "def weighted_set_cover():\n",
    "    \n",
    "    # Represent the problem data\n",
    "    S = [1, 2, 3, 4, 5, 6, 7]\n",
    "    T = {'a':{1, 2, 3}, 'b':{3, 4, 6}, 'c':{4, 5}, 'd':{2, 5, 6, 7}}\n",
    "    \n",
    "    # Print the problem\n",
    "    print(\"The set S of elements:\")\n",
    "    for item in S:\n",
    "        print(item)\n",
    "    \n",
    "    print(\"\\n\")\n",
    "    print(\"The set T of subsets of S:\")\n",
    "    for key, val in T.items():\n",
    "        print(key, \":\", val)\n",
    "    \n",
    "    # Instantiate a mixed-integer solver, naming it Weighted-Set-Cover\n",
    "    solver = pywraplp.Solver('Weighted-Set-Cover', pywraplp.Solver.CBC_MIXED_INTEGER_PROGRAMMING)\n",
    "    \n",
    "    # Define integer binary variables.\n",
    "    xa = solver.IntVar(0, 1, 'a')\n",
    "    xb = solver.IntVar(0, 1, 'b')\n",
    "    xc = solver.IntVar(0, 1, 'c')\n",
    "    xd = solver.IntVar(0, 1, 'd')\n",
    "    \n",
    "    # Constraint 1: xa >= 1\n",
    "    constraint1 = solver.Constraint(1, solver.infinity())\n",
    "    constraint1.SetCoefficient(xa, 1)\n",
    "    \n",
    "    # Constraint 2: xa + xd >= 1\n",
    "    constraint2 = solver.Constraint(1, solver.infinity())\n",
    "    constraint2.SetCoefficient(xa, 1)\n",
    "    constraint2.SetCoefficient(xd, 1)\n",
    "    \n",
    "    # Constraint 3: xa + xb >= 1\n",
    "    constraint3 = solver.Constraint(1, solver.infinity())\n",
    "    constraint3.SetCoefficient(xa, 1)\n",
    "    constraint3.SetCoefficient(xb, 1)\n",
    "    \n",
    "    # Constraint 4: xb + xc >= 1\n",
    "    constraint4 = solver.Constraint(1, solver.infinity())\n",
    "    constraint4.SetCoefficient(xb, 1)\n",
    "    constraint4.SetCoefficient(xc, 1)\n",
    "    \n",
    "    # Constraint 5: xc + xd >= 1\n",
    "    constraint5 = solver.Constraint(1, solver.infinity())\n",
    "    constraint5.SetCoefficient(xc, 1)\n",
    "    constraint5.SetCoefficient(xd, 1)\n",
    "    \n",
    "    # Constraint 6: xb + xd >= 1\n",
    "    constraint6 = solver.Constraint(1, solver.infinity())\n",
    "    constraint6.SetCoefficient(xb, 1)\n",
    "    constraint6.SetCoefficient(xd, 1)\n",
    "    \n",
    "    # Constraint 7: xd >= 1\n",
    "    constraint6 = solver.Constraint(1, solver.infinity())\n",
    "    constraint6.SetCoefficient(xd, 1)\n",
    "    \n",
    "    # Minimize xa + xb + xc + xd\n",
    "    objective = solver.Objective()\n",
    "    objective.SetCoefficient(xa, 1)\n",
    "    objective.SetCoefficient(xb, 1)\n",
    "    objective.SetCoefficient(xc, 1)\n",
    "    objective.SetCoefficient(xd, 1)\n",
    "    objective.SetMinimization()\n",
    "    \n",
    "    # Solve the problem and verify the problem has an optimal solution\n",
    "    result_status = solver.Solve()\n",
    "    assert result_status == pywraplp.Solver.OPTIMAL\n",
    "    \n",
    "    # Print the selected subsets in the optimal solution\n",
    "    print(\"\\n\")\n",
    "    print(\"The selected subsets are:\")\n",
    "    for item in ['a', 'b', 'c', 'd']:\n",
    "        var = solver.LookupVariable(item)\n",
    "        if var.solution_value() == 1:\n",
    "            print(item, \":\", T[item])\n",
    "\n",
    "if __name__ == \"__main__\":\n",
    "    weighted_set_cover()"
   ]
  },
  {
   "cell_type": "markdown",
   "metadata": {},
   "source": [
    "***\n",
    "## Bin packing: multidimensional knapsack\n",
    "Bin packing refers to the problem of finding a set of objects to pack into bins. The objects have **volumes**, and each bin has a **capacity**, which is the total volume the container can hold. We discuss the multidimensional knapsack problem here, which is arguably the most famous bin packing problem. More information on solving bin packing problems using ```ortools``` can be found <a href=\"https://developers.google.com/optimization/bin\" style=\"text-decoration: none;\">here</a>."
   ]
  },
  {
   "cell_type": "markdown",
   "metadata": {},
   "source": [
    "### Multidimensional knapsack\n",
    "The setting involves a finite set of objects $\\mathcal{S}$, each with $n + 1$ attributes. The first $n$ attributes are **volumes** (or some other property) of each object along $n$ different dimensions, and the last attribute is the **value** of each object. There is a **knapsack** (or container) which also has $n$ attributes associated with it (called **capacities**), and correspond to the total volume of objects that can fit along each dimension in the knapsack. The objective of the problem is to choose objects from $\\mathcal{S}$ to put into the knapsack, such that the total value of all the objects is as large as possible, and the total volume of the selected objects do not exceed the capacity of the knapsack along any dimension.\n",
    "\n",
    "Mathematically the knapsack problem is equivalent to an ILP. We briefly mention this formulation here, as it shows the combinatorial structure of the problem. Assign a binary variable $x_s \\in \\{0,1\\}$ for each element $s \\in \\mathcal{S}$. Let $v_s$ denote the value, and $c_{d,s}$ denote the volume along dimension $d$, of each element $s \\in \\mathcal{S}$. Also let $C_d$ denote the capacity of the knapsack along dimension $d$. Then the goals of multidimensional knapsack are expressed by the following optimization problem:\n",
    "\n",
    "$$\n",
    "\\begin{equation}\n",
    "\\begin{split}\n",
    "\\text{minimize} \\;\\; & \\sum_{s \\in \\mathcal{S}} x_s v_s  \\\\\n",
    "\\text{subject to} \\;\\; & \\sum_{s \\in \\mathcal{S}} c_{d,s} x_s \\leq C_d, \\;\\; \\forall \\;\\; 1 \\leq d \\leq n  \\\\\n",
    "& x_s \\in \\{0,1\\}, \\;\\; \\forall \\;\\; s \\in \\mathcal{S}.\n",
    "\\end{split}\n",
    "\\end{equation}\n",
    "$$\n",
    "\n",
    "While this problem can be certainly solved using the techniques developed in the last section on MILP, ```ortools``` provides a specialized solver called ```KnapsackSolver``` to solve this problem. The reader can find more details about using the solver on the <a href=\"https://developers.google.com/optimization/bin/knapsack\" style=\"text-decoration: none;\">documentation page</a>. One thing to note is that ```KnapsackSolver``` only accepts **non-negative integer values** for values, volumes and capacities.\n",
    "\n",
    "We demonstrate how to use the solver using a simple example. But let us first import the python wrapper ```pywrapknapsack_solver``` for the underlying C++ solver using the following Python code."
   ]
  },
  {
   "cell_type": "code",
   "execution_count": 25,
   "metadata": {},
   "outputs": [],
   "source": [
    "from ortools.algorithms import pywrapknapsack_solver"
   ]
  },
  {
   "cell_type": "markdown",
   "metadata": {},
   "source": [
    "### Example 1\n",
    "Consider an instance of multidimensional knapsack in 2 dimensions ($d = 2$), where $\\mathcal{S} = \\{a, b, c, d, e\\}$, and the knapsack capacities are $C_1 = 10, C_2 = 15$. Let the values of the objects be given by the following table:\n",
    "\n",
    "|  $s$ | $v_s$ |\n",
    "|------|-------|\n",
    "|  $a$ |  $2$  |\n",
    "|  $b$ |  $10$ |\n",
    "|  $c$ |  $5$  |\n",
    "|  $d$ |  $4$  |\n",
    "|  $e$ |  $3$  |\n",
    "\n",
    "Let the volumes of the objects be given by the following table:\n",
    "\n",
    "|  $s$ | $c_{1,s}$ | $c_{2,s}$ |\n",
    "|------|-------|-------|\n",
    "|  $a$ |  $1$  |  $3$  |\n",
    "|  $b$ |  $6$  |  $6$  |\n",
    "|  $c$ |  $3$  |  $8$  |\n",
    "|  $d$ |  $2$  |  $1$  |\n",
    "|  $e$ |  $5$  |  $4$  |\n",
    "\n",
    "The problem can then be solved using ```ortools``` by following the steps as shown below."
   ]
  },
  {
   "cell_type": "markdown",
   "metadata": {},
   "source": [
    "**Declare the values, volumes, and capacities**\n",
    "\n",
    "The ```KnapsackSolver``` accepts the data to be in a certain format. The values should be a list of the same length as the number of objects, while the capacities should be a list of length equal to the number of dimensions. The volumes of the objects should be a list of lists. The outer list need to have the same length as the number of dimensions, while each inner list must have the same length as the number of objects."
   ]
  },
  {
   "cell_type": "code",
   "execution_count": 26,
   "metadata": {},
   "outputs": [],
   "source": [
    "# Store the name of elements (this is not needed for the solver, but useful to display results)\n",
    "objects = ['a', 'b', 'c', 'd', 'e']\n",
    "\n",
    "# Declare the values, volumes and capacities\n",
    "values = [2, 10, 5, 4, 3]\n",
    "volumes = [[1, 6, 3, 2, 5], [3, 6, 8, 1, 4]]\n",
    "capacities = [10, 15]"
   ]
  },
  {
   "cell_type": "markdown",
   "metadata": {},
   "source": [
    "**Create an instance of ```KnapsackSolver```**\n",
    "\n",
    "The next step is to create an instance of ```KnapsackSolver```. It is important to use ```KNAPSACK_MULTIDIMENSION_BRANCH_AND_BOUND_SOLVER``` as shown below. Other options include ```KNAPSACK_DYNAMIC_PROGRAMMING_SOLVER```, but it can only solve 1 dimensional knapsacks."
   ]
  },
  {
   "cell_type": "code",
   "execution_count": 27,
   "metadata": {},
   "outputs": [],
   "source": [
    "# Create the solver, name it Example1\n",
    "solver = pywrapknapsack_solver.KnapsackSolver(\n",
    "    pywrapknapsack_solver.KnapsackSolver.KNAPSACK_MULTIDIMENSION_BRANCH_AND_BOUND_SOLVER,\n",
    "    'Example1'\n",
    ")"
   ]
  },
  {
   "cell_type": "markdown",
   "metadata": {},
   "source": [
    "**Initialize the solver with the data**\n",
    "\n",
    "The next step feeds the problem data into the solver."
   ]
  },
  {
   "cell_type": "code",
   "execution_count": 28,
   "metadata": {},
   "outputs": [],
   "source": [
    "# Initialize the solver\n",
    "solver.Init(values, volumes, capacities)"
   ]
  },
  {
   "cell_type": "markdown",
   "metadata": {},
   "source": [
    "**Solve the problem**"
   ]
  },
  {
   "cell_type": "code",
   "execution_count": 29,
   "metadata": {},
   "outputs": [],
   "source": [
    "# Solve the problem\n",
    "computed_value = solver.Solve()"
   ]
  },
  {
   "cell_type": "markdown",
   "metadata": {},
   "source": [
    "**Display the results**\n",
    "\n",
    "We can display the results as follows."
   ]
  },
  {
   "cell_type": "code",
   "execution_count": 30,
   "metadata": {},
   "outputs": [
    {
     "name": "stdout",
     "output_type": "stream",
     "text": [
      "The maximum possible knapsack value is 16\n",
      "Packed items:  ['a', 'b', 'd']\n",
      "Total volumes:  [9, 10]\n"
     ]
    }
   ],
   "source": [
    "# Display results\n",
    "packed_items = [objects[x] for x in range(0, len(objects)) if solver.BestSolutionContains(x)]\n",
    "packed_volumes = [\n",
    "    [volumes[0][x] for x in range(0, len(objects)) if solver.BestSolutionContains(x)], \n",
    "    [volumes[1][x] for x in range(0, len(objects)) if solver.BestSolutionContains(x)]\n",
    "]\n",
    "total_volumes = [sum(packed_volumes[0]), sum(packed_volumes[1])]\n",
    "\n",
    "print(\"The maximum possible knapsack value is\", computed_value)\n",
    "print(\"Packed items: \", packed_items)\n",
    "print(\"Total volumes: \", total_volumes)"
   ]
  },
  {
   "cell_type": "markdown",
   "metadata": {},
   "source": [
    "Here is the full Python code in one place."
   ]
  },
  {
   "cell_type": "code",
   "execution_count": 31,
   "metadata": {},
   "outputs": [
    {
     "name": "stdout",
     "output_type": "stream",
     "text": [
      "The maximum possible knapsack value is 16\n",
      "Packed items:  ['a', 'b', 'd']\n",
      "Total volumes:  [9, 10]\n"
     ]
    }
   ],
   "source": [
    "from ortools.algorithms import pywrapknapsack_solver\n",
    "\n",
    "def multiknapsack(objects, values, volumes, capacities, name=\"multiknapsack\"):\n",
    "    \n",
    "    # Create the solver, name it Example1\n",
    "    solver = pywrapknapsack_solver.KnapsackSolver(\n",
    "        pywrapknapsack_solver.KnapsackSolver.KNAPSACK_MULTIDIMENSION_BRANCH_AND_BOUND_SOLVER,\n",
    "        name\n",
    "    )\n",
    "\n",
    "    # Initialize the solver\n",
    "    solver.Init(values, volumes, capacities)\n",
    "    \n",
    "    # Solve the problem\n",
    "    computed_value = solver.Solve()\n",
    "    \n",
    "    # Display results\n",
    "    packed_items = [objects[x] for x in range(0, len(objects)) if solver.BestSolutionContains(x)]\n",
    "    packed_volumes = [\n",
    "        [volumes[0][x] for x in range(0, len(objects)) if solver.BestSolutionContains(x)], \n",
    "        [volumes[1][x] for x in range(0, len(objects)) if solver.BestSolutionContains(x)]\n",
    "    ]\n",
    "    total_volumes = [sum(packed_volumes[0]), sum(packed_volumes[1])]\n",
    "    \n",
    "    print(\"The maximum possible knapsack value is\", computed_value)\n",
    "    print(\"Packed items: \", packed_items)\n",
    "    print(\"Total volumes: \", total_volumes)\n",
    "\n",
    "if __name__ == '__main__':\n",
    "    \n",
    "    # Store the name of elements (this is not needed for the solver, but useful to display results)\n",
    "    objects = ['a', 'b', 'c', 'd', 'e']\n",
    "\n",
    "    # Declare the values, volumes and capacities\n",
    "    values = [2, 10, 5, 4, 3]\n",
    "    volumes = [[1, 6, 3, 2, 5], [3, 6, 8, 1, 4]]\n",
    "    capacities = [10, 15]\n",
    "    \n",
    "    # Solve\n",
    "    multiknapsack(objects=objects, values=values, volumes=volumes, capacities=capacities, name=\"Example1\")"
   ]
  },
  {
   "cell_type": "markdown",
   "metadata": {},
   "source": [
    "***\n",
    "### Exercise 2\n",
    "Consider the 1 dimensional knapsack problem with the following data."
   ]
  },
  {
   "cell_type": "code",
   "execution_count": 32,
   "metadata": {},
   "outputs": [],
   "source": [
    "# Store the name of elements\n",
    "objects = ['a', 'b', 'c', 'd', 'e']\n",
    "\n",
    "# Declare the values, volumes and capacities\n",
    "values = [2, 10, 5, 4, 3]\n",
    "volumes = [[1, 6, 3, 2, 5]]\n",
    "capacities = [10]"
   ]
  },
  {
   "cell_type": "markdown",
   "metadata": {},
   "source": [
    "Solve the problem in three different ways:\n",
    "- Using ```pywrapknapsack_solver.KnapsackSolver.KNAPSACK_MULTIDIMENSION_BRANCH_AND_BOUND_SOLVER```.\n",
    "- Using ```pywrapknapsack_solver.KnapsackSolver.KNAPSACK_DYNAMIC_PROGRAMMING_SOLVER```.\n",
    "- Using ```pywraplp.Solver.CBC_MIXED_INTEGER_PROGRAMMING```.\n",
    "\n",
    "Time the different solvers."
   ]
  },
  {
   "cell_type": "code",
   "execution_count": 33,
   "metadata": {},
   "outputs": [],
   "source": [
    "# Write your code here"
   ]
  },
  {
   "cell_type": "markdown",
   "metadata": {},
   "source": [
    "***\n",
    "## Constraint programming\n",
    "**Constraint programming (CP)** or **constraint optimization** refers to the task of finding feasible solutions to a set of arbitrary constraints, and such problems arise in many science and engineering applications. Thus CP is distinctly different from optimization problems; in fact in most cases, a CP may not even have an objective function, and the goal is to simply narrow down a large set of possible solutions to a more manageable subset by adding constraints to the problem. In fact, CP may arise as a subproblem in the solution process of an optimization problem. It should be noted however that any optimization problem can be solved this way by simply checking the objective function value at all the feasible solutions, and choosing the one that is the best. However this may be highly inefficient and hence is not recommended in most cases.\n",
    "\n",
    "```ortools``` provides two libraries for solving CP problems:\n",
    "- ```CP-SAT``` solver (SAT stands for **satisfiability**)\n",
    "- ```original CP``` solver.\n",
    "\n",
    "The recommended CP solver from Google is the ```CP-SAT``` solver, as it is much faster than the ```original CP``` solver, and we will strictly focus on the former in this lecture. More information on the two solvers, and some solved examples using each of them can be found by starting on the <a href=\"https://developers.google.com/optimization/cp/cp_solver\" style=\"text-decoration: none;\">documentation page</a> of the solvers. We will demonstrate the usage and syntax for ```CP-SAT``` using some examples. Most of the examples that we have chosen to illustrate are slight variants of the examples provided by ```ortools```, so that the reader can find more extensive discussion of these problems from online resources. This <a href=\"https://github.com/google/or-tools/blob/master/ortools/sat/doc/index.md\" style=\"text-decoration: none;\">reference page</a> also contains extensive documentation.\n",
    "\n",
    "It should be noted that the ```CP-SAT``` solver only works on integer data. However in most cases CP problems with non-integer data can be converted to CP problems with integer data using the techniques described for example <a href=\"https://developers.google.com/optimization/mip/integer_opt_cp\" style=\"text-decoration: none;\">here</a>.\n",
    "\n",
    "The python wrappers ```cp_model``` and ```pywrapcp``` provide access to the underlying C++ solver for the ```CP-SAT``` solver and the ```original CP``` solver respectively. Let us import them, although we will not be using ```pywrapcp```."
   ]
  },
  {
   "cell_type": "code",
   "execution_count": 34,
   "metadata": {},
   "outputs": [],
   "source": [
    "from ortools.sat.python import cp_model\n",
    "from ortools.constraint_solver import pywrapcp"
   ]
  },
  {
   "cell_type": "markdown",
   "metadata": {},
   "source": [
    "***\n",
    "### Exercise 3\n",
    "It is very instructive to read through the code implementing the Python interface ```cp_model```, as described here:\n",
    "\n",
    "<a href=\"https://github.com/google/or-tools/blob/master/ortools/sat/python/cp_model.py\" style=\"text-decoration: none;\">https://github.com/google/or-tools/blob/master/ortools/sat/python/cp_model.py</a>."
   ]
  },
  {
   "cell_type": "markdown",
   "metadata": {},
   "source": [
    "***\n",
    "### Example 1\n",
    "We work through the first example in detail to understand the basic syntax of ```CP-SAT```.\n",
    "\n",
    "Consider the following feasibility problem:\n",
    "\n",
    "$$\n",
    "\\begin{equation}\n",
    "\\begin{split}\n",
    "\\text{find} \\;\\; & x, y  \\\\\n",
    "\\text{subject to} \\;\\; & x \\neq y  \\\\\n",
    "& x + y \\leq 4  \\\\\n",
    "& 1 \\leq 2x + y \\leq 5  \\\\\n",
    "& x, y \\in \\{0,1,2,3\\}.\n",
    "\\end{split}\n",
    "\\end{equation}\n",
    "$$\n",
    "\n",
    "The steps to model this problem using ```CP-SAT``` and solve it are explained below."
   ]
  },
  {
   "cell_type": "markdown",
   "metadata": {},
   "source": [
    "### Instantiate the solver\n",
    "We need to create two objects - the ```model``` and the ```solver```, the first of which is used to model the problem, such as all the data and the constraints, while the second one solves the problem."
   ]
  },
  {
   "cell_type": "code",
   "execution_count": 35,
   "metadata": {},
   "outputs": [],
   "source": [
    "# Create the model and solver\n",
    "model = cp_model.CpModel()\n",
    "solver = cp_model.CpSolver()"
   ]
  },
  {
   "cell_type": "markdown",
   "metadata": {},
   "source": [
    "### Create the variables\n",
    "We then create the variables involved in the problem. Here we only need ```NewIntVar``` for the problem.\n",
    "\n",
    "**Note: Many other kinds of variables are available. You can see them by browsing the list after typing ```model.``` and pressing ```tab```.**"
   ]
  },
  {
   "cell_type": "code",
   "execution_count": 36,
   "metadata": {},
   "outputs": [],
   "source": [
    "# Create the variables\n",
    "num_values = 4\n",
    "x = model.NewIntVar(0, num_values - 1, \"x\")\n",
    "y = model.NewIntVar(0, num_values - 1, \"y\")"
   ]
  },
  {
   "cell_type": "markdown",
   "metadata": {},
   "source": [
    "### Create the constraints\n",
    "The next step is to create the constraints of the problem."
   ]
  },
  {
   "cell_type": "code",
   "execution_count": 37,
   "metadata": {},
   "outputs": [],
   "source": [
    "# Create the constraints\n",
    "\n",
    "# Constraint 1: x != y\n",
    "constraint1 = model.Add(x != y)\n",
    "\n",
    "# Constraint 2: x + y <= 4\n",
    "constraint2 = model.Add(x + y <= 4)\n",
    "\n",
    "# Constraint 3: 1 <= 2x + y <= 5\n",
    "constraint3 = model.AddLinearConstraint(terms=[(x, 2), (y, 1)], lb=1, ub=5)"
   ]
  },
  {
   "cell_type": "markdown",
   "metadata": {},
   "source": [
    "### Create the solution printer\n",
    "The ```CP-SAT``` solver displays the results using a **solution printer**. The solution printer is a callback defined in a Python class, which we pass to the solver as shown below, and the callback is executed each time a new solution is found. It needs to be implemented as a class inherited from ```CpSolverSolutionCallback```. It is highly recommended that you check the code <a href=\"https://github.com/google/or-tools/blob/master/ortools/sat/python/cp_model.py\" style=\"text-decoration: none;\">here</a>. The method ```NewSolution``` must be implemented which gets called everytime the solver finds a new solution."
   ]
  },
  {
   "cell_type": "code",
   "execution_count": 38,
   "metadata": {},
   "outputs": [],
   "source": [
    "# Create the SolutionPrinter class\n",
    "class SolutionPrinter(cp_model.CpSolverSolutionCallback):\n",
    "\n",
    "    \"\"\"\n",
    "    Print intermediate solutions.\n",
    "    \"\"\"\n",
    "\n",
    "    def __init__(self, variables):\n",
    "        self.__variables = variables\n",
    "        self.__solution_count = 0\n",
    "\n",
    "    def NewSolution(self):\n",
    "        self.__solution_count += 1\n",
    "        for v in self.__variables:\n",
    "            print('%s = %i,' % (v, self.Value(v)), end = ' ')\n",
    "        print()\n",
    "\n",
    "    def SolutionCount(self):\n",
    "        return self.__solution_count\n",
    "\n",
    "# Create a solution printer\n",
    "solution_printer = SolutionPrinter([x, y])"
   ]
  },
  {
   "cell_type": "markdown",
   "metadata": {},
   "source": [
    "### Call the solver\n",
    "We can finally solve the problem by calling the solver. Here we will search for all solutions by using the method ```SearchForAllSolutions```."
   ]
  },
  {
   "cell_type": "code",
   "execution_count": 39,
   "metadata": {},
   "outputs": [
    {
     "name": "stdout",
     "output_type": "stream",
     "text": [
      "Solving the CP problem...\n",
      "\n",
      "Printing all solutions...\n",
      "x = 1, y = 0, \n",
      "x = 2, y = 0, \n",
      "x = 2, y = 1, \n",
      "x = 0, y = 1, \n",
      "x = 0, y = 2, \n",
      "x = 0, y = 3, \n",
      "x = 1, y = 2, \n",
      "x = 1, y = 3, \n",
      "\n",
      "Number of solutions found: 8\n"
     ]
    }
   ],
   "source": [
    "# Call the solver, verify solution and pront results\n",
    "print(\"Solving the CP problem...\\n\")\n",
    "print(\"Printing all solutions...\")\n",
    "status = solver.SearchForAllSolutions(model, solution_printer)\n",
    "assert status == cp_model.FEASIBLE\n",
    "print('\\nNumber of solutions found: %i' % solution_printer.SolutionCount())"
   ]
  },
  {
   "cell_type": "markdown",
   "metadata": {},
   "source": [
    "***\n",
    "### Example 2\n",
    "This example illustrates how to implement ```AND``` and ```OR``` constraints. Consider the following feasibility problem:\n",
    "\n",
    "$$\n",
    "\\begin{equation}\n",
    "\\begin{split}\n",
    "\\text{find} \\;\\; & x, y, z  \\\\\n",
    "\\text{subject to} \\;\\; & (x \\neq y) \\;\\&\\; (y \\neq z) \\;\\&\\; (z \\neq x)  \\\\\n",
    "& (x + y + z \\leq 4) \\text{ or } (1 \\leq 2x + y \\leq 5) \\\\\n",
    "& x, y, z \\in \\{0,1,2,3\\}.\n",
    "\\end{split}\n",
    "\\end{equation}\n",
    "$$\n",
    "\n",
    "The following Python code then solves this problem using **channeling constraints**, as described <a href=\"https://github.com/google/or-tools/blob/master/ortools/sat/doc/channeling.md\" style=\"text-decoration: none;\">here</a>."
   ]
  },
  {
   "cell_type": "code",
   "execution_count": 40,
   "metadata": {
    "scrolled": false
   },
   "outputs": [
    {
     "name": "stdout",
     "output_type": "stream",
     "text": [
      "Solving the CP problem...\n",
      "\n",
      "Printing all solutions...\n",
      "x = 0, y = 2, z = 3, b = 0, \n",
      "x = 1, y = 2, z = 3, b = 0, \n",
      "x = 2, y = 0, z = 3, b = 0, \n",
      "x = 2, y = 1, z = 3, b = 0, \n",
      "x = 2, y = 1, z = 0, b = 1, \n",
      "x = 3, y = 1, z = 0, b = 1, \n",
      "x = 1, y = 3, z = 2, b = 0, \n",
      "x = 0, y = 3, z = 2, b = 0, \n",
      "x = 0, y = 3, z = 1, b = 1, \n",
      "x = 1, y = 3, z = 0, b = 1, \n",
      "x = 1, y = 2, z = 0, b = 1, \n",
      "x = 0, y = 1, z = 2, b = 1, \n",
      "x = 0, y = 2, z = 1, b = 1, \n",
      "x = 0, y = 1, z = 3, b = 1, \n",
      "x = 1, y = 0, z = 3, b = 1, \n",
      "x = 1, y = 0, z = 2, b = 1, \n",
      "x = 2, y = 0, z = 1, b = 1, \n",
      "x = 3, y = 0, z = 1, b = 1, \n",
      "\n",
      "Number of solutions found: 18\n"
     ]
    }
   ],
   "source": [
    "# Solution to Example 2\n",
    "\n",
    "def cp_example2():\n",
    "    \n",
    "    ###############################################\n",
    "    # Create the model and solver\n",
    "    model = cp_model.CpModel()\n",
    "    solver = cp_model.CpSolver()\n",
    "    \n",
    "    ###############################################\n",
    "    # Create the variables\n",
    "    num_values = 4\n",
    "    x = model.NewIntVar(0, num_values - 1, \"x\")\n",
    "    y = model.NewIntVar(0, num_values - 1, \"y\")\n",
    "    z = model.NewIntVar(0, num_values - 1, \"z\")\n",
    "    \n",
    "    # Create boolean variable needed to implement the OR constraint\n",
    "    b = model.NewBoolVar(\"b\")\n",
    "    \n",
    "    ###############################################\n",
    "    # Create the constraints\n",
    "    #----------------------------------------------\n",
    "    # Constraint 1: (x != y) & (y != z) & (z != x)\n",
    "    model.AddAllDifferent([x, y, z])\n",
    "    \n",
    "    #----------------------------------------------\n",
    "    # Constraint 2: (x + y + z <= 4) or (1 <= 2x + y <= 5)\n",
    "    model.Add(x + y + z <= 4).OnlyEnforceIf(b)\n",
    "    model.Add(x + y + z > 4).OnlyEnforceIf(b.Not())\n",
    "    model.AddLinearConstraint(terms=[(x, 2), (y, 1)], lb=1, ub=5).OnlyEnforceIf(b.Not())\n",
    "    \n",
    "    ###############################################\n",
    "    # Create a solution printer\n",
    "    solution_printer = SolutionPrinter([x, y, z, b])\n",
    "    \n",
    "    # Call the solver, verify solution and pront results\n",
    "    print(\"Solving the CP problem...\\n\")\n",
    "    print(\"Printing all solutions...\")\n",
    "    status = solver.SearchForAllSolutions(model, solution_printer)\n",
    "    assert status == cp_model.FEASIBLE\n",
    "    print('\\nNumber of solutions found: %i' % solution_printer.SolutionCount())\n",
    "\n",
    "if __name__ == \"__main__\":\n",
    "    cp_example2()"
   ]
  },
  {
   "cell_type": "markdown",
   "metadata": {},
   "source": [
    "***\n",
    "### Example 3: SAT problems with constraints\n",
    "Find a solution to the following **conjunctive normal form** (CNF) involving binary $\\{0,1\\}$ variables:\n",
    "\n",
    "$$\n",
    "(x_1 \\lor x_2 \\lor x_4) \\land (\\neg x_3 \\lor x_5 \\lor x_4) \\land (x_2 \\lor \\neg x_4 \\lor x_6) \\land (x_1 \\lor x_4 \\lor x_5)\n",
    "$$\n",
    "\n",
    "subject to the additional constraint that\n",
    "\n",
    "$$\n",
    "x_2 \\implies (x_5 \\lor x_3) \\land x_6.\n",
    "$$\n",
    "\n",
    "This is a specific instance of a 3-SAT problem with constraints. To solve this problem we need to use **reified constraints**. The Python code is given below."
   ]
  },
  {
   "cell_type": "code",
   "execution_count": 41,
   "metadata": {},
   "outputs": [
    {
     "name": "stdout",
     "output_type": "stream",
     "text": [
      "Solving the CP problem...\n",
      "\n",
      "Printing all solutions...\n",
      "x1 = 0, x2 = 0, x3 = 0, x4 = 1, x5 = 0, x6 = 1, \n",
      "x1 = 1, x2 = 0, x3 = 0, x4 = 1, x5 = 0, x6 = 1, \n",
      "x1 = 1, x2 = 0, x3 = 1, x4 = 1, x5 = 0, x6 = 1, \n",
      "x1 = 0, x2 = 0, x3 = 1, x4 = 1, x5 = 0, x6 = 1, \n",
      "x1 = 0, x2 = 0, x3 = 1, x4 = 1, x5 = 1, x6 = 1, \n",
      "x1 = 1, x2 = 0, x3 = 1, x4 = 1, x5 = 1, x6 = 1, \n",
      "x1 = 1, x2 = 0, x3 = 0, x4 = 1, x5 = 1, x6 = 1, \n",
      "x1 = 0, x2 = 0, x3 = 0, x4 = 1, x5 = 1, x6 = 1, \n",
      "x1 = 0, x2 = 1, x3 = 0, x4 = 1, x5 = 1, x6 = 1, \n",
      "x1 = 1, x2 = 1, x3 = 0, x4 = 1, x5 = 1, x6 = 1, \n",
      "x1 = 1, x2 = 1, x3 = 1, x4 = 1, x5 = 1, x6 = 1, \n",
      "x1 = 0, x2 = 1, x3 = 1, x4 = 1, x5 = 1, x6 = 1, \n",
      "x1 = 0, x2 = 1, x3 = 1, x4 = 1, x5 = 0, x6 = 1, \n",
      "x1 = 1, x2 = 1, x3 = 1, x4 = 1, x5 = 0, x6 = 1, \n",
      "x1 = 1, x2 = 0, x3 = 1, x4 = 0, x5 = 1, x6 = 1, \n",
      "x1 = 1, x2 = 0, x3 = 0, x4 = 0, x5 = 1, x6 = 1, \n",
      "x1 = 1, x2 = 0, x3 = 0, x4 = 0, x5 = 0, x6 = 1, \n",
      "x1 = 1, x2 = 1, x3 = 0, x4 = 0, x5 = 1, x6 = 1, \n",
      "x1 = 0, x2 = 1, x3 = 0, x4 = 0, x5 = 1, x6 = 1, \n",
      "x1 = 0, x2 = 1, x3 = 1, x4 = 0, x5 = 1, x6 = 1, \n",
      "x1 = 1, x2 = 1, x3 = 1, x4 = 0, x5 = 1, x6 = 1, \n",
      "x1 = 1, x2 = 0, x3 = 1, x4 = 0, x5 = 1, x6 = 0, \n",
      "x1 = 1, x2 = 0, x3 = 0, x4 = 0, x5 = 1, x6 = 0, \n",
      "x1 = 1, x2 = 0, x3 = 0, x4 = 0, x5 = 0, x6 = 0, \n",
      "\n",
      "Number of solutions found: 24\n"
     ]
    }
   ],
   "source": [
    "# Solution to Example 3\n",
    "\n",
    "def cp_example3():\n",
    "    \n",
    "    ###############################################\n",
    "    # Create the model and solver\n",
    "    model = cp_model.CpModel()\n",
    "    solver = cp_model.CpSolver()\n",
    "    \n",
    "    ###############################################\n",
    "    # Create the boolean variables\n",
    "    x1 = model.NewBoolVar(\"x1\")\n",
    "    x2 = model.NewBoolVar(\"x2\")\n",
    "    x3 = model.NewBoolVar(\"x3\")\n",
    "    x4 = model.NewBoolVar(\"x4\")\n",
    "    x5 = model.NewBoolVar(\"x5\")\n",
    "    x6 = model.NewBoolVar(\"x6\")\n",
    "    \n",
    "    ###############################################\n",
    "    # Create the constraints\n",
    "    #----------------------------------------------\n",
    "    # Constraint 1: 3-SAT clause\n",
    "    model.AddBoolOr([x1, x2, x4])\n",
    "    model.AddBoolOr([x3.Not(), x5, x4])\n",
    "    model.AddBoolOr([x2, x4.Not(), x6])\n",
    "    model.AddBoolOr([x1, x4, x5])\n",
    "    \n",
    "    #----------------------------------------------\n",
    "    # Constraint 2: x2 => (x5 OR x3) & x6\n",
    "    \n",
    "    # Create extra boolean variables to implement constraints\n",
    "    y1 = model.NewBoolVar(\"y1\")\n",
    "    y2 = model.NewBoolVar(\"y2\")\n",
    "    \n",
    "    model.AddBoolOr([x5, x3]).OnlyEnforceIf(y1)\n",
    "    model.AddBoolAnd([x5.Not(), x3.Not()]).OnlyEnforceIf(y1.Not())\n",
    "    model.AddBoolAnd([y1, x6]).OnlyEnforceIf(y2)\n",
    "    model.AddBoolOr([y1.Not(), x6.Not()]).OnlyEnforceIf(y2.Not())\n",
    "    model.AddImplication(x2, y2)\n",
    "    \n",
    "    \"\"\"\n",
    "    #---------------DIFFERENT WAY------------------\n",
    "    # Constraint 2: x2 => (x5 OR x3) & x6\n",
    "    \n",
    "    # Create extra boolean variables to implement constraints\n",
    "    y1 = model.NewBoolVar(\"y1\")\n",
    "    \n",
    "    model.AddBoolOr([x5, x3]).OnlyEnforceIf(y1)\n",
    "    model.AddBoolAnd([x5.Not(), x3.Not()]).OnlyEnforceIf(y1.Not())\n",
    "    model.AddImplication(x2, y1)\n",
    "    model.AddImplication(x2, x6)\n",
    "    \"\"\"\n",
    "    \n",
    "    ###############################################\n",
    "    # Create a solution printer\n",
    "    solution_printer = SolutionPrinter([x1, x2, x3, x4, x5, x6])\n",
    "    \n",
    "    # Call the solver, verify solution and pront results\n",
    "    print(\"Solving the CP problem...\\n\")\n",
    "    print(\"Printing all solutions...\")\n",
    "    status = solver.SearchForAllSolutions(model, solution_printer)\n",
    "    assert status == cp_model.FEASIBLE\n",
    "    print('\\nNumber of solutions found: %i' % solution_printer.SolutionCount())\n",
    "\n",
    "if __name__ == \"__main__\":\n",
    "    cp_example3()"
   ]
  },
  {
   "cell_type": "markdown",
   "metadata": {},
   "source": [
    "***\n",
    "### Example 4: Integer optimization\n",
    "CP can also be used to solve integer optimization problems in many cases. Consider the ILP:\n",
    "\n",
    "$$\n",
    "\\begin{equation}\n",
    "\\begin{split}\n",
    "\\text{maximize} \\;\\; & x_1 + 2 x_2 - 3 x_3 + x_4  \\\\\n",
    "\\text{subject to} \\;\\; & 3 x_2 + x_4 + x_5 \\leq 10 \\\\\n",
    "& x_1 + x_3 + x_4 \\leq 15 \\\\\n",
    "& x_1, x_2, x_3 \\in \\{1,2,3,4\\} \\\\\n",
    "& x_4, x_5 \\in \\{0,1,2,3,4\\}.\n",
    "\\end{split}\n",
    "\\end{equation}\n",
    "$$\n",
    "\n",
    "Here is the Python code that solves this problem using the ```CP-SAT``` solver."
   ]
  },
  {
   "cell_type": "code",
   "execution_count": 42,
   "metadata": {},
   "outputs": [
    {
     "name": "stdout",
     "output_type": "stream",
     "text": [
      "Solving the CP problem...\n",
      "\n",
      "Optimal objective value: 9.0\n",
      "x1 = 4\n",
      "x2 = 2\n",
      "x3 = 1\n",
      "x4 = 4\n",
      "x5 = 0\n"
     ]
    }
   ],
   "source": [
    "# Solution to Example 4\n",
    "\n",
    "def cp_example4():\n",
    "    \n",
    "    # Create the model and solver\n",
    "    model = cp_model.CpModel()\n",
    "    solver = cp_model.CpSolver()\n",
    "    \n",
    "    # Create the variables\n",
    "    x1 = model.NewIntVar(1, 4, \"x1\")\n",
    "    x2 = model.NewIntVar(1, 4, \"x2\")\n",
    "    x3 = model.NewIntVar(1, 4, \"x3\")\n",
    "    x4 = model.NewIntVar(0, 4, \"x4\")\n",
    "    x5 = model.NewIntVar(0, 4, \"x5\")\n",
    "    \n",
    "    # Create the constraints\n",
    "    \n",
    "    # Constraint 1: 3 * x2 + x4 + x5 <= 10\n",
    "    model.AddLinearConstraint(terms=[(x2, 3), (x4, 1), (x5, 1)], lb=0, ub=10)\n",
    "    \n",
    "    # Constraint 2: x1 + x3 + x4 <= 15\n",
    "    model.AddSumConstraint([x1, x3, x4], lb=0, ub=15)\n",
    "    \n",
    "    # Create the objective: x1 + 2 * x2 - 3 * x3 + x4\n",
    "    model.Maximize(x1 + 2 * x2 - 3 * x3 + x4)\n",
    "    \n",
    "    # Call the solver\n",
    "    print(\"Solving the CP problem...\\n\")\n",
    "    status = solver.Solve(model)\n",
    "    \n",
    "    # Verify solution and print result\n",
    "    assert status == cp_model.OPTIMAL\n",
    "    print(\"Optimal objective value:\", solver.ObjectiveValue())\n",
    "    for var in [x1, x2, x3, x4, x5]:\n",
    "        print(var.name(), \"=\", solver.Value(var))\n",
    "\n",
    "if __name__ == \"__main__\":\n",
    "    cp_example4()"
   ]
  },
  {
   "cell_type": "markdown",
   "metadata": {},
   "source": [
    "***\n",
    "### Exercise 4: N-queens problem\n",
    "Study the N-queen's problem as described on the <a href=\"https://developers.google.com/optimization/cp/queens\" style=\"text-decoration: none;\">documentation page</a>. The problem is solved there using the ```original CP solver```. Solve it using ```CP-SAT``` solver."
   ]
  },
  {
   "cell_type": "code",
   "execution_count": 43,
   "metadata": {},
   "outputs": [],
   "source": [
    "# Write your code here"
   ]
  },
  {
   "cell_type": "markdown",
   "metadata": {},
   "source": [
    "***\n",
    "## Scheduling problems\n",
    "Many optimization problems involving assigning resources to perform a set of specific tasks, and at different times, frequently arise in the manufacturing industries, as well in the transportation and delivery sector. These problems are broadly classified under the umbrella of **scheduling problems**. Typically, the goal of such problems is to find a schedule that minimizes the total amount of time (or cost) required to complete all the tasks.\n",
    "\n",
    "The ```CP-SAT``` solver is capable of solving many such problems. Two specific problems that is somewhat widely applciable are:\n",
    "- <a href=\"https://developers.google.com/optimization/scheduling/job_shop\" style=\"text-decoration: none;\">The job shop problem</a>.\n",
    "- <a href=\"https://developers.google.com/optimization/scheduling/employee_scheduling\" style=\"text-decoration: none;\">The employee scheduling problem</a>.\n",
    "\n",
    "The documentation of ```ortools``` guides you on how to solve these problems using the ```original CP solver```. In this tutorial, we will cover how to solve the **job shop problem** using ```CP-SAT```. You will be asked to do the same for the **employee scheduling problem** as an exercise. It is good to know both these problems, as they are extremely common."
   ]
  },
  {
   "cell_type": "markdown",
   "metadata": {},
   "source": [
    "***\n",
    "### Example 1: The job shop problem\n",
    "Let us first describe the basic setup of the job shop problem. We have a finite set of jobs $J_1, \\dots, J_N$, and each job has associated to it a finite set of tasks. So for the $i^{\\text{th}}$ job $J_i$, we have the tasks $T_i = \\{t_{i,1}, \\dots, t_{i,m_i}\\}$, and all the $m_i$ need not be the same, for all $1 \\leq i \\leq N$. We also have a finite set $P$ of processors on which the tasks can be executed, $P = \\{p_1,\\dots,p_M\\}$. Next for each $i$, $1 \\leq i \\leq N$, we have a map $f_i: T_i \\rightarrow P$, from the set of tasks to the set of processors and another function $g_i: T_i \\rightarrow \\mathbb{N}$, which signifies the amount of time taken by each task to complete.\n",
    "\n",
    "The basic task in the job shop scheduling problem is to create a plan of execution of all the tasks on the given processors, subject to the following constraints:\n",
    "- For each job $J_i$, if $1 \\leq j_1 < j_2 \\leq m_i$, then task $t_{i,j_2}$ can only start after task $t_{i,j_1}$ has finished completely.\n",
    "- Every task $t_{i,j}$ must necessarily execute on the processor $f_i(t_{i,j})$.\n",
    "- Only one task can be executed on a processor at any given time.\n",
    "\n",
    "The goal then is to minimize the total time of completion for all the jobs.\n",
    "\n",
    "**Note: In general the times taken by the tasks need not be integers, but we need this to be able to solve this problem using ```CP-SAT```.**\n",
    "\n",
    "In order to solve this problem, let us assign a non-negative integer variable $x_{i,j}$ that denotes the start time for task $t_{i,j}$, for all $i,j$. We will assume that each task has been assigned to the correct processor, and so there will not be a need to implement this constraint explicitly. The goals of the job shop scheduling problem can be expressed as the following combinatorial **minimax** problem:\n",
    "\n",
    "$$\n",
    "\\begin{equation}\n",
    "\\begin{split}\n",
    "\\text{minimize} \\;\\; & \\max \\{x_{i,j} + g_i(t_{i,j}) : 1 \\leq i \\leq N, 1 \\leq j \\leq m_i \\}  \\\\\n",
    "\\text{subject to} \\;\\; & x_{i,j} + g_i(t_{i,j}) \\leq x_{i,j+1}, \\; \\forall \\; 1 \\leq i \\leq N, 1 \\leq j \\leq m_i - 1 \\\\\n",
    "& \\left( x_{i_1,j_1} + g_{i_1}(t_{i_1,j_1}) \\leq x_{i_2,j_2} \\right) \\; \\text{or} \\; \\left( x_{i_2,j_2} + g_{i_2}(t_{i_2,j_2}) \\leq x_{i_1,j_1} \\right), \\; \\forall \\; i_1, i_2, j_1, j_2, \\text{ such that } \\; f_{i_1}(t_{i_1,j_1}) = f_{i_2}(t_{i_2,j_2}) \\\\\n",
    "& x_{i,j} \\in \\mathbb{N}, \\; \\forall \\; 1 \\leq i \\leq N, 1 \\leq j \\leq m_i.\n",
    "\\end{split}\n",
    "\\end{equation}\n",
    "$$\n",
    "\n",
    "We take the specific instance of the job shop scheduling problem described <a href=\"https://developers.google.com/optimization/scheduling/job_shop\" style=\"text-decoration: none;\">here</a>. The following Python code then solves this problem using ```CP-SAT```."
   ]
  },
  {
   "cell_type": "code",
   "execution_count": 44,
   "metadata": {},
   "outputs": [
    {
     "name": "stdout",
     "output_type": "stream",
     "text": [
      "Solving the CP problem...\n",
      "\n",
      "Time needed to finish all jobs in the optimal schedule: 11.0\n",
      "\n",
      "\n",
      "Job schedule:\n",
      "\n",
      "Job 0\n",
      "Task 0: start = 0 , end = 3 , proc = 0\n",
      "Task 1: start = 4 , end = 6 , proc = 1\n",
      "Task 2: start = 6 , end = 8 , proc = 2\n",
      "\n",
      "Job 1\n",
      "Task 0: start = 3 , end = 5 , proc = 0\n",
      "Task 1: start = 5 , end = 6 , proc = 2\n",
      "Task 2: start = 6 , end = 10 , proc = 1\n",
      "\n",
      "Job 2\n",
      "Task 0: start = 0 , end = 4 , proc = 1\n",
      "Task 1: start = 8 , end = 11 , proc = 2\n"
     ]
    }
   ],
   "source": [
    "# Solution to the job shop problem\n",
    "\n",
    "def job_shop_cpsat(machines, processing_times):\n",
    "    \n",
    "    \"\"\"\n",
    "    Machines and processing times need to have the same shape\n",
    "    \"\"\"\n",
    "    \n",
    "    ###############################################\n",
    "    # Get number of jobs\n",
    "    num_jobs = len(machines)\n",
    "    \n",
    "    # Get processor ids and number of different processors\n",
    "    procs = []\n",
    "    for job in machines:\n",
    "        for task_proc in job:\n",
    "            if task_proc not in procs:\n",
    "                procs.append(task_proc)\n",
    "    \n",
    "    procs.sort()\n",
    "    num_procs = len(procs)\n",
    "    \n",
    "    ###############################################\n",
    "    # Create the model and solver\n",
    "    model = cp_model.CpModel()\n",
    "    solver = cp_model.CpSolver()\n",
    "    \n",
    "    ###############################################\n",
    "    # Get an upper bound on maximum time needed to solve the problem\n",
    "    ub = 0\n",
    "    for job in processing_times:\n",
    "        for task_time in job:\n",
    "            ub += task_time\n",
    "    \n",
    "    ###############################################\n",
    "    # Create start, end, and interval variables (one for each task)\n",
    "    variables_start = [[] for _ in range(num_jobs)]\n",
    "    variables_end = [[] for _ in range(num_jobs)]\n",
    "    variables_interval = [[] for _ in range(num_jobs)]\n",
    "    \n",
    "    for i, job in enumerate(processing_times):\n",
    "        for j, task_time in enumerate(job):\n",
    "            \n",
    "            start = model.NewIntVar(0, ub, \"x\" + str(i) + str(j))\n",
    "            end = model.NewIntVar(0, ub, \"y\" + str(i) + str(j))\n",
    "            interval = model.NewIntervalVar(start, task_time, end, \"i\" + str(i) + str(j))\n",
    "            \n",
    "            variables_start[i].append(start)\n",
    "            variables_end[i].append(end)\n",
    "            variables_interval[i].append(interval)\n",
    "    \n",
    "    # Create a list of interval variables by processors\n",
    "    variables_proc = [[] for _ in range(num_procs)]\n",
    "    for i, job in enumerate(machines):\n",
    "        for j, task_proc in enumerate(job):\n",
    "            variables_proc[task_proc].append(variables_interval[i][j])\n",
    "    \n",
    "    ###############################################\n",
    "    # Create the constraints\n",
    "    \n",
    "    # Constraint 1 (no task for a job can start before all preceding tasks of the same job finish)\n",
    "    for i, job in enumerate(variables_start):\n",
    "        num_tasks = len(job)\n",
    "        \n",
    "        for j in range(1, num_tasks):\n",
    "            model.Add(variables_start[i][j] >= variables_end[i][j - 1])\n",
    "    \n",
    "    # Constraint 2 (each processor runs one task at any given time)\n",
    "    for interval_variables in variables_proc:\n",
    "        model.AddNoOverlap(interval_variables)\n",
    "    \n",
    "    ###############################################\n",
    "    # Create the objective\n",
    "    obj = model.NewIntVar(0, ub, \"obj\")\n",
    "    model.AddMaxEquality(obj, [var_end for job in variables_end for var_end in job])\n",
    "    model.Minimize(obj)\n",
    "    \n",
    "    ###############################################\n",
    "    # Call the solver\n",
    "    print(\"Solving the CP problem...\\n\")\n",
    "    status = solver.Solve(model)\n",
    "    \n",
    "    ###############################################\n",
    "    # Verify solution and print schedule\n",
    "    assert status == cp_model.OPTIMAL\n",
    "    print(\"Time needed to finish all jobs in the optimal schedule:\", solver.ObjectiveValue())\n",
    "    print(\"\\n\")\n",
    "    \n",
    "    print(\"Job schedule:\")\n",
    "    for i, job in enumerate(variables_start):\n",
    "        print(\"\\nJob \" + str(i))\n",
    "        for j, _ in enumerate(job):\n",
    "            print(\n",
    "                \"Task \" + str(j) + \": start =\", \n",
    "                solver.Value(variables_start[i][j]), \n",
    "                \", end =\",\n",
    "                solver.Value(variables_end[i][j]),\n",
    "                \", proc =\",\n",
    "                machines[i][j]\n",
    "            )\n",
    "\n",
    "if __name__ == \"__main__\":\n",
    "    \n",
    "    # Create data for the problem (machines and processing times need to have the same shape)\n",
    "    machines = [[0, 1, 2], [0, 2, 1], [1, 2]]\n",
    "    processing_times = [[3, 2, 2], [2, 1, 4], [4, 3]]\n",
    "    \n",
    "    # Solve the problem\n",
    "    job_shop_cpsat(machines=machines, processing_times=processing_times)"
   ]
  },
  {
   "cell_type": "markdown",
   "metadata": {},
   "source": [
    "***\n",
    "### Exercise 5: Employee scheduling\n",
    "Study the employee scheduling problem as described <a href=\"https://developers.google.com/optimization/scheduling/employee_scheduling\" style=\"text-decoration: none;\">here</a>. Solve it using the ```CP-SAT``` solver."
   ]
  },
  {
   "cell_type": "code",
   "execution_count": 45,
   "metadata": {},
   "outputs": [],
   "source": [
    "# Write your code here"
   ]
  },
  {
   "cell_type": "markdown",
   "metadata": {},
   "source": [
    "***\n",
    "## Graph algorithms\n",
    "Many problems in combinatorial optimization arise from graph theory; some examples are network flow problems, finding hamiltonian paths, finding shortest paths, and the traveling salesman problem, just to name a few. ```ortools``` provides two libraries - the ```algorithms``` library, and the ```graph``` library, that solves a great majority of these problems. The reader is encouraged to look up these libraries:\n",
    "- ```algorithms```: <a href=\"https://developers.google.com/optimization/reference/algorithms/\" style=\"text-decoration: none;\">https://developers.google.com/optimization/reference/algorithms/</a>.\n",
    "- ```graph```: <a href=\"https://developers.google.com/optimization/reference/graph/\" style=\"text-decoration: none;\">https://developers.google.com/optimization/reference/graph/</a>.\n",
    "\n",
    "In this tutorial we will look at the **network flow** class of problems. Generally speaking network flow problems involve transporting goods or materials across a network. The network could for example consist of cities, and roads or railways connecting them. In that case, the network can be represented as a graph, with the cities being represented by **vertices** and road / railway connection between cities being represented by **edges** or **arcs**. Each arc also comes with a capacity constraint representing the maximum amount of good that can be transported across it in unit time.\n",
    "\n",
    "We will look at two flow problems that arise quite frequently - the **maximum flow** problem, and the **minimum cost flow** problem, and will solve them using ```ortools```. More information on network flows and how to solve them using ```ortools``` can be found <a href=\"https://developers.google.com/optimization/flow/\" style=\"text-decoration: none;\">here</a>.\n",
    "\n",
    "But first we import the graph library in Python."
   ]
  },
  {
   "cell_type": "code",
   "execution_count": 46,
   "metadata": {},
   "outputs": [],
   "source": [
    "from ortools.graph import pywrapgraph"
   ]
  },
  {
   "cell_type": "markdown",
   "metadata": {},
   "source": [
    "***\n",
    "### Maximum flow problem\n",
    "The maximum flow problem is described by a **directed** graph $G(V,E)$. An edge $e := (u,v), \\; e \\in E$, will denote a directed edge starting at the vertex $u \\in V$ and ending at the vertex $v \\in V$, and in addition each edge also has a capacity constraint, which are only required to be positive for the maximum flow problem, but in addition we will also need them to be postive integers for us to be able to solve them using ```ortools``` - thus we will assume that this is the case going forward. In addition, there are two special vertices in the graph called the **source** and the **sink**, which are denoted $s$ and $t$ respectively. A **valid flow** is an assignment of non-negative integers to the directed edges that satisfy the following constraints:\n",
    "- For every edge, the assigned flow does not exceed the capacity of the edge.\n",
    "- At every vertex, except $s$ and $t$, the net flow of the incident edges, i.e. the sum of flows of incoming edges minus the sum of flows of outgoing edges, must be zero.\n",
    "\n",
    "The objective of the maximum flow problem is to find a valid flow assignment that maximizes the net outflow from $s$, or alternatively the net inflow into $t$. Both of them are equivalent, and a proof of this fact can be found in any introductory graph theory textbook.\n",
    "\n",
    "Let us take a specific problem - in fact we will use the example problem described in the <a href=\"https://developers.google.com/optimization/flow/maxflow\" style=\"text-decoration: none;\">documentation page</a>.\n",
    "\n",
    "The data for the problem is given by the list of tuples: ```(start_node, end_node, capacity)```. The first two entities in each tuple denote the start and end vertices respectively of a directed edge of a graph, and the third entity denotes the capacity. "
   ]
  },
  {
   "cell_type": "code",
   "execution_count": 49,
   "metadata": {},
   "outputs": [],
   "source": [
    "# Data for the problem\n",
    "data = [(0, 1, 20), (0, 2, 30), (0, 3, 10), (1, 2, 40), (1, 4, 30), (2, 3, 10), (2, 4, 20), (3, 2, 5), (3, 4, 20)]\n",
    "\n",
    "# Declare source and sink\n",
    "s = 0\n",
    "t = 4"
   ]
  },
  {
   "cell_type": "markdown",
   "metadata": {},
   "source": [
    "```ortools``` provides the method ```pywrapgraph.SimpleMaxFlow``` to solve this problem. The following Python code illustrates how to use it."
   ]
  },
  {
   "cell_type": "code",
   "execution_count": 50,
   "metadata": {},
   "outputs": [
    {
     "name": "stdout",
     "output_type": "stream",
     "text": [
      "Max flow: 60\n",
      "\n",
      "  Arc    Flow / Capacity\n",
      "0 -> 1    20  /  20\n",
      "0 -> 2    30  /  30\n",
      "0 -> 3    10  /  10\n",
      "1 -> 2     0  /  40\n",
      "1 -> 4    20  /  30\n",
      "2 -> 3    10  /  10\n",
      "2 -> 4    20  /  20\n",
      "3 -> 2     0  /   5\n",
      "3 -> 4    20  /  20\n",
      "Source side min-cut: [0]\n",
      "Sink side min-cut: [4, 1]\n"
     ]
    }
   ],
   "source": [
    "# Create lists for start, end, and capacities\n",
    "start_nodes = []\n",
    "end_nodes = []\n",
    "capacities = []\n",
    "\n",
    "for item in data:\n",
    "    start_nodes.append(item[0])\n",
    "    end_nodes.append(item[1])\n",
    "    capacities.append(item[2])\n",
    "\n",
    "# Instantiate a SimpleMaxFlow solver\n",
    "max_flow = pywrapgraph.SimpleMaxFlow()\n",
    "\n",
    "# Add each arc\n",
    "for i in range(0, len(start_nodes)):\n",
    "    max_flow.AddArcWithCapacity(start_nodes[i], end_nodes[i], capacities[i])\n",
    "\n",
    "# Solve the maximum flow problem and check for optimality\n",
    "status = max_flow.Solve(s, t)\n",
    "assert status == max_flow.OPTIMAL\n",
    "\n",
    "# Display results\n",
    "print('Max flow:', max_flow.OptimalFlow())\n",
    "print('')\n",
    "print('  Arc    Flow / Capacity')\n",
    "for i in range(max_flow.NumArcs()):\n",
    "    print('%1s -> %1s   %3s  / %3s' % (max_flow.Tail(i), max_flow.Head(i), max_flow.Flow(i), max_flow.Capacity(i)))\n",
    "\n",
    "print('Source side min-cut:', max_flow.GetSourceSideMinCut())\n",
    "print('Sink side min-cut:', max_flow.GetSinkSideMinCut())"
   ]
  },
  {
   "cell_type": "markdown",
   "metadata": {},
   "source": [
    "***\n",
    "### Exercise 6\n",
    "- Run some simple experiments by choosing different nodes as $s$ and $t$ in the above example.\n",
    "- Change the problem data as you wish and find the maximum flow solution."
   ]
  },
  {
   "cell_type": "markdown",
   "metadata": {},
   "source": [
    "***\n",
    "### Minimum cost flow problem\n",
    "The minimum cost flow problem is an optimization problem that is encountered very frequently in logistics planning, and supply chain management. The basic idea is that there is a network, just like in the maximum flow problem, and there are some nodes where resources are produced, while there are other nodes where resources are consumed. The goal is to transport the resources from the supply nodes to the demand nodes at the minimum cost.\n",
    "\n",
    "The problem is closely related to the maximum flow problem, but there are some key differences. We again model the network using a **directed** graph $G(V,E)$. An edge (arc) $e := (u,v), \\; e \\in E$, denotes a directed edge starting at the vertex $u \\in V$ and ending at the vertex $v \\in V$, and as before has a capacity which is a postive integer (due to ```ortools``` requirement). In addition, there are special vertices in the graph called **supply** and **demand** nodes, where resources (flow) are either created or consumed respectively. In fact we will model all vertices as **supply** nodes, with the convention that a node is a supply node if and only if it has a positive integral supply of resources, it is a demand node if and only if it has a negative integral supply of resources (i.e. positive integral demand for resources), and a normal vertex if and only if it has exactly zero supply of resources. The supplies must be integers. Another difference as compared to the maximum flow problem is that there is also a unit cost (again non-negative integers) associated with transporting resources across each arc, and so if the flow value through an arc is $f$, and the unit cost for the arc is $c$, then the total cost incurred for that arc is $cf$.\n",
    "\n",
    "A **valid flow** is an assignment of non-negative integers to the directed edges that satisfy the following constraints:\n",
    "- For every edge, the assigned flow does not exceed the capacity of the edge.\n",
    "- At every vertex that is not a supply or demand node, the net flow of the incident edges, i.e. the sum of flows of outgoing edges minus the sum of flows of incoming edges, must be zero.\n",
    "- At a supply node, the net flow of the incident edges should equal the supply.\n",
    "- At a demand node, the net flow of the incident edges should equal the negative of the demand.\n",
    "\n",
    "It should be clear from the description above that the only way this could possibly work is if the supply at the **supply** nodes equal the demand at the **demand** nodes, i.e. in our language above the total sum of the supplies at all the vertices must be exactly zero!\n",
    "\n",
    "The goal of the minimum cost flow problem is then to design a valid flow which achieves the minimum cost."
   ]
  },
  {
   "cell_type": "markdown",
   "metadata": {},
   "source": [
    "We demonstrate this using the specific example described in the <a href=\"https://developers.google.com/optimization/flow/mincostflow\" style=\"text-decoration: none;\">documentation page</a>.\n",
    "\n",
    "The data for the problem is given by the list of tuples: ```(start_node, end_node, capacity, unit_cost)```. The first two entities in each tuple denote the start and end vertices respectively of a directed edge of a graph, the third entity denotes its capacity, and the last element of the tuple denotes the cost of unit flow through the edge. The supplies for each node of the graph is also input."
   ]
  },
  {
   "cell_type": "code",
   "execution_count": 53,
   "metadata": {},
   "outputs": [],
   "source": [
    "# Data for the problem\n",
    "data = [\n",
    "    (0, 1, 15, 4), \n",
    "    (0, 2, 8, 4), \n",
    "    (1, 2, 20, 2), \n",
    "    (1, 3, 4, 2), \n",
    "    (1, 4, 10, 6), \n",
    "    (2, 3, 15, 1), \n",
    "    (2, 4, 4, 3), \n",
    "    (3, 4, 20, 2), \n",
    "    (4, 2, 5, 3)\n",
    "]\n",
    "\n",
    "# Define an array of supplies at each node\n",
    "supplies = [20, 0, 0, -5, -15]"
   ]
  },
  {
   "cell_type": "markdown",
   "metadata": {},
   "source": [
    "```ortools``` provides the method ```pywrapgraph.SimpleMinCostFlow``` to solve this problem. The following Python code illustrates how to use it."
   ]
  },
  {
   "cell_type": "code",
   "execution_count": 54,
   "metadata": {},
   "outputs": [
    {
     "name": "stdout",
     "output_type": "stream",
     "text": [
      "Minimum cost: 150\n",
      "\n",
      "  Arc    Flow / Capacity  Cost\n",
      "0 -> 1    12  /  15        48\n",
      "0 -> 2     8  /   8        32\n",
      "1 -> 2     8  /  20        16\n",
      "1 -> 3     4  /   4         8\n",
      "1 -> 4     0  /  10         0\n",
      "2 -> 3    12  /  15        12\n",
      "2 -> 4     4  /   4        12\n",
      "3 -> 4    11  /  20        22\n",
      "4 -> 2     0  /   5         0\n"
     ]
    }
   ],
   "source": [
    "# Create lists for start, end, and capacities\n",
    "start_nodes = []\n",
    "end_nodes = []\n",
    "capacities = []\n",
    "unit_costs = []\n",
    "\n",
    "for item in data:\n",
    "    start_nodes.append(item[0])\n",
    "    end_nodes.append(item[1])\n",
    "    capacities.append(item[2])\n",
    "    unit_costs.append(item[3])\n",
    "\n",
    "# Instantiate a SimpleMinCostFlow solver\n",
    "min_cost_flow = pywrapgraph.SimpleMinCostFlow()\n",
    "\n",
    "# Add each arc.\n",
    "for i in range(0, len(start_nodes)):\n",
    "    min_cost_flow.AddArcWithCapacityAndUnitCost(start_nodes[i], end_nodes[i], capacities[i], unit_costs[i])\n",
    "\n",
    "# Add node supplies.\n",
    "for i in range(0, len(supplies)):\n",
    "    min_cost_flow.SetNodeSupply(i, supplies[i])\n",
    "\n",
    "# Solve the maximum flow problem and check for optimality\n",
    "status = min_cost_flow.Solve()\n",
    "assert status == min_cost_flow.OPTIMAL\n",
    "\n",
    "# Display results\n",
    "print('Minimum cost:', min_cost_flow.OptimalCost())\n",
    "print('')\n",
    "print('  Arc    Flow / Capacity  Cost')\n",
    "for i in range(min_cost_flow.NumArcs()):\n",
    "    cost = min_cost_flow.Flow(i) * min_cost_flow.UnitCost(i)\n",
    "    print(\n",
    "        '%1s -> %1s   %3s  / %3s       %3s' % (\n",
    "            min_cost_flow.Tail(i), \n",
    "            min_cost_flow.Head(i), \n",
    "            min_cost_flow.Flow(i), \n",
    "            min_cost_flow.Capacity(i), \n",
    "            cost\n",
    "        )\n",
    "    )"
   ]
  },
  {
   "cell_type": "markdown",
   "metadata": {},
   "source": [
    "***\n",
    "### Exercise 7: Assignment as a min cost flow, MIP and CP problem.\n",
    "If you are interested, you should read up the sections that describe how to pose assignment as a min cost flow problem, as a MIP problem, and as a CP problem [<a href=\"https://developers.google.com/optimization/assignment/simple_assignment\" style=\"text-decoration: none;\">link1</a>, <a href=\"https://developers.google.com/optimization/assignment/assignment_min_cost_flow\" style=\"text-decoration: none;\">link2</a>, <a href=\"https://developers.google.com/optimization/assignment/assignment_mip\" style=\"text-decoration: none;\">link3</a>]."
   ]
  },
  {
   "cell_type": "markdown",
   "metadata": {},
   "source": [
    "***\n",
    "### Exercise 8 (Bonus, Self-Study): Routing problems\n",
    "In this tutorial we did not get the time to discuss routing problems. If you want to learn about them you can start on the <a href=\"https://developers.google.com/optimization/routing/\" style=\"text-decoration: none;\">documentation page</a>.\n"
   ]
  }
 ],
 "metadata": {
  "kernelspec": {
   "display_name": "Python [conda env:cme193]",
   "language": "python",
   "name": "conda-env-cme193-py"
  },
  "language_info": {
   "codemirror_mode": {
    "name": "ipython",
    "version": 3
   },
   "file_extension": ".py",
   "mimetype": "text/x-python",
   "name": "python",
   "nbconvert_exporter": "python",
   "pygments_lexer": "ipython3",
   "version": "3.6.6"
  }
 },
 "nbformat": 4,
 "nbformat_minor": 2
}
