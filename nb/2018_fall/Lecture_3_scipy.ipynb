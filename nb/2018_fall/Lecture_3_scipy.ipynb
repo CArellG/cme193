{
 "cells": [
  {
   "cell_type": "markdown",
   "metadata": {},
   "source": [
    "# CME 193 - Lecture 3 - SciPy\n",
    "\n",
    "So far we've seen:\n",
    "* Basic Python syntax\n",
    "* Basic numeric arrays using NumPy\n",
    "\n",
    "Today we'll see:\n",
    "* Basic Python Classes\n",
    "* Linear Algebra in SciPy\n",
    "\n",
    "# Homework\n",
    "\n",
    "Homework 1 is now posted.  It will be due in 1 week.  After today's class you'll have everything you need to complete it:\n",
    "* Knowledge of Python Classes\n",
    "* Know how to do some basic linear algebra in SciPy\n",
    "* You've seen power method (last Lecture 2)\n",
    "\n",
    "# Classes/Object Oriented Programming\n",
    "\n",
    "The basic goal of classes is to give you a way to abstract away details when you program.  For instance, NumPy gave you an `array` class, which allowed you to store and pass around a large amount of information using a single variable, and perform a variety of operations on that variable (methods) without needing to implement them yourself.\n",
    "\n",
    "Many programming languages have the ability to accomplish similar levels of abstraction, although not all use the same terminology.\n",
    "\n",
    "Classes you've already seen:\n",
    "* Integers\n",
    "* Floats\n",
    "* Lists\n",
    "* NumPy Arrays\n",
    "* PyPlot - Figures, Axes, etc.\n",
    "\n",
    "When you want to make your own class, you need to write a class definition.  Then you can create objects using that class definition."
   ]
  },
  {
   "cell_type": "code",
   "execution_count": null,
   "metadata": {},
   "outputs": [],
   "source": [
    "# -- minimal example...\n",
    "# define class:\n",
    "class Leaf(object): \n",
    "    pass # there is no information in this class\n",
    "# instantiate object\n",
    "leaf = Leaf()\n",
    "\n",
    "print(leaf)\n",
    "print(type(leaf))\n",
    "print(isinstance(leaf, Leaf)) # checks class membership"
   ]
  },
  {
   "cell_type": "markdown",
   "metadata": {},
   "source": [
    "To put information in your class, add an initialization object"
   ]
  },
  {
   "cell_type": "code",
   "execution_count": null,
   "metadata": {},
   "outputs": [],
   "source": [
    "# example\n",
    "class Leaf(object):\n",
    "    def __init__(self, color):\n",
    "        self.color = color # private attribute \n",
    "    \n",
    "redleaf = Leaf('red')\n",
    "blueleaf = Leaf('blue')\n",
    "\n",
    "print(redleaf.color) # access the attribute using ."
   ]
  },
  {
   "cell_type": "markdown",
   "metadata": {},
   "source": [
    "## Class Hierarchy\n",
    "\n",
    "A natural thing to think about as it relates to classes is the notion of *hierarchy*. We imbue the notion of hierarchy through something called *inheritance*.\n",
    "\n",
    "An example:\n",
    "\n",
    "* Animal\n",
    "  * Bird\n",
    "    * Hawk \n",
    "    * Seagull\n",
    "    * ...\n",
    "  * Dog\n",
    "    * Shiba Inu\n",
    "    * Golden Retriever\n",
    "    * ...\n",
    "  * ..."
   ]
  },
  {
   "cell_type": "code",
   "execution_count": null,
   "metadata": {},
   "outputs": [],
   "source": [
    "# lets define an *abstract* base class.\n",
    "\n",
    "class Animal(object):\n",
    "    def __init__(self, n_legs, color):\n",
    "        self.n_legs = n_legs \n",
    "        self.color = color\n",
    "        \n",
    "    def make_noise(self): \n",
    "        print('noise')"
   ]
  },
  {
   "cell_type": "code",
   "execution_count": null,
   "metadata": {},
   "outputs": [],
   "source": [
    "# lets define some classes that will inherit\n",
    "class Dog(Animal): # note we use (Animal), not (object)\n",
    "    def __init__(self, color, name):\n",
    "        Animal.__init__(self, 4, color) # 4 legs\n",
    "        self.name = name \n",
    "        \n",
    "    def make_noise(self):\n",
    "        print(self.name + ': ' + 'woof')"
   ]
  },
  {
   "cell_type": "code",
   "execution_count": null,
   "metadata": {},
   "outputs": [],
   "source": [
    "class Bird(Animal):\n",
    "    def __init__(self, color, name, has_wings=True, can_fly=True):\n",
    "        Animal.__init__(self, 2, color) # 2 legs\n",
    "        self.name = name\n",
    "        self.has_wings = has_wings\n",
    "        self.can_fly = can_fly\n",
    "    \n",
    "    def make_noise(self):\n",
    "        print(self.name + ': chirp!')"
   ]
  },
  {
   "cell_type": "code",
   "execution_count": null,
   "metadata": {},
   "outputs": [],
   "source": [
    "# noise\n",
    "brutus = Dog('black', 'Brutus')\n",
    "brutus.make_noise()"
   ]
  },
  {
   "cell_type": "code",
   "execution_count": null,
   "metadata": {},
   "outputs": [],
   "source": [
    "shelly = Bird('white', 'Shelly')\n",
    "shelly.make_noise()"
   ]
  },
  {
   "cell_type": "markdown",
   "metadata": {},
   "source": [
    "There are some standard methods that one may want to overload / implement:\n",
    "\n",
    "* `__init__`: Constructor\n",
    "* `__repr__`: Represent the object (machine) \n",
    "* `__str__`: Represent the object (human) and gets called when you `print`\n",
    "    \n",
    "these `__method__` looking functions are built into Python!"
   ]
  },
  {
   "cell_type": "markdown",
   "metadata": {},
   "source": [
    "## Example: Rational Numbers\n",
    "\n",
    "Here we'l make a class that holds rational numbers (fractions).  That is, numbers of the form\n",
    "$$r = \\frac{p}{q}$$\n",
    "where $p$ and $q$ are integers"
   ]
  },
  {
   "cell_type": "code",
   "execution_count": null,
   "metadata": {},
   "outputs": [],
   "source": [
    "from numpy import gcd\n",
    "\n",
    "class Rational(object):\n",
    "    def __init__(self, p, q=1):\n",
    "    \n",
    "        if q == 0:\n",
    "            raise ValueError('Denominator must not be zero')\n",
    "        if not isinstance(p, int):\n",
    "            raise ValueError('Numerator must be an integer')\n",
    "        if not isinstance(q, int):\n",
    "            raise ValueError('Denominator must be an integer')\n",
    "        \n",
    "        g = int(gcd(p, q)) # because numpy returns a float\n",
    "        \n",
    "        self.p = p // g # integer division\n",
    "        self.q = q // g\n",
    "    \n",
    "    # method to convert rational to float\n",
    "    def __float__(self):\n",
    "        return float(self.p) / float(self.q)    \n",
    "    \n",
    "    # method to convert rational to string for printing\n",
    "    def __str__(self):\n",
    "        return '%d / %d' % (self.p, self.q)"
   ]
  },
  {
   "cell_type": "code",
   "execution_count": null,
   "metadata": {},
   "outputs": [],
   "source": [
    "a = Rational(6, 4)\n",
    "b = Rational(3, 2)\n",
    "\n",
    "print(\"a = \",a)\n",
    "print(\"b = \",b)\n",
    "print(\"float(a) = \", float(a))"
   ]
  },
  {
   "cell_type": "markdown",
   "metadata": {},
   "source": [
    "You can do cool things like overload math operators.  This lets you write code that looks like you would write math.  Recall\n",
    "\n",
    "$$ \\frac{p_1}{q_1} + \\frac{p_2}{q_2} = \\frac{p_1 q_2 + p_2 q_1}{q_1 q_2}$$"
   ]
  },
  {
   "cell_type": "code",
   "execution_count": null,
   "metadata": {},
   "outputs": [],
   "source": [
    "class Rational(object):\n",
    "    def __init__(self, p, q=1):\n",
    "    \n",
    "        if q == 0:\n",
    "            raise ValueError('Denominator must not be zero')\n",
    "        if not isinstance(p, int):\n",
    "            raise ValueError('Numerator must be an integer')\n",
    "        if not isinstance(q, int):\n",
    "            raise ValueError('Denominator must be an integer')\n",
    "        \n",
    "        g = int(gcd(p, q)) # because numpy returns a float\n",
    "        \n",
    "        self.p = p // g\n",
    "        self.q = q // g\n",
    "    \n",
    "    # method to convert rational to float\n",
    "    def __float__(self):\n",
    "        return float(self.p) / float(self.q)    \n",
    "    \n",
    "    # method to convert rational to string for printing\n",
    "    def __str__(self):\n",
    "        return '%d / %d' % (self.p, self.q)\n",
    "    \n",
    "    # method to add two rationals\n",
    "    def __add__(self, other): # that's two underscores \"_\" on each side\n",
    "        '''\n",
    "        this is R + X, where R is rational and X is another number\n",
    "        '''\n",
    "        if isinstance(other, Rational):\n",
    "            return Rational(self.p * other.q + other.p * self.q, self.q * other.q)\n",
    "        # -- if its an integer...\n",
    "        elif isinstance(other, int):\n",
    "            return Rational(self.p + other * self.q, self.q)\n",
    "        # -- otherwise, we assume it will be a float\n",
    "        return float(self) + float(other)\n",
    "    \n",
    "    def __radd__(self, other):\n",
    "        '''\n",
    "        this is X + R, where R is rational and X is not rational\n",
    "        '''\n",
    "        return self + other # addition commutes!\n",
    "    "
   ]
  },
  {
   "cell_type": "code",
   "execution_count": null,
   "metadata": {},
   "outputs": [],
   "source": [
    "r = Rational(3, 2)\n",
    "print('Integer adding:')\n",
    "print('right add')\n",
    "print(r + 4)\n",
    "print(float(r + 4))\n",
    "print('left add')\n",
    "print(4 + r)\n",
    "print(float(4 + r))"
   ]
  },
  {
   "cell_type": "markdown",
   "metadata": {},
   "source": [
    "# Exercise 1\n",
    "\n",
    "### Add more operations to `Rational`\n",
    "You can read about the available operations that you can overload [here](https://docs.python.org/3.3/reference/datamodel.html#emulating-numeric-types)\n",
    "\n",
    "Add the following operations to the `Rational` class:\n",
    "* `*` - use `__mul__` (and `__rmul__`)\n",
    "* `/` - use `__truediv__` (and `__rtruediv__`)\n",
    "* `-` - use `__sub__` (and `__rsub__`)\n",
    "\n",
    "You only need to define these operations between two `Rational` types - use an `isinstance(other, Rational)` block.\n",
    "\n",
    "Note that the `__r<op>__` methods only need to be overloaded if you want to interact with another class.\n",
    "\n",
    "Make a few examples to convince yourself that this works.\n",
    "\n",
    "### Create another class\n",
    "\n",
    "Implement a class to do arithmetic in the ring $\\mathbb{Z} \\mod N$ for some $N > 1$:\n",
    "* $a + b = (a + b) \\mod N$\n",
    "* $a * b = (a * b) \\mod N$\n",
    "\n",
    "You can either:\n",
    "* Choose a value for $N$ and hard-code it into your class\n",
    "* Specify $N$ for each object you create.\n",
    "    * make sure two objects are in the same ring when you do arithmetic!"
   ]
  },
  {
   "cell_type": "markdown",
   "metadata": {},
   "source": [
    "# SciPy\n",
    "\n",
    "SciPy is a library with a variety of modules useful for scientific computing.\n",
    "\n",
    "* Linear Algebra (Dense, Sparse)\n",
    "* Optimization\n",
    "* Special Functions\n",
    "* Integration\n",
    "* Image Processing\n",
    "* Statistics\n",
    "* ...\n",
    "\n",
    "See the [online reference](https://docs.scipy.org/doc/scipy/reference/) for additional information.\n",
    "\n",
    "The library is built on NumPy arrays for dense vectors/matrices.\n",
    "\n",
    "Today, we'll cover some linear algebra capabilities.  Thursday, we'll see the optimization module.\n",
    "\n",
    "# SciPy Dense Linear Algebra\n",
    "\n",
    "Why have a SciPy linear algebra module, when NumPy already has this?\n",
    "\n",
    "* SciPy always uses BLAS/LAPACK under the hood (usually faster)\n",
    "* SciPy adds to the number of functions available.\n",
    "\n",
    "You can find an introductory reference [here](https://docs.scipy.org/doc/scipy/reference/tutorial/linalg.html).  The syntax is the same as numpy for functions that are in both."
   ]
  },
  {
   "cell_type": "code",
   "execution_count": null,
   "metadata": {},
   "outputs": [],
   "source": [
    "import scipy.linalg as sla\n",
    "import numpy.linalg as nla"
   ]
  },
  {
   "cell_type": "code",
   "execution_count": null,
   "metadata": {
    "scrolled": true
   },
   "outputs": [],
   "source": [
    "# example of SVD\n",
    "A = np.random.normal(0, 1, (2,3))\n",
    "U, S, V = sla.svd(A) # scipy\n",
    "print(\"A  = \\n\", A)\n",
    "print(\"U = \\n\", U)\n",
    "print(\"S = \\n\", S)\n",
    "print(\"V = \\n\", V)\n",
    "U, S, V = nla.svd(A) # numpy\n",
    "print(\"U = \\n\", U)\n",
    "print(\"S = \\n\", S)\n",
    "print(\"V = \\n\", V)"
   ]
  },
  {
   "cell_type": "markdown",
   "metadata": {},
   "source": [
    "# Sparse Linear Algebra\n",
    "\n",
    "We've seen a bit of dense linear algebra in both NumPy and SciPy.  If you want to do sparse linear algebra, SciPy's `sparse` module provides standard sparse matrix formats, and functionality to solve linear systems, find eigenvalues, etc.\n",
    "\n",
    "[SciPy's Sparse Matrix Docs](https://docs.scipy.org/doc/scipy/reference/sparse.html)\n",
    "\n",
    "[SciPy's Sparse Linear Algebra Docs](https://docs.scipy.org/doc/scipy/reference/sparse.linalg.html#module-scipy.sparse.linalg)\n",
    "\n",
    "SciPy supports a variety of sparse matrix types:\n",
    "* CSC (compressed sparse column)\n",
    "* CSR (compressed sparse row)\n",
    "* COO (coordinate)\n",
    "* LIL (linked lists)\n",
    "* ... (specialized matrix types)\n",
    "\n",
    "[SciPy's Sparse Matrix Classes](https://docs.scipy.org/doc/scipy/reference/sparse.html#sparse-matrix-classes)"
   ]
  },
  {
   "cell_type": "code",
   "execution_count": null,
   "metadata": {},
   "outputs": [],
   "source": [
    "import numpy as np\n",
    "import scipy.sparse as sparse"
   ]
  },
  {
   "cell_type": "markdown",
   "metadata": {},
   "source": [
    "## Example: A Diffusion Operator\n",
    "\n",
    "suppose we want to construct a matrix representation of the laplacian\n",
    "$$ \\Delta = \\frac{\\partial^2}{\\partial_x^2}$$\n",
    "We'll stick to one dimension for simplicity, and use a simple finite difference scheme with spacing $h$\n",
    "$$ (\\Delta u)_i = \\frac{1}{h^2}(-2 u_i + u_{i+1} + u_{i-1})$$\n",
    "We'll use the matrix `L` to hold our Laplacian\n",
    "```python\n",
    "(L * u)[i] = (u[i+1] + u[i-1] - 2*u[i]) / h^2\n",
    "```\n",
    "The matrix `L` looks like\n",
    "$$\\frac{1}{h^2}\\begin{bmatrix}\n",
    "\\ddots &1 \\\\\n",
    "1 &-2 & 1\\\\\n",
    "& 1 & -2 & 1\\\\\n",
    "& & 1&\\ddots\n",
    "\\end{bmatrix}$$\n",
    "Note that I haven't said anything about boundary conditions...\n",
    "\n",
    "We'll now construct this matrix using `scipy.sparse.spdiags` which allows us to construct a sparse matrix with given diagonals - [documentation](https://docs.scipy.org/doc/scipy/reference/generated/scipy.sparse.spdiags.html#scipy.sparse.spdiags)"
   ]
  },
  {
   "cell_type": "code",
   "execution_count": null,
   "metadata": {},
   "outputs": [],
   "source": [
    "n = 100\n",
    "h = 1.0/n\n",
    "# construct diagonal\n",
    "diag = -2*np.ones(n)\n",
    "diag[0] = -1.\n",
    "diag[-1] = -1.\n",
    "diag /= (h**2)\n",
    "# construct off-diagonal\n",
    "odiag = np.ones(n) / (h**2)\n",
    "data = np.array([odiag, diag, odiag]) # entries\n",
    "diags = np.array([-1, 0, 1]) # left of diagonal, diagonal, right of diagonal\n",
    "L = sparse.spdiags(data, diags, n, n)\n",
    "L"
   ]
  },
  {
   "cell_type": "code",
   "execution_count": null,
   "metadata": {},
   "outputs": [],
   "source": [
    "L.toarray()"
   ]
  },
  {
   "cell_type": "code",
   "execution_count": null,
   "metadata": {},
   "outputs": [],
   "source": [
    "u = np.random.normal(0, 1, n)"
   ]
  },
  {
   "cell_type": "code",
   "execution_count": null,
   "metadata": {},
   "outputs": [],
   "source": [
    "import matplotlib.pyplot as plt"
   ]
  },
  {
   "cell_type": "code",
   "execution_count": null,
   "metadata": {},
   "outputs": [],
   "source": [
    "f, ax = plt.subplots(1, 1, figsize=(5,4))\n",
    "\n",
    "ax.plot(np.linspace(0,1,n), u)\n",
    "ax.set_title(r\"$u$\")\n",
    "plt.show()"
   ]
  },
  {
   "cell_type": "code",
   "execution_count": null,
   "metadata": {},
   "outputs": [],
   "source": [
    "f, ax = plt.subplots(1, 1, figsize=(5,4))\n",
    "\n",
    "ax.plot(np.linspace(0,1,n), L.dot(u))\n",
    "ax.set_title(r\"$\\Delta u$\")\n",
    "plt.show()"
   ]
  },
  {
   "cell_type": "markdown",
   "metadata": {},
   "source": [
    "Now we'll run the heat equation for a few time steps\n",
    "$$\\frac{\\partial u}{\\partial t} - \\Delta_x u = 0$$\n",
    "We'll take time steps of length $O(h^2)$."
   ]
  },
  {
   "cell_type": "code",
   "execution_count": null,
   "metadata": {},
   "outputs": [],
   "source": [
    "u_smoothed = u.copy()"
   ]
  },
  {
   "cell_type": "code",
   "execution_count": null,
   "metadata": {},
   "outputs": [],
   "source": [
    "for i in range(1000):\n",
    "    ut = L.dot(u_smoothed)\n",
    "    u_smoothed += (ut * (h**2)/4)"
   ]
  },
  {
   "cell_type": "code",
   "execution_count": null,
   "metadata": {},
   "outputs": [],
   "source": [
    "f, ax = plt.subplots(1, 1, figsize=(5,4))\n",
    "\n",
    "ax.plot(np.linspace(0,1,n), u_smoothed)\n",
    "ax.set_title(r\"after heat diffusion\")\n",
    "plt.show()"
   ]
  },
  {
   "cell_type": "markdown",
   "metadata": {},
   "source": [
    "## Solving The Poisson Equation\n",
    "\n",
    "Now, suppose we want to solve the Poisson equation\n",
    "$$ - \\Delta u = f $$\n",
    "Since $-\\Delta$ is symmetric positive, definite, we can use the conjugate gradient (`cg`) algorithm to solve the system.  Alternatively, we can use `minres`.\n",
    "\n",
    "You can see available iterative methods [here](https://docs.scipy.org/doc/scipy/reference/sparse.linalg.html#solving-linear-problems)"
   ]
  },
  {
   "cell_type": "code",
   "execution_count": null,
   "metadata": {},
   "outputs": [],
   "source": [
    "def u_gen(x):\n",
    "    return 0.25-np.square(x - 0.5)\n",
    "    \n",
    "u_true = u_gen(np.linspace(0,1,n))"
   ]
  },
  {
   "cell_type": "code",
   "execution_count": null,
   "metadata": {},
   "outputs": [],
   "source": [
    "fig, ax = plt.subplots(1, 1, figsize=(5,4))\n",
    "\n",
    "ax.plot(np.linspace(0,1,n), u_true)\n",
    "ax.set_title(r\"True solution\")\n",
    "plt.show()"
   ]
  },
  {
   "cell_type": "code",
   "execution_count": null,
   "metadata": {},
   "outputs": [],
   "source": [
    "f = -L.dot(u_true)"
   ]
  },
  {
   "cell_type": "code",
   "execution_count": null,
   "metadata": {},
   "outputs": [],
   "source": [
    "fig, ax = plt.subplots(1, 1, figsize=(5,4))\n",
    "\n",
    "ax.plot(np.linspace(0,1,n), f)\n",
    "ax.set_title(r\"$f = -\\Delta u$\")\n",
    "plt.show()"
   ]
  },
  {
   "cell_type": "code",
   "execution_count": null,
   "metadata": {},
   "outputs": [],
   "source": [
    "u_minres, info = sparse.linalg.minres(-L, f)\n",
    "u_cg, info = sparse.linalg.cg(-L, f)"
   ]
  },
  {
   "cell_type": "code",
   "execution_count": null,
   "metadata": {},
   "outputs": [],
   "source": [
    "fig, ax = plt.subplots(1, 1, figsize=(5,4))\n",
    "\n",
    "ax.plot(np.linspace(0,1,n), u_cg, label=\"cg sol\")\n",
    "ax.plot(np.linspace(0,1,n), u_minres, label=\"minres sol\")\n",
    "ax.plot(np.linspace(0,1,n), u_true, label=\"true\")\n",
    "ax.legend()\n",
    "ax.set_title(r\"Poisson Equation\")\n",
    "plt.show()"
   ]
  },
  {
   "cell_type": "markdown",
   "metadata": {},
   "source": [
    "Why do the plots disagree?\n",
    "\n",
    "Note that a constant vector is in the nullspace of $-\\Delta$, so without specifying boundary conditions, both solutions are correct."
   ]
  },
  {
   "cell_type": "markdown",
   "metadata": {},
   "source": [
    "# Exercise 2\n",
    "\n",
    "Eigenvectors (eigenfunctions) of the Laplacian $\\Delta$ tell us about the vibrational modes of an object.  So far we've constructed a discrete approxim Laplacian on a unit-length \"string\"\n",
    "\n",
    "1. Use [`eigsh`](https://docs.scipy.org/doc/scipy/reference/generated/scipy.sparse.linalg.eigsh.html#scipy.sparse.linalg.eigsh) to compute the smallest (by magnitude of eigenvalue) 4 eigenpairs of $\\Delta$.  Plot the eigenvectors in a single plot.\n",
    "    1. Hint: use the keyword `which='SM'` to get smallest magnitude eigenvalues\n",
    "2.  Construct a finite difference laplacian on the unit square (100 grid points in each dimension), and compute the smallest several eigenpairs\n",
    "    1. You can construct the matrix explicitly, or use [`kron`](https://docs.scipy.org/doc/scipy/reference/generated/scipy.sparse.kron.html#scipy.sparse.kron)\n",
    "    2. Hint: if you use `kron`, $L_2 = L_1\\otimes I + I \\otimes L_1$, where $L_2$ is the laplacian on the square, and $L_1$ is the laplacian on the interval\n",
    "    3. visualize the eigenvectors as 2-D images\n",
    "    4. Hint: use `numpy.reshape` and `plt.imshow`\n",
    "3. In parts 1 and/or 2 What do the eigenvectors with largest eigenvalue look like? (Look at documentation for the `which` keyword again)"
   ]
  },
  {
   "cell_type": "code",
   "execution_count": null,
   "metadata": {},
   "outputs": [],
   "source": []
  }
 ],
 "metadata": {
  "kernelspec": {
   "display_name": "Python [conda env:cme193]",
   "language": "python",
   "name": "conda-env-cme193-py"
  },
  "language_info": {
   "codemirror_mode": {
    "name": "ipython",
    "version": 3
   },
   "file_extension": ".py",
   "mimetype": "text/x-python",
   "name": "python",
   "nbconvert_exporter": "python",
   "pygments_lexer": "ipython3",
   "version": "3.6.6"
  }
 },
 "nbformat": 4,
 "nbformat_minor": 2
}
