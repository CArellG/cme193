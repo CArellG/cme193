{
 "cells": [
  {
   "cell_type": "markdown",
   "metadata": {},
   "source": [
    "# CME 193 - Lecture 2 - NumPy\n",
    "\n",
    "We saw a bit of basic Python syntax last time.  Don't worry if it hasn't sunk in yet - you'll get used to it as you see it used in a variety of contexts.\n",
    "\n",
    "First, a few non-numpy details:\n",
    "\n",
    "# Office Hours\n",
    "\n",
    "There will be office hours today from 12-2 (after class) in the Huang basement.  Come by if you're having trouble getting anything set up. \n",
    "\n",
    "Things you will want to have for this class\n",
    "* Ability to launch an interactive python session from a terminal\n",
    "* Ability to install packages with `pip` or `conda`\n",
    "* A basic text editor\n",
    "* [Suggested] Jupyter notebooks\n",
    "\n",
    "You do not need\n",
    "* A fancy text editor (Atom, Sublime, etc.)\n",
    "* An IDE (PyCharm, etc.)\n",
    "\n",
    "Of course, you may find these things interesting/useful, and are welcome to try them or use them.\n",
    "\n",
    "\n",
    "# Running Python\n",
    "\n",
    "At this point, you should have some way to run Python.  If you don't have Jupyter working yet, that's ok.  For this class, just open up an interactive python session to follow along.\n",
    "\n",
    "For most of you, this means you can open up a terminal, and type\n",
    "```bash\n",
    "python\n",
    "```\n",
    "and an interactive session should start.  Again, you may wish to use `ipython`, which can be invoked from the terminal in the same way.  If you don't have `ipython`, but want it, just open up a terminal and type\n",
    "```bash\n",
    "pip install ipython\n",
    "```\n",
    "or, if you prefer\n",
    "```bash\n",
    "conda install ipython\n",
    "```\n",
    "You now have `ipython`.  Aren't package managers great?\n",
    "\n",
    "## Scripts\n",
    "\n",
    "Often, python is run using scripts.  These are just text files, often with a `.py` extension that contain python code.  You can find an example [here](https://github.com/icme/cme193/blob/gh-pages/nb/lecture_2/test_script.py).  If you download it to your computer, you can run it from a terminal\n",
    "```bash\n",
    "cd <script location>\n",
    "python test_script.py\n",
    "```\n",
    "Note that this doesn't involve opening up Jupyter or an interactive python session.\n"
   ]
  },
  {
   "cell_type": "markdown",
   "metadata": {},
   "source": [
    "# NumPy\n",
    "\n",
    "* Fundamental package for scientific computing with Python\n",
    "* N-dimensional array object\n",
    "* Linear algebra, Fourier transform, random number capabilities\n",
    "* Building block for other packages (e.g. Scipy, scikit-learn)\n",
    "* Open source, huge dev community!\n",
    "\n",
    "## Installation\n",
    "\n",
    "If you installed Python with `anaconda`, you should already have NumPy installed. To test if you have numpy already, go to your terminal or command prompt and type:\n",
    "\n",
    "```bash\n",
    "python -c 'import numpy'\n",
    "```\n",
    "If this does nothing, congrats! You have numpy. \n",
    "\n",
    "If the output looks something like this:\n",
    "\n",
    "```bash\n",
    "Traceback (most recent call last):\n",
    "  File \"<string>\", line 1, in <module>\n",
    "ImportError: No module named numpy\n",
    "```\n",
    "\n",
    "Then you don't...\n",
    "\n",
    "To install numpy, simply go to your terminal and type \n",
    "\n",
    "```bash\n",
    "pip install numpy\n",
    "```\n",
    "or, if you prefer\n",
    "```bash\n",
    "conda install numpy\n",
    "```\n",
    "\n",
    "## Why numpy?\n",
    "\n",
    "A very common question people ask is \"why can't I just use lists for math?\"\n",
    "\n",
    "Here are a few reasons why not:\n",
    "\n",
    "* Real vectors can be big!\n",
    "* How to handle $n$ dimensions? If we have lists, there is no restriction. \n",
    "* How about very sparse data?\n",
    "* *abstraction*! Something like $A = U\\Sigma V^T$ is common enough that we want to encapsulate that.\n",
    "* Speed\n",
    "\n",
    "## A quick lesson on `import`ing in Python\n",
    "\n",
    "There are 3 basic ways to import a package in Python.\n",
    "\n",
    "* `from numpy import linspace`\n",
    "* `import numpy as np`\n",
    "* `import numpy`\n",
    "\n",
    "Lets say you know that numpy has the function `linspace`. Here is how you access that function in each scenario:\n",
    "\n",
    "* `linspace(...)`\n",
    "* `np.linspace(...)`\n",
    "* `numpy.linspace(...)`"
   ]
  },
  {
   "cell_type": "code",
   "execution_count": null,
   "metadata": {},
   "outputs": [],
   "source": [
    "# Time to get started The first thing to do is import numpy.\n",
    "import numpy as np"
   ]
  },
  {
   "cell_type": "code",
   "execution_count": null,
   "metadata": {},
   "outputs": [],
   "source": [
    "# basic array creation\n",
    "A = np.array([[1, 2, 3], [4, 5, 6]]) \n",
    "print('A =\\n', A)\n",
    "\n",
    "Af = np.array([[1, 2, 3], [4, 5, 6]], float)\n",
    "print('\\nAf =\\n', Af)"
   ]
  },
  {
   "cell_type": "code",
   "execution_count": null,
   "metadata": {},
   "outputs": [],
   "source": [
    "# -- numpy provides many ways to create arrays subject to mathematical constraints\n",
    "print('arange example =', np.arange(0, 1, 0.2))\n",
    "\n",
    "print('\\nlinspace example =', np.linspace(0, 2*np.pi, 4))\n",
    "\n",
    "# -- a matrix of zeros\n",
    "A = np.zeros((2,3))\n",
    "print('\\nzeros example =\\n', A)\n",
    "\n",
    "print('\\nA.shape =', A.shape) ## a tuple!"
   ]
  },
  {
   "cell_type": "code",
   "execution_count": null,
   "metadata": {},
   "outputs": [],
   "source": [
    "# -- numpy provides routines for random array creation\n",
    "print(np.random.random((2,3)))"
   ]
  },
  {
   "cell_type": "code",
   "execution_count": null,
   "metadata": {},
   "outputs": [],
   "source": [
    "# normal random variables with mean 1.0, and std deviation 2.0\n",
    "a = np.random.normal(loc=1.0, scale=2.0, size=(2,2))\n",
    "print(a)"
   ]
  },
  {
   "cell_type": "code",
   "execution_count": null,
   "metadata": {},
   "outputs": [],
   "source": [
    "# save an array to a text file\n",
    "np.savetxt(\"a_out.txt\", a) # columns separated by spaces\n",
    "b = np.loadtxt(\"a_out.txt\")"
   ]
  },
  {
   "cell_type": "code",
   "execution_count": null,
   "metadata": {},
   "outputs": [],
   "source": [
    "print('a = \\n', a)\n",
    "print('b = \\n', b)"
   ]
  },
  {
   "cell_type": "markdown",
   "metadata": {},
   "source": [
    "## reshaping an array\n",
    "\n",
    "Note the total number of elements must agree."
   ]
  },
  {
   "cell_type": "code",
   "execution_count": null,
   "metadata": {},
   "outputs": [],
   "source": [
    "# reshape an array\n",
    "a = np.linspace(0,10,100).reshape(10,10)\n",
    "a"
   ]
  },
  {
   "cell_type": "markdown",
   "metadata": {},
   "source": [
    "## Indexing Arrays\n",
    "\n",
    "You can index arrays using a Matlab-like syntax.  Recall that Python indexing starts at 0\n",
    "\n",
    "`x[i,j]` returns value at $i$th row and $j$th column of $x$\n",
    "\n",
    "**slicing**\n",
    "\n",
    "`x[i,:]` returns entire $i$th row\n",
    "\n",
    "`x[:,j]` returns entire $j$th column"
   ]
  },
  {
   "cell_type": "code",
   "execution_count": null,
   "metadata": {},
   "outputs": [],
   "source": [
    "x = np.arange(9) # 0, 1, ... , 9\n",
    "x = np.resize(x, (3,3))\n",
    "print(x[0,:])\n",
    "print(x[:,0])\n",
    "print(x[0,1:]) # indices 1 to last index\n",
    "print(x[0,-2:]) # last 2 indices\n",
    "print(x[1:3])\n",
    "y = np.arange(10)\n",
    "print(y[0:10:2]) # start:stop:stride\n",
    "print(y[::2]) # start:stop:stride"
   ]
  },
  {
   "cell_type": "markdown",
   "metadata": {},
   "source": [
    "# Math Operators, Vectorization\n",
    "\n",
    "Vectorization refers to applying a function elementwise given array inputs.  Think Matlab's \"dot\" notation"
   ]
  },
  {
   "cell_type": "code",
   "execution_count": null,
   "metadata": {},
   "outputs": [],
   "source": [
    "a = np.arange(4)\n",
    "print('a = ', a)\n",
    "b = np.array([2, 3, 2, 4])\n",
    "print('b = ', b)\n",
    "print('a * b = ', a * b)\n",
    "print('b - a = ', b - a)  "
   ]
  },
  {
   "cell_type": "code",
   "execution_count": null,
   "metadata": {},
   "outputs": [],
   "source": [
    "x = np.arange(4)\n",
    "print(x)\n",
    "y = np.square(x)\n",
    "print(y)"
   ]
  },
  {
   "cell_type": "code",
   "execution_count": null,
   "metadata": {},
   "outputs": [],
   "source": [
    "# you can also vectorize functions that are not already vectorized\n",
    "# note that some functions may automatically vectorize\n",
    "def f(x):\n",
    "    y = x*x\n",
    "    return y + 2\n",
    "\n",
    "x = np.arange(4)\n",
    "print(x)\n",
    "vf = np.vectorize(f)\n",
    "print(vf(x))"
   ]
  },
  {
   "cell_type": "markdown",
   "metadata": {},
   "source": [
    "# Plotting with PyPlot\n",
    "\n",
    "PyPlot is part of the `matplotlib` package.  Again, if you don't have it, open up a terminal, and\n",
    "```bash\n",
    "pip install matplotlib\n",
    "```\n",
    "\n",
    "PyPlot is a popular plotting library (especially in conjunction with NumPy), and easy to use.\n",
    "\n",
    "Today, we'll just see some basics.  If you want to see some pretty pictures for inspiration, check out the [matplotlib gallery](https://matplotlib.org/gallery.html)"
   ]
  },
  {
   "cell_type": "code",
   "execution_count": null,
   "metadata": {},
   "outputs": [],
   "source": [
    "import matplotlib.pyplot as plt"
   ]
  },
  {
   "cell_type": "code",
   "execution_count": null,
   "metadata": {},
   "outputs": [],
   "source": [
    "x = np.linspace(-1,1,100)\n",
    "y = np.power(x,2)\n",
    "plt.plot(x, y)\n",
    "plt.show() # if run from terminal, should pop open a window."
   ]
  },
  {
   "cell_type": "markdown",
   "metadata": {},
   "source": [
    "You can do all sorts of formatting:"
   ]
  },
  {
   "cell_type": "code",
   "execution_count": null,
   "metadata": {},
   "outputs": [],
   "source": [
    "theta = np.linspace(0,2*np.pi,100)\n",
    "x = np.cos(theta)\n",
    "y = np.sin(theta)\n",
    "\n",
    "f, ax = plt.subplots(1, 1, figsize=(5,4))\n",
    "ax.scatter(x, y, c=y) # color by y value\n",
    "\n",
    "ax.set_xlim((-1.5, 1.5))\n",
    "ax.set_ylim((-1.5, 1.5))\n",
    "\n",
    "ax.set_xlabel('fancy $x$ label')\n",
    "ax.set_ylabel('tex $y = \\sum_i f_{i}(x)$ label')\n",
    "\n",
    "ax.set_title('plot title, including $f_i$')\n",
    "\n",
    "plt.savefig('color_circle.png')\n",
    "\n",
    "plt.show()"
   ]
  },
  {
   "cell_type": "markdown",
   "metadata": {},
   "source": [
    "# Exercise 1\n",
    "\n",
    "(5-10 min)\n",
    "\n",
    "**Numpy/Pyplot**\n",
    "1. Choose your favorite function $f:x \\to \\mathbb{R}$.\n",
    "    1. find the numpy version of your function, or write your own vectorized version\n",
    "    2. plot your function on a reasonable domain.\n",
    "    \n",
    "2. Add some Gaussian random noise to points on a circle, and generate a scatter plot."
   ]
  },
  {
   "cell_type": "markdown",
   "metadata": {},
   "source": [
    "# Linear Algebra in NumPy\n",
    "\n",
    "We'll start with \n",
    "```python\n",
    "import numpy.linalg as la\n",
    "```\n",
    "`numpy` is the *package*.  `linalg` is a *module* in the package."
   ]
  },
  {
   "cell_type": "code",
   "execution_count": null,
   "metadata": {},
   "outputs": [],
   "source": [
    "import numpy.linalg as la"
   ]
  },
  {
   "cell_type": "markdown",
   "metadata": {},
   "source": [
    "* `la.eye(3)`, Identity matrix\n",
    "* `la.trace(A)`, Trace\n",
    "* `la.column_stack((A,B))`, Stack column wise\n",
    "* `la.row_stack((A,B,A))`, Stack row wise\n",
    "* `la.qr`, Computes the QR decomposition\n",
    "* `la.cholesky`, Computes the Cholesky decomposition\n",
    "* `la.inv(A)`, Inverse\n",
    "* `la.solve(A,b)`, Solves $Ax = b$ for $A$ full rank\n",
    "* `la.lstsq(A,b)`, Solves $\\arg\\min_x \\|Ax-b\\|_2$\n",
    "* `la.eig(A)`, Eigenvalue decomposition\n",
    "* `la.eigh(A)`, Eigenvalue decomposition for\n",
    "symmetric or hermitian\n",
    "* `la.eigvals(A)`, Computes eigenvalues.\n",
    "* `la.svd(A, full)`, Singular value decomposition\n",
    "* `la.pinv(A)`, Computes pseudo-inverse of A"
   ]
  },
  {
   "cell_type": "code",
   "execution_count": null,
   "metadata": {},
   "outputs": [],
   "source": [
    "# example of SVD\n",
    "A = rng.normal(0, 1, (2,2))\n",
    "U, S, V = np.linalg.svd(A)\n",
    "print(\"A  = \\n\", A)\n",
    "print(\"U = \\n\", U)\n",
    "print(\"S = \\n\", S)\n",
    "print(\"V = \\n\", V)"
   ]
  },
  {
   "cell_type": "code",
   "execution_count": null,
   "metadata": {},
   "outputs": [],
   "source": [
    "A = np.arange(0, 4, 1.0).reshape(2,2)\n",
    "print(\"A = \\n\",A)\n",
    "x = np.array([1,2], float)\n",
    "print(\"x = \\n\", x)\n",
    "b = A.dot(x) # Matrix-vector multiplication\n",
    "print(\"b = \\n\", b)\n",
    "x2 = la.solve(A,b)\n",
    "print(\"x2 = \\n\", x2)"
   ]
  },
  {
   "cell_type": "markdown",
   "metadata": {},
   "source": [
    "Yes.  Matrix vector multiplication really is done using `A.dot(x)`\n",
    "\n",
    "It may look funny, but is mathematically correct.  What you are doing is taking inner products between each row of `A` and the vector `x`."
   ]
  },
  {
   "cell_type": "markdown",
   "metadata": {},
   "source": [
    "# Random Numbers"
   ]
  },
  {
   "cell_type": "code",
   "execution_count": null,
   "metadata": {},
   "outputs": [],
   "source": [
    "import numpy.random as rng # another module of numpy"
   ]
  },
  {
   "cell_type": "markdown",
   "metadata": {},
   "source": [
    "* `rng.rand(d0,d1,...,dn)`, Random values in a given shape\n",
    "* `rng.randn(d0, d1, ...,dn)`, Random standard normal\n",
    "* `rng.randint(lo, hi, size)`, Random integers `[lo, hi)`\n",
    "* `rng.choice(a, size, repl, p)`, Sample from a\n",
    "* `rng.shuffle(a)`, Permutation (in-place)\n",
    "* `rng.permutation(a)`, Permutation (new array)\n",
    "* Also, have parameterized distributions: `beta`, `binomial`, `chisquare`, `exponential`, `dirichlet`, `gamma`, `laplace`, `lognormal`, `pareto`, `poisson`, `power`..."
   ]
  },
  {
   "cell_type": "markdown",
   "metadata": {},
   "source": [
    "To plot histograms, using Pyplot:"
   ]
  },
  {
   "cell_type": "code",
   "execution_count": null,
   "metadata": {},
   "outputs": [],
   "source": [
    "f, ax = plt.subplots(1, 1, figsize=(5,4))\n",
    "\n",
    "bins = np.linspace(-20, 20, 50) # 50 bins between -20 and 20 \n",
    "\n",
    "# data\n",
    "x1 = np.random.normal(-1, 3, 5000) \n",
    "x2 = np.random.normal(6, 4, 5000)\n",
    "\n",
    "# add histograms to plots\n",
    "plt.hist(x1, bins = bins, color='red', label = 'Trial', histtype='step')\n",
    "plt.hist(x2, bins = bins, color='blue', label = 'Control', histtype='step')\n",
    "\n",
    "ax.set_xlabel(r'complicated label $\\sum_i X_i$')\n",
    "ax.set_ylabel('Count!')\n",
    "plt.legend()\n",
    "plt.show()"
   ]
  },
  {
   "cell_type": "code",
   "execution_count": null,
   "metadata": {},
   "outputs": [],
   "source": [
    "# example of a 2D histogram\n",
    "f, ax = plt.subplots(1, 1, figsize=(5,4))\n",
    "plt.hist2d(np.random.normal(-1, 3, 100000), np.random.normal(6, 4, 100000), bins=100)\n",
    "ax.set_xlabel(r'complicated label $\\sum_i X_i$')\n",
    "ax.set_ylabel('Count!')\n",
    "plt.show()"
   ]
  },
  {
   "cell_type": "markdown",
   "metadata": {},
   "source": [
    "# Exercise 2\n",
    "\n",
    "1. Choose a your favorite univariate probability distribution (aside from a normal distribution)\n",
    "    1. See if it is in `numpy.random` [here](https://docs.scipy.org/doc/numpy-1.14.0/reference/routines.random.html#distributions)\n",
    "    2. plot a histogram of your distribution with 10,000 samples\n",
    "    3. Overlay a histogram of your second favorite distribution onto the same plot.\n",
    "    \n",
    "2. **Power method**\n",
    "\n",
    "Power method is an algorithm for finding the largest eigenpair of a matrix.  We'll assume that we're working with symmetric/hermitian matrices for simplicity.  Recall the largest eigenvector of a matrix $A$ solves the variational problem:\n",
    "$$\\max_{\\|v\\|_2 = 1} v^T A v$$\n",
    "The eigenvalue is the value $\\lambda = v^T A v$.\n",
    "* generate a random symmetric matrix (however you like).\n",
    "* Find the largest eigenpair using `numpy.linalg.eigh`\n",
    "\n",
    "The power method uses iterated matrix-vector multiplication to find the largest eigenvalue of $A$.  \n",
    "```\n",
    "input: A - n x n symmetric matrix\n",
    "output: v, lam - vector of length n and eigenvalue\n",
    "\n",
    "v = random vector of length n\n",
    "v = v/||v||_2\n",
    "while not converged:\n",
    "    v = A*v\n",
    "    v = v/||v||_2\n",
    "    \n",
    "lam = v^T A v\n",
    "```\n",
    "\n",
    "turn the above pseudo-code into a python function that implements power method. How does this compare to `eigh`?\n",
    "\n",
    "**Hints** \n",
    "* You may find the following function useful: `numpy.linalg.norm` [docs](https://docs.scipy.org/doc/numpy-1.13.0/reference/generated/numpy.linalg.norm.html)\n",
    "* $v^T A v$ can be computed using `dot`\n",
    "* track convergence using the convergence of the rayleigh quotient $r = v^T A v$.  Say you've converged when $r$ changes by at most $10^{-8}$\n",
    "\n",
    "**Bonus**\n",
    "Plot convergence of the rayleigh quotient using `plt.semilogy` [docs](https://matplotlib.org/api/_as_gen/matplotlib.pyplot.semilogy.html)"
   ]
  },
  {
   "cell_type": "code",
   "execution_count": null,
   "metadata": {},
   "outputs": [],
   "source": []
  }
 ],
 "metadata": {
  "kernelspec": {
   "display_name": "Python [conda env:cme193]",
   "language": "python",
   "name": "conda-env-cme193-py"
  },
  "language_info": {
   "codemirror_mode": {
    "name": "ipython",
    "version": 3
   },
   "file_extension": ".py",
   "mimetype": "text/x-python",
   "name": "python",
   "nbconvert_exporter": "python",
   "pygments_lexer": "ipython3",
   "version": "3.6.6"
  }
 },
 "nbformat": 4,
 "nbformat_minor": 2
}
