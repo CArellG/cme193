{
 "cells": [
  {
   "cell_type": "code",
   "execution_count": null,
   "metadata": {},
   "outputs": [],
   "source": [
    "import numpy as np\n",
    "import scipy\n",
    "import scipy.sparse"
   ]
  },
  {
   "cell_type": "code",
   "execution_count": null,
   "metadata": {},
   "outputs": [],
   "source": [
    "# SBM on 2 blocks of size n\n",
    "# p - inter-block probability of edge\n",
    "# q - intra-block probability of edge\n",
    "def SBM(n, p, q):\n",
    "    I = []\n",
    "    J = []\n",
    "    V = []\n",
    "    # block 1 edges\n",
    "    for i in range(n):\n",
    "        for j in range(i):\n",
    "            if np.random.rand() < p:\n",
    "                # i-j\n",
    "                I.append(i)\n",
    "                J.append(j)\n",
    "                V.append(1.)\n",
    "                # j-i\n",
    "                I.append(j)\n",
    "                J.append(i)\n",
    "                V.append(1.)\n",
    "    \n",
    "    # block 2 edges\n",
    "    for i in range(n, 2*n):\n",
    "        for j in range(n, i):\n",
    "            if np.random.rand() < p:\n",
    "                # i-j\n",
    "                I.append(i)\n",
    "                J.append(j)\n",
    "                V.append(1.)\n",
    "                # j-i\n",
    "                I.append(j)\n",
    "                J.append(i)\n",
    "                V.append(1.)\n",
    "                \n",
    "    # intra-block edges\n",
    "    for i in range(n):\n",
    "        for j in range(n, 2*n):\n",
    "            if np.random.rand() < q:\n",
    "                # i-j\n",
    "                I.append(i)\n",
    "                J.append(j)\n",
    "                V.append(1.)\n",
    "                # j-i\n",
    "                I.append(j)\n",
    "                J.append(i)\n",
    "                V.append(1.)\n",
    "                \n",
    "    return I, J, V\n",
    "    \n",
    "I, J, V = SBM(1000, 0.05, 0.01)"
   ]
  },
  {
   "cell_type": "code",
   "execution_count": null,
   "metadata": {},
   "outputs": [],
   "source": [
    "X = np.array([I, J, V]).T"
   ]
  },
  {
   "cell_type": "code",
   "execution_count": null,
   "metadata": {},
   "outputs": [],
   "source": [
    "# np.savetxt(\"sbm.csv\", X, delimiter=',')\n",
    "np.savetxt(\"sbm.csv\", X, fmt=\"%d, %d, %f\")"
   ]
  },
  {
   "cell_type": "code",
   "execution_count": null,
   "metadata": {},
   "outputs": [],
   "source": [
    "def read_coo(fname):\n",
    "    Y = np.loadtxt(fname, delimiter=',')\n",
    "    I = np.array(Y[:,0], int)\n",
    "    J = np.array(Y[:,1], int)\n",
    "    V = Y[:,2]\n",
    "    return scipy.sparse.coo_matrix((np.array(V), (I, J)))\n",
    "\n",
    "A = read_coo(\"sbm.csv\")"
   ]
  },
  {
   "cell_type": "code",
   "execution_count": null,
   "metadata": {},
   "outputs": [],
   "source": [
    "class sparse_rank1(object):\n",
    "    def __init__(self, S, alpha, u, v):\n",
    "        self.S = S\n",
    "        self.alpha = alpha\n",
    "        self.u = u\n",
    "        self.v = v\n",
    "        self.shape = S.shape\n",
    "        \n",
    "    def dot(self, x):\n",
    "        return self.S.dot(x) + self.alpha*self.u*self.v.dot(x)"
   ]
  },
  {
   "cell_type": "code",
   "execution_count": null,
   "metadata": {},
   "outputs": [],
   "source": [
    "\n",
    "\n",
    "# compute power method\n",
    "# tol is a key-word argument for convergence tolerance\n",
    "def power_method(A, tol=1e-8):\n",
    "    \n",
    "    # rayleigh quotient\n",
    "    # returns v^T*Av\n",
    "    def rq(v, A):\n",
    "        return v.dot(A.dot(v))\n",
    "    \n",
    "    n = A.shape[1]\n",
    "    # generate random vector with unit length\n",
    "    v = np.random.normal(0, 1, n)\n",
    "    v /= np.linalg.norm(v)\n",
    "    \n",
    "    rqs = [] # keep track of rayleigh quotients as we progress\n",
    "    rqs.append(rq(v, A))\n",
    "    converged = False\n",
    "    \n",
    "    while True:\n",
    "        \n",
    "        # v <- A*v\n",
    "        v = A.dot(v)\n",
    "        # normalize v\n",
    "        v /= np.linalg.norm(v)\n",
    "        \n",
    "        rqs.append(rq(v,A))\n",
    "        # check if rayleigh quotient has converged\n",
    "        if np.abs(rqs[-1] - rqs[-2]) < tol:\n",
    "            break\n",
    "    \n",
    "    # set eigenvalue\n",
    "    lam = rqs[-1]\n",
    "    \n",
    "    return v, lam"
   ]
  },
  {
   "cell_type": "code",
   "execution_count": null,
   "metadata": {},
   "outputs": [],
   "source": [
    "v, lam = power_method(A)\n",
    "\n",
    "B = sparse_rank1(A, -lam, v, v)\n",
    "v2, lam2 = power_method(B)"
   ]
  },
  {
   "cell_type": "code",
   "execution_count": null,
   "metadata": {},
   "outputs": [],
   "source": [
    "import matplotlib.pyplot as plt\n",
    "plt.scatter(v, v2)\n",
    "plt.savefig('sbm.png')\n",
    "plt.show()"
   ]
  },
  {
   "cell_type": "code",
   "execution_count": null,
   "metadata": {},
   "outputs": [],
   "source": []
  }
 ],
 "metadata": {
  "kernelspec": {
   "display_name": "Python [conda env:cme193]",
   "language": "python",
   "name": "conda-env-cme193-py"
  },
  "language_info": {
   "codemirror_mode": {
    "name": "ipython",
    "version": 3
   },
   "file_extension": ".py",
   "mimetype": "text/x-python",
   "name": "python",
   "nbconvert_exporter": "python",
   "pygments_lexer": "ipython3",
   "version": "3.6.6"
  }
 },
 "nbformat": 4,
 "nbformat_minor": 2
}
